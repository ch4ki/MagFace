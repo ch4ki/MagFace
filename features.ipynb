{
 "cells": [
  {
   "cell_type": "code",
   "execution_count": 1,
   "metadata": {},
   "outputs": [],
   "source": [
    "\n",
    "from pathlib import Path\n",
    "import pandas as pd\n",
    "import glob\n",
    "import os,sys\n",
    "import numpy as np\n",
    "dir = Path('')\n",
    "sys.path.append(\"../../\")\n",
    "sys.path.append(\"../\")\n",
    "sys.path.append(\"/home/chaki/Projects/gods_eye/\")\n"
   ]
  },
  {
   "cell_type": "code",
   "execution_count": 2,
   "metadata": {},
   "outputs": [],
   "source": [
    "path = \"/home/chaki/Projects/gods_eye/output/12_04-21_11-25-09/in\"\n",
    "directories = os.listdir(path)\n",
    "directories = [os.path.join(path, dir) for dir in directories]"
   ]
  },
  {
   "cell_type": "code",
   "execution_count": 85,
   "metadata": {},
   "outputs": [],
   "source": [
    "from matplotlib import pyplot as plt\n",
    "import seaborn as sns\n",
    "import numpy as np\n",
    "sns.set(style=\"white\") \n",
    "%matplotlib inline\n",
    "def imshow(df, id):\n",
    "    img_path = df[df[\"index\"] == 2][\"path\"].values[0]\n",
    "    img = cv2.imread(img_path)\n",
    "    plt.imshow(cv2.cvtColor(img, cv2.COLOR_BGR2RGB))\n"
   ]
  },
  {
   "cell_type": "code",
   "execution_count": 4,
   "metadata": {},
   "outputs": [],
   "source": [
    "directories = os.listdir(\"/home/chaki/Projects/gods_eye/output/12_04-21_11-25-09/in\")#[\"images/12_people_min_samples\"]"
   ]
  },
  {
   "cell_type": "code",
   "execution_count": 5,
   "metadata": {},
   "outputs": [],
   "source": [
    "directories = [os.path.join(\"/home/chaki/Projects/gods_eye/output/12_04-21_11-25-09/in\", dir) for dir in directories]"
   ]
  },
  {
   "cell_type": "code",
   "execution_count": 6,
   "metadata": {},
   "outputs": [],
   "source": [
    "import core.pipeline.tools as tools\n"
   ]
  },
  {
   "cell_type": "code",
   "execution_count": 132,
   "metadata": {},
   "outputs": [
    {
     "name": "stderr",
     "output_type": "stream",
     "text": [
      "/home/chaki/Projects/gods_eye/core/commons/pose_estimator_openvino.py:108: DeprecationWarning:\n",
      "\n",
      "Reading network using constructor is deprecated. Please, use IECore.read_network() method instead\n",
      "\n",
      "/home/chaki/Projects/gods_eye/core/commons/pose_estimator_openvino.py:118: DeprecationWarning:\n",
      "\n",
      "'inputs' property of IENetwork class is deprecated. To access DataPtrs user need to use 'input_data' property of InputInfoPtr objects which can be accessed by 'input_info' property.\n",
      "\n",
      "/home/chaki/Projects/gods_eye/core/commons/pose_estimator_openvino.py:169: DeprecationWarning:\n",
      "\n",
      "'outputs' property of InferRequest is deprecated. Please instead use 'output_blobs' property.\n",
      "\n"
     ]
    }
   ],
   "source": [
    "\n",
    "from core.recognition.openvinoreid import OpenVinoReidentifier\n",
    "from core.commons.pose_estimator_openvino import HeadPosEstimator\n",
    "import core.pipeline.tools as tools\n",
    "\n",
    "import cv2\n",
    "\n",
    "reid = OpenVinoReidentifier(\"/home/chaki/Projects/gods_eye/core/weights/intel/face-reidentification-retail-0095/FP16/face-reidentification-retail-0095\")\n",
    "headpose = HeadPosEstimator(\"/home/chaki/Projects/gods_eye/core/weights/intel/whenet/FP32/whenet_224x224.xml\")\n",
    "def extract_features(path):\n",
    "    features = []\n",
    "    paths = []\n",
    "    ids = []\n",
    "    alignment_error = []\n",
    "    for directory in path:\n",
    "        if not os.path.isdir(directory):\n",
    "            continue\n",
    "        id = directory.split(\"/\")[-1]\n",
    "        for image in os.listdir(directory):\n",
    "            image_path = os.path.join(directory,image)\n",
    "            if image_path.endswith(\".jpg\"):\n",
    "                image = cv2.imread(image_path)\n",
    "                headpose.process(image)\n",
    "                features.append(reid.encode(image)) \n",
    "                if headpose.job_finished():\n",
    "                    # ? if condition checks if the job is finished - might be replaced by 'while'\n",
    "                    head_pose_output = headpose.get_output()\n",
    "                    # ? A function that returns the error based on headpose mainly, powered by blur and size errors\n",
    "                    error = tools.compute_errors(\n",
    "                        image, head_pose_output, None, None\n",
    "                    )\n",
    "                \n",
    "                    # ? A function that returns the error based on head_pose mainly, powered by blur and size errors\n",
    "                paths.append(image_path)\n",
    "                ids.append(id)\n",
    "                alignment_error.append(error)\n",
    "    \n",
    "    return ids, features, paths, alignment_error\n",
    "\n",
    "id, features, paths, alignment_error = extract_features(directories)\n",
    "\n",
    "features = [[*feature] for feature in features]\n",
    "data = {'id': id,\n",
    "        'path':paths,\n",
    "        'features_openvino': features,\n",
    "        'alignment_error': alignment_error\n",
    "        }\n",
    " \n",
    "# Create DataFrame\n",
    "openvino = pd.DataFrame(data)\n",
    "openvino.to_csv(\"/home/chaki/Projects/gods_eye/output/12_04-21_11-25-09/in/openvino_data.csv\")\n"
   ]
  },
  {
   "cell_type": "code",
   "execution_count": 217,
   "metadata": {},
   "outputs": [],
   "source": [
    "# Create DataFrame\n",
    "magface = pd.read_csv(\"/home/chaki/Projects/gods_eye/output/12_04-21_11-25-09/in/data.csv\")\n",
    "openvino = pd.read_csv(\"/home/chaki/Projects/gods_eye/output/12_04-21_11-25-09/in/openvino_data.csv\")"
   ]
  },
  {
   "cell_type": "code",
   "execution_count": 134,
   "metadata": {
    "scrolled": true
   },
   "outputs": [
    {
     "name": "stderr",
     "output_type": "stream",
     "text": [
      "/tmp/ipykernel_84718/528420230.py:3: VisibleDeprecationWarning:\n",
      "\n",
      "Creating an ndarray from ragged nested sequences (which is a list-or-tuple of lists-or-tuples-or ndarrays with different lengths or shapes) is deprecated. If you meant to do this, you must specify 'dtype=object' when creating the ndarray.\n",
      "\n"
     ]
    }
   ],
   "source": [
    "dlib_data = pd.read_csv(\"face_recognition_data.csv\")\n",
    "data_features_dlib = list(dlib_data.features_openvino.values)\n",
    "data_features_dlib = np.array([np.array(eval(feature)) for feature in data_features_dlib])\n",
    "indexes = [len(value) != 0 for value in data_features_dlib]\n",
    "dlib_data = dlib_data[indexes]\n",
    "dlib_data = dlib_data.drop('Unnamed: 0', 1)\n",
    "data_features_dlib = list(dlib_data.features_openvino.values)\n",
    "data_features_dlib = np.array([np.array(eval(feature)) for feature in data_features_dlib])\n",
    "dlib_data[\"path\"] = dlib_data[\"path\"].str.replace('\\\\','/')\n"
   ]
  },
  {
   "cell_type": "code",
   "execution_count": 142,
   "metadata": {},
   "outputs": [],
   "source": [
    "dlib_data.columns = [\"id\", \"path\", \"feature_dlib\"]\n",
    "magface.columns = [\"id\", \"path\", \"feature_512\"]"
   ]
  },
  {
   "cell_type": "markdown",
   "metadata": {},
   "source": [
    "first_time = True\n",
    "for dir in directories:\n",
    "    csv_file = os.path.join(dir,\"data.csv\")\n",
    "    data = pd.read_csv(csv_file)\n",
    "    if first_time:\n",
    "        fr = data\n",
    "        first_time = False\n",
    "    else:\n",
    "        fr = pd.concat([fr, data], ignore_index=False)\n",
    "    # for df_path in dataframe:\n",
    "    #     df_path = os.path.join(dir, df_path)\n",
    "    #     data = pd.read_csv(df_path)\n",
    "    #     break\n",
    "\n",
    "\n",
    "    "
   ]
  },
  {
   "cell_type": "code",
   "execution_count": 159,
   "metadata": {},
   "outputs": [],
   "source": [
    "test = dlib_data[\"path\"].replace(\"\\\", \"/\")"
   ]
  },
  {
   "cell_type": "code",
   "execution_count": 225,
   "metadata": {
    "scrolled": false
   },
   "outputs": [
    {
     "data": {
      "text/html": [
       "<div>\n",
       "<style scoped>\n",
       "    .dataframe tbody tr th:only-of-type {\n",
       "        vertical-align: middle;\n",
       "    }\n",
       "\n",
       "    .dataframe tbody tr th {\n",
       "        vertical-align: top;\n",
       "    }\n",
       "\n",
       "    .dataframe thead th {\n",
       "        text-align: right;\n",
       "    }\n",
       "</style>\n",
       "<table border=\"1\" class=\"dataframe\">\n",
       "  <thead>\n",
       "    <tr style=\"text-align: right;\">\n",
       "      <th></th>\n",
       "      <th>id</th>\n",
       "      <th>path</th>\n",
       "      <th>feature_dlib</th>\n",
       "    </tr>\n",
       "  </thead>\n",
       "  <tbody>\n",
       "    <tr>\n",
       "      <th>1</th>\n",
       "      <td>person_0</td>\n",
       "      <td>in/person_0/100.jpg</td>\n",
       "      <td>[-0.07003957778215408, 0.07996471226215363, 0....</td>\n",
       "    </tr>\n",
       "    <tr>\n",
       "      <th>2</th>\n",
       "      <td>person_0</td>\n",
       "      <td>in/person_0/1007.jpg</td>\n",
       "      <td>[-0.07282204926013947, 0.036366019397974014, 0...</td>\n",
       "    </tr>\n",
       "    <tr>\n",
       "      <th>3</th>\n",
       "      <td>person_0</td>\n",
       "      <td>in/person_0/1016.jpg</td>\n",
       "      <td>[-0.06365539878606796, 0.054096899926662445, 0...</td>\n",
       "    </tr>\n",
       "    <tr>\n",
       "      <th>4</th>\n",
       "      <td>person_0</td>\n",
       "      <td>in/person_0/102.jpg</td>\n",
       "      <td>[-0.039636239409446716, 0.06792464107275009, 0...</td>\n",
       "    </tr>\n",
       "    <tr>\n",
       "      <th>5</th>\n",
       "      <td>person_0</td>\n",
       "      <td>in/person_0/1026.jpg</td>\n",
       "      <td>[-0.038284990936517715, 0.04821193590760231, 0...</td>\n",
       "    </tr>\n",
       "    <tr>\n",
       "      <th>...</th>\n",
       "      <td>...</td>\n",
       "      <td>...</td>\n",
       "      <td>...</td>\n",
       "    </tr>\n",
       "    <tr>\n",
       "      <th>1396</th>\n",
       "      <td>person_8</td>\n",
       "      <td>in/person_8/277.jpg</td>\n",
       "      <td>[-0.10293488949537277, 0.1258092075586319, 0.0...</td>\n",
       "    </tr>\n",
       "    <tr>\n",
       "      <th>1397</th>\n",
       "      <td>person_8</td>\n",
       "      <td>in/person_8/280.jpg</td>\n",
       "      <td>[-0.08488425612449646, 0.10276811569929123, 0....</td>\n",
       "    </tr>\n",
       "    <tr>\n",
       "      <th>1399</th>\n",
       "      <td>person_8</td>\n",
       "      <td>in/person_8/283.jpg</td>\n",
       "      <td>[-0.10904248803853989, 0.11424244940280914, 0....</td>\n",
       "    </tr>\n",
       "    <tr>\n",
       "      <th>1402</th>\n",
       "      <td>person_8</td>\n",
       "      <td>in/person_8/290.jpg</td>\n",
       "      <td>[-0.10288207232952118, 0.07681678235530853, 0....</td>\n",
       "    </tr>\n",
       "    <tr>\n",
       "      <th>1403</th>\n",
       "      <td>person_8</td>\n",
       "      <td>in/person_8/293.jpg</td>\n",
       "      <td>[-0.08160711824893951, 0.06965968012809753, 0....</td>\n",
       "    </tr>\n",
       "  </tbody>\n",
       "</table>\n",
       "<p>896 rows × 3 columns</p>\n",
       "</div>"
      ],
      "text/plain": [
       "            id                  path  \\\n",
       "1     person_0   in/person_0/100.jpg   \n",
       "2     person_0  in/person_0/1007.jpg   \n",
       "3     person_0  in/person_0/1016.jpg   \n",
       "4     person_0   in/person_0/102.jpg   \n",
       "5     person_0  in/person_0/1026.jpg   \n",
       "...        ...                   ...   \n",
       "1396  person_8   in/person_8/277.jpg   \n",
       "1397  person_8   in/person_8/280.jpg   \n",
       "1399  person_8   in/person_8/283.jpg   \n",
       "1402  person_8   in/person_8/290.jpg   \n",
       "1403  person_8   in/person_8/293.jpg   \n",
       "\n",
       "                                           feature_dlib  \n",
       "1     [-0.07003957778215408, 0.07996471226215363, 0....  \n",
       "2     [-0.07282204926013947, 0.036366019397974014, 0...  \n",
       "3     [-0.06365539878606796, 0.054096899926662445, 0...  \n",
       "4     [-0.039636239409446716, 0.06792464107275009, 0...  \n",
       "5     [-0.038284990936517715, 0.04821193590760231, 0...  \n",
       "...                                                 ...  \n",
       "1396  [-0.10293488949537277, 0.1258092075586319, 0.0...  \n",
       "1397  [-0.08488425612449646, 0.10276811569929123, 0....  \n",
       "1399  [-0.10904248803853989, 0.11424244940280914, 0....  \n",
       "1402  [-0.10288207232952118, 0.07681678235530853, 0....  \n",
       "1403  [-0.08160711824893951, 0.06965968012809753, 0....  \n",
       "\n",
       "[896 rows x 3 columns]"
      ]
     },
     "execution_count": 225,
     "metadata": {},
     "output_type": "execute_result"
    }
   ],
   "source": [
    "dlib_data"
   ]
  },
  {
   "cell_type": "code",
   "execution_count": 218,
   "metadata": {},
   "outputs": [],
   "source": [
    "magface[\"path\"] = magface[\"path\"].apply(lambda x: x[55:]).values\n",
    "# magface[\"path\"].apply(lambda x: x.split(\"09/\")[1], axis = 0)\n",
    "openvino[\"path\"] = openvino[\"path\"].apply(lambda x: x[55:]).values\n"
   ]
  },
  {
   "cell_type": "code",
   "execution_count": 223,
   "metadata": {},
   "outputs": [],
   "source": [
    "database = openvino.merge(magface, how=\"inner\",on=\"path\")\n",
    "database = database.merge(dlib_data, how=\"inner\",on=\"path\")"
   ]
  },
  {
   "cell_type": "code",
   "execution_count": 226,
   "metadata": {},
   "outputs": [],
   "source": [
    "df = database\n",
    "feature_column_mag = \"feature_512\"\n",
    "feature_column_openvino = \"features_openvino\"\n",
    "feature_column_dlib = \"feature_dlib\"\n"
   ]
  },
  {
   "cell_type": "code",
   "execution_count": 228,
   "metadata": {},
   "outputs": [],
   "source": [
    "df = df[df[\"alignment_error\"]<=16]"
   ]
  },
  {
   "cell_type": "code",
   "execution_count": 238,
   "metadata": {},
   "outputs": [],
   "source": [
    "data_features_openvino = list(df[feature_column_openvino].values)\n",
    "data_features_openvino = np.array([np.array(eval(feature)) for feature in data_features_openvino])"
   ]
  },
  {
   "cell_type": "code",
   "execution_count": 234,
   "metadata": {},
   "outputs": [],
   "source": [
    "data_features_magface = list(df[feature_column_mag].values)\n",
    "data_features_magface = np.array([np.array(eval(feature)) for feature in data_features_magface])"
   ]
  },
  {
   "cell_type": "code",
   "execution_count": 235,
   "metadata": {},
   "outputs": [],
   "source": [
    "data_features_dlib = list(df[feature_column_dlib].values)\n",
    "data_features_dlib = np.array([np.array(eval(feature)) for feature in data_features_dlib])"
   ]
  },
  {
   "cell_type": "code",
   "execution_count": 230,
   "metadata": {},
   "outputs": [
    {
     "data": {
      "text/plain": [
       "(397, 128)"
      ]
     },
     "execution_count": 230,
     "metadata": {},
     "output_type": "execute_result"
    }
   ],
   "source": [
    "data_features_dlib.shape"
   ]
  },
  {
   "cell_type": "code",
   "execution_count": 240,
   "metadata": {},
   "outputs": [
    {
     "data": {
      "text/plain": [
       "(397, 256)"
      ]
     },
     "execution_count": 240,
     "metadata": {},
     "output_type": "execute_result"
    }
   ],
   "source": [
    "data_features_openvino.shape"
   ]
  },
  {
   "cell_type": "code",
   "execution_count": null,
   "metadata": {},
   "outputs": [],
   "source": []
  },
  {
   "cell_type": "code",
   "execution_count": 241,
   "metadata": {},
   "outputs": [],
   "source": [
    "from sklearn.manifold import TSNE\n",
    "import numpy as np\n",
    "from numpy import reshape\n",
    "import seaborn as sns"
   ]
  },
  {
   "cell_type": "code",
   "execution_count": 244,
   "metadata": {},
   "outputs": [
    {
     "name": "stderr",
     "output_type": "stream",
     "text": [
      "/home/chaki/anaconda3/envs/gdsy/lib/python3.8/site-packages/sklearn/manifold/_t_sne.py:780: FutureWarning:\n",
      "\n",
      "The default initialization in TSNE will change from 'random' to 'pca' in 1.2.\n",
      "\n",
      "/home/chaki/anaconda3/envs/gdsy/lib/python3.8/site-packages/sklearn/manifold/_t_sne.py:790: FutureWarning:\n",
      "\n",
      "The default learning rate in TSNE will change from 200.0 to 'auto' in 1.2.\n",
      "\n"
     ]
    },
    {
     "name": "stdout",
     "output_type": "stream",
     "text": [
      "[t-SNE] Computing 91 nearest neighbors...\n",
      "[t-SNE] Indexed 397 samples in 0.000s...\n",
      "[t-SNE] Computed neighbors for 397 samples in 0.004s...\n",
      "[t-SNE] Computed conditional probabilities for sample 397 / 397\n",
      "[t-SNE] Mean sigma: 5.772091\n",
      "[t-SNE] KL divergence after 250 iterations with early exaggeration: 58.360363\n",
      "[t-SNE] KL divergence after 1000 iterations: 0.176958\n"
     ]
    }
   ],
   "source": [
    "import plotly.express as px\n",
    "\n",
    "# scale and move the coordinates so they fit [0; 1] range\n",
    "def scale_to_01_range(x):\n",
    "    # compute the distribution range\n",
    "    value_range = (np.max(x) - np.min(x))\n",
    "\n",
    "    # move the distribution so that it starts from zero\n",
    "    # by extracting the minimal value from all its values\n",
    "    starts_from_zero = x - np.min(x)\n",
    "\n",
    "    # make the distribution fit [0; 1] by dividing by its range\n",
    "    return starts_from_zero / value_range\n",
    "\n",
    "def get_tsn_results(data_features):\n",
    "    \n",
    "    tsne = TSNE(n_components=2, verbose=1, random_state=123)\n",
    "    z = tsne.fit_transform(data_features) \n",
    "    # extract x and y coordinates representing the positions of the images on T-SNE plot\n",
    "    tx = z[:, 0]\n",
    "    ty = z[:, 1]\n",
    "    tx = scale_to_01_range(tx)\n",
    "    ty = scale_to_01_range(ty)\n",
    "    \n",
    "    return tx, ty\n",
    "\n",
    "\n",
    "tx_openvino, ty_openvino = get_tsn_results(data_features_openvino)"
   ]
  },
  {
   "cell_type": "code",
   "execution_count": 243,
   "metadata": {},
   "outputs": [
    {
     "name": "stderr",
     "output_type": "stream",
     "text": [
      "/home/chaki/anaconda3/envs/gdsy/lib/python3.8/site-packages/sklearn/manifold/_t_sne.py:780: FutureWarning:\n",
      "\n",
      "The default initialization in TSNE will change from 'random' to 'pca' in 1.2.\n",
      "\n",
      "/home/chaki/anaconda3/envs/gdsy/lib/python3.8/site-packages/sklearn/manifold/_t_sne.py:790: FutureWarning:\n",
      "\n",
      "The default learning rate in TSNE will change from 200.0 to 'auto' in 1.2.\n",
      "\n"
     ]
    },
    {
     "name": "stdout",
     "output_type": "stream",
     "text": [
      "[t-SNE] Computing 91 nearest neighbors...\n",
      "[t-SNE] Indexed 397 samples in 0.000s...\n",
      "[t-SNE] Computed neighbors for 397 samples in 0.004s...\n",
      "[t-SNE] Computed conditional probabilities for sample 397 / 397\n",
      "[t-SNE] Mean sigma: 11.454814\n",
      "[t-SNE] KL divergence after 250 iterations with early exaggeration: 57.606674\n",
      "[t-SNE] KL divergence after 1000 iterations: 0.188760\n"
     ]
    }
   ],
   "source": [
    "tx_magface, ty_magface = get_tsn_results(data_features_magface)"
   ]
  },
  {
   "cell_type": "code",
   "execution_count": 242,
   "metadata": {
    "scrolled": true
   },
   "outputs": [
    {
     "name": "stderr",
     "output_type": "stream",
     "text": [
      "/home/chaki/anaconda3/envs/gdsy/lib/python3.8/site-packages/sklearn/manifold/_t_sne.py:780: FutureWarning:\n",
      "\n",
      "The default initialization in TSNE will change from 'random' to 'pca' in 1.2.\n",
      "\n",
      "/home/chaki/anaconda3/envs/gdsy/lib/python3.8/site-packages/sklearn/manifold/_t_sne.py:790: FutureWarning:\n",
      "\n",
      "The default learning rate in TSNE will change from 200.0 to 'auto' in 1.2.\n",
      "\n"
     ]
    },
    {
     "name": "stdout",
     "output_type": "stream",
     "text": [
      "[t-SNE] Computing 91 nearest neighbors...\n",
      "[t-SNE] Indexed 397 samples in 0.000s...\n",
      "[t-SNE] Computed neighbors for 397 samples in 0.004s...\n",
      "[t-SNE] Computed conditional probabilities for sample 397 / 397\n",
      "[t-SNE] Mean sigma: 0.229672\n",
      "[t-SNE] KL divergence after 250 iterations with early exaggeration: 58.372150\n",
      "[t-SNE] KL divergence after 1000 iterations: 0.190844\n"
     ]
    }
   ],
   "source": [
    "tx_dlib, ty_dlib = get_tsn_results(data_features_dlib)"
   ]
  },
  {
   "cell_type": "code",
   "execution_count": 248,
   "metadata": {},
   "outputs": [
    {
     "data": {
      "text/plain": [
       "(397,)"
      ]
     },
     "execution_count": 248,
     "metadata": {},
     "output_type": "execute_result"
    }
   ],
   "source": [
    "tx_dlib.shape"
   ]
  },
  {
   "cell_type": "code",
   "execution_count": 251,
   "metadata": {},
   "outputs": [
    {
     "data": {
      "text/plain": [
       "(397,)"
      ]
     },
     "execution_count": 251,
     "metadata": {},
     "output_type": "execute_result"
    }
   ],
   "source": [
    "labels.shape"
   ]
  },
  {
   "cell_type": "code",
   "execution_count": 249,
   "metadata": {},
   "outputs": [],
   "source": [
    "labels = df[\"id_x\"].values"
   ]
  },
  {
   "cell_type": "code",
   "execution_count": 252,
   "metadata": {},
   "outputs": [],
   "source": [
    "data = {'tx_openvino':tx_openvino,\n",
    "        'ty_openvino':ty_openvino,\n",
    "        'tx_magface':tx_magface,\n",
    "        'ty_magface':ty_magface,\n",
    "        'tx_dlib':tx_dlib,\n",
    "        'ty_dlib':ty_dlib,\n",
    "        'labels': labels,\n",
    "        'path' : df.path,\n",
    "        'alignment_error': df.alignment_error\n",
    "        }\n",
    " \n",
    "# Create DataFrame\n",
    "df = pd.DataFrame(data)\n",
    "df.to_csv(\"images/in/database_withdlib.csv\")"
   ]
  },
  {
   "cell_type": "code",
   "execution_count": 253,
   "metadata": {
    "scrolled": false
   },
   "outputs": [
    {
     "data": {
      "text/html": [
       "<div>\n",
       "<style scoped>\n",
       "    .dataframe tbody tr th:only-of-type {\n",
       "        vertical-align: middle;\n",
       "    }\n",
       "\n",
       "    .dataframe tbody tr th {\n",
       "        vertical-align: top;\n",
       "    }\n",
       "\n",
       "    .dataframe thead th {\n",
       "        text-align: right;\n",
       "    }\n",
       "</style>\n",
       "<table border=\"1\" class=\"dataframe\">\n",
       "  <thead>\n",
       "    <tr style=\"text-align: right;\">\n",
       "      <th></th>\n",
       "      <th>tx_openvino</th>\n",
       "      <th>ty_openvino</th>\n",
       "      <th>tx_magface</th>\n",
       "      <th>ty_magface</th>\n",
       "      <th>tx_dlib</th>\n",
       "      <th>ty_dlib</th>\n",
       "      <th>labels</th>\n",
       "      <th>path</th>\n",
       "      <th>alignment_error</th>\n",
       "    </tr>\n",
       "  </thead>\n",
       "  <tbody>\n",
       "    <tr>\n",
       "      <th>14</th>\n",
       "      <td>0.738425</td>\n",
       "      <td>0.421377</td>\n",
       "      <td>0.547369</td>\n",
       "      <td>0.425063</td>\n",
       "      <td>0.853096</td>\n",
       "      <td>0.212694</td>\n",
       "      <td>person_27</td>\n",
       "      <td>in/person_27/943.jpg</td>\n",
       "      <td>2.981036</td>\n",
       "    </tr>\n",
       "    <tr>\n",
       "      <th>35</th>\n",
       "      <td>0.738294</td>\n",
       "      <td>0.421478</td>\n",
       "      <td>0.547563</td>\n",
       "      <td>0.425731</td>\n",
       "      <td>0.853134</td>\n",
       "      <td>0.210870</td>\n",
       "      <td>person_27</td>\n",
       "      <td>in/person_27/951.jpg</td>\n",
       "      <td>7.899172</td>\n",
       "    </tr>\n",
       "    <tr>\n",
       "      <th>40</th>\n",
       "      <td>0.929831</td>\n",
       "      <td>0.949225</td>\n",
       "      <td>0.015253</td>\n",
       "      <td>0.956564</td>\n",
       "      <td>0.958723</td>\n",
       "      <td>0.693848</td>\n",
       "      <td>person_12</td>\n",
       "      <td>in/person_12/476.jpg</td>\n",
       "      <td>0.423276</td>\n",
       "    </tr>\n",
       "    <tr>\n",
       "      <th>41</th>\n",
       "      <td>0.878723</td>\n",
       "      <td>0.997069</td>\n",
       "      <td>0.075394</td>\n",
       "      <td>0.878168</td>\n",
       "      <td>0.979666</td>\n",
       "      <td>0.607342</td>\n",
       "      <td>person_12</td>\n",
       "      <td>in/person_12/494.jpg</td>\n",
       "      <td>7.251142</td>\n",
       "    </tr>\n",
       "    <tr>\n",
       "      <th>42</th>\n",
       "      <td>0.868548</td>\n",
       "      <td>0.955852</td>\n",
       "      <td>0.032346</td>\n",
       "      <td>0.913154</td>\n",
       "      <td>0.915972</td>\n",
       "      <td>0.620180</td>\n",
       "      <td>person_12</td>\n",
       "      <td>in/person_12/592.jpg</td>\n",
       "      <td>8.439944</td>\n",
       "    </tr>\n",
       "    <tr>\n",
       "      <th>...</th>\n",
       "      <td>...</td>\n",
       "      <td>...</td>\n",
       "      <td>...</td>\n",
       "      <td>...</td>\n",
       "      <td>...</td>\n",
       "      <td>...</td>\n",
       "      <td>...</td>\n",
       "      <td>...</td>\n",
       "      <td>...</td>\n",
       "    </tr>\n",
       "    <tr>\n",
       "      <th>887</th>\n",
       "      <td>0.487893</td>\n",
       "      <td>0.056109</td>\n",
       "      <td>0.248532</td>\n",
       "      <td>0.095126</td>\n",
       "      <td>0.236040</td>\n",
       "      <td>0.784722</td>\n",
       "      <td>person_19</td>\n",
       "      <td>in/person_19/711.jpg</td>\n",
       "      <td>9.788915</td>\n",
       "    </tr>\n",
       "    <tr>\n",
       "      <th>888</th>\n",
       "      <td>0.516289</td>\n",
       "      <td>0.066821</td>\n",
       "      <td>0.284068</td>\n",
       "      <td>0.097404</td>\n",
       "      <td>0.325242</td>\n",
       "      <td>0.734091</td>\n",
       "      <td>person_19</td>\n",
       "      <td>in/person_19/754.jpg</td>\n",
       "      <td>9.721998</td>\n",
       "    </tr>\n",
       "    <tr>\n",
       "      <th>889</th>\n",
       "      <td>0.510520</td>\n",
       "      <td>0.066601</td>\n",
       "      <td>0.293289</td>\n",
       "      <td>0.102158</td>\n",
       "      <td>0.325954</td>\n",
       "      <td>0.732747</td>\n",
       "      <td>person_19</td>\n",
       "      <td>in/person_19/761.jpg</td>\n",
       "      <td>4.983419</td>\n",
       "    </tr>\n",
       "    <tr>\n",
       "      <th>891</th>\n",
       "      <td>0.495220</td>\n",
       "      <td>0.008469</td>\n",
       "      <td>0.220532</td>\n",
       "      <td>0.061249</td>\n",
       "      <td>0.282643</td>\n",
       "      <td>0.740580</td>\n",
       "      <td>person_19</td>\n",
       "      <td>in/person_19/841.jpg</td>\n",
       "      <td>2.666573</td>\n",
       "    </tr>\n",
       "    <tr>\n",
       "      <th>895</th>\n",
       "      <td>0.505812</td>\n",
       "      <td>0.026375</td>\n",
       "      <td>0.250619</td>\n",
       "      <td>0.059654</td>\n",
       "      <td>0.299409</td>\n",
       "      <td>0.773803</td>\n",
       "      <td>person_19</td>\n",
       "      <td>in/person_19/768.jpg</td>\n",
       "      <td>7.491226</td>\n",
       "    </tr>\n",
       "  </tbody>\n",
       "</table>\n",
       "<p>397 rows × 9 columns</p>\n",
       "</div>"
      ],
      "text/plain": [
       "     tx_openvino  ty_openvino  tx_magface  ty_magface   tx_dlib   ty_dlib  \\\n",
       "14      0.738425     0.421377    0.547369    0.425063  0.853096  0.212694   \n",
       "35      0.738294     0.421478    0.547563    0.425731  0.853134  0.210870   \n",
       "40      0.929831     0.949225    0.015253    0.956564  0.958723  0.693848   \n",
       "41      0.878723     0.997069    0.075394    0.878168  0.979666  0.607342   \n",
       "42      0.868548     0.955852    0.032346    0.913154  0.915972  0.620180   \n",
       "..           ...          ...         ...         ...       ...       ...   \n",
       "887     0.487893     0.056109    0.248532    0.095126  0.236040  0.784722   \n",
       "888     0.516289     0.066821    0.284068    0.097404  0.325242  0.734091   \n",
       "889     0.510520     0.066601    0.293289    0.102158  0.325954  0.732747   \n",
       "891     0.495220     0.008469    0.220532    0.061249  0.282643  0.740580   \n",
       "895     0.505812     0.026375    0.250619    0.059654  0.299409  0.773803   \n",
       "\n",
       "        labels                  path  alignment_error  \n",
       "14   person_27  in/person_27/943.jpg         2.981036  \n",
       "35   person_27  in/person_27/951.jpg         7.899172  \n",
       "40   person_12  in/person_12/476.jpg         0.423276  \n",
       "41   person_12  in/person_12/494.jpg         7.251142  \n",
       "42   person_12  in/person_12/592.jpg         8.439944  \n",
       "..         ...                   ...              ...  \n",
       "887  person_19  in/person_19/711.jpg         9.788915  \n",
       "888  person_19  in/person_19/754.jpg         9.721998  \n",
       "889  person_19  in/person_19/761.jpg         4.983419  \n",
       "891  person_19  in/person_19/841.jpg         2.666573  \n",
       "895  person_19  in/person_19/768.jpg         7.491226  \n",
       "\n",
       "[397 rows x 9 columns]"
      ]
     },
     "execution_count": 253,
     "metadata": {},
     "output_type": "execute_result"
    }
   ],
   "source": [
    "df"
   ]
  },
  {
   "cell_type": "code",
   "execution_count": 63,
   "metadata": {},
   "outputs": [
    {
     "data": {
      "text/plain": [
       "(402,)"
      ]
     },
     "execution_count": 63,
     "metadata": {},
     "output_type": "execute_result"
    }
   ],
   "source": [
    "np.arange(0,402).shape"
   ]
  },
  {
   "cell_type": "code",
   "execution_count": 113,
   "metadata": {},
   "outputs": [],
   "source": [
    "df[df['labels'] == 10]['labels'] = 3"
   ]
  },
  {
   "cell_type": "code",
   "execution_count": 254,
   "metadata": {},
   "outputs": [],
   "source": [
    "df = df.reset_index()"
   ]
  },
  {
   "cell_type": "code",
   "execution_count": 255,
   "metadata": {},
   "outputs": [],
   "source": [
    "from utils.utils import colors"
   ]
  },
  {
   "cell_type": "code",
   "execution_count": 256,
   "metadata": {},
   "outputs": [],
   "source": [
    "df[\"labels\"] = df[\"labels\"].astype(str)"
   ]
  },
  {
   "cell_type": "code",
   "execution_count": 257,
   "metadata": {
    "scrolled": false
   },
   "outputs": [
    {
     "data": {
      "application/vnd.plotly.v1+json": {
       "config": {
        "plotlyServerURL": "https://plot.ly"
       },
       "data": [
        {
         "customdata": [
          [
           14,
           "person_27",
           "in/person_27/943.jpg",
           2.9810358683268228
          ],
          [
           35,
           "person_27",
           "in/person_27/951.jpg",
           7.899172465006511
          ]
         ],
         "hovertemplate": "labels=%{customdata[1]}<br>tx_openvino=%{x}<br>ty_openvino=%{y}<br>index=%{customdata[0]}<br>path=%{customdata[2]}<br>alignment_error=%{customdata[3]}<extra></extra>",
         "legendgroup": "person_27",
         "marker": {
          "color": "#2E91E5",
          "symbol": "circle"
         },
         "mode": "markers",
         "name": "person_27",
         "orientation": "v",
         "showlegend": true,
         "type": "scatter",
         "x": [
          0.7384254336357117,
          0.7382940053939819
         ],
         "xaxis": "x",
         "y": [
          0.4213765263557434,
          0.4214778542518616
         ],
         "yaxis": "y"
        },
        {
         "customdata": [
          [
           40,
           "person_12",
           "in/person_12/476.jpg",
           0.4232762654622395
          ],
          [
           41,
           "person_12",
           "in/person_12/494.jpg",
           7.251141866048177
          ],
          [
           42,
           "person_12",
           "in/person_12/592.jpg",
           8.43994394938151
          ],
          [
           44,
           "person_12",
           "in/person_12/585.jpg",
           8.118565877278646
          ],
          [
           46,
           "person_12",
           "in/person_12/486.jpg",
           -1.8175684611002605
          ],
          [
           47,
           "person_12",
           "in/person_12/516.jpg",
           1.2816874186197915
          ],
          [
           48,
           "person_12",
           "in/person_12/480.jpg",
           0.8033727010091146
          ],
          [
           49,
           "person_12",
           "in/person_12/443.jpg",
           3.320551554361979
          ],
          [
           50,
           "person_12",
           "in/person_12/617.jpg",
           7.864626566569011
          ],
          [
           51,
           "person_12",
           "in/person_12/510.jpg",
           2.5279719034830728
          ],
          [
           52,
           "person_12",
           "in/person_12/495.jpg",
           3.239756266276041
          ],
          [
           53,
           "person_12",
           "in/person_12/572.jpg",
           5.463826497395833
          ],
          [
           54,
           "person_12",
           "in/person_12/540.jpg",
           1.528411865234375
          ],
          [
           57,
           "person_12",
           "in/person_12/454.jpg",
           1.7810872395833333
          ],
          [
           59,
           "person_12",
           "in/person_12/553.jpg",
           1.90362548828125
          ],
          [
           62,
           "person_12",
           "in/person_12/440.jpg",
           3.4744135538736978
          ],
          [
           63,
           "person_12",
           "in/person_12/463.jpg",
           0.8574879964192709
          ],
          [
           65,
           "person_12",
           "in/person_12/472.jpg",
           -0.4162063598632812
          ],
          [
           66,
           "person_12",
           "in/person_12/604.jpg",
           8.270991007486979
          ],
          [
           69,
           "person_12",
           "in/person_12/521.jpg",
           0.2968012491861979
          ],
          [
           70,
           "person_12",
           "in/person_12/567.jpg",
           3.504096984863281
          ],
          [
           71,
           "person_12",
           "in/person_12/508.jpg",
           9.775377909342447
          ],
          [
           72,
           "person_12",
           "in/person_12/449.jpg",
           4.5519053141276045
          ],
          [
           75,
           "person_12",
           "in/person_12/528.jpg",
           0.2398808797200521
          ],
          [
           77,
           "person_12",
           "in/person_12/504.jpg",
           4.114219665527344
          ],
          [
           78,
           "person_12",
           "in/person_12/623.jpg",
           7.7812143961588545
          ],
          [
           79,
           "person_12",
           "in/person_12/546.jpg",
           0.9495569864908854
          ],
          [
           83,
           "person_12",
           "in/person_12/579.jpg",
           7.714235941569011
          ],
          [
           87,
           "person_12",
           "in/person_12/459.jpg",
           0.3160374959309895
          ],
          [
           88,
           "person_12",
           "in/person_12/533.jpg",
           1.2022298177083333
          ],
          [
           89,
           "person_12",
           "in/person_12/610.jpg",
           7.586682637532552
          ],
          [
           90,
           "person_12",
           "in/person_12/491.jpg",
           -0.3314310709635417
          ],
          [
           92,
           "person_12",
           "in/person_12/461.jpg",
           -0.1225128173828125
          ],
          [
           95,
           "person_12",
           "in/person_12/500.jpg",
           4.519317626953125
          ],
          [
           97,
           "person_12",
           "in/person_12/452.jpg",
           4.635106404622396
          ],
          [
           100,
           "person_12",
           "in/person_12/599.jpg",
           8.391713460286459
          ],
          [
           101,
           "person_12",
           "in/person_12/446.jpg",
           3.6756184895833335
          ],
          [
           103,
           "person_12",
           "in/person_12/560.jpg",
           1.752337137858073
          ],
          [
           105,
           "person_12",
           "in/person_12/468.jpg",
           -0.2003224690755208
          ],
          [
           108,
           "person_12",
           "in/person_12/570.jpg",
           9.941548665364584
          ],
          [
           109,
           "person_12",
           "in/person_12/488.jpg",
           7.642931620279948
          ],
          [
           110,
           "person_12",
           "in/person_12/457.jpg",
           2.2299346923828125
          ]
         ],
         "hovertemplate": "labels=%{customdata[1]}<br>tx_openvino=%{x}<br>ty_openvino=%{y}<br>index=%{customdata[0]}<br>path=%{customdata[2]}<br>alignment_error=%{customdata[3]}<extra></extra>",
         "legendgroup": "person_12",
         "marker": {
          "color": "#E15F99",
          "symbol": "circle"
         },
         "mode": "markers",
         "name": "person_12",
         "orientation": "v",
         "showlegend": true,
         "type": "scatter",
         "x": [
          0.9298307299613953,
          0.8787230849266052,
          0.8685481548309326,
          0.8680199980735779,
          0.9130666851997375,
          0.9041728377342224,
          0.9375837445259094,
          0.9113349318504333,
          0.857489287853241,
          0.9045665860176086,
          0.904853343963623,
          0.8972445726394653,
          0.9160953760147095,
          0.9360954761505127,
          0.9075676202774048,
          0.9158313870429993,
          0.9270097613334656,
          0.9374659061431885,
          0.8610052466392517,
          0.9070303440093994,
          0.8955515027046204,
          0.8823498487472534,
          0.9213173985481262,
          0.9126091599464417,
          0.8894839882850647,
          0.8593609929084778,
          0.9193843007087708,
          0.8786007165908813,
          0.9329709410667419,
          0.9169788956642151,
          0.8588966131210327,
          0.9159327149391174,
          0.9370797872543335,
          0.8907234072685242,
          0.9187242984771729,
          0.868727445602417,
          0.9171916842460632,
          0.9021803736686707,
          0.9330260157585144,
          0.8712336421012878,
          0.8780959248542786,
          0.9286421537399292
         ],
         "xaxis": "x",
         "y": [
          0.9492248892784119,
          0.9970692992210388,
          0.9558519721031189,
          0.9509446620941162,
          0.9565475583076477,
          0.9434601664543152,
          0.9476391673088074,
          0.980687141418457,
          0.9564876556396484,
          0.9519174098968506,
          0.960677444934845,
          0.9396960139274597,
          0.924288272857666,
          0.981788158416748,
          0.9176926016807556,
          0.9893209934234619,
          0.9601577520370483,
          0.9540002942085266,
          0.9606136083602905,
          0.9402846693992615,
          0.9294483661651611,
          1,
          0.9777831435203552,
          0.925462007522583,
          0.9476868510246277,
          0.9509312510490417,
          0.9354779720306396,
          0.9375619888305664,
          0.9745500087738037,
          0.9303853511810303,
          0.950637936592102,
          0.9525008201599121,
          0.9699114561080933,
          0.9575830698013306,
          0.9860239028930664,
          0.9600906372070312,
          0.9755181074142456,
          0.9299942255020142,
          0.9556594491004944,
          0.9910050630569458,
          0.9972349405288696,
          0.9683452844619751
         ],
         "yaxis": "y"
        },
        {
         "customdata": [
          [
           111,
           "person_39",
           "in/person_39/1402.jpg",
           5.444775899251302
          ]
         ],
         "hovertemplate": "labels=%{customdata[1]}<br>tx_openvino=%{x}<br>ty_openvino=%{y}<br>index=%{customdata[0]}<br>path=%{customdata[2]}<br>alignment_error=%{customdata[3]}<extra></extra>",
         "legendgroup": "person_39",
         "marker": {
          "color": "#1CA71C",
          "symbol": "circle"
         },
         "mode": "markers",
         "name": "person_39",
         "orientation": "v",
         "showlegend": true,
         "type": "scatter",
         "x": [
          0.3654915392398834
         ],
         "xaxis": "x",
         "y": [
          0.5151224136352539
         ],
         "yaxis": "y"
        },
        {
         "customdata": [
          [
           112,
           "person_16",
           "in/person_16/590.jpg",
           4.347554524739583
          ],
          [
           113,
           "person_16",
           "in/person_16/654.jpg",
           6.33800760904948
          ],
          [
           120,
           "person_16",
           "in/person_16/646.jpg",
           1.409472147623698
          ],
          [
           125,
           "person_16",
           "in/person_16/577.jpg",
           1.578460693359375
          ],
          [
           126,
           "person_16",
           "in/person_16/539.jpg",
           3.548365275065104
          ],
          [
           128,
           "person_16",
           "in/person_16/597.jpg",
           3.7531585693359375
          ],
          [
           130,
           "person_16",
           "in/person_16/1055.jpg",
           9.695543924967447
          ],
          [
           132,
           "person_16",
           "in/person_16/1046.jpg",
           8.429845174153646
          ],
          [
           134,
           "person_16",
           "in/person_16/559.jpg",
           1.6759694417317708
          ],
          [
           135,
           "person_16",
           "in/person_16/634.jpg",
           4.474533081054688
          ],
          [
           136,
           "person_16",
           "in/person_16/564.jpg",
           2.423070271809896
          ]
         ],
         "hovertemplate": "labels=%{customdata[1]}<br>tx_openvino=%{x}<br>ty_openvino=%{y}<br>index=%{customdata[0]}<br>path=%{customdata[2]}<br>alignment_error=%{customdata[3]}<extra></extra>",
         "legendgroup": "person_16",
         "marker": {
          "color": "#FB0D0D",
          "symbol": "circle"
         },
         "mode": "markers",
         "name": "person_16",
         "orientation": "v",
         "showlegend": true,
         "type": "scatter",
         "x": [
          0.5278542637825012,
          0.527302086353302,
          0.5270692110061646,
          0.5410000085830688,
          0.5496378540992737,
          0.5271550416946411,
          0.5101817846298218,
          0.5108726024627686,
          0.5423700213432312,
          0.5246148705482483,
          0.5424069762229919
         ],
         "xaxis": "x",
         "y": [
          0.392390638589859,
          0.4052201211452484,
          0.4014105200767517,
          0.3847414255142212,
          0.3809323012828827,
          0.39371851086616516,
          0.3841189742088318,
          0.3842960596084595,
          0.3844268321990967,
          0.40317502617836,
          0.384143590927124
         ],
         "yaxis": "y"
        },
        {
         "customdata": [
          [
           144,
           "person_22",
           "in/person_22/888.jpg",
           5.906545003255208
          ],
          [
           145,
           "person_22",
           "in/person_22/822.jpg",
           9.805567423502604
          ],
          [
           146,
           "person_22",
           "in/person_22/866.jpg",
           7.965443929036458
          ],
          [
           151,
           "person_22",
           "in/person_22/938.jpg",
           7.360481262207031
          ],
          [
           152,
           "person_22",
           "in/person_22/802.jpg",
           5.914471944173177
          ],
          [
           157,
           "person_22",
           "in/person_22/879.jpg",
           7.742368062337239
          ],
          [
           158,
           "person_22",
           "in/person_22/846.jpg",
           9.114608764648438
          ],
          [
           159,
           "person_22",
           "in/person_22/794.jpg",
           4.564908345540364
          ],
          [
           160,
           "person_22",
           "in/person_22/904.jpg",
           3.3595174153645835
          ],
          [
           163,
           "person_22",
           "in/person_22/814.jpg",
           6.822428385416667
          ],
          [
           164,
           "person_22",
           "in/person_22/924.jpg",
           6.612495422363281
          ],
          [
           165,
           "person_22",
           "in/person_22/783.jpg",
           4.944023132324219
          ],
          [
           166,
           "person_22",
           "in/person_22/913.jpg",
           4.5740000406901045
          ],
          [
           171,
           "person_22",
           "in/person_22/779.jpg",
           3.605677286783854
          ],
          [
           173,
           "person_22",
           "in/person_22/771.jpg",
           7.111796061197917
          ],
          [
           176,
           "person_22",
           "in/person_22/857.jpg",
           8.821642557779947
          ]
         ],
         "hovertemplate": "labels=%{customdata[1]}<br>tx_openvino=%{x}<br>ty_openvino=%{y}<br>index=%{customdata[0]}<br>path=%{customdata[2]}<br>alignment_error=%{customdata[3]}<extra></extra>",
         "legendgroup": "person_22",
         "marker": {
          "color": "#DA16FF",
          "symbol": "circle"
         },
         "mode": "markers",
         "name": "person_22",
         "orientation": "v",
         "showlegend": true,
         "type": "scatter",
         "x": [
          0.8730514049530029,
          0.8640732169151306,
          0.8768453598022461,
          0.8531683087348938,
          0.8674715757369995,
          0.8807525634765625,
          0.8701356053352356,
          0.8820808529853821,
          0.8586205840110779,
          0.865227997303009,
          0.855375349521637,
          0.8829373717308044,
          0.8588835000991821,
          0.880745530128479,
          0.8881310820579529,
          0.8718655109405518
         ],
         "xaxis": "x",
         "y": [
          0.2812422513961792,
          0.2735831141471863,
          0.2672426700592041,
          0.28063786029815674,
          0.28931352496147156,
          0.2731815576553345,
          0.2718290686607361,
          0.28904154896736145,
          0.29217392206192017,
          0.2833434045314789,
          0.27862003445625305,
          0.28300705552101135,
          0.28438109159469604,
          0.2872418463230133,
          0.2664370536804199,
          0.2678129971027374
         ],
         "yaxis": "y"
        },
        {
         "customdata": [
          [
           179,
           "person_20",
           "in/person_20/721.jpg",
           8.07818603515625
          ],
          [
           184,
           "person_20",
           "in/person_20/740.jpg",
           8.915496826171875
          ]
         ],
         "hovertemplate": "labels=%{customdata[1]}<br>tx_openvino=%{x}<br>ty_openvino=%{y}<br>index=%{customdata[0]}<br>path=%{customdata[2]}<br>alignment_error=%{customdata[3]}<extra></extra>",
         "legendgroup": "person_20",
         "marker": {
          "color": "#222A2A",
          "symbol": "circle"
         },
         "mode": "markers",
         "name": "person_20",
         "orientation": "v",
         "showlegend": true,
         "type": "scatter",
         "x": [
          0.3436111807823181,
          0.3434663712978363
         ],
         "xaxis": "x",
         "y": [
          0.44260525703430176,
          0.44260889291763306
         ],
         "yaxis": "y"
        },
        {
         "customdata": [
          [
           191,
           "person_11",
           "in/person_11/484.jpg",
           -2.129155476888021
          ],
          [
           192,
           "person_11",
           "in/person_11/499.jpg",
           3.853444417317709
          ],
          [
           193,
           "person_11",
           "in/person_11/490.jpg",
           0.4719899495442708
          ],
          [
           194,
           "person_11",
           "in/person_11/414.jpg",
           2.9633687337239585
          ],
          [
           195,
           "person_11",
           "in/person_11/428.jpg",
           8.256304423014322
          ],
          [
           196,
           "person_11",
           "in/person_11/426.jpg",
           7.904650370279948
          ],
          [
           197,
           "person_11",
           "in/person_11/417.jpg",
           5.120160420735677
          ],
          [
           198,
           "person_11",
           "in/person_11/422.jpg",
           6.242162068684896
          ],
          [
           199,
           "person_11",
           "in/person_11/431.jpg",
           5.873067220052083
          ],
          [
           200,
           "person_11",
           "in/person_11/413.jpg",
           3.9685465494791674
          ],
          [
           201,
           "person_11",
           "in/person_11/477.jpg",
           9.08258056640625
          ],
          [
           202,
           "person_11",
           "in/person_11/481.jpg",
           1.9197998046875
          ],
          [
           203,
           "person_11",
           "in/person_11/496.jpg",
           2.17156728108724
          ],
          [
           204,
           "person_11",
           "in/person_11/424.jpg",
           8.115514119466146
          ],
          [
           205,
           "person_11",
           "in/person_11/404.jpg",
           4.614163716634114
          ]
         ],
         "hovertemplate": "labels=%{customdata[1]}<br>tx_openvino=%{x}<br>ty_openvino=%{y}<br>index=%{customdata[0]}<br>path=%{customdata[2]}<br>alignment_error=%{customdata[3]}<extra></extra>",
         "legendgroup": "person_11",
         "marker": {
          "color": "#B68100",
          "symbol": "circle"
         },
         "mode": "markers",
         "name": "person_11",
         "orientation": "v",
         "showlegend": true,
         "type": "scatter",
         "x": [
          0.6893426179885864,
          0.6880635619163513,
          0.687053382396698,
          0.6800349354743958,
          0.6641114354133606,
          0.663083553314209,
          0.6729073524475098,
          0.6706103682518005,
          0.6665411591529846,
          0.682901918888092,
          0.6849803328514099,
          0.6902960538864136,
          0.6875471472740173,
          0.6665222644805908,
          0.6704549193382263
         ],
         "xaxis": "x",
         "y": [
          0.47001126408576965,
          0.47429579496383667,
          0.4695223569869995,
          0.44596046209335327,
          0.45642712712287903,
          0.4531281590461731,
          0.4463748633861542,
          0.4452168643474579,
          0.46198123693466187,
          0.454363077878952,
          0.45140114426612854,
          0.45949867367744446,
          0.47299760580062866,
          0.4542206823825836,
          0.4573656916618347
         ],
         "yaxis": "y"
        },
        {
         "customdata": [
          [
           206,
           "person_26",
           "in/person_26/990.jpg",
           5.537689208984375
          ],
          [
           207,
           "person_26",
           "in/person_26/1102.jpg",
           9.487894694010416
          ],
          [
           209,
           "person_26",
           "in/person_26/1078.jpg",
           9.52886962890625
          ],
          [
           211,
           "person_26",
           "in/person_26/933.jpg",
           5.618583679199219
          ],
          [
           212,
           "person_26",
           "in/person_26/920.jpg",
           7.528856913248698
          ],
          [
           215,
           "person_26",
           "in/person_26/1006.jpg",
           6.001665751139323
          ],
          [
           218,
           "person_26",
           "in/person_26/1040.jpg",
           6.325925191243489
          ],
          [
           219,
           "person_26",
           "in/person_26/886.jpg",
           7.028615315755208
          ],
          [
           220,
           "person_26",
           "in/person_26/1052.jpg",
           7.471542358398437
          ],
          [
           221,
           "person_26",
           "in/person_26/1091.jpg",
           7.7104848225911455
          ],
          [
           223,
           "person_26",
           "in/person_26/1027.jpg",
           4.673271179199219
          ],
          [
           224,
           "person_26",
           "in/person_26/959.jpg",
           5.080586751302083
          ],
          [
           226,
           "person_26",
           "in/person_26/1064.jpg",
           7.95428466796875
          ],
          [
           227,
           "person_26",
           "in/person_26/875.jpg",
           6.722951253255208
          ],
          [
           231,
           "person_26",
           "in/person_26/996.jpg",
           6.078725179036458
          ],
          [
           232,
           "person_26",
           "in/person_26/978.jpg",
           5.597719828287761
          ],
          [
           233,
           "person_26",
           "in/person_26/970.jpg",
           7.356564839680989
          ]
         ],
         "hovertemplate": "labels=%{customdata[1]}<br>tx_openvino=%{x}<br>ty_openvino=%{y}<br>index=%{customdata[0]}<br>path=%{customdata[2]}<br>alignment_error=%{customdata[3]}<extra></extra>",
         "legendgroup": "person_26",
         "marker": {
          "color": "#750D86",
          "symbol": "circle"
         },
         "mode": "markers",
         "name": "person_26",
         "orientation": "v",
         "showlegend": true,
         "type": "scatter",
         "x": [
          0.8040589094161987,
          0.7676202654838562,
          0.7776133418083191,
          0.8122637271881104,
          0.8155498504638672,
          0.8068171739578247,
          0.7963790893554688,
          0.7938603758811951,
          0.7954149842262268,
          0.7665005922317505,
          0.7902517318725586,
          0.8107304573059082,
          0.7753418684005737,
          0.791886031627655,
          0.8100979328155518,
          0.8032374978065491,
          0.8118624091148376
         ],
         "xaxis": "x",
         "y": [
          0.5600557923316956,
          0.5554330945014954,
          0.5303832292556763,
          0.5511242747306824,
          0.551282525062561,
          0.5714937448501587,
          0.5365968346595764,
          0.5527023673057556,
          0.5309774279594421,
          0.5561217069625854,
          0.5319399237632751,
          0.5564946532249451,
          0.5273653268814087,
          0.5527027249336243,
          0.5648530125617981,
          0.5548105835914612,
          0.5608452558517456
         ],
         "yaxis": "y"
        },
        {
         "customdata": [
          [
           236,
           "person_34",
           "in/person_34/1371.jpg",
           8.736663818359375
          ],
          [
           237,
           "person_34",
           "in/person_34/1281.jpg",
           4.26190185546875
          ],
          [
           238,
           "person_34",
           "in/person_34/1359.jpg",
           6.079327901204427
          ],
          [
           239,
           "person_34",
           "in/person_34/1322.jpg",
           9.195515950520834
          ],
          [
           241,
           "person_34",
           "in/person_34/1314.jpg",
           7.551816304524739
          ],
          [
           242,
           "person_34",
           "in/person_34/1405.jpg",
           9.974655151367188
          ],
          [
           243,
           "person_34",
           "in/person_34/1334.jpg",
           9.325213114420572
          ],
          [
           244,
           "person_34",
           "in/person_34/1259.jpg",
           6.396942138671875
          ],
          [
           248,
           "person_34",
           "in/person_34/1363.jpg",
           7.0193125406901045
          ],
          [
           249,
           "person_34",
           "in/person_34/1354.jpg",
           5.373875935872396
          ],
          [
           250,
           "person_34",
           "in/person_34/1266.jpg",
           5.558331807454427
          ],
          [
           251,
           "person_34",
           "in/person_34/1308.jpg",
           5.3988087972005205
          ],
          [
           253,
           "person_34",
           "in/person_34/1292.jpg",
           5.056437174479167
          ],
          [
           254,
           "person_34",
           "in/person_34/1286.jpg",
           3.795064290364584
          ],
          [
           259,
           "person_34",
           "in/person_34/1349.jpg",
           5.650825500488281
          ],
          [
           260,
           "person_34",
           "in/person_34/1300.jpg",
           5.4200083414713545
          ],
          [
           261,
           "person_34",
           "in/person_34/1367.jpg",
           7.123972574869792
          ],
          [
           263,
           "person_34",
           "in/person_34/1273.jpg",
           4.589922587076823
          ],
          [
           266,
           "person_34",
           "in/person_34/1338.jpg",
           9.134587605794271
          ],
          [
           267,
           "person_34",
           "in/person_34/1344.jpg",
           7.183570861816406
          ]
         ],
         "hovertemplate": "labels=%{customdata[1]}<br>tx_openvino=%{x}<br>ty_openvino=%{y}<br>index=%{customdata[0]}<br>path=%{customdata[2]}<br>alignment_error=%{customdata[3]}<extra></extra>",
         "legendgroup": "person_34",
         "marker": {
          "color": "#EB663B",
          "symbol": "circle"
         },
         "mode": "markers",
         "name": "person_34",
         "orientation": "v",
         "showlegend": true,
         "type": "scatter",
         "x": [
          0.597959578037262,
          0.5735538601875305,
          0.5896586179733276,
          0.5782020688056946,
          0.5692610740661621,
          0.5814248919487,
          0.5873194336891174,
          0.5832331776618958,
          0.5992127656936646,
          0.5844408273696899,
          0.5813365578651428,
          0.5643308758735657,
          0.5691848993301392,
          0.5670099854469299,
          0.5795817375183105,
          0.5613807439804077,
          0.6005030870437622,
          0.5740737318992615,
          0.5854092240333557,
          0.5785250663757324
         ],
         "xaxis": "x",
         "y": [
          0.3100598454475403,
          0.2964377999305725,
          0.32757630944252014,
          0.3160850703716278,
          0.3131493926048279,
          0.3380258083343506,
          0.3190765082836151,
          0.2920784056186676,
          0.3148531913757324,
          0.32757821679115295,
          0.2950427830219269,
          0.3139638304710388,
          0.30726152658462524,
          0.29883238673210144,
          0.32575371861457825,
          0.31088337302207947,
          0.31348174810409546,
          0.287007212638855,
          0.32000380754470825,
          0.32750454545021057
         ],
         "yaxis": "y"
        },
        {
         "customdata": [
          [
           269,
           "person_5",
           "in/person_5/211.jpg",
           8.651880900065104
          ],
          [
           270,
           "person_5",
           "in/person_5/212.jpg",
           8.951606750488281
          ],
          [
           271,
           "person_5",
           "in/person_5/216.jpg",
           8.336471557617188
          ],
          [
           272,
           "person_5",
           "in/person_5/207.jpg",
           6.993479410807292
          ]
         ],
         "hovertemplate": "labels=%{customdata[1]}<br>tx_openvino=%{x}<br>ty_openvino=%{y}<br>index=%{customdata[0]}<br>path=%{customdata[2]}<br>alignment_error=%{customdata[3]}<extra></extra>",
         "legendgroup": "person_5",
         "marker": {
          "color": "#511CFB",
          "symbol": "circle"
         },
         "mode": "markers",
         "name": "person_5",
         "orientation": "v",
         "showlegend": true,
         "type": "scatter",
         "x": [
          0.38803622126579285,
          0.3879801332950592,
          0.38807597756385803,
          0.3877912163734436
         ],
         "xaxis": "x",
         "y": [
          0.40210071206092834,
          0.40279290080070496,
          0.40235328674316406,
          0.4017411768436432
         ],
         "yaxis": "y"
        },
        {
         "customdata": [
          [
           275,
           "person_2",
           "in/person_2/28.jpg",
           9.103294372558594
          ],
          [
           277,
           "person_2",
           "in/person_2/32.jpg",
           9.471773783365885
          ],
          [
           278,
           "person_2",
           "in/person_2/21.jpg",
           6.505561828613281
          ],
          [
           285,
           "person_2",
           "in/person_2/23.jpg",
           8.44817860921224
          ],
          [
           295,
           "person_2",
           "in/person_2/26.jpg",
           8.295801798502604
          ],
          [
           297,
           "person_2",
           "in/person_2/22.jpg",
           7.288424173990886
          ]
         ],
         "hovertemplate": "labels=%{customdata[1]}<br>tx_openvino=%{x}<br>ty_openvino=%{y}<br>index=%{customdata[0]}<br>path=%{customdata[2]}<br>alignment_error=%{customdata[3]}<extra></extra>",
         "legendgroup": "person_2",
         "marker": {
          "color": "#00A08B",
          "symbol": "circle"
         },
         "mode": "markers",
         "name": "person_2",
         "orientation": "v",
         "showlegend": true,
         "type": "scatter",
         "x": [
          0.42689430713653564,
          0.43297791481018066,
          0.4300631582736969,
          0.4284614026546478,
          0.4275038242340088,
          0.429126501083374
         ],
         "xaxis": "x",
         "y": [
          0.47708746790885925,
          0.4705677330493927,
          0.4794923663139343,
          0.4813911020755768,
          0.4781484007835388,
          0.48155054450035095
         ],
         "yaxis": "y"
        },
        {
         "customdata": [
          [
           300,
           "person_7",
           "in/person_7/245.jpg",
           7.762120564778645
          ]
         ],
         "hovertemplate": "labels=%{customdata[1]}<br>tx_openvino=%{x}<br>ty_openvino=%{y}<br>index=%{customdata[0]}<br>path=%{customdata[2]}<br>alignment_error=%{customdata[3]}<extra></extra>",
         "legendgroup": "person_7",
         "marker": {
          "color": "#FB00D1",
          "symbol": "circle"
         },
         "mode": "markers",
         "name": "person_7",
         "orientation": "v",
         "showlegend": true,
         "type": "scatter",
         "x": [
          0.3866245150566101
         ],
         "xaxis": "x",
         "y": [
          0.39358097314834595
         ],
         "yaxis": "y"
        },
        {
         "customdata": [
          [
           317,
           "person_21",
           "in/person_21/728.jpg",
           8.926961263020834
          ],
          [
           318,
           "person_21",
           "in/person_21/910.jpg",
           4.175994873046875
          ],
          [
           319,
           "person_21",
           "in/person_21/769.jpg",
           3.0789082845052085
          ],
          [
           320,
           "person_21",
           "in/person_21/817.jpg",
           9.214032491048178
          ],
          [
           321,
           "person_21",
           "in/person_21/864.jpg",
           5.940696716308594
          ],
          [
           322,
           "person_21",
           "in/person_21/834.jpg",
           -1.0105260213216145
          ],
          [
           323,
           "person_21",
           "in/person_21/820.jpg",
           0.6153462727864584
          ],
          [
           324,
           "person_21",
           "in/person_21/952.jpg",
           4.455172220865886
          ],
          [
           326,
           "person_21",
           "in/person_21/878.jpg",
           7.097076416015625
          ],
          [
           327,
           "person_21",
           "in/person_21/811.jpg",
           0.9157155354817708
          ],
          [
           328,
           "person_21",
           "in/person_21/891.jpg",
           5.4647979736328125
          ],
          [
           329,
           "person_21",
           "in/person_21/858.jpg",
           6.001055399576823
          ],
          [
           330,
           "person_21",
           "in/person_21/764.jpg",
           5.295595804850261
          ],
          [
           331,
           "person_21",
           "in/person_21/901.jpg",
           4.809173583984375
          ],
          [
           332,
           "person_21",
           "in/person_21/936.jpg",
           2.899688720703125
          ],
          [
           333,
           "person_21",
           "in/person_21/791.jpg",
           1.1337636311848958
          ],
          [
           334,
           "person_21",
           "in/person_21/963.jpg",
           5.80194091796875
          ],
          [
           335,
           "person_21",
           "in/person_21/804.jpg",
           2.440511067708333
          ],
          [
           337,
           "person_21",
           "in/person_21/777.jpg",
           -0.2639541625976562
          ],
          [
           338,
           "person_21",
           "in/person_21/842.jpg",
           3.563191731770833
          ],
          [
           339,
           "person_21",
           "in/person_21/785.jpg",
           0.8552042643229166
          ],
          [
           340,
           "person_21",
           "in/person_21/739.jpg",
           7.731007893880208
          ],
          [
           341,
           "person_21",
           "in/person_21/946.jpg",
           3.4068883260091147
          ],
          [
           343,
           "person_21",
           "in/person_21/972.jpg",
           7.055747985839844
          ],
          [
           344,
           "person_21",
           "in/person_21/925.jpg",
           4.934560139973958
          ],
          [
           345,
           "person_21",
           "in/person_21/755.jpg",
           3.6113382975260415
          ]
         ],
         "hovertemplate": "labels=%{customdata[1]}<br>tx_openvino=%{x}<br>ty_openvino=%{y}<br>index=%{customdata[0]}<br>path=%{customdata[2]}<br>alignment_error=%{customdata[3]}<extra></extra>",
         "legendgroup": "person_21",
         "marker": {
          "color": "#FC0080",
          "symbol": "circle"
         },
         "mode": "markers",
         "name": "person_21",
         "orientation": "v",
         "showlegend": true,
         "type": "scatter",
         "x": [
          0.4751412272453308,
          0.4841209948062897,
          0.48738616704940796,
          0.45791903138160706,
          0.47244149446487427,
          0.5009940266609192,
          0.49863725900650024,
          0.46581289172172546,
          0.4651912450790405,
          0.4988647997379303,
          0.4728417992591858,
          0.4737427234649658,
          0.48534026741981506,
          0.48462459444999695,
          0.48163846135139465,
          0.5011264085769653,
          0.4644017815589905,
          0.4993325173854828,
          0.4948307275772095,
          0.48958659172058105,
          0.49238312244415283,
          0.4730648994445801,
          0.47812196612358093,
          0.46014416217803955,
          0.4846908748149872,
          0.48668569326400757
         ],
         "xaxis": "x",
         "y": [
          0.6405379176139832,
          0.7156196236610413,
          0.6618596315383911,
          0.6538940668106079,
          0.6915191411972046,
          0.6731449365615845,
          0.6699921488761902,
          0.7127982378005981,
          0.6960931420326233,
          0.6585885882377625,
          0.7027128338813782,
          0.6844560503959656,
          0.6504989862442017,
          0.7164498567581177,
          0.7082781195640564,
          0.6566097140312195,
          0.7105083465576172,
          0.666279673576355,
          0.6580868363380432,
          0.684079110622406,
          0.665107786655426,
          0.6440384387969971,
          0.7090023756027222,
          0.7063508629798889,
          0.7084435820579529,
          0.6515969038009644
         ],
         "yaxis": "y"
        },
        {
         "customdata": [
          [
           347,
           "person_8",
           "in/person_8/265.jpg",
           8.554946899414062
          ],
          [
           349,
           "person_8",
           "in/person_8/277.jpg",
           7.011482238769531
          ],
          [
           350,
           "person_8",
           "in/person_8/252.jpg",
           8.870254516601562
          ],
          [
           351,
           "person_8",
           "in/person_8/267.jpg",
           5.24346923828125
          ],
          [
           352,
           "person_8",
           "in/person_8/270.jpg",
           3.798426310221354
          ],
          [
           355,
           "person_8",
           "in/person_8/273.jpg",
           5.165362040201823
          ],
          [
           359,
           "person_8",
           "in/person_8/262.jpg",
           8.489095052083334
          ],
          [
           360,
           "person_8",
           "in/person_8/259.jpg",
           7.566782633463542
          ],
          [
           361,
           "person_8",
           "in/person_8/255.jpg",
           8.305608113606771
          ]
         ],
         "hovertemplate": "labels=%{customdata[1]}<br>tx_openvino=%{x}<br>ty_openvino=%{y}<br>index=%{customdata[0]}<br>path=%{customdata[2]}<br>alignment_error=%{customdata[3]}<extra></extra>",
         "legendgroup": "person_8",
         "marker": {
          "color": "#B2828D",
          "symbol": "circle"
         },
         "mode": "markers",
         "name": "person_8",
         "orientation": "v",
         "showlegend": true,
         "type": "scatter",
         "x": [
          0.4963383674621582,
          0.5115350484848022,
          0.49701768159866333,
          0.5021962523460388,
          0.5064592361450195,
          0.5081217288970947,
          0.4961397349834442,
          0.49399635195732117,
          0.4961808919906616
         ],
         "xaxis": "x",
         "y": [
          0.22147078812122345,
          0.22975954413414001,
          0.21535751223564148,
          0.22613480687141418,
          0.22689713537693024,
          0.22782795131206512,
          0.2221965342760086,
          0.21995806694030762,
          0.2175208479166031
         ],
         "yaxis": "y"
        },
        {
         "customdata": [
          [
           362,
           "person_29",
           "in/person_29/1180.jpg",
           5.452832539876302
          ],
          [
           363,
           "person_29",
           "in/person_29/1105.jpg",
           2.9317143758138022
          ],
          [
           364,
           "person_29",
           "in/person_29/1120.jpg",
           2.1293004353841147
          ],
          [
           365,
           "person_29",
           "in/person_29/1033.jpg",
           -0.5017038981119791
          ],
          [
           366,
           "person_29",
           "in/person_29/1043.jpg",
           0.2305246988932291
          ],
          [
           367,
           "person_29",
           "in/person_29/1227.jpg",
           9.33666737874349
          ],
          [
           368,
           "person_29",
           "in/person_29/984.jpg",
           5.3167877197265625
          ],
          [
           369,
           "person_29",
           "in/person_29/939.jpg",
           1.760698954264323
          ],
          [
           370,
           "person_29",
           "in/person_29/1168.jpg",
           4.191314697265625
          ],
          [
           372,
           "person_29",
           "in/person_29/1218.jpg",
           9.654637654622396
          ],
          [
           375,
           "person_29",
           "in/person_29/1056.jpg",
           1.5731735229492188
          ],
          [
           377,
           "person_29",
           "in/person_29/1023.jpg",
           0.7125015258789062
          ],
          [
           381,
           "person_29",
           "in/person_29/1132.jpg",
           2.8986638387044272
          ],
          [
           383,
           "person_29",
           "in/person_29/1197.jpg",
           9.397610982259115
          ],
          [
           384,
           "person_29",
           "in/person_29/929.jpg",
           0.9814732869466146
          ],
          [
           385,
           "person_29",
           "in/person_29/1081.jpg",
           4.769864400227864
          ],
          [
           386,
           "person_29",
           "in/person_29/1093.jpg",
           2.685287475585937
          ],
          [
           387,
           "person_29",
           "in/person_29/1001.jpg",
           2.5648396809895835
          ],
          [
           388,
           "person_29",
           "in/person_29/1068.jpg",
           1.9779917399088545
          ],
          [
           389,
           "person_29",
           "in/person_29/975.jpg",
           4.777697245279948
          ],
          [
           390,
           "person_29",
           "in/person_29/1145.jpg",
           2.8268051147460938
          ],
          [
           391,
           "person_29",
           "in/person_29/1012.jpg",
           1.3996531168619792
          ],
          [
           392,
           "person_29",
           "in/person_29/991.jpg",
           3.698163350423177
          ],
          [
           393,
           "person_29",
           "in/person_29/1158.jpg",
           4.073455810546875
          ],
          [
           394,
           "person_29",
           "in/person_29/1189.jpg",
           8.402788798014322
          ],
          [
           395,
           "person_29",
           "in/person_29/955.jpg",
           3.7226664225260415
          ],
          [
           397,
           "person_29",
           "in/person_29/965.jpg",
           3.925346374511719
          ],
          [
           398,
           "person_29",
           "in/person_29/1209.jpg",
           9.110847473144531
          ]
         ],
         "hovertemplate": "labels=%{customdata[1]}<br>tx_openvino=%{x}<br>ty_openvino=%{y}<br>index=%{customdata[0]}<br>path=%{customdata[2]}<br>alignment_error=%{customdata[3]}<extra></extra>",
         "legendgroup": "person_29",
         "marker": {
          "color": "#6C7C32",
          "symbol": "circle"
         },
         "mode": "markers",
         "name": "person_29",
         "orientation": "v",
         "showlegend": true,
         "type": "scatter",
         "x": [
          0.9737603664398193,
          0.9819403290748596,
          0.9854815602302551,
          0.990754246711731,
          1,
          0.9546799659729004,
          0.9631407260894775,
          0.9865124225616455,
          0.9826686382293701,
          0.9553144574165344,
          0.9933532476425171,
          0.9833692908287048,
          0.9962677955627441,
          0.9560675621032715,
          0.9824175834655762,
          0.9769399166107178,
          0.9850229024887085,
          0.9769724607467651,
          0.9987019896507263,
          0.9686713814735413,
          0.9898098707199097,
          0.979793131351471,
          0.9669740796089172,
          0.9956780076026917,
          0.9632824659347534,
          0.9792320132255554,
          0.9687674045562744,
          0.9605841636657715
         ],
         "xaxis": "x",
         "y": [
          0.1855151206254959,
          0.1745561808347702,
          0.17642904818058014,
          0.1590123027563095,
          0.16595841944217682,
          0.192635640501976,
          0.15374676883220673,
          0.14296771585941315,
          0.18871715664863586,
          0.19445128738880157,
          0.15904684364795685,
          0.1535140722990036,
          0.17795222997665405,
          0.18327149748802185,
          0.12897267937660217,
          0.17260527610778809,
          0.1785169392824173,
          0.156754270195961,
          0.1552741527557373,
          0.146368145942688,
          0.18685606122016907,
          0.15909230709075928,
          0.15563754737377167,
          0.18101154267787933,
          0.18192097544670105,
          0.14078077673912048,
          0.14347217977046967,
          0.19070680439472198
         ],
         "yaxis": "y"
        },
        {
         "customdata": [
          [
           401,
           "person_13",
           "in/person_13/1015.jpg",
           5.016054789225261
          ],
          [
           403,
           "person_13",
           "in/person_13/765.jpg",
           2.059595743815104
          ],
          [
           406,
           "person_13",
           "in/person_13/582.jpg",
           8.144091288248697
          ],
          [
           407,
           "person_13",
           "in/person_13/492.jpg",
           6.959526062011719
          ],
          [
           408,
           "person_13",
           "in/person_13/719.jpg",
           4.761594136555989
          ],
          [
           411,
           "person_13",
           "in/person_13/1036.jpg",
           7.8188832600911455
          ],
          [
           412,
           "person_13",
           "in/person_13/896.jpg",
           3.0449142456054688
          ],
          [
           413,
           "person_13",
           "in/person_13/524.jpg",
           9.009674072265623
          ],
          [
           414,
           "person_13",
           "in/person_13/737.jpg",
           1.931592305501302
          ],
          [
           415,
           "person_13",
           "in/person_13/816.jpg",
           2.8891016642252603
          ],
          [
           416,
           "person_13",
           "in/person_13/744.jpg",
           0.917205810546875
          ],
          [
           417,
           "person_13",
           "in/person_13/773.jpg",
           2.892176310221354
          ],
          [
           418,
           "person_13",
           "in/person_13/497.jpg",
           8.969713846842447
          ],
          [
           421,
           "person_13",
           "in/person_13/520.jpg",
           8.686965942382812
          ],
          [
           422,
           "person_13",
           "in/person_13/957.jpg",
           7.749203999837239
          ],
          [
           423,
           "person_13",
           "in/person_13/729.jpg",
           1.4166285196940105
          ],
          [
           424,
           "person_13",
           "in/person_13/502.jpg",
           9.522905985514322
          ],
          [
           425,
           "person_13",
           "in/person_13/536.jpg",
           8.584111531575521
          ],
          [
           426,
           "person_13",
           "in/person_13/746.jpg",
           9.809679667154947
          ],
          [
           427,
           "person_13",
           "in/person_13/966.jpg",
           7.0526275634765625
          ],
          [
           428,
           "person_13",
           "in/person_13/465.jpg",
           8.207402547200521
          ],
          [
           431,
           "person_13",
           "in/person_13/733.jpg",
           9.660741170247396
          ],
          [
           432,
           "person_13",
           "in/person_13/1059.jpg",
           7.801236470540364
          ],
          [
           433,
           "person_13",
           "in/person_13/727.jpg",
           8.694844563802084
          ],
          [
           435,
           "person_13",
           "in/person_13/850.jpg",
           3.7810160319010415
          ],
          [
           436,
           "person_13",
           "in/person_13/1005.jpg",
           6.465189615885417
          ],
          [
           438,
           "person_13",
           "in/person_13/741.jpg",
           9.092882792154947
          ],
          [
           439,
           "person_13",
           "in/person_13/506.jpg",
           9.35491689046224
          ],
          [
           440,
           "person_13",
           "in/person_13/464.jpg",
           5.715667724609375
          ],
          [
           441,
           "person_13",
           "in/person_13/797.jpg",
           1.6646804809570312
          ],
          [
           443,
           "person_13",
           "in/person_13/507.jpg",
           9.082626342773438
          ],
          [
           444,
           "person_13",
           "in/person_13/1050.jpg",
           8.16167958577474
          ],
          [
           450,
           "person_13",
           "in/person_13/751.jpg",
           9.379475911458334
          ],
          [
           451,
           "person_13",
           "in/person_13/781.jpg",
           3.410265604654948
          ],
          [
           452,
           "person_13",
           "in/person_13/932.jpg",
           4.501035054524739
          ],
          [
           453,
           "person_13",
           "in/person_13/501.jpg",
           8.771255493164062
          ],
          [
           454,
           "person_13",
           "in/person_13/562.jpg",
           8.142468770345053
          ],
          [
           456,
           "person_13",
           "in/person_13/489.jpg",
           9.962677001953123
          ],
          [
           458,
           "person_13",
           "in/person_13/543.jpg",
           8.074267069498697
          ],
          [
           459,
           "person_13",
           "in/person_13/723.jpg",
           1.1706186930338542
          ],
          [
           460,
           "person_13",
           "in/person_13/522.jpg",
           9.60522206624349
          ],
          [
           461,
           "person_13",
           "in/person_13/747.jpg",
           0.5605417887369791
          ],
          [
           462,
           "person_13",
           "in/person_13/986.jpg",
           8.133374532063803
          ],
          [
           464,
           "person_13",
           "in/person_13/995.jpg",
           7.500686645507812
          ],
          [
           465,
           "person_13",
           "in/person_13/532.jpg",
           8.633956909179688
          ],
          [
           466,
           "person_13",
           "in/person_13/554.jpg",
           8.924575805664062
          ],
          [
           467,
           "person_13",
           "in/person_13/571.jpg",
           9.000134785970053
          ],
          [
           469,
           "person_13",
           "in/person_13/561.jpg",
           9.598416646321615
          ],
          [
           470,
           "person_13",
           "in/person_13/885.jpg",
           2.531219482421875
          ],
          [
           471,
           "person_13",
           "in/person_13/827.jpg",
           3.1582361857096357
          ],
          [
           472,
           "person_13",
           "in/person_13/789.jpg",
           3.262242635091146
          ],
          [
           473,
           "person_13",
           "in/person_13/839.jpg",
           3.8326517740885415
          ],
          [
           475,
           "person_13",
           "in/person_13/547.jpg",
           9.827438354492188
          ],
          [
           479,
           "person_13",
           "in/person_13/859.jpg",
           4.500048319498698
          ],
          [
           480,
           "person_13",
           "in/person_13/977.jpg",
           7.077313741048177
          ],
          [
           483,
           "person_13",
           "in/person_13/1025.jpg",
           6.483896891276042
          ],
          [
           485,
           "person_13",
           "in/person_13/949.jpg",
           7.2184702555338545
          ],
          [
           486,
           "person_13",
           "in/person_13/482.jpg",
           5.4313405354817705
          ],
          [
           488,
           "person_13",
           "in/person_13/870.jpg",
           3.3750228881835938
          ],
          [
           490,
           "person_13",
           "in/person_13/576.jpg",
           8.623181660970053
          ],
          [
           491,
           "person_13",
           "in/person_13/469.jpg",
           6.2530670166015625
          ],
          [
           492,
           "person_13",
           "in/person_13/753.jpg",
           -0.1659062703450521
          ],
          [
           493,
           "person_13",
           "in/person_13/919.jpg",
           2.9658991495768228
          ],
          [
           495,
           "person_13",
           "in/person_13/909.jpg",
           2.537572224934896
          ],
          [
           496,
           "person_13",
           "in/person_13/549.jpg",
           8.379536946614584
          ],
          [
           497,
           "person_13",
           "in/person_13/762.jpg",
           0.992431640625
          ],
          [
           499,
           "person_13",
           "in/person_13/485.jpg",
           5.806541442871094
          ],
          [
           500,
           "person_13",
           "in/person_13/475.jpg",
           6.883959452311198
          ],
          [
           502,
           "person_13",
           "in/person_13/514.jpg",
           9.238911946614584
          ],
          [
           503,
           "person_13",
           "in/person_13/557.jpg",
           7.9912160237630205
          ],
          [
           504,
           "person_13",
           "in/person_13/941.jpg",
           6.149955749511719
          ]
         ],
         "hovertemplate": "labels=%{customdata[1]}<br>tx_openvino=%{x}<br>ty_openvino=%{y}<br>index=%{customdata[0]}<br>path=%{customdata[2]}<br>alignment_error=%{customdata[3]}<extra></extra>",
         "legendgroup": "person_13",
         "marker": {
          "color": "#778AAE",
          "symbol": "circle"
         },
         "mode": "markers",
         "name": "person_13",
         "orientation": "v",
         "showlegend": true,
         "type": "scatter",
         "x": [
          0.28512758016586304,
          0.24478691816329956,
          0.5629765391349792,
          0.6133940815925598,
          0.3114180564880371,
          0.30044683814048767,
          0.26831352710723877,
          0.5696747899055481,
          0.29542940855026245,
          0.2545793652534485,
          0.29549822211265564,
          0.24103912711143494,
          0.6117870807647705,
          0.5689354538917542,
          0.276395708322525,
          0.3033175766468048,
          0.5510345697402954,
          0.5688157081604004,
          0.35337305068969727,
          0.27710914611816406,
          0.5588679909706116,
          0.3505735993385315,
          0.30465734004974365,
          0.3490029573440552,
          0.2544792890548706,
          0.27905866503715515,
          0.34982046484947205,
          0.6096580624580383,
          0.5917962789535522,
          0.25643807649612427,
          0.5549138188362122,
          0.3055691421031952,
          0.35310477018356323,
          0.25577691197395325,
          0.2775399386882782,
          0.6076381206512451,
          0.5814643502235413,
          0.5550658106803894,
          0.5725866556167603,
          0.3097105324268341,
          0.6073728799819946,
          0.2519717812538147,
          0.27407607436180115,
          0.2764257490634918,
          0.5791417360305786,
          0.6246067881584167,
          0.5675392746925354,
          0.6220759749412537,
          0.2675497233867645,
          0.24531568586826324,
          0.2404777854681015,
          0.24763907492160797,
          0.6228644847869873,
          0.2515678107738495,
          0.2750530540943146,
          0.2980283498764038,
          0.27189937233924866,
          0.6043251156806946,
          0.2664032280445099,
          0.5653238892555237,
          0.5960404872894287,
          0.24749229848384857,
          0.2784343659877777,
          0.2737846374511719,
          0.5748907923698425,
          0.25256961584091187,
          0.6130067110061646,
          0.6014186143875122,
          0.5702659487724304,
          0.5838003158569336,
          0.28126806020736694
         ],
         "xaxis": "x",
         "y": [
          0.5818060636520386,
          0.543877124786377,
          0.5737163424491882,
          0.6506600975990295,
          0.5450840592384338,
          0.5970299243927002,
          0.596102237701416,
          0.6029471158981323,
          0.560411274433136,
          0.5795097351074219,
          0.5600402355194092,
          0.5588547587394714,
          0.6455296874046326,
          0.6023714542388916,
          0.5594414472579956,
          0.5556237101554871,
          0.6014668345451355,
          0.5916439890861511,
          0.5325997471809387,
          0.5687418580055237,
          0.6135004162788391,
          0.5350531339645386,
          0.6013038158416748,
          0.5358006954193115,
          0.5884020924568176,
          0.5800183415412903,
          0.5350812077522278,
          0.6339476704597473,
          0.6532489061355591,
          0.567066490650177,
          0.6020295023918152,
          0.5976295471191406,
          0.5332404971122742,
          0.5590174794197083,
          0.5418078899383545,
          0.6341226696968079,
          0.5868026614189148,
          0.5990006923675537,
          0.5921834111213684,
          0.5455650091171265,
          0.6332917809486389,
          0.5401309132575989,
          0.5778917074203491,
          0.577261209487915,
          0.6047253608703613,
          0.6429821252822876,
          0.5789327025413513,
          0.638171911239624,
          0.5925650596618652,
          0.5821883678436279,
          0.5635839104652405,
          0.585057258605957,
          0.6336020231246948,
          0.5913853049278259,
          0.5709368586540222,
          0.5875929594039917,
          0.5573163032531738,
          0.6535528302192688,
          0.5943341255187988,
          0.5744139552116394,
          0.6511742472648621,
          0.5402851700782776,
          0.5412259697914124,
          0.5363908410072327,
          0.5921452641487122,
          0.5444777011871338,
          0.6520386338233948,
          0.6465967893600464,
          0.6083517074584961,
          0.5867279767990112,
          0.5425052046775818
         ],
         "yaxis": "y"
        },
        {
         "customdata": [
          [
           515,
           "person_10",
           "in/person_10/940.jpg",
           8.462898254394531
          ]
         ],
         "hovertemplate": "labels=%{customdata[1]}<br>tx_openvino=%{x}<br>ty_openvino=%{y}<br>index=%{customdata[0]}<br>path=%{customdata[2]}<br>alignment_error=%{customdata[3]}<extra></extra>",
         "legendgroup": "person_10",
         "marker": {
          "color": "#862A16",
          "symbol": "circle"
         },
         "mode": "markers",
         "name": "person_10",
         "orientation": "v",
         "showlegend": true,
         "type": "scatter",
         "x": [
          0.4262986183166504
         ],
         "xaxis": "x",
         "y": [
          0.46729108691215515
         ],
         "yaxis": "y"
        },
        {
         "customdata": [
          [
           535,
           "person_23",
           "in/person_23/934.jpg",
           5.426490783691406
          ],
          [
           536,
           "person_23",
           "in/person_23/953.jpg",
           8.161552429199219
          ],
          [
           538,
           "person_23",
           "in/person_23/867.jpg",
           3.936503092447917
          ],
          [
           540,
           "person_23",
           "in/person_23/945.jpg",
           8.00457763671875
          ],
          [
           541,
           "person_23",
           "in/person_23/912.jpg",
           4.2016042073567705
          ],
          [
           545,
           "person_23",
           "in/person_23/890.jpg",
           5.5318756103515625
          ],
          [
           547,
           "person_23",
           "in/person_23/1035.jpg",
           8.954485575358072
          ],
          [
           548,
           "person_23",
           "in/person_23/923.jpg",
           4.550191243489583
          ],
          [
           549,
           "person_23",
           "in/person_23/1011.jpg",
           9.135826110839844
          ],
          [
           553,
           "person_23",
           "in/person_23/971.jpg",
           9.530662536621094
          ],
          [
           555,
           "person_23",
           "in/person_23/880.jpg",
           5.290659586588542
          ],
          [
           557,
           "person_23",
           "in/person_23/1057.jpg",
           9.838699340820312
          ],
          [
           560,
           "person_23",
           "in/person_23/992.jpg",
           8.999972025553385
          ],
          [
           561,
           "person_23",
           "in/person_23/835.jpg",
           6.60821533203125
          ],
          [
           563,
           "person_23",
           "in/person_23/825.jpg",
           7.500867207845052
          ],
          [
           565,
           "person_23",
           "in/person_23/855.jpg",
           4.2118174235026045
          ],
          [
           568,
           "person_23",
           "in/person_23/1002.jpg",
           9.290133158365885
          ],
          [
           571,
           "person_23",
           "in/person_23/1044.jpg",
           8.531486511230469
          ],
          [
           573,
           "person_23",
           "in/person_23/845.jpg",
           3.9352798461914062
          ],
          [
           574,
           "person_23",
           "in/person_23/981.jpg",
           8.186408996582031
          ],
          [
           576,
           "person_23",
           "in/person_23/961.jpg",
           8.66211191813151
          ],
          [
           577,
           "person_23",
           "in/person_23/905.jpg",
           3.414342244466146
          ],
          [
           580,
           "person_23",
           "in/person_23/1022.jpg",
           8.879099527994791
          ]
         ],
         "hovertemplate": "labels=%{customdata[1]}<br>tx_openvino=%{x}<br>ty_openvino=%{y}<br>index=%{customdata[0]}<br>path=%{customdata[2]}<br>alignment_error=%{customdata[3]}<extra></extra>",
         "legendgroup": "person_23",
         "marker": {
          "color": "#A777F1",
          "symbol": "circle"
         },
         "mode": "markers",
         "name": "person_23",
         "orientation": "v",
         "showlegend": true,
         "type": "scatter",
         "x": [
          0.7525224685668945,
          0.750118613243103,
          0.7276613116264343,
          0.7620060443878174,
          0.7445156574249268,
          0.7236232757568359,
          0.7521165609359741,
          0.7524575591087341,
          0.7555047273635864,
          0.7470457553863525,
          0.7306396961212158,
          0.7473003268241882,
          0.7645986080169678,
          0.7230278253555298,
          0.7252435088157654,
          0.7244855761528015,
          0.7646645307540894,
          0.7549996972084045,
          0.7217487096786499,
          0.7624187469482422,
          0.7466709613800049,
          0.748284101486206,
          0.7532394528388977
         ],
         "xaxis": "x",
         "y": [
          0.35431382060050964,
          0.3608798682689667,
          0.36794108152389526,
          0.35848310589790344,
          0.353031724691391,
          0.35729047656059265,
          0.3816612660884857,
          0.3508799076080322,
          0.3847792148590088,
          0.37401536107063293,
          0.3673389256000519,
          0.3819892406463623,
          0.37922537326812744,
          0.3725605607032776,
          0.3851436674594879,
          0.3626968562602997,
          0.38100001215934753,
          0.3746611475944519,
          0.3713645339012146,
          0.36741557717323303,
          0.366630882024765,
          0.3450333774089813,
          0.3874075710773468
         ],
         "yaxis": "y"
        },
        {
         "customdata": [
          [
           582,
           "person_17",
           "in/person_17/596.jpg",
           9.462023417154947
          ],
          [
           592,
           "person_17",
           "in/person_17/603.jpg",
           9.59959920247396
          ],
          [
           596,
           "person_17",
           "in/person_17/552.jpg",
           5.055521647135417
          ],
          [
           597,
           "person_17",
           "in/person_17/588.jpg",
           7.616297403971354
          ]
         ],
         "hovertemplate": "labels=%{customdata[1]}<br>tx_openvino=%{x}<br>ty_openvino=%{y}<br>index=%{customdata[0]}<br>path=%{customdata[2]}<br>alignment_error=%{customdata[3]}<extra></extra>",
         "legendgroup": "person_17",
         "marker": {
          "color": "#620042",
          "symbol": "circle"
         },
         "mode": "markers",
         "name": "person_17",
         "orientation": "v",
         "showlegend": true,
         "type": "scatter",
         "x": [
          0.5526355504989624,
          0.5539727807044983,
          0.4605292081832886,
          0.5487099289894104
         ],
         "xaxis": "x",
         "y": [
          0.5828354358673096,
          0.5840218663215637,
          0.6450716853141785,
          0.5814107060432434
         ],
         "yaxis": "y"
        },
        {
         "customdata": [
          [
           600,
           "person_36",
           "in/person_36/1375.jpg",
           7.858640034993489
          ],
          [
           601,
           "person_36",
           "in/person_36/1394.jpg",
           9.547103881835938
          ],
          [
           603,
           "person_36",
           "in/person_36/1410.jpg",
           6.77520751953125
          ],
          [
           605,
           "person_36",
           "in/person_36/1406.jpg",
           8.980443318684896
          ],
          [
           607,
           "person_36",
           "in/person_36/1373.jpg",
           7.731529235839844
          ],
          [
           608,
           "person_36",
           "in/person_36/1379.jpg",
           5.3853302001953125
          ],
          [
           609,
           "person_36",
           "in/person_36/1388.jpg",
           7.505236307779948
          ],
          [
           610,
           "person_36",
           "in/person_36/1398.jpg",
           9.234222412109377
          ]
         ],
         "hovertemplate": "labels=%{customdata[1]}<br>tx_openvino=%{x}<br>ty_openvino=%{y}<br>index=%{customdata[0]}<br>path=%{customdata[2]}<br>alignment_error=%{customdata[3]}<extra></extra>",
         "legendgroup": "person_36",
         "marker": {
          "color": "#1616A7",
          "symbol": "circle"
         },
         "mode": "markers",
         "name": "person_36",
         "orientation": "v",
         "showlegend": true,
         "type": "scatter",
         "x": [
          0.46182703971862793,
          0.4815466105937958,
          0.4810146689414978,
          0.4817350506782532,
          0.4564667344093323,
          0.4627586603164673,
          0.48150771856307983,
          0.48251479864120483
         ],
         "xaxis": "x",
         "y": [
          0.5579891800880432,
          0.5586874485015869,
          0.546042799949646,
          0.5466508269309998,
          0.5595785975456238,
          0.557732105255127,
          0.5572869777679443,
          0.5571829676628113
         ],
         "yaxis": "y"
        },
        {
         "customdata": [
          [
           611,
           "person_38",
           "in/person_38/1407.jpg",
           8.35345713297526
          ],
          [
           612,
           "person_38",
           "in/person_38/1400.jpg",
           8.732823689778646
          ],
          [
           613,
           "person_38",
           "in/person_38/1411.jpg",
           8.774391174316406
          ]
         ],
         "hovertemplate": "labels=%{customdata[1]}<br>tx_openvino=%{x}<br>ty_openvino=%{y}<br>index=%{customdata[0]}<br>path=%{customdata[2]}<br>alignment_error=%{customdata[3]}<extra></extra>",
         "legendgroup": "person_38",
         "marker": {
          "color": "#DA60CA",
          "symbol": "circle"
         },
         "mode": "markers",
         "name": "person_38",
         "orientation": "v",
         "showlegend": true,
         "type": "scatter",
         "x": [
          0.6761442422866821,
          0.6763744354248047,
          0.676228940486908
         ],
         "xaxis": "x",
         "y": [
          0.40611353516578674,
          0.40538546442985535,
          0.405444860458374
         ],
         "yaxis": "y"
        },
        {
         "customdata": [
          [
           646,
           "person_0",
           "in/person_0/677.jpg",
           3.71514638264974
          ],
          [
           648,
           "person_0",
           "in/person_0/1038.jpg",
           9.510848999023438
          ],
          [
           649,
           "person_0",
           "in/person_0/807.jpg",
           5.15331522623698
          ],
          [
           651,
           "person_0",
           "in/person_0/563.jpg",
           9.546666463216146
          ],
          [
           652,
           "person_0",
           "in/person_0/82.jpg",
           9.88678232828776
          ],
          [
           653,
           "person_0",
           "in/person_0/1280.jpg",
           2.4331537882486978
          ],
          [
           654,
           "person_0",
           "in/person_0/735.jpg",
           6.432144165039063
          ],
          [
           663,
           "person_0",
           "in/person_0/487.jpg",
           9.075271606445312
          ],
          [
           666,
           "person_0",
           "in/person_0/766.jpg",
           5.702812194824219
          ],
          [
           668,
           "person_0",
           "in/person_0/860.jpg",
           9.855636596679688
          ],
          [
           684,
           "person_0",
           "in/person_0/668.jpg",
           3.074989318847656
          ],
          [
           691,
           "person_0",
           "in/person_0/724.jpg",
           5.668037414550781
          ],
          [
           694,
           "person_0",
           "in/person_0/692.jpg",
           4.110939025878906
          ],
          [
           695,
           "person_0",
           "in/person_0/798.jpg",
           4.659576416015625
          ],
          [
           701,
           "person_0",
           "in/person_0/689.jpg",
           2.977307637532552
          ],
          [
           711,
           "person_0",
           "in/person_0/535.jpg",
           8.971468607584635
          ],
          [
           718,
           "person_0",
           "in/person_0/503.jpg",
           7.0034739176432295
          ],
          [
           721,
           "person_0",
           "in/person_0/658.jpg",
           5.600997924804688
          ],
          [
           722,
           "person_0",
           "in/person_0/718.jpg",
           6.183443705240886
          ],
          [
           728,
           "person_0",
           "in/person_0/493.jpg",
           8.22973378499349
          ],
          [
           729,
           "person_0",
           "in/person_0/1302.jpg",
           9.85620625813802
          ],
          [
           730,
           "person_0",
           "in/person_0/748.jpg",
           7.490203857421875
          ],
          [
           731,
           "person_0",
           "in/person_0/498.jpg",
           7.570607503255208
          ],
          [
           736,
           "person_0",
           "in/person_0/525.jpg",
           9.518043518066406
          ],
          [
           737,
           "person_0",
           "in/person_0/518.jpg",
           7.1464385986328125
          ],
          [
           740,
           "person_0",
           "in/person_0/1287.jpg",
           2.319086710611979
          ],
          [
           741,
           "person_0",
           "in/person_0/752.jpg",
           6.187464396158855
          ],
          [
           743,
           "person_0",
           "in/person_0/513.jpg",
           7.315330505371094
          ],
          [
           747,
           "person_0",
           "in/person_0/780.jpg",
           6.068066914876302
          ],
          [
           749,
           "person_0",
           "in/person_0/694.jpg",
           6.431109110514323
          ],
          [
           752,
           "person_0",
           "in/person_0/790.jpg",
           5.996648152669271
          ],
          [
           759,
           "person_0",
           "in/person_0/529.jpg",
           9.075632731119793
          ],
          [
           768,
           "person_0",
           "in/person_0/1295.jpg",
           3.288398742675781
          ],
          [
           772,
           "person_0",
           "in/person_0/1275.jpg",
           4.514714558919271
          ],
          [
           779,
           "person_0",
           "in/person_0/772.jpg",
           4.840240478515625
          ],
          [
           782,
           "person_0",
           "in/person_0/684.jpg",
           3.00884755452474
          ],
          [
           783,
           "person_0",
           "in/person_0/679.jpg",
           4.3601938883463545
          ],
          [
           784,
           "person_0",
           "in/person_0/710.jpg",
           9.681048075358072
          ],
          [
           785,
           "person_0",
           "in/person_0/92.jpg",
           8.714129130045572
          ],
          [
           788,
           "person_0",
           "in/person_0/85.jpg",
           9.836563110351562
          ],
          [
           791,
           "person_0",
           "in/person_0/760.jpg",
           5.654894510904948
          ],
          [
           792,
           "person_0",
           "in/person_0/509.jpg",
           7.260714213053386
          ],
          [
           794,
           "person_0",
           "in/person_0/712.jpg",
           8.86041514078776
          ],
          [
           798,
           "person_0",
           "in/person_0/672.jpg",
           3.350532531738281
          ],
          [
           799,
           "person_0",
           "in/person_0/95.jpg",
           8.856267293294271
          ],
          [
           802,
           "person_0",
           "in/person_0/714.jpg",
           6.6727549235026045
          ],
          [
           811,
           "person_0",
           "in/person_0/89.jpg",
           9.55700174967448
          ],
          [
           814,
           "person_0",
           "in/person_0/742.jpg",
           7.175610860188802
          ],
          [
           815,
           "person_0",
           "in/person_0/663.jpg",
           3.9444656372070312
          ],
          [
           817,
           "person_0",
           "in/person_0/815.jpg",
           8.061757405598959
          ],
          [
           823,
           "person_0",
           "in/person_0/730.jpg",
           5.915008544921875
          ],
          [
           824,
           "person_0",
           "in/person_0/1399.jpg",
           4.39892069498698
          ]
         ],
         "hovertemplate": "labels=%{customdata[1]}<br>tx_openvino=%{x}<br>ty_openvino=%{y}<br>index=%{customdata[0]}<br>path=%{customdata[2]}<br>alignment_error=%{customdata[3]}<extra></extra>",
         "legendgroup": "person_0",
         "marker": {
          "color": "#6C4516",
          "symbol": "circle"
         },
         "mode": "markers",
         "name": "person_0",
         "orientation": "v",
         "showlegend": true,
         "type": "scatter",
         "x": [
          0.04746675491333008,
          0.04666030779480934,
          0.003247958142310381,
          0.0716606006026268,
          0.07911644876003265,
          0.11806521564722061,
          0.04354013502597809,
          0.10089727491140366,
          0,
          0.022837787866592407,
          0.05013613775372505,
          0.0526261031627655,
          0.07271354645490646,
          0.002885531634092331,
          0.07294344156980515,
          0.0749039426445961,
          0.09700535237789154,
          0.057392071932554245,
          0.0588158443570137,
          0.1012147068977356,
          0.09985216706991196,
          0.015265417285263538,
          0.09706711769104004,
          0.08132889866828918,
          0.08821383863687515,
          0.11606253683567047,
          0.013595943339169025,
          0.09085210412740707,
          0.0007243217551149428,
          0.07279092073440552,
          0.002162139629945159,
          0.07912909984588623,
          0.11296520382165909,
          0.12121089547872543,
          0.0002962108119390905,
          0.07190321385860443,
          0.04845796525478363,
          0.06791224330663681,
          0.07437285780906677,
          0.07456715404987335,
          0.01256073359400034,
          0.09392140805721283,
          0.06744430959224701,
          0.04842850938439369,
          0.07088032364845276,
          0.06604059785604477,
          0.07643338292837143,
          0.03566833212971687,
          0.0545387864112854,
          0.01763470470905304,
          0.05181776359677315,
          0.08604834228754044
         ],
         "xaxis": "x",
         "y": [
          0.23495718836784363,
          0.2810545861721039,
          0.2599520683288574,
          0.2715012729167938,
          0.294283926486969,
          0.2139650583267212,
          0.20566639304161072,
          0.272243469953537,
          0.24323435127735138,
          0.2653741240501404,
          0.24058064818382263,
          0.20669467747211456,
          0.22193871438503265,
          0.25867247581481934,
          0.22289885580539703,
          0.26999327540397644,
          0.2642331123352051,
          0.2518311142921448,
          0.1981431394815445,
          0.2700965702533722,
          0.23505942523479462,
          0.2311503142118454,
          0.2672644257545471,
          0.2646772265434265,
          0.2601519525051117,
          0.215173602104187,
          0.23530364036560059,
          0.2644824981689453,
          0.25177672505378723,
          0.22094851732254028,
          0.2555259168148041,
          0.2642059028148651,
          0.21667617559432983,
          0.21336326003074646,
          0.24690456688404083,
          0.2227977067232132,
          0.23287351429462433,
          0.19022759795188904,
          0.2878742814064026,
          0.2835896909236908,
          0.2394445389509201,
          0.259117066860199,
          0.18742814660072327,
          0.23663419485092163,
          0.28761911392211914,
          0.18969964981079102,
          0.28636136651039124,
          0.20915724337100983,
          0.2441549152135849,
          0.2631894648075104,
          0.20656070113182068,
          0.20161467790603638
         ],
         "yaxis": "y"
        },
        {
         "customdata": [
          [
           827,
           "person_14",
           "in/person_14/877.jpg",
           5.515129089355469
          ],
          [
           828,
           "person_14",
           "in/person_14/474.jpg",
           7.757301330566406
          ],
          [
           829,
           "person_14",
           "in/person_14/889.jpg",
           7.977874755859375
          ]
         ],
         "hovertemplate": "labels=%{customdata[1]}<br>tx_openvino=%{x}<br>ty_openvino=%{y}<br>index=%{customdata[0]}<br>path=%{customdata[2]}<br>alignment_error=%{customdata[3]}<extra></extra>",
         "legendgroup": "person_14",
         "marker": {
          "color": "#0D2A63",
          "symbol": "circle"
         },
         "mode": "markers",
         "name": "person_14",
         "orientation": "v",
         "showlegend": true,
         "type": "scatter",
         "x": [
          0.5393205285072327,
          0.5408377051353455,
          0.5393036007881165
         ],
         "xaxis": "x",
         "y": [
          0.502553403377533,
          0.49719980359077454,
          0.5030151605606079
         ],
         "yaxis": "y"
        },
        {
         "customdata": [
          [
           834,
           "person_19",
           "in/person_19/944.jpg",
           5.242477416992188
          ],
          [
           836,
           "person_19",
           "in/person_19/922.jpg",
           7.772816975911458
          ],
          [
           837,
           "person_19",
           "in/person_19/863.jpg",
           2.135218302408854
          ],
          [
           839,
           "person_19",
           "in/person_19/756.jpg",
           6.811505635579427
          ],
          [
           841,
           "person_19",
           "in/person_19/767.jpg",
           4.117073059082031
          ],
          [
           846,
           "person_19",
           "in/person_19/810.jpg",
           5.389915466308594
          ],
          [
           847,
           "person_19",
           "in/person_19/876.jpg",
           2.872884114583333
          ],
          [
           848,
           "person_19",
           "in/person_19/750.jpg",
           7.055684407552083
          ],
          [
           854,
           "person_19",
           "in/person_19/715.jpg",
           5.561907450358073
          ],
          [
           855,
           "person_19",
           "in/person_19/937.jpg",
           4.928853352864583
          ],
          [
           856,
           "person_19",
           "in/person_19/962.jpg",
           1.4883804321289062
          ],
          [
           861,
           "person_19",
           "in/person_19/726.jpg",
           5.693776448567708
          ],
          [
           863,
           "person_19",
           "in/person_19/954.jpg",
           5.46124267578125
          ],
          [
           865,
           "person_19",
           "in/person_19/738.jpg",
           5.7140045166015625
          ],
          [
           866,
           "person_19",
           "in/person_19/745.jpg",
           4.9754486083984375
          ],
          [
           868,
           "person_19",
           "in/person_19/801.jpg",
           6.25976053873698
          ],
          [
           869,
           "person_19",
           "in/person_19/853.jpg",
           2.5560531616210938
          ],
          [
           870,
           "person_19",
           "in/person_19/821.jpg",
           3.3508504231770835
          ],
          [
           872,
           "person_19",
           "in/person_19/775.jpg",
           7.342913309733073
          ],
          [
           874,
           "person_19",
           "in/person_19/713.jpg",
           6.489163716634114
          ],
          [
           875,
           "person_19",
           "in/person_19/720.jpg",
           5.695960998535156
          ],
          [
           877,
           "person_19",
           "in/person_19/732.jpg",
           6.269012451171875
          ],
          [
           879,
           "person_19",
           "in/person_19/784.jpg",
           7.165458679199219
          ],
          [
           880,
           "person_19",
           "in/person_19/763.jpg",
           7.1607920328776045
          ],
          [
           883,
           "person_19",
           "in/person_19/893.jpg",
           6.918276468912761
          ],
          [
           885,
           "person_19",
           "in/person_19/831.jpg",
           3.0760904947916665
          ],
          [
           886,
           "person_19",
           "in/person_19/792.jpg",
           7.233141581217448
          ],
          [
           887,
           "person_19",
           "in/person_19/711.jpg",
           9.788914998372396
          ],
          [
           888,
           "person_19",
           "in/person_19/754.jpg",
           9.721997578938804
          ],
          [
           889,
           "person_19",
           "in/person_19/761.jpg",
           4.983418782552083
          ],
          [
           891,
           "person_19",
           "in/person_19/841.jpg",
           2.666572570800781
          ],
          [
           895,
           "person_19",
           "in/person_19/768.jpg",
           7.4912261962890625
          ]
         ],
         "hovertemplate": "labels=%{customdata[1]}<br>tx_openvino=%{x}<br>ty_openvino=%{y}<br>index=%{customdata[0]}<br>path=%{customdata[2]}<br>alignment_error=%{customdata[3]}<extra></extra>",
         "legendgroup": "person_19",
         "marker": {
          "color": "#AF0038",
          "symbol": "circle"
         },
         "mode": "markers",
         "name": "person_19",
         "orientation": "v",
         "showlegend": true,
         "type": "scatter",
         "x": [
          0.4700930416584015,
          0.47533902525901794,
          0.5028371810913086,
          0.5097829699516296,
          0.5097606182098389,
          0.5074206590652466,
          0.4901018440723419,
          0.5029975771903992,
          0.49214911460876465,
          0.4765204191207886,
          0.46224063634872437,
          0.48834824562072754,
          0.46369874477386475,
          0.4914422929286957,
          0.5072367191314697,
          0.5148714184761047,
          0.4996218979358673,
          0.5093861222267151,
          0.5221531987190247,
          0.4852958023548126,
          0.4863729774951935,
          0.4819660186767578,
          0.5214959383010864,
          0.5155888199806213,
          0.4818821847438812,
          0.5014222264289856,
          0.5136245489120483,
          0.4878925383090973,
          0.5162894129753113,
          0.5105195641517639,
          0.49521976709365845,
          0.5058116316795349
         ],
         "xaxis": "x",
         "y": [
          0.019716471433639526,
          0,
          0.0056081777438521385,
          0.03776312619447708,
          0.0680045560002327,
          0.014264311641454697,
          0.01996498741209507,
          0.04326224699616432,
          0.04659397527575493,
          0.004071305505931377,
          0.04068611189723015,
          0.03895382583141327,
          0.019349193200469017,
          0.03431609645485878,
          0.04284902662038803,
          0.01499577984213829,
          0.015984313562512398,
          0.005182808730751276,
          0.02546621300280094,
          0.05440313741564751,
          0.04800787940621376,
          0.040155552327632904,
          0.01931057870388031,
          0.03661365434527397,
          0.020247910171747208,
          0.0072083668783307076,
          0.020029934123158455,
          0.056108854711055756,
          0.06682050973176956,
          0.06660083681344986,
          0.008469272404909134,
          0.02637510932981968
         ],
         "yaxis": "y"
        }
       ],
       "layout": {
        "legend": {
         "title": {
          "text": "labels"
         },
         "tracegroupgap": 0
        },
        "margin": {
         "t": 60
        },
        "template": {
         "data": {
          "bar": [
           {
            "error_x": {
             "color": "#2a3f5f"
            },
            "error_y": {
             "color": "#2a3f5f"
            },
            "marker": {
             "line": {
              "color": "#E5ECF6",
              "width": 0.5
             },
             "pattern": {
              "fillmode": "overlay",
              "size": 10,
              "solidity": 0.2
             }
            },
            "type": "bar"
           }
          ],
          "barpolar": [
           {
            "marker": {
             "line": {
              "color": "#E5ECF6",
              "width": 0.5
             },
             "pattern": {
              "fillmode": "overlay",
              "size": 10,
              "solidity": 0.2
             }
            },
            "type": "barpolar"
           }
          ],
          "carpet": [
           {
            "aaxis": {
             "endlinecolor": "#2a3f5f",
             "gridcolor": "white",
             "linecolor": "white",
             "minorgridcolor": "white",
             "startlinecolor": "#2a3f5f"
            },
            "baxis": {
             "endlinecolor": "#2a3f5f",
             "gridcolor": "white",
             "linecolor": "white",
             "minorgridcolor": "white",
             "startlinecolor": "#2a3f5f"
            },
            "type": "carpet"
           }
          ],
          "choropleth": [
           {
            "colorbar": {
             "outlinewidth": 0,
             "ticks": ""
            },
            "type": "choropleth"
           }
          ],
          "contour": [
           {
            "colorbar": {
             "outlinewidth": 0,
             "ticks": ""
            },
            "colorscale": [
             [
              0,
              "#0d0887"
             ],
             [
              0.1111111111111111,
              "#46039f"
             ],
             [
              0.2222222222222222,
              "#7201a8"
             ],
             [
              0.3333333333333333,
              "#9c179e"
             ],
             [
              0.4444444444444444,
              "#bd3786"
             ],
             [
              0.5555555555555556,
              "#d8576b"
             ],
             [
              0.6666666666666666,
              "#ed7953"
             ],
             [
              0.7777777777777778,
              "#fb9f3a"
             ],
             [
              0.8888888888888888,
              "#fdca26"
             ],
             [
              1,
              "#f0f921"
             ]
            ],
            "type": "contour"
           }
          ],
          "contourcarpet": [
           {
            "colorbar": {
             "outlinewidth": 0,
             "ticks": ""
            },
            "type": "contourcarpet"
           }
          ],
          "heatmap": [
           {
            "colorbar": {
             "outlinewidth": 0,
             "ticks": ""
            },
            "colorscale": [
             [
              0,
              "#0d0887"
             ],
             [
              0.1111111111111111,
              "#46039f"
             ],
             [
              0.2222222222222222,
              "#7201a8"
             ],
             [
              0.3333333333333333,
              "#9c179e"
             ],
             [
              0.4444444444444444,
              "#bd3786"
             ],
             [
              0.5555555555555556,
              "#d8576b"
             ],
             [
              0.6666666666666666,
              "#ed7953"
             ],
             [
              0.7777777777777778,
              "#fb9f3a"
             ],
             [
              0.8888888888888888,
              "#fdca26"
             ],
             [
              1,
              "#f0f921"
             ]
            ],
            "type": "heatmap"
           }
          ],
          "heatmapgl": [
           {
            "colorbar": {
             "outlinewidth": 0,
             "ticks": ""
            },
            "colorscale": [
             [
              0,
              "#0d0887"
             ],
             [
              0.1111111111111111,
              "#46039f"
             ],
             [
              0.2222222222222222,
              "#7201a8"
             ],
             [
              0.3333333333333333,
              "#9c179e"
             ],
             [
              0.4444444444444444,
              "#bd3786"
             ],
             [
              0.5555555555555556,
              "#d8576b"
             ],
             [
              0.6666666666666666,
              "#ed7953"
             ],
             [
              0.7777777777777778,
              "#fb9f3a"
             ],
             [
              0.8888888888888888,
              "#fdca26"
             ],
             [
              1,
              "#f0f921"
             ]
            ],
            "type": "heatmapgl"
           }
          ],
          "histogram": [
           {
            "marker": {
             "pattern": {
              "fillmode": "overlay",
              "size": 10,
              "solidity": 0.2
             }
            },
            "type": "histogram"
           }
          ],
          "histogram2d": [
           {
            "colorbar": {
             "outlinewidth": 0,
             "ticks": ""
            },
            "colorscale": [
             [
              0,
              "#0d0887"
             ],
             [
              0.1111111111111111,
              "#46039f"
             ],
             [
              0.2222222222222222,
              "#7201a8"
             ],
             [
              0.3333333333333333,
              "#9c179e"
             ],
             [
              0.4444444444444444,
              "#bd3786"
             ],
             [
              0.5555555555555556,
              "#d8576b"
             ],
             [
              0.6666666666666666,
              "#ed7953"
             ],
             [
              0.7777777777777778,
              "#fb9f3a"
             ],
             [
              0.8888888888888888,
              "#fdca26"
             ],
             [
              1,
              "#f0f921"
             ]
            ],
            "type": "histogram2d"
           }
          ],
          "histogram2dcontour": [
           {
            "colorbar": {
             "outlinewidth": 0,
             "ticks": ""
            },
            "colorscale": [
             [
              0,
              "#0d0887"
             ],
             [
              0.1111111111111111,
              "#46039f"
             ],
             [
              0.2222222222222222,
              "#7201a8"
             ],
             [
              0.3333333333333333,
              "#9c179e"
             ],
             [
              0.4444444444444444,
              "#bd3786"
             ],
             [
              0.5555555555555556,
              "#d8576b"
             ],
             [
              0.6666666666666666,
              "#ed7953"
             ],
             [
              0.7777777777777778,
              "#fb9f3a"
             ],
             [
              0.8888888888888888,
              "#fdca26"
             ],
             [
              1,
              "#f0f921"
             ]
            ],
            "type": "histogram2dcontour"
           }
          ],
          "mesh3d": [
           {
            "colorbar": {
             "outlinewidth": 0,
             "ticks": ""
            },
            "type": "mesh3d"
           }
          ],
          "parcoords": [
           {
            "line": {
             "colorbar": {
              "outlinewidth": 0,
              "ticks": ""
             }
            },
            "type": "parcoords"
           }
          ],
          "pie": [
           {
            "automargin": true,
            "type": "pie"
           }
          ],
          "scatter": [
           {
            "fillpattern": {
             "fillmode": "overlay",
             "size": 10,
             "solidity": 0.2
            },
            "type": "scatter"
           }
          ],
          "scatter3d": [
           {
            "line": {
             "colorbar": {
              "outlinewidth": 0,
              "ticks": ""
             }
            },
            "marker": {
             "colorbar": {
              "outlinewidth": 0,
              "ticks": ""
             }
            },
            "type": "scatter3d"
           }
          ],
          "scattercarpet": [
           {
            "marker": {
             "colorbar": {
              "outlinewidth": 0,
              "ticks": ""
             }
            },
            "type": "scattercarpet"
           }
          ],
          "scattergeo": [
           {
            "marker": {
             "colorbar": {
              "outlinewidth": 0,
              "ticks": ""
             }
            },
            "type": "scattergeo"
           }
          ],
          "scattergl": [
           {
            "marker": {
             "colorbar": {
              "outlinewidth": 0,
              "ticks": ""
             }
            },
            "type": "scattergl"
           }
          ],
          "scattermapbox": [
           {
            "marker": {
             "colorbar": {
              "outlinewidth": 0,
              "ticks": ""
             }
            },
            "type": "scattermapbox"
           }
          ],
          "scatterpolar": [
           {
            "marker": {
             "colorbar": {
              "outlinewidth": 0,
              "ticks": ""
             }
            },
            "type": "scatterpolar"
           }
          ],
          "scatterpolargl": [
           {
            "marker": {
             "colorbar": {
              "outlinewidth": 0,
              "ticks": ""
             }
            },
            "type": "scatterpolargl"
           }
          ],
          "scatterternary": [
           {
            "marker": {
             "colorbar": {
              "outlinewidth": 0,
              "ticks": ""
             }
            },
            "type": "scatterternary"
           }
          ],
          "surface": [
           {
            "colorbar": {
             "outlinewidth": 0,
             "ticks": ""
            },
            "colorscale": [
             [
              0,
              "#0d0887"
             ],
             [
              0.1111111111111111,
              "#46039f"
             ],
             [
              0.2222222222222222,
              "#7201a8"
             ],
             [
              0.3333333333333333,
              "#9c179e"
             ],
             [
              0.4444444444444444,
              "#bd3786"
             ],
             [
              0.5555555555555556,
              "#d8576b"
             ],
             [
              0.6666666666666666,
              "#ed7953"
             ],
             [
              0.7777777777777778,
              "#fb9f3a"
             ],
             [
              0.8888888888888888,
              "#fdca26"
             ],
             [
              1,
              "#f0f921"
             ]
            ],
            "type": "surface"
           }
          ],
          "table": [
           {
            "cells": {
             "fill": {
              "color": "#EBF0F8"
             },
             "line": {
              "color": "white"
             }
            },
            "header": {
             "fill": {
              "color": "#C8D4E3"
             },
             "line": {
              "color": "white"
             }
            },
            "type": "table"
           }
          ]
         },
         "layout": {
          "annotationdefaults": {
           "arrowcolor": "#2a3f5f",
           "arrowhead": 0,
           "arrowwidth": 1
          },
          "autotypenumbers": "strict",
          "coloraxis": {
           "colorbar": {
            "outlinewidth": 0,
            "ticks": ""
           }
          },
          "colorscale": {
           "diverging": [
            [
             0,
             "#8e0152"
            ],
            [
             0.1,
             "#c51b7d"
            ],
            [
             0.2,
             "#de77ae"
            ],
            [
             0.3,
             "#f1b6da"
            ],
            [
             0.4,
             "#fde0ef"
            ],
            [
             0.5,
             "#f7f7f7"
            ],
            [
             0.6,
             "#e6f5d0"
            ],
            [
             0.7,
             "#b8e186"
            ],
            [
             0.8,
             "#7fbc41"
            ],
            [
             0.9,
             "#4d9221"
            ],
            [
             1,
             "#276419"
            ]
           ],
           "sequential": [
            [
             0,
             "#0d0887"
            ],
            [
             0.1111111111111111,
             "#46039f"
            ],
            [
             0.2222222222222222,
             "#7201a8"
            ],
            [
             0.3333333333333333,
             "#9c179e"
            ],
            [
             0.4444444444444444,
             "#bd3786"
            ],
            [
             0.5555555555555556,
             "#d8576b"
            ],
            [
             0.6666666666666666,
             "#ed7953"
            ],
            [
             0.7777777777777778,
             "#fb9f3a"
            ],
            [
             0.8888888888888888,
             "#fdca26"
            ],
            [
             1,
             "#f0f921"
            ]
           ],
           "sequentialminus": [
            [
             0,
             "#0d0887"
            ],
            [
             0.1111111111111111,
             "#46039f"
            ],
            [
             0.2222222222222222,
             "#7201a8"
            ],
            [
             0.3333333333333333,
             "#9c179e"
            ],
            [
             0.4444444444444444,
             "#bd3786"
            ],
            [
             0.5555555555555556,
             "#d8576b"
            ],
            [
             0.6666666666666666,
             "#ed7953"
            ],
            [
             0.7777777777777778,
             "#fb9f3a"
            ],
            [
             0.8888888888888888,
             "#fdca26"
            ],
            [
             1,
             "#f0f921"
            ]
           ]
          },
          "colorway": [
           "#636efa",
           "#EF553B",
           "#00cc96",
           "#ab63fa",
           "#FFA15A",
           "#19d3f3",
           "#FF6692",
           "#B6E880",
           "#FF97FF",
           "#FECB52"
          ],
          "font": {
           "color": "#2a3f5f"
          },
          "geo": {
           "bgcolor": "white",
           "lakecolor": "white",
           "landcolor": "#E5ECF6",
           "showlakes": true,
           "showland": true,
           "subunitcolor": "white"
          },
          "hoverlabel": {
           "align": "left"
          },
          "hovermode": "closest",
          "mapbox": {
           "style": "light"
          },
          "paper_bgcolor": "white",
          "plot_bgcolor": "#E5ECF6",
          "polar": {
           "angularaxis": {
            "gridcolor": "white",
            "linecolor": "white",
            "ticks": ""
           },
           "bgcolor": "#E5ECF6",
           "radialaxis": {
            "gridcolor": "white",
            "linecolor": "white",
            "ticks": ""
           }
          },
          "scene": {
           "xaxis": {
            "backgroundcolor": "#E5ECF6",
            "gridcolor": "white",
            "gridwidth": 2,
            "linecolor": "white",
            "showbackground": true,
            "ticks": "",
            "zerolinecolor": "white"
           },
           "yaxis": {
            "backgroundcolor": "#E5ECF6",
            "gridcolor": "white",
            "gridwidth": 2,
            "linecolor": "white",
            "showbackground": true,
            "ticks": "",
            "zerolinecolor": "white"
           },
           "zaxis": {
            "backgroundcolor": "#E5ECF6",
            "gridcolor": "white",
            "gridwidth": 2,
            "linecolor": "white",
            "showbackground": true,
            "ticks": "",
            "zerolinecolor": "white"
           }
          },
          "shapedefaults": {
           "line": {
            "color": "#2a3f5f"
           }
          },
          "ternary": {
           "aaxis": {
            "gridcolor": "white",
            "linecolor": "white",
            "ticks": ""
           },
           "baxis": {
            "gridcolor": "white",
            "linecolor": "white",
            "ticks": ""
           },
           "bgcolor": "#E5ECF6",
           "caxis": {
            "gridcolor": "white",
            "linecolor": "white",
            "ticks": ""
           }
          },
          "title": {
           "x": 0.05
          },
          "xaxis": {
           "automargin": true,
           "gridcolor": "white",
           "linecolor": "white",
           "ticks": "",
           "title": {
            "standoff": 15
           },
           "zerolinecolor": "white",
           "zerolinewidth": 2
          },
          "yaxis": {
           "automargin": true,
           "gridcolor": "white",
           "linecolor": "white",
           "ticks": "",
           "title": {
            "standoff": 15
           },
           "zerolinecolor": "white",
           "zerolinewidth": 2
          }
         }
        },
        "xaxis": {
         "anchor": "y",
         "domain": [
          0,
          1
         ],
         "title": {
          "text": "tx_openvino"
         }
        },
        "yaxis": {
         "anchor": "x",
         "domain": [
          0,
          1
         ],
         "title": {
          "text": "ty_openvino"
         }
        }
       }
      },
      "text/html": [
       "<div>                            <div id=\"fa04027a-f60c-4207-934f-7c3958105d67\" class=\"plotly-graph-div\" style=\"height:525px; width:100%;\"></div>            <script type=\"text/javascript\">                require([\"plotly\"], function(Plotly) {                    window.PLOTLYENV=window.PLOTLYENV || {};                                    if (document.getElementById(\"fa04027a-f60c-4207-934f-7c3958105d67\")) {                    Plotly.newPlot(                        \"fa04027a-f60c-4207-934f-7c3958105d67\",                        [{\"customdata\":[[14,\"person_27\",\"in/person_27/943.jpg\",2.9810358683268228],[35,\"person_27\",\"in/person_27/951.jpg\",7.899172465006511]],\"hovertemplate\":\"labels=%{customdata[1]}<br>tx_openvino=%{x}<br>ty_openvino=%{y}<br>index=%{customdata[0]}<br>path=%{customdata[2]}<br>alignment_error=%{customdata[3]}<extra></extra>\",\"legendgroup\":\"person_27\",\"marker\":{\"color\":\"#2E91E5\",\"symbol\":\"circle\"},\"mode\":\"markers\",\"name\":\"person_27\",\"orientation\":\"v\",\"showlegend\":true,\"x\":[0.7384254336357117,0.7382940053939819],\"xaxis\":\"x\",\"y\":[0.4213765263557434,0.4214778542518616],\"yaxis\":\"y\",\"type\":\"scatter\"},{\"customdata\":[[40,\"person_12\",\"in/person_12/476.jpg\",0.4232762654622395],[41,\"person_12\",\"in/person_12/494.jpg\",7.251141866048177],[42,\"person_12\",\"in/person_12/592.jpg\",8.43994394938151],[44,\"person_12\",\"in/person_12/585.jpg\",8.118565877278646],[46,\"person_12\",\"in/person_12/486.jpg\",-1.8175684611002605],[47,\"person_12\",\"in/person_12/516.jpg\",1.2816874186197915],[48,\"person_12\",\"in/person_12/480.jpg\",0.8033727010091146],[49,\"person_12\",\"in/person_12/443.jpg\",3.320551554361979],[50,\"person_12\",\"in/person_12/617.jpg\",7.864626566569011],[51,\"person_12\",\"in/person_12/510.jpg\",2.5279719034830728],[52,\"person_12\",\"in/person_12/495.jpg\",3.239756266276041],[53,\"person_12\",\"in/person_12/572.jpg\",5.463826497395833],[54,\"person_12\",\"in/person_12/540.jpg\",1.528411865234375],[57,\"person_12\",\"in/person_12/454.jpg\",1.7810872395833333],[59,\"person_12\",\"in/person_12/553.jpg\",1.90362548828125],[62,\"person_12\",\"in/person_12/440.jpg\",3.4744135538736978],[63,\"person_12\",\"in/person_12/463.jpg\",0.8574879964192709],[65,\"person_12\",\"in/person_12/472.jpg\",-0.4162063598632812],[66,\"person_12\",\"in/person_12/604.jpg\",8.270991007486979],[69,\"person_12\",\"in/person_12/521.jpg\",0.2968012491861979],[70,\"person_12\",\"in/person_12/567.jpg\",3.504096984863281],[71,\"person_12\",\"in/person_12/508.jpg\",9.775377909342447],[72,\"person_12\",\"in/person_12/449.jpg\",4.5519053141276045],[75,\"person_12\",\"in/person_12/528.jpg\",0.2398808797200521],[77,\"person_12\",\"in/person_12/504.jpg\",4.114219665527344],[78,\"person_12\",\"in/person_12/623.jpg\",7.7812143961588545],[79,\"person_12\",\"in/person_12/546.jpg\",0.9495569864908854],[83,\"person_12\",\"in/person_12/579.jpg\",7.714235941569011],[87,\"person_12\",\"in/person_12/459.jpg\",0.3160374959309895],[88,\"person_12\",\"in/person_12/533.jpg\",1.2022298177083333],[89,\"person_12\",\"in/person_12/610.jpg\",7.586682637532552],[90,\"person_12\",\"in/person_12/491.jpg\",-0.3314310709635417],[92,\"person_12\",\"in/person_12/461.jpg\",-0.1225128173828125],[95,\"person_12\",\"in/person_12/500.jpg\",4.519317626953125],[97,\"person_12\",\"in/person_12/452.jpg\",4.635106404622396],[100,\"person_12\",\"in/person_12/599.jpg\",8.391713460286459],[101,\"person_12\",\"in/person_12/446.jpg\",3.6756184895833335],[103,\"person_12\",\"in/person_12/560.jpg\",1.752337137858073],[105,\"person_12\",\"in/person_12/468.jpg\",-0.2003224690755208],[108,\"person_12\",\"in/person_12/570.jpg\",9.941548665364584],[109,\"person_12\",\"in/person_12/488.jpg\",7.642931620279948],[110,\"person_12\",\"in/person_12/457.jpg\",2.2299346923828125]],\"hovertemplate\":\"labels=%{customdata[1]}<br>tx_openvino=%{x}<br>ty_openvino=%{y}<br>index=%{customdata[0]}<br>path=%{customdata[2]}<br>alignment_error=%{customdata[3]}<extra></extra>\",\"legendgroup\":\"person_12\",\"marker\":{\"color\":\"#E15F99\",\"symbol\":\"circle\"},\"mode\":\"markers\",\"name\":\"person_12\",\"orientation\":\"v\",\"showlegend\":true,\"x\":[0.9298307299613953,0.8787230849266052,0.8685481548309326,0.8680199980735779,0.9130666851997375,0.9041728377342224,0.9375837445259094,0.9113349318504333,0.857489287853241,0.9045665860176086,0.904853343963623,0.8972445726394653,0.9160953760147095,0.9360954761505127,0.9075676202774048,0.9158313870429993,0.9270097613334656,0.9374659061431885,0.8610052466392517,0.9070303440093994,0.8955515027046204,0.8823498487472534,0.9213173985481262,0.9126091599464417,0.8894839882850647,0.8593609929084778,0.9193843007087708,0.8786007165908813,0.9329709410667419,0.9169788956642151,0.8588966131210327,0.9159327149391174,0.9370797872543335,0.8907234072685242,0.9187242984771729,0.868727445602417,0.9171916842460632,0.9021803736686707,0.9330260157585144,0.8712336421012878,0.8780959248542786,0.9286421537399292],\"xaxis\":\"x\",\"y\":[0.9492248892784119,0.9970692992210388,0.9558519721031189,0.9509446620941162,0.9565475583076477,0.9434601664543152,0.9476391673088074,0.980687141418457,0.9564876556396484,0.9519174098968506,0.960677444934845,0.9396960139274597,0.924288272857666,0.981788158416748,0.9176926016807556,0.9893209934234619,0.9601577520370483,0.9540002942085266,0.9606136083602905,0.9402846693992615,0.9294483661651611,1.0,0.9777831435203552,0.925462007522583,0.9476868510246277,0.9509312510490417,0.9354779720306396,0.9375619888305664,0.9745500087738037,0.9303853511810303,0.950637936592102,0.9525008201599121,0.9699114561080933,0.9575830698013306,0.9860239028930664,0.9600906372070312,0.9755181074142456,0.9299942255020142,0.9556594491004944,0.9910050630569458,0.9972349405288696,0.9683452844619751],\"yaxis\":\"y\",\"type\":\"scatter\"},{\"customdata\":[[111,\"person_39\",\"in/person_39/1402.jpg\",5.444775899251302]],\"hovertemplate\":\"labels=%{customdata[1]}<br>tx_openvino=%{x}<br>ty_openvino=%{y}<br>index=%{customdata[0]}<br>path=%{customdata[2]}<br>alignment_error=%{customdata[3]}<extra></extra>\",\"legendgroup\":\"person_39\",\"marker\":{\"color\":\"#1CA71C\",\"symbol\":\"circle\"},\"mode\":\"markers\",\"name\":\"person_39\",\"orientation\":\"v\",\"showlegend\":true,\"x\":[0.3654915392398834],\"xaxis\":\"x\",\"y\":[0.5151224136352539],\"yaxis\":\"y\",\"type\":\"scatter\"},{\"customdata\":[[112,\"person_16\",\"in/person_16/590.jpg\",4.347554524739583],[113,\"person_16\",\"in/person_16/654.jpg\",6.33800760904948],[120,\"person_16\",\"in/person_16/646.jpg\",1.409472147623698],[125,\"person_16\",\"in/person_16/577.jpg\",1.578460693359375],[126,\"person_16\",\"in/person_16/539.jpg\",3.548365275065104],[128,\"person_16\",\"in/person_16/597.jpg\",3.7531585693359375],[130,\"person_16\",\"in/person_16/1055.jpg\",9.695543924967447],[132,\"person_16\",\"in/person_16/1046.jpg\",8.429845174153646],[134,\"person_16\",\"in/person_16/559.jpg\",1.6759694417317708],[135,\"person_16\",\"in/person_16/634.jpg\",4.474533081054688],[136,\"person_16\",\"in/person_16/564.jpg\",2.423070271809896]],\"hovertemplate\":\"labels=%{customdata[1]}<br>tx_openvino=%{x}<br>ty_openvino=%{y}<br>index=%{customdata[0]}<br>path=%{customdata[2]}<br>alignment_error=%{customdata[3]}<extra></extra>\",\"legendgroup\":\"person_16\",\"marker\":{\"color\":\"#FB0D0D\",\"symbol\":\"circle\"},\"mode\":\"markers\",\"name\":\"person_16\",\"orientation\":\"v\",\"showlegend\":true,\"x\":[0.5278542637825012,0.527302086353302,0.5270692110061646,0.5410000085830688,0.5496378540992737,0.5271550416946411,0.5101817846298218,0.5108726024627686,0.5423700213432312,0.5246148705482483,0.5424069762229919],\"xaxis\":\"x\",\"y\":[0.392390638589859,0.4052201211452484,0.4014105200767517,0.3847414255142212,0.3809323012828827,0.39371851086616516,0.3841189742088318,0.3842960596084595,0.3844268321990967,0.40317502617836,0.384143590927124],\"yaxis\":\"y\",\"type\":\"scatter\"},{\"customdata\":[[144,\"person_22\",\"in/person_22/888.jpg\",5.906545003255208],[145,\"person_22\",\"in/person_22/822.jpg\",9.805567423502604],[146,\"person_22\",\"in/person_22/866.jpg\",7.965443929036458],[151,\"person_22\",\"in/person_22/938.jpg\",7.360481262207031],[152,\"person_22\",\"in/person_22/802.jpg\",5.914471944173177],[157,\"person_22\",\"in/person_22/879.jpg\",7.742368062337239],[158,\"person_22\",\"in/person_22/846.jpg\",9.114608764648438],[159,\"person_22\",\"in/person_22/794.jpg\",4.564908345540364],[160,\"person_22\",\"in/person_22/904.jpg\",3.3595174153645835],[163,\"person_22\",\"in/person_22/814.jpg\",6.822428385416667],[164,\"person_22\",\"in/person_22/924.jpg\",6.612495422363281],[165,\"person_22\",\"in/person_22/783.jpg\",4.944023132324219],[166,\"person_22\",\"in/person_22/913.jpg\",4.5740000406901045],[171,\"person_22\",\"in/person_22/779.jpg\",3.605677286783854],[173,\"person_22\",\"in/person_22/771.jpg\",7.111796061197917],[176,\"person_22\",\"in/person_22/857.jpg\",8.821642557779947]],\"hovertemplate\":\"labels=%{customdata[1]}<br>tx_openvino=%{x}<br>ty_openvino=%{y}<br>index=%{customdata[0]}<br>path=%{customdata[2]}<br>alignment_error=%{customdata[3]}<extra></extra>\",\"legendgroup\":\"person_22\",\"marker\":{\"color\":\"#DA16FF\",\"symbol\":\"circle\"},\"mode\":\"markers\",\"name\":\"person_22\",\"orientation\":\"v\",\"showlegend\":true,\"x\":[0.8730514049530029,0.8640732169151306,0.8768453598022461,0.8531683087348938,0.8674715757369995,0.8807525634765625,0.8701356053352356,0.8820808529853821,0.8586205840110779,0.865227997303009,0.855375349521637,0.8829373717308044,0.8588835000991821,0.880745530128479,0.8881310820579529,0.8718655109405518],\"xaxis\":\"x\",\"y\":[0.2812422513961792,0.2735831141471863,0.2672426700592041,0.28063786029815674,0.28931352496147156,0.2731815576553345,0.2718290686607361,0.28904154896736145,0.29217392206192017,0.2833434045314789,0.27862003445625305,0.28300705552101135,0.28438109159469604,0.2872418463230133,0.2664370536804199,0.2678129971027374],\"yaxis\":\"y\",\"type\":\"scatter\"},{\"customdata\":[[179,\"person_20\",\"in/person_20/721.jpg\",8.07818603515625],[184,\"person_20\",\"in/person_20/740.jpg\",8.915496826171875]],\"hovertemplate\":\"labels=%{customdata[1]}<br>tx_openvino=%{x}<br>ty_openvino=%{y}<br>index=%{customdata[0]}<br>path=%{customdata[2]}<br>alignment_error=%{customdata[3]}<extra></extra>\",\"legendgroup\":\"person_20\",\"marker\":{\"color\":\"#222A2A\",\"symbol\":\"circle\"},\"mode\":\"markers\",\"name\":\"person_20\",\"orientation\":\"v\",\"showlegend\":true,\"x\":[0.3436111807823181,0.3434663712978363],\"xaxis\":\"x\",\"y\":[0.44260525703430176,0.44260889291763306],\"yaxis\":\"y\",\"type\":\"scatter\"},{\"customdata\":[[191,\"person_11\",\"in/person_11/484.jpg\",-2.129155476888021],[192,\"person_11\",\"in/person_11/499.jpg\",3.853444417317709],[193,\"person_11\",\"in/person_11/490.jpg\",0.4719899495442708],[194,\"person_11\",\"in/person_11/414.jpg\",2.9633687337239585],[195,\"person_11\",\"in/person_11/428.jpg\",8.256304423014322],[196,\"person_11\",\"in/person_11/426.jpg\",7.904650370279948],[197,\"person_11\",\"in/person_11/417.jpg\",5.120160420735677],[198,\"person_11\",\"in/person_11/422.jpg\",6.242162068684896],[199,\"person_11\",\"in/person_11/431.jpg\",5.873067220052083],[200,\"person_11\",\"in/person_11/413.jpg\",3.9685465494791674],[201,\"person_11\",\"in/person_11/477.jpg\",9.08258056640625],[202,\"person_11\",\"in/person_11/481.jpg\",1.9197998046875],[203,\"person_11\",\"in/person_11/496.jpg\",2.17156728108724],[204,\"person_11\",\"in/person_11/424.jpg\",8.115514119466146],[205,\"person_11\",\"in/person_11/404.jpg\",4.614163716634114]],\"hovertemplate\":\"labels=%{customdata[1]}<br>tx_openvino=%{x}<br>ty_openvino=%{y}<br>index=%{customdata[0]}<br>path=%{customdata[2]}<br>alignment_error=%{customdata[3]}<extra></extra>\",\"legendgroup\":\"person_11\",\"marker\":{\"color\":\"#B68100\",\"symbol\":\"circle\"},\"mode\":\"markers\",\"name\":\"person_11\",\"orientation\":\"v\",\"showlegend\":true,\"x\":[0.6893426179885864,0.6880635619163513,0.687053382396698,0.6800349354743958,0.6641114354133606,0.663083553314209,0.6729073524475098,0.6706103682518005,0.6665411591529846,0.682901918888092,0.6849803328514099,0.6902960538864136,0.6875471472740173,0.6665222644805908,0.6704549193382263],\"xaxis\":\"x\",\"y\":[0.47001126408576965,0.47429579496383667,0.4695223569869995,0.44596046209335327,0.45642712712287903,0.4531281590461731,0.4463748633861542,0.4452168643474579,0.46198123693466187,0.454363077878952,0.45140114426612854,0.45949867367744446,0.47299760580062866,0.4542206823825836,0.4573656916618347],\"yaxis\":\"y\",\"type\":\"scatter\"},{\"customdata\":[[206,\"person_26\",\"in/person_26/990.jpg\",5.537689208984375],[207,\"person_26\",\"in/person_26/1102.jpg\",9.487894694010416],[209,\"person_26\",\"in/person_26/1078.jpg\",9.52886962890625],[211,\"person_26\",\"in/person_26/933.jpg\",5.618583679199219],[212,\"person_26\",\"in/person_26/920.jpg\",7.528856913248698],[215,\"person_26\",\"in/person_26/1006.jpg\",6.001665751139323],[218,\"person_26\",\"in/person_26/1040.jpg\",6.325925191243489],[219,\"person_26\",\"in/person_26/886.jpg\",7.028615315755208],[220,\"person_26\",\"in/person_26/1052.jpg\",7.471542358398437],[221,\"person_26\",\"in/person_26/1091.jpg\",7.7104848225911455],[223,\"person_26\",\"in/person_26/1027.jpg\",4.673271179199219],[224,\"person_26\",\"in/person_26/959.jpg\",5.080586751302083],[226,\"person_26\",\"in/person_26/1064.jpg\",7.95428466796875],[227,\"person_26\",\"in/person_26/875.jpg\",6.722951253255208],[231,\"person_26\",\"in/person_26/996.jpg\",6.078725179036458],[232,\"person_26\",\"in/person_26/978.jpg\",5.597719828287761],[233,\"person_26\",\"in/person_26/970.jpg\",7.356564839680989]],\"hovertemplate\":\"labels=%{customdata[1]}<br>tx_openvino=%{x}<br>ty_openvino=%{y}<br>index=%{customdata[0]}<br>path=%{customdata[2]}<br>alignment_error=%{customdata[3]}<extra></extra>\",\"legendgroup\":\"person_26\",\"marker\":{\"color\":\"#750D86\",\"symbol\":\"circle\"},\"mode\":\"markers\",\"name\":\"person_26\",\"orientation\":\"v\",\"showlegend\":true,\"x\":[0.8040589094161987,0.7676202654838562,0.7776133418083191,0.8122637271881104,0.8155498504638672,0.8068171739578247,0.7963790893554688,0.7938603758811951,0.7954149842262268,0.7665005922317505,0.7902517318725586,0.8107304573059082,0.7753418684005737,0.791886031627655,0.8100979328155518,0.8032374978065491,0.8118624091148376],\"xaxis\":\"x\",\"y\":[0.5600557923316956,0.5554330945014954,0.5303832292556763,0.5511242747306824,0.551282525062561,0.5714937448501587,0.5365968346595764,0.5527023673057556,0.5309774279594421,0.5561217069625854,0.5319399237632751,0.5564946532249451,0.5273653268814087,0.5527027249336243,0.5648530125617981,0.5548105835914612,0.5608452558517456],\"yaxis\":\"y\",\"type\":\"scatter\"},{\"customdata\":[[236,\"person_34\",\"in/person_34/1371.jpg\",8.736663818359375],[237,\"person_34\",\"in/person_34/1281.jpg\",4.26190185546875],[238,\"person_34\",\"in/person_34/1359.jpg\",6.079327901204427],[239,\"person_34\",\"in/person_34/1322.jpg\",9.195515950520834],[241,\"person_34\",\"in/person_34/1314.jpg\",7.551816304524739],[242,\"person_34\",\"in/person_34/1405.jpg\",9.974655151367188],[243,\"person_34\",\"in/person_34/1334.jpg\",9.325213114420572],[244,\"person_34\",\"in/person_34/1259.jpg\",6.396942138671875],[248,\"person_34\",\"in/person_34/1363.jpg\",7.0193125406901045],[249,\"person_34\",\"in/person_34/1354.jpg\",5.373875935872396],[250,\"person_34\",\"in/person_34/1266.jpg\",5.558331807454427],[251,\"person_34\",\"in/person_34/1308.jpg\",5.3988087972005205],[253,\"person_34\",\"in/person_34/1292.jpg\",5.056437174479167],[254,\"person_34\",\"in/person_34/1286.jpg\",3.795064290364584],[259,\"person_34\",\"in/person_34/1349.jpg\",5.650825500488281],[260,\"person_34\",\"in/person_34/1300.jpg\",5.4200083414713545],[261,\"person_34\",\"in/person_34/1367.jpg\",7.123972574869792],[263,\"person_34\",\"in/person_34/1273.jpg\",4.589922587076823],[266,\"person_34\",\"in/person_34/1338.jpg\",9.134587605794271],[267,\"person_34\",\"in/person_34/1344.jpg\",7.183570861816406]],\"hovertemplate\":\"labels=%{customdata[1]}<br>tx_openvino=%{x}<br>ty_openvino=%{y}<br>index=%{customdata[0]}<br>path=%{customdata[2]}<br>alignment_error=%{customdata[3]}<extra></extra>\",\"legendgroup\":\"person_34\",\"marker\":{\"color\":\"#EB663B\",\"symbol\":\"circle\"},\"mode\":\"markers\",\"name\":\"person_34\",\"orientation\":\"v\",\"showlegend\":true,\"x\":[0.597959578037262,0.5735538601875305,0.5896586179733276,0.5782020688056946,0.5692610740661621,0.5814248919487,0.5873194336891174,0.5832331776618958,0.5992127656936646,0.5844408273696899,0.5813365578651428,0.5643308758735657,0.5691848993301392,0.5670099854469299,0.5795817375183105,0.5613807439804077,0.6005030870437622,0.5740737318992615,0.5854092240333557,0.5785250663757324],\"xaxis\":\"x\",\"y\":[0.3100598454475403,0.2964377999305725,0.32757630944252014,0.3160850703716278,0.3131493926048279,0.3380258083343506,0.3190765082836151,0.2920784056186676,0.3148531913757324,0.32757821679115295,0.2950427830219269,0.3139638304710388,0.30726152658462524,0.29883238673210144,0.32575371861457825,0.31088337302207947,0.31348174810409546,0.287007212638855,0.32000380754470825,0.32750454545021057],\"yaxis\":\"y\",\"type\":\"scatter\"},{\"customdata\":[[269,\"person_5\",\"in/person_5/211.jpg\",8.651880900065104],[270,\"person_5\",\"in/person_5/212.jpg\",8.951606750488281],[271,\"person_5\",\"in/person_5/216.jpg\",8.336471557617188],[272,\"person_5\",\"in/person_5/207.jpg\",6.993479410807292]],\"hovertemplate\":\"labels=%{customdata[1]}<br>tx_openvino=%{x}<br>ty_openvino=%{y}<br>index=%{customdata[0]}<br>path=%{customdata[2]}<br>alignment_error=%{customdata[3]}<extra></extra>\",\"legendgroup\":\"person_5\",\"marker\":{\"color\":\"#511CFB\",\"symbol\":\"circle\"},\"mode\":\"markers\",\"name\":\"person_5\",\"orientation\":\"v\",\"showlegend\":true,\"x\":[0.38803622126579285,0.3879801332950592,0.38807597756385803,0.3877912163734436],\"xaxis\":\"x\",\"y\":[0.40210071206092834,0.40279290080070496,0.40235328674316406,0.4017411768436432],\"yaxis\":\"y\",\"type\":\"scatter\"},{\"customdata\":[[275,\"person_2\",\"in/person_2/28.jpg\",9.103294372558594],[277,\"person_2\",\"in/person_2/32.jpg\",9.471773783365885],[278,\"person_2\",\"in/person_2/21.jpg\",6.505561828613281],[285,\"person_2\",\"in/person_2/23.jpg\",8.44817860921224],[295,\"person_2\",\"in/person_2/26.jpg\",8.295801798502604],[297,\"person_2\",\"in/person_2/22.jpg\",7.288424173990886]],\"hovertemplate\":\"labels=%{customdata[1]}<br>tx_openvino=%{x}<br>ty_openvino=%{y}<br>index=%{customdata[0]}<br>path=%{customdata[2]}<br>alignment_error=%{customdata[3]}<extra></extra>\",\"legendgroup\":\"person_2\",\"marker\":{\"color\":\"#00A08B\",\"symbol\":\"circle\"},\"mode\":\"markers\",\"name\":\"person_2\",\"orientation\":\"v\",\"showlegend\":true,\"x\":[0.42689430713653564,0.43297791481018066,0.4300631582736969,0.4284614026546478,0.4275038242340088,0.429126501083374],\"xaxis\":\"x\",\"y\":[0.47708746790885925,0.4705677330493927,0.4794923663139343,0.4813911020755768,0.4781484007835388,0.48155054450035095],\"yaxis\":\"y\",\"type\":\"scatter\"},{\"customdata\":[[300,\"person_7\",\"in/person_7/245.jpg\",7.762120564778645]],\"hovertemplate\":\"labels=%{customdata[1]}<br>tx_openvino=%{x}<br>ty_openvino=%{y}<br>index=%{customdata[0]}<br>path=%{customdata[2]}<br>alignment_error=%{customdata[3]}<extra></extra>\",\"legendgroup\":\"person_7\",\"marker\":{\"color\":\"#FB00D1\",\"symbol\":\"circle\"},\"mode\":\"markers\",\"name\":\"person_7\",\"orientation\":\"v\",\"showlegend\":true,\"x\":[0.3866245150566101],\"xaxis\":\"x\",\"y\":[0.39358097314834595],\"yaxis\":\"y\",\"type\":\"scatter\"},{\"customdata\":[[317,\"person_21\",\"in/person_21/728.jpg\",8.926961263020834],[318,\"person_21\",\"in/person_21/910.jpg\",4.175994873046875],[319,\"person_21\",\"in/person_21/769.jpg\",3.0789082845052085],[320,\"person_21\",\"in/person_21/817.jpg\",9.214032491048178],[321,\"person_21\",\"in/person_21/864.jpg\",5.940696716308594],[322,\"person_21\",\"in/person_21/834.jpg\",-1.0105260213216145],[323,\"person_21\",\"in/person_21/820.jpg\",0.6153462727864584],[324,\"person_21\",\"in/person_21/952.jpg\",4.455172220865886],[326,\"person_21\",\"in/person_21/878.jpg\",7.097076416015625],[327,\"person_21\",\"in/person_21/811.jpg\",0.9157155354817708],[328,\"person_21\",\"in/person_21/891.jpg\",5.4647979736328125],[329,\"person_21\",\"in/person_21/858.jpg\",6.001055399576823],[330,\"person_21\",\"in/person_21/764.jpg\",5.295595804850261],[331,\"person_21\",\"in/person_21/901.jpg\",4.809173583984375],[332,\"person_21\",\"in/person_21/936.jpg\",2.899688720703125],[333,\"person_21\",\"in/person_21/791.jpg\",1.1337636311848958],[334,\"person_21\",\"in/person_21/963.jpg\",5.80194091796875],[335,\"person_21\",\"in/person_21/804.jpg\",2.440511067708333],[337,\"person_21\",\"in/person_21/777.jpg\",-0.2639541625976562],[338,\"person_21\",\"in/person_21/842.jpg\",3.563191731770833],[339,\"person_21\",\"in/person_21/785.jpg\",0.8552042643229166],[340,\"person_21\",\"in/person_21/739.jpg\",7.731007893880208],[341,\"person_21\",\"in/person_21/946.jpg\",3.4068883260091147],[343,\"person_21\",\"in/person_21/972.jpg\",7.055747985839844],[344,\"person_21\",\"in/person_21/925.jpg\",4.934560139973958],[345,\"person_21\",\"in/person_21/755.jpg\",3.6113382975260415]],\"hovertemplate\":\"labels=%{customdata[1]}<br>tx_openvino=%{x}<br>ty_openvino=%{y}<br>index=%{customdata[0]}<br>path=%{customdata[2]}<br>alignment_error=%{customdata[3]}<extra></extra>\",\"legendgroup\":\"person_21\",\"marker\":{\"color\":\"#FC0080\",\"symbol\":\"circle\"},\"mode\":\"markers\",\"name\":\"person_21\",\"orientation\":\"v\",\"showlegend\":true,\"x\":[0.4751412272453308,0.4841209948062897,0.48738616704940796,0.45791903138160706,0.47244149446487427,0.5009940266609192,0.49863725900650024,0.46581289172172546,0.4651912450790405,0.4988647997379303,0.4728417992591858,0.4737427234649658,0.48534026741981506,0.48462459444999695,0.48163846135139465,0.5011264085769653,0.4644017815589905,0.4993325173854828,0.4948307275772095,0.48958659172058105,0.49238312244415283,0.4730648994445801,0.47812196612358093,0.46014416217803955,0.4846908748149872,0.48668569326400757],\"xaxis\":\"x\",\"y\":[0.6405379176139832,0.7156196236610413,0.6618596315383911,0.6538940668106079,0.6915191411972046,0.6731449365615845,0.6699921488761902,0.7127982378005981,0.6960931420326233,0.6585885882377625,0.7027128338813782,0.6844560503959656,0.6504989862442017,0.7164498567581177,0.7082781195640564,0.6566097140312195,0.7105083465576172,0.666279673576355,0.6580868363380432,0.684079110622406,0.665107786655426,0.6440384387969971,0.7090023756027222,0.7063508629798889,0.7084435820579529,0.6515969038009644],\"yaxis\":\"y\",\"type\":\"scatter\"},{\"customdata\":[[347,\"person_8\",\"in/person_8/265.jpg\",8.554946899414062],[349,\"person_8\",\"in/person_8/277.jpg\",7.011482238769531],[350,\"person_8\",\"in/person_8/252.jpg\",8.870254516601562],[351,\"person_8\",\"in/person_8/267.jpg\",5.24346923828125],[352,\"person_8\",\"in/person_8/270.jpg\",3.798426310221354],[355,\"person_8\",\"in/person_8/273.jpg\",5.165362040201823],[359,\"person_8\",\"in/person_8/262.jpg\",8.489095052083334],[360,\"person_8\",\"in/person_8/259.jpg\",7.566782633463542],[361,\"person_8\",\"in/person_8/255.jpg\",8.305608113606771]],\"hovertemplate\":\"labels=%{customdata[1]}<br>tx_openvino=%{x}<br>ty_openvino=%{y}<br>index=%{customdata[0]}<br>path=%{customdata[2]}<br>alignment_error=%{customdata[3]}<extra></extra>\",\"legendgroup\":\"person_8\",\"marker\":{\"color\":\"#B2828D\",\"symbol\":\"circle\"},\"mode\":\"markers\",\"name\":\"person_8\",\"orientation\":\"v\",\"showlegend\":true,\"x\":[0.4963383674621582,0.5115350484848022,0.49701768159866333,0.5021962523460388,0.5064592361450195,0.5081217288970947,0.4961397349834442,0.49399635195732117,0.4961808919906616],\"xaxis\":\"x\",\"y\":[0.22147078812122345,0.22975954413414001,0.21535751223564148,0.22613480687141418,0.22689713537693024,0.22782795131206512,0.2221965342760086,0.21995806694030762,0.2175208479166031],\"yaxis\":\"y\",\"type\":\"scatter\"},{\"customdata\":[[362,\"person_29\",\"in/person_29/1180.jpg\",5.452832539876302],[363,\"person_29\",\"in/person_29/1105.jpg\",2.9317143758138022],[364,\"person_29\",\"in/person_29/1120.jpg\",2.1293004353841147],[365,\"person_29\",\"in/person_29/1033.jpg\",-0.5017038981119791],[366,\"person_29\",\"in/person_29/1043.jpg\",0.2305246988932291],[367,\"person_29\",\"in/person_29/1227.jpg\",9.33666737874349],[368,\"person_29\",\"in/person_29/984.jpg\",5.3167877197265625],[369,\"person_29\",\"in/person_29/939.jpg\",1.760698954264323],[370,\"person_29\",\"in/person_29/1168.jpg\",4.191314697265625],[372,\"person_29\",\"in/person_29/1218.jpg\",9.654637654622396],[375,\"person_29\",\"in/person_29/1056.jpg\",1.5731735229492188],[377,\"person_29\",\"in/person_29/1023.jpg\",0.7125015258789062],[381,\"person_29\",\"in/person_29/1132.jpg\",2.8986638387044272],[383,\"person_29\",\"in/person_29/1197.jpg\",9.397610982259115],[384,\"person_29\",\"in/person_29/929.jpg\",0.9814732869466146],[385,\"person_29\",\"in/person_29/1081.jpg\",4.769864400227864],[386,\"person_29\",\"in/person_29/1093.jpg\",2.685287475585937],[387,\"person_29\",\"in/person_29/1001.jpg\",2.5648396809895835],[388,\"person_29\",\"in/person_29/1068.jpg\",1.9779917399088545],[389,\"person_29\",\"in/person_29/975.jpg\",4.777697245279948],[390,\"person_29\",\"in/person_29/1145.jpg\",2.8268051147460938],[391,\"person_29\",\"in/person_29/1012.jpg\",1.3996531168619792],[392,\"person_29\",\"in/person_29/991.jpg\",3.698163350423177],[393,\"person_29\",\"in/person_29/1158.jpg\",4.073455810546875],[394,\"person_29\",\"in/person_29/1189.jpg\",8.402788798014322],[395,\"person_29\",\"in/person_29/955.jpg\",3.7226664225260415],[397,\"person_29\",\"in/person_29/965.jpg\",3.925346374511719],[398,\"person_29\",\"in/person_29/1209.jpg\",9.110847473144531]],\"hovertemplate\":\"labels=%{customdata[1]}<br>tx_openvino=%{x}<br>ty_openvino=%{y}<br>index=%{customdata[0]}<br>path=%{customdata[2]}<br>alignment_error=%{customdata[3]}<extra></extra>\",\"legendgroup\":\"person_29\",\"marker\":{\"color\":\"#6C7C32\",\"symbol\":\"circle\"},\"mode\":\"markers\",\"name\":\"person_29\",\"orientation\":\"v\",\"showlegend\":true,\"x\":[0.9737603664398193,0.9819403290748596,0.9854815602302551,0.990754246711731,1.0,0.9546799659729004,0.9631407260894775,0.9865124225616455,0.9826686382293701,0.9553144574165344,0.9933532476425171,0.9833692908287048,0.9962677955627441,0.9560675621032715,0.9824175834655762,0.9769399166107178,0.9850229024887085,0.9769724607467651,0.9987019896507263,0.9686713814735413,0.9898098707199097,0.979793131351471,0.9669740796089172,0.9956780076026917,0.9632824659347534,0.9792320132255554,0.9687674045562744,0.9605841636657715],\"xaxis\":\"x\",\"y\":[0.1855151206254959,0.1745561808347702,0.17642904818058014,0.1590123027563095,0.16595841944217682,0.192635640501976,0.15374676883220673,0.14296771585941315,0.18871715664863586,0.19445128738880157,0.15904684364795685,0.1535140722990036,0.17795222997665405,0.18327149748802185,0.12897267937660217,0.17260527610778809,0.1785169392824173,0.156754270195961,0.1552741527557373,0.146368145942688,0.18685606122016907,0.15909230709075928,0.15563754737377167,0.18101154267787933,0.18192097544670105,0.14078077673912048,0.14347217977046967,0.19070680439472198],\"yaxis\":\"y\",\"type\":\"scatter\"},{\"customdata\":[[401,\"person_13\",\"in/person_13/1015.jpg\",5.016054789225261],[403,\"person_13\",\"in/person_13/765.jpg\",2.059595743815104],[406,\"person_13\",\"in/person_13/582.jpg\",8.144091288248697],[407,\"person_13\",\"in/person_13/492.jpg\",6.959526062011719],[408,\"person_13\",\"in/person_13/719.jpg\",4.761594136555989],[411,\"person_13\",\"in/person_13/1036.jpg\",7.8188832600911455],[412,\"person_13\",\"in/person_13/896.jpg\",3.0449142456054688],[413,\"person_13\",\"in/person_13/524.jpg\",9.009674072265623],[414,\"person_13\",\"in/person_13/737.jpg\",1.931592305501302],[415,\"person_13\",\"in/person_13/816.jpg\",2.8891016642252603],[416,\"person_13\",\"in/person_13/744.jpg\",0.917205810546875],[417,\"person_13\",\"in/person_13/773.jpg\",2.892176310221354],[418,\"person_13\",\"in/person_13/497.jpg\",8.969713846842447],[421,\"person_13\",\"in/person_13/520.jpg\",8.686965942382812],[422,\"person_13\",\"in/person_13/957.jpg\",7.749203999837239],[423,\"person_13\",\"in/person_13/729.jpg\",1.4166285196940105],[424,\"person_13\",\"in/person_13/502.jpg\",9.522905985514322],[425,\"person_13\",\"in/person_13/536.jpg\",8.584111531575521],[426,\"person_13\",\"in/person_13/746.jpg\",9.809679667154947],[427,\"person_13\",\"in/person_13/966.jpg\",7.0526275634765625],[428,\"person_13\",\"in/person_13/465.jpg\",8.207402547200521],[431,\"person_13\",\"in/person_13/733.jpg\",9.660741170247396],[432,\"person_13\",\"in/person_13/1059.jpg\",7.801236470540364],[433,\"person_13\",\"in/person_13/727.jpg\",8.694844563802084],[435,\"person_13\",\"in/person_13/850.jpg\",3.7810160319010415],[436,\"person_13\",\"in/person_13/1005.jpg\",6.465189615885417],[438,\"person_13\",\"in/person_13/741.jpg\",9.092882792154947],[439,\"person_13\",\"in/person_13/506.jpg\",9.35491689046224],[440,\"person_13\",\"in/person_13/464.jpg\",5.715667724609375],[441,\"person_13\",\"in/person_13/797.jpg\",1.6646804809570312],[443,\"person_13\",\"in/person_13/507.jpg\",9.082626342773438],[444,\"person_13\",\"in/person_13/1050.jpg\",8.16167958577474],[450,\"person_13\",\"in/person_13/751.jpg\",9.379475911458334],[451,\"person_13\",\"in/person_13/781.jpg\",3.410265604654948],[452,\"person_13\",\"in/person_13/932.jpg\",4.501035054524739],[453,\"person_13\",\"in/person_13/501.jpg\",8.771255493164062],[454,\"person_13\",\"in/person_13/562.jpg\",8.142468770345053],[456,\"person_13\",\"in/person_13/489.jpg\",9.962677001953123],[458,\"person_13\",\"in/person_13/543.jpg\",8.074267069498697],[459,\"person_13\",\"in/person_13/723.jpg\",1.1706186930338542],[460,\"person_13\",\"in/person_13/522.jpg\",9.60522206624349],[461,\"person_13\",\"in/person_13/747.jpg\",0.5605417887369791],[462,\"person_13\",\"in/person_13/986.jpg\",8.133374532063803],[464,\"person_13\",\"in/person_13/995.jpg\",7.500686645507812],[465,\"person_13\",\"in/person_13/532.jpg\",8.633956909179688],[466,\"person_13\",\"in/person_13/554.jpg\",8.924575805664062],[467,\"person_13\",\"in/person_13/571.jpg\",9.000134785970053],[469,\"person_13\",\"in/person_13/561.jpg\",9.598416646321615],[470,\"person_13\",\"in/person_13/885.jpg\",2.531219482421875],[471,\"person_13\",\"in/person_13/827.jpg\",3.1582361857096357],[472,\"person_13\",\"in/person_13/789.jpg\",3.262242635091146],[473,\"person_13\",\"in/person_13/839.jpg\",3.8326517740885415],[475,\"person_13\",\"in/person_13/547.jpg\",9.827438354492188],[479,\"person_13\",\"in/person_13/859.jpg\",4.500048319498698],[480,\"person_13\",\"in/person_13/977.jpg\",7.077313741048177],[483,\"person_13\",\"in/person_13/1025.jpg\",6.483896891276042],[485,\"person_13\",\"in/person_13/949.jpg\",7.2184702555338545],[486,\"person_13\",\"in/person_13/482.jpg\",5.4313405354817705],[488,\"person_13\",\"in/person_13/870.jpg\",3.3750228881835938],[490,\"person_13\",\"in/person_13/576.jpg\",8.623181660970053],[491,\"person_13\",\"in/person_13/469.jpg\",6.2530670166015625],[492,\"person_13\",\"in/person_13/753.jpg\",-0.1659062703450521],[493,\"person_13\",\"in/person_13/919.jpg\",2.9658991495768228],[495,\"person_13\",\"in/person_13/909.jpg\",2.537572224934896],[496,\"person_13\",\"in/person_13/549.jpg\",8.379536946614584],[497,\"person_13\",\"in/person_13/762.jpg\",0.992431640625],[499,\"person_13\",\"in/person_13/485.jpg\",5.806541442871094],[500,\"person_13\",\"in/person_13/475.jpg\",6.883959452311198],[502,\"person_13\",\"in/person_13/514.jpg\",9.238911946614584],[503,\"person_13\",\"in/person_13/557.jpg\",7.9912160237630205],[504,\"person_13\",\"in/person_13/941.jpg\",6.149955749511719]],\"hovertemplate\":\"labels=%{customdata[1]}<br>tx_openvino=%{x}<br>ty_openvino=%{y}<br>index=%{customdata[0]}<br>path=%{customdata[2]}<br>alignment_error=%{customdata[3]}<extra></extra>\",\"legendgroup\":\"person_13\",\"marker\":{\"color\":\"#778AAE\",\"symbol\":\"circle\"},\"mode\":\"markers\",\"name\":\"person_13\",\"orientation\":\"v\",\"showlegend\":true,\"x\":[0.28512758016586304,0.24478691816329956,0.5629765391349792,0.6133940815925598,0.3114180564880371,0.30044683814048767,0.26831352710723877,0.5696747899055481,0.29542940855026245,0.2545793652534485,0.29549822211265564,0.24103912711143494,0.6117870807647705,0.5689354538917542,0.276395708322525,0.3033175766468048,0.5510345697402954,0.5688157081604004,0.35337305068969727,0.27710914611816406,0.5588679909706116,0.3505735993385315,0.30465734004974365,0.3490029573440552,0.2544792890548706,0.27905866503715515,0.34982046484947205,0.6096580624580383,0.5917962789535522,0.25643807649612427,0.5549138188362122,0.3055691421031952,0.35310477018356323,0.25577691197395325,0.2775399386882782,0.6076381206512451,0.5814643502235413,0.5550658106803894,0.5725866556167603,0.3097105324268341,0.6073728799819946,0.2519717812538147,0.27407607436180115,0.2764257490634918,0.5791417360305786,0.6246067881584167,0.5675392746925354,0.6220759749412537,0.2675497233867645,0.24531568586826324,0.2404777854681015,0.24763907492160797,0.6228644847869873,0.2515678107738495,0.2750530540943146,0.2980283498764038,0.27189937233924866,0.6043251156806946,0.2664032280445099,0.5653238892555237,0.5960404872894287,0.24749229848384857,0.2784343659877777,0.2737846374511719,0.5748907923698425,0.25256961584091187,0.6130067110061646,0.6014186143875122,0.5702659487724304,0.5838003158569336,0.28126806020736694],\"xaxis\":\"x\",\"y\":[0.5818060636520386,0.543877124786377,0.5737163424491882,0.6506600975990295,0.5450840592384338,0.5970299243927002,0.596102237701416,0.6029471158981323,0.560411274433136,0.5795097351074219,0.5600402355194092,0.5588547587394714,0.6455296874046326,0.6023714542388916,0.5594414472579956,0.5556237101554871,0.6014668345451355,0.5916439890861511,0.5325997471809387,0.5687418580055237,0.6135004162788391,0.5350531339645386,0.6013038158416748,0.5358006954193115,0.5884020924568176,0.5800183415412903,0.5350812077522278,0.6339476704597473,0.6532489061355591,0.567066490650177,0.6020295023918152,0.5976295471191406,0.5332404971122742,0.5590174794197083,0.5418078899383545,0.6341226696968079,0.5868026614189148,0.5990006923675537,0.5921834111213684,0.5455650091171265,0.6332917809486389,0.5401309132575989,0.5778917074203491,0.577261209487915,0.6047253608703613,0.6429821252822876,0.5789327025413513,0.638171911239624,0.5925650596618652,0.5821883678436279,0.5635839104652405,0.585057258605957,0.6336020231246948,0.5913853049278259,0.5709368586540222,0.5875929594039917,0.5573163032531738,0.6535528302192688,0.5943341255187988,0.5744139552116394,0.6511742472648621,0.5402851700782776,0.5412259697914124,0.5363908410072327,0.5921452641487122,0.5444777011871338,0.6520386338233948,0.6465967893600464,0.6083517074584961,0.5867279767990112,0.5425052046775818],\"yaxis\":\"y\",\"type\":\"scatter\"},{\"customdata\":[[515,\"person_10\",\"in/person_10/940.jpg\",8.462898254394531]],\"hovertemplate\":\"labels=%{customdata[1]}<br>tx_openvino=%{x}<br>ty_openvino=%{y}<br>index=%{customdata[0]}<br>path=%{customdata[2]}<br>alignment_error=%{customdata[3]}<extra></extra>\",\"legendgroup\":\"person_10\",\"marker\":{\"color\":\"#862A16\",\"symbol\":\"circle\"},\"mode\":\"markers\",\"name\":\"person_10\",\"orientation\":\"v\",\"showlegend\":true,\"x\":[0.4262986183166504],\"xaxis\":\"x\",\"y\":[0.46729108691215515],\"yaxis\":\"y\",\"type\":\"scatter\"},{\"customdata\":[[535,\"person_23\",\"in/person_23/934.jpg\",5.426490783691406],[536,\"person_23\",\"in/person_23/953.jpg\",8.161552429199219],[538,\"person_23\",\"in/person_23/867.jpg\",3.936503092447917],[540,\"person_23\",\"in/person_23/945.jpg\",8.00457763671875],[541,\"person_23\",\"in/person_23/912.jpg\",4.2016042073567705],[545,\"person_23\",\"in/person_23/890.jpg\",5.5318756103515625],[547,\"person_23\",\"in/person_23/1035.jpg\",8.954485575358072],[548,\"person_23\",\"in/person_23/923.jpg\",4.550191243489583],[549,\"person_23\",\"in/person_23/1011.jpg\",9.135826110839844],[553,\"person_23\",\"in/person_23/971.jpg\",9.530662536621094],[555,\"person_23\",\"in/person_23/880.jpg\",5.290659586588542],[557,\"person_23\",\"in/person_23/1057.jpg\",9.838699340820312],[560,\"person_23\",\"in/person_23/992.jpg\",8.999972025553385],[561,\"person_23\",\"in/person_23/835.jpg\",6.60821533203125],[563,\"person_23\",\"in/person_23/825.jpg\",7.500867207845052],[565,\"person_23\",\"in/person_23/855.jpg\",4.2118174235026045],[568,\"person_23\",\"in/person_23/1002.jpg\",9.290133158365885],[571,\"person_23\",\"in/person_23/1044.jpg\",8.531486511230469],[573,\"person_23\",\"in/person_23/845.jpg\",3.9352798461914062],[574,\"person_23\",\"in/person_23/981.jpg\",8.186408996582031],[576,\"person_23\",\"in/person_23/961.jpg\",8.66211191813151],[577,\"person_23\",\"in/person_23/905.jpg\",3.414342244466146],[580,\"person_23\",\"in/person_23/1022.jpg\",8.879099527994791]],\"hovertemplate\":\"labels=%{customdata[1]}<br>tx_openvino=%{x}<br>ty_openvino=%{y}<br>index=%{customdata[0]}<br>path=%{customdata[2]}<br>alignment_error=%{customdata[3]}<extra></extra>\",\"legendgroup\":\"person_23\",\"marker\":{\"color\":\"#A777F1\",\"symbol\":\"circle\"},\"mode\":\"markers\",\"name\":\"person_23\",\"orientation\":\"v\",\"showlegend\":true,\"x\":[0.7525224685668945,0.750118613243103,0.7276613116264343,0.7620060443878174,0.7445156574249268,0.7236232757568359,0.7521165609359741,0.7524575591087341,0.7555047273635864,0.7470457553863525,0.7306396961212158,0.7473003268241882,0.7645986080169678,0.7230278253555298,0.7252435088157654,0.7244855761528015,0.7646645307540894,0.7549996972084045,0.7217487096786499,0.7624187469482422,0.7466709613800049,0.748284101486206,0.7532394528388977],\"xaxis\":\"x\",\"y\":[0.35431382060050964,0.3608798682689667,0.36794108152389526,0.35848310589790344,0.353031724691391,0.35729047656059265,0.3816612660884857,0.3508799076080322,0.3847792148590088,0.37401536107063293,0.3673389256000519,0.3819892406463623,0.37922537326812744,0.3725605607032776,0.3851436674594879,0.3626968562602997,0.38100001215934753,0.3746611475944519,0.3713645339012146,0.36741557717323303,0.366630882024765,0.3450333774089813,0.3874075710773468],\"yaxis\":\"y\",\"type\":\"scatter\"},{\"customdata\":[[582,\"person_17\",\"in/person_17/596.jpg\",9.462023417154947],[592,\"person_17\",\"in/person_17/603.jpg\",9.59959920247396],[596,\"person_17\",\"in/person_17/552.jpg\",5.055521647135417],[597,\"person_17\",\"in/person_17/588.jpg\",7.616297403971354]],\"hovertemplate\":\"labels=%{customdata[1]}<br>tx_openvino=%{x}<br>ty_openvino=%{y}<br>index=%{customdata[0]}<br>path=%{customdata[2]}<br>alignment_error=%{customdata[3]}<extra></extra>\",\"legendgroup\":\"person_17\",\"marker\":{\"color\":\"#620042\",\"symbol\":\"circle\"},\"mode\":\"markers\",\"name\":\"person_17\",\"orientation\":\"v\",\"showlegend\":true,\"x\":[0.5526355504989624,0.5539727807044983,0.4605292081832886,0.5487099289894104],\"xaxis\":\"x\",\"y\":[0.5828354358673096,0.5840218663215637,0.6450716853141785,0.5814107060432434],\"yaxis\":\"y\",\"type\":\"scatter\"},{\"customdata\":[[600,\"person_36\",\"in/person_36/1375.jpg\",7.858640034993489],[601,\"person_36\",\"in/person_36/1394.jpg\",9.547103881835938],[603,\"person_36\",\"in/person_36/1410.jpg\",6.77520751953125],[605,\"person_36\",\"in/person_36/1406.jpg\",8.980443318684896],[607,\"person_36\",\"in/person_36/1373.jpg\",7.731529235839844],[608,\"person_36\",\"in/person_36/1379.jpg\",5.3853302001953125],[609,\"person_36\",\"in/person_36/1388.jpg\",7.505236307779948],[610,\"person_36\",\"in/person_36/1398.jpg\",9.234222412109377]],\"hovertemplate\":\"labels=%{customdata[1]}<br>tx_openvino=%{x}<br>ty_openvino=%{y}<br>index=%{customdata[0]}<br>path=%{customdata[2]}<br>alignment_error=%{customdata[3]}<extra></extra>\",\"legendgroup\":\"person_36\",\"marker\":{\"color\":\"#1616A7\",\"symbol\":\"circle\"},\"mode\":\"markers\",\"name\":\"person_36\",\"orientation\":\"v\",\"showlegend\":true,\"x\":[0.46182703971862793,0.4815466105937958,0.4810146689414978,0.4817350506782532,0.4564667344093323,0.4627586603164673,0.48150771856307983,0.48251479864120483],\"xaxis\":\"x\",\"y\":[0.5579891800880432,0.5586874485015869,0.546042799949646,0.5466508269309998,0.5595785975456238,0.557732105255127,0.5572869777679443,0.5571829676628113],\"yaxis\":\"y\",\"type\":\"scatter\"},{\"customdata\":[[611,\"person_38\",\"in/person_38/1407.jpg\",8.35345713297526],[612,\"person_38\",\"in/person_38/1400.jpg\",8.732823689778646],[613,\"person_38\",\"in/person_38/1411.jpg\",8.774391174316406]],\"hovertemplate\":\"labels=%{customdata[1]}<br>tx_openvino=%{x}<br>ty_openvino=%{y}<br>index=%{customdata[0]}<br>path=%{customdata[2]}<br>alignment_error=%{customdata[3]}<extra></extra>\",\"legendgroup\":\"person_38\",\"marker\":{\"color\":\"#DA60CA\",\"symbol\":\"circle\"},\"mode\":\"markers\",\"name\":\"person_38\",\"orientation\":\"v\",\"showlegend\":true,\"x\":[0.6761442422866821,0.6763744354248047,0.676228940486908],\"xaxis\":\"x\",\"y\":[0.40611353516578674,0.40538546442985535,0.405444860458374],\"yaxis\":\"y\",\"type\":\"scatter\"},{\"customdata\":[[646,\"person_0\",\"in/person_0/677.jpg\",3.71514638264974],[648,\"person_0\",\"in/person_0/1038.jpg\",9.510848999023438],[649,\"person_0\",\"in/person_0/807.jpg\",5.15331522623698],[651,\"person_0\",\"in/person_0/563.jpg\",9.546666463216146],[652,\"person_0\",\"in/person_0/82.jpg\",9.88678232828776],[653,\"person_0\",\"in/person_0/1280.jpg\",2.4331537882486978],[654,\"person_0\",\"in/person_0/735.jpg\",6.432144165039063],[663,\"person_0\",\"in/person_0/487.jpg\",9.075271606445312],[666,\"person_0\",\"in/person_0/766.jpg\",5.702812194824219],[668,\"person_0\",\"in/person_0/860.jpg\",9.855636596679688],[684,\"person_0\",\"in/person_0/668.jpg\",3.074989318847656],[691,\"person_0\",\"in/person_0/724.jpg\",5.668037414550781],[694,\"person_0\",\"in/person_0/692.jpg\",4.110939025878906],[695,\"person_0\",\"in/person_0/798.jpg\",4.659576416015625],[701,\"person_0\",\"in/person_0/689.jpg\",2.977307637532552],[711,\"person_0\",\"in/person_0/535.jpg\",8.971468607584635],[718,\"person_0\",\"in/person_0/503.jpg\",7.0034739176432295],[721,\"person_0\",\"in/person_0/658.jpg\",5.600997924804688],[722,\"person_0\",\"in/person_0/718.jpg\",6.183443705240886],[728,\"person_0\",\"in/person_0/493.jpg\",8.22973378499349],[729,\"person_0\",\"in/person_0/1302.jpg\",9.85620625813802],[730,\"person_0\",\"in/person_0/748.jpg\",7.490203857421875],[731,\"person_0\",\"in/person_0/498.jpg\",7.570607503255208],[736,\"person_0\",\"in/person_0/525.jpg\",9.518043518066406],[737,\"person_0\",\"in/person_0/518.jpg\",7.1464385986328125],[740,\"person_0\",\"in/person_0/1287.jpg\",2.319086710611979],[741,\"person_0\",\"in/person_0/752.jpg\",6.187464396158855],[743,\"person_0\",\"in/person_0/513.jpg\",7.315330505371094],[747,\"person_0\",\"in/person_0/780.jpg\",6.068066914876302],[749,\"person_0\",\"in/person_0/694.jpg\",6.431109110514323],[752,\"person_0\",\"in/person_0/790.jpg\",5.996648152669271],[759,\"person_0\",\"in/person_0/529.jpg\",9.075632731119793],[768,\"person_0\",\"in/person_0/1295.jpg\",3.288398742675781],[772,\"person_0\",\"in/person_0/1275.jpg\",4.514714558919271],[779,\"person_0\",\"in/person_0/772.jpg\",4.840240478515625],[782,\"person_0\",\"in/person_0/684.jpg\",3.00884755452474],[783,\"person_0\",\"in/person_0/679.jpg\",4.3601938883463545],[784,\"person_0\",\"in/person_0/710.jpg\",9.681048075358072],[785,\"person_0\",\"in/person_0/92.jpg\",8.714129130045572],[788,\"person_0\",\"in/person_0/85.jpg\",9.836563110351562],[791,\"person_0\",\"in/person_0/760.jpg\",5.654894510904948],[792,\"person_0\",\"in/person_0/509.jpg\",7.260714213053386],[794,\"person_0\",\"in/person_0/712.jpg\",8.86041514078776],[798,\"person_0\",\"in/person_0/672.jpg\",3.350532531738281],[799,\"person_0\",\"in/person_0/95.jpg\",8.856267293294271],[802,\"person_0\",\"in/person_0/714.jpg\",6.6727549235026045],[811,\"person_0\",\"in/person_0/89.jpg\",9.55700174967448],[814,\"person_0\",\"in/person_0/742.jpg\",7.175610860188802],[815,\"person_0\",\"in/person_0/663.jpg\",3.9444656372070312],[817,\"person_0\",\"in/person_0/815.jpg\",8.061757405598959],[823,\"person_0\",\"in/person_0/730.jpg\",5.915008544921875],[824,\"person_0\",\"in/person_0/1399.jpg\",4.39892069498698]],\"hovertemplate\":\"labels=%{customdata[1]}<br>tx_openvino=%{x}<br>ty_openvino=%{y}<br>index=%{customdata[0]}<br>path=%{customdata[2]}<br>alignment_error=%{customdata[3]}<extra></extra>\",\"legendgroup\":\"person_0\",\"marker\":{\"color\":\"#6C4516\",\"symbol\":\"circle\"},\"mode\":\"markers\",\"name\":\"person_0\",\"orientation\":\"v\",\"showlegend\":true,\"x\":[0.04746675491333008,0.04666030779480934,0.003247958142310381,0.0716606006026268,0.07911644876003265,0.11806521564722061,0.04354013502597809,0.10089727491140366,0.0,0.022837787866592407,0.05013613775372505,0.0526261031627655,0.07271354645490646,0.002885531634092331,0.07294344156980515,0.0749039426445961,0.09700535237789154,0.057392071932554245,0.0588158443570137,0.1012147068977356,0.09985216706991196,0.015265417285263538,0.09706711769104004,0.08132889866828918,0.08821383863687515,0.11606253683567047,0.013595943339169025,0.09085210412740707,0.0007243217551149428,0.07279092073440552,0.002162139629945159,0.07912909984588623,0.11296520382165909,0.12121089547872543,0.0002962108119390905,0.07190321385860443,0.04845796525478363,0.06791224330663681,0.07437285780906677,0.07456715404987335,0.01256073359400034,0.09392140805721283,0.06744430959224701,0.04842850938439369,0.07088032364845276,0.06604059785604477,0.07643338292837143,0.03566833212971687,0.0545387864112854,0.01763470470905304,0.05181776359677315,0.08604834228754044],\"xaxis\":\"x\",\"y\":[0.23495718836784363,0.2810545861721039,0.2599520683288574,0.2715012729167938,0.294283926486969,0.2139650583267212,0.20566639304161072,0.272243469953537,0.24323435127735138,0.2653741240501404,0.24058064818382263,0.20669467747211456,0.22193871438503265,0.25867247581481934,0.22289885580539703,0.26999327540397644,0.2642331123352051,0.2518311142921448,0.1981431394815445,0.2700965702533722,0.23505942523479462,0.2311503142118454,0.2672644257545471,0.2646772265434265,0.2601519525051117,0.215173602104187,0.23530364036560059,0.2644824981689453,0.25177672505378723,0.22094851732254028,0.2555259168148041,0.2642059028148651,0.21667617559432983,0.21336326003074646,0.24690456688404083,0.2227977067232132,0.23287351429462433,0.19022759795188904,0.2878742814064026,0.2835896909236908,0.2394445389509201,0.259117066860199,0.18742814660072327,0.23663419485092163,0.28761911392211914,0.18969964981079102,0.28636136651039124,0.20915724337100983,0.2441549152135849,0.2631894648075104,0.20656070113182068,0.20161467790603638],\"yaxis\":\"y\",\"type\":\"scatter\"},{\"customdata\":[[827,\"person_14\",\"in/person_14/877.jpg\",5.515129089355469],[828,\"person_14\",\"in/person_14/474.jpg\",7.757301330566406],[829,\"person_14\",\"in/person_14/889.jpg\",7.977874755859375]],\"hovertemplate\":\"labels=%{customdata[1]}<br>tx_openvino=%{x}<br>ty_openvino=%{y}<br>index=%{customdata[0]}<br>path=%{customdata[2]}<br>alignment_error=%{customdata[3]}<extra></extra>\",\"legendgroup\":\"person_14\",\"marker\":{\"color\":\"#0D2A63\",\"symbol\":\"circle\"},\"mode\":\"markers\",\"name\":\"person_14\",\"orientation\":\"v\",\"showlegend\":true,\"x\":[0.5393205285072327,0.5408377051353455,0.5393036007881165],\"xaxis\":\"x\",\"y\":[0.502553403377533,0.49719980359077454,0.5030151605606079],\"yaxis\":\"y\",\"type\":\"scatter\"},{\"customdata\":[[834,\"person_19\",\"in/person_19/944.jpg\",5.242477416992188],[836,\"person_19\",\"in/person_19/922.jpg\",7.772816975911458],[837,\"person_19\",\"in/person_19/863.jpg\",2.135218302408854],[839,\"person_19\",\"in/person_19/756.jpg\",6.811505635579427],[841,\"person_19\",\"in/person_19/767.jpg\",4.117073059082031],[846,\"person_19\",\"in/person_19/810.jpg\",5.389915466308594],[847,\"person_19\",\"in/person_19/876.jpg\",2.872884114583333],[848,\"person_19\",\"in/person_19/750.jpg\",7.055684407552083],[854,\"person_19\",\"in/person_19/715.jpg\",5.561907450358073],[855,\"person_19\",\"in/person_19/937.jpg\",4.928853352864583],[856,\"person_19\",\"in/person_19/962.jpg\",1.4883804321289062],[861,\"person_19\",\"in/person_19/726.jpg\",5.693776448567708],[863,\"person_19\",\"in/person_19/954.jpg\",5.46124267578125],[865,\"person_19\",\"in/person_19/738.jpg\",5.7140045166015625],[866,\"person_19\",\"in/person_19/745.jpg\",4.9754486083984375],[868,\"person_19\",\"in/person_19/801.jpg\",6.25976053873698],[869,\"person_19\",\"in/person_19/853.jpg\",2.5560531616210938],[870,\"person_19\",\"in/person_19/821.jpg\",3.3508504231770835],[872,\"person_19\",\"in/person_19/775.jpg\",7.342913309733073],[874,\"person_19\",\"in/person_19/713.jpg\",6.489163716634114],[875,\"person_19\",\"in/person_19/720.jpg\",5.695960998535156],[877,\"person_19\",\"in/person_19/732.jpg\",6.269012451171875],[879,\"person_19\",\"in/person_19/784.jpg\",7.165458679199219],[880,\"person_19\",\"in/person_19/763.jpg\",7.1607920328776045],[883,\"person_19\",\"in/person_19/893.jpg\",6.918276468912761],[885,\"person_19\",\"in/person_19/831.jpg\",3.0760904947916665],[886,\"person_19\",\"in/person_19/792.jpg\",7.233141581217448],[887,\"person_19\",\"in/person_19/711.jpg\",9.788914998372396],[888,\"person_19\",\"in/person_19/754.jpg\",9.721997578938804],[889,\"person_19\",\"in/person_19/761.jpg\",4.983418782552083],[891,\"person_19\",\"in/person_19/841.jpg\",2.666572570800781],[895,\"person_19\",\"in/person_19/768.jpg\",7.4912261962890625]],\"hovertemplate\":\"labels=%{customdata[1]}<br>tx_openvino=%{x}<br>ty_openvino=%{y}<br>index=%{customdata[0]}<br>path=%{customdata[2]}<br>alignment_error=%{customdata[3]}<extra></extra>\",\"legendgroup\":\"person_19\",\"marker\":{\"color\":\"#AF0038\",\"symbol\":\"circle\"},\"mode\":\"markers\",\"name\":\"person_19\",\"orientation\":\"v\",\"showlegend\":true,\"x\":[0.4700930416584015,0.47533902525901794,0.5028371810913086,0.5097829699516296,0.5097606182098389,0.5074206590652466,0.4901018440723419,0.5029975771903992,0.49214911460876465,0.4765204191207886,0.46224063634872437,0.48834824562072754,0.46369874477386475,0.4914422929286957,0.5072367191314697,0.5148714184761047,0.4996218979358673,0.5093861222267151,0.5221531987190247,0.4852958023548126,0.4863729774951935,0.4819660186767578,0.5214959383010864,0.5155888199806213,0.4818821847438812,0.5014222264289856,0.5136245489120483,0.4878925383090973,0.5162894129753113,0.5105195641517639,0.49521976709365845,0.5058116316795349],\"xaxis\":\"x\",\"y\":[0.019716471433639526,0.0,0.0056081777438521385,0.03776312619447708,0.0680045560002327,0.014264311641454697,0.01996498741209507,0.04326224699616432,0.04659397527575493,0.004071305505931377,0.04068611189723015,0.03895382583141327,0.019349193200469017,0.03431609645485878,0.04284902662038803,0.01499577984213829,0.015984313562512398,0.005182808730751276,0.02546621300280094,0.05440313741564751,0.04800787940621376,0.040155552327632904,0.01931057870388031,0.03661365434527397,0.020247910171747208,0.0072083668783307076,0.020029934123158455,0.056108854711055756,0.06682050973176956,0.06660083681344986,0.008469272404909134,0.02637510932981968],\"yaxis\":\"y\",\"type\":\"scatter\"}],                        {\"template\":{\"data\":{\"histogram2dcontour\":[{\"type\":\"histogram2dcontour\",\"colorbar\":{\"outlinewidth\":0,\"ticks\":\"\"},\"colorscale\":[[0.0,\"#0d0887\"],[0.1111111111111111,\"#46039f\"],[0.2222222222222222,\"#7201a8\"],[0.3333333333333333,\"#9c179e\"],[0.4444444444444444,\"#bd3786\"],[0.5555555555555556,\"#d8576b\"],[0.6666666666666666,\"#ed7953\"],[0.7777777777777778,\"#fb9f3a\"],[0.8888888888888888,\"#fdca26\"],[1.0,\"#f0f921\"]]}],\"choropleth\":[{\"type\":\"choropleth\",\"colorbar\":{\"outlinewidth\":0,\"ticks\":\"\"}}],\"histogram2d\":[{\"type\":\"histogram2d\",\"colorbar\":{\"outlinewidth\":0,\"ticks\":\"\"},\"colorscale\":[[0.0,\"#0d0887\"],[0.1111111111111111,\"#46039f\"],[0.2222222222222222,\"#7201a8\"],[0.3333333333333333,\"#9c179e\"],[0.4444444444444444,\"#bd3786\"],[0.5555555555555556,\"#d8576b\"],[0.6666666666666666,\"#ed7953\"],[0.7777777777777778,\"#fb9f3a\"],[0.8888888888888888,\"#fdca26\"],[1.0,\"#f0f921\"]]}],\"heatmap\":[{\"type\":\"heatmap\",\"colorbar\":{\"outlinewidth\":0,\"ticks\":\"\"},\"colorscale\":[[0.0,\"#0d0887\"],[0.1111111111111111,\"#46039f\"],[0.2222222222222222,\"#7201a8\"],[0.3333333333333333,\"#9c179e\"],[0.4444444444444444,\"#bd3786\"],[0.5555555555555556,\"#d8576b\"],[0.6666666666666666,\"#ed7953\"],[0.7777777777777778,\"#fb9f3a\"],[0.8888888888888888,\"#fdca26\"],[1.0,\"#f0f921\"]]}],\"heatmapgl\":[{\"type\":\"heatmapgl\",\"colorbar\":{\"outlinewidth\":0,\"ticks\":\"\"},\"colorscale\":[[0.0,\"#0d0887\"],[0.1111111111111111,\"#46039f\"],[0.2222222222222222,\"#7201a8\"],[0.3333333333333333,\"#9c179e\"],[0.4444444444444444,\"#bd3786\"],[0.5555555555555556,\"#d8576b\"],[0.6666666666666666,\"#ed7953\"],[0.7777777777777778,\"#fb9f3a\"],[0.8888888888888888,\"#fdca26\"],[1.0,\"#f0f921\"]]}],\"contourcarpet\":[{\"type\":\"contourcarpet\",\"colorbar\":{\"outlinewidth\":0,\"ticks\":\"\"}}],\"contour\":[{\"type\":\"contour\",\"colorbar\":{\"outlinewidth\":0,\"ticks\":\"\"},\"colorscale\":[[0.0,\"#0d0887\"],[0.1111111111111111,\"#46039f\"],[0.2222222222222222,\"#7201a8\"],[0.3333333333333333,\"#9c179e\"],[0.4444444444444444,\"#bd3786\"],[0.5555555555555556,\"#d8576b\"],[0.6666666666666666,\"#ed7953\"],[0.7777777777777778,\"#fb9f3a\"],[0.8888888888888888,\"#fdca26\"],[1.0,\"#f0f921\"]]}],\"surface\":[{\"type\":\"surface\",\"colorbar\":{\"outlinewidth\":0,\"ticks\":\"\"},\"colorscale\":[[0.0,\"#0d0887\"],[0.1111111111111111,\"#46039f\"],[0.2222222222222222,\"#7201a8\"],[0.3333333333333333,\"#9c179e\"],[0.4444444444444444,\"#bd3786\"],[0.5555555555555556,\"#d8576b\"],[0.6666666666666666,\"#ed7953\"],[0.7777777777777778,\"#fb9f3a\"],[0.8888888888888888,\"#fdca26\"],[1.0,\"#f0f921\"]]}],\"mesh3d\":[{\"type\":\"mesh3d\",\"colorbar\":{\"outlinewidth\":0,\"ticks\":\"\"}}],\"scatter\":[{\"fillpattern\":{\"fillmode\":\"overlay\",\"size\":10,\"solidity\":0.2},\"type\":\"scatter\"}],\"parcoords\":[{\"type\":\"parcoords\",\"line\":{\"colorbar\":{\"outlinewidth\":0,\"ticks\":\"\"}}}],\"scatterpolargl\":[{\"type\":\"scatterpolargl\",\"marker\":{\"colorbar\":{\"outlinewidth\":0,\"ticks\":\"\"}}}],\"bar\":[{\"error_x\":{\"color\":\"#2a3f5f\"},\"error_y\":{\"color\":\"#2a3f5f\"},\"marker\":{\"line\":{\"color\":\"#E5ECF6\",\"width\":0.5},\"pattern\":{\"fillmode\":\"overlay\",\"size\":10,\"solidity\":0.2}},\"type\":\"bar\"}],\"scattergeo\":[{\"type\":\"scattergeo\",\"marker\":{\"colorbar\":{\"outlinewidth\":0,\"ticks\":\"\"}}}],\"scatterpolar\":[{\"type\":\"scatterpolar\",\"marker\":{\"colorbar\":{\"outlinewidth\":0,\"ticks\":\"\"}}}],\"histogram\":[{\"marker\":{\"pattern\":{\"fillmode\":\"overlay\",\"size\":10,\"solidity\":0.2}},\"type\":\"histogram\"}],\"scattergl\":[{\"type\":\"scattergl\",\"marker\":{\"colorbar\":{\"outlinewidth\":0,\"ticks\":\"\"}}}],\"scatter3d\":[{\"type\":\"scatter3d\",\"line\":{\"colorbar\":{\"outlinewidth\":0,\"ticks\":\"\"}},\"marker\":{\"colorbar\":{\"outlinewidth\":0,\"ticks\":\"\"}}}],\"scattermapbox\":[{\"type\":\"scattermapbox\",\"marker\":{\"colorbar\":{\"outlinewidth\":0,\"ticks\":\"\"}}}],\"scatterternary\":[{\"type\":\"scatterternary\",\"marker\":{\"colorbar\":{\"outlinewidth\":0,\"ticks\":\"\"}}}],\"scattercarpet\":[{\"type\":\"scattercarpet\",\"marker\":{\"colorbar\":{\"outlinewidth\":0,\"ticks\":\"\"}}}],\"carpet\":[{\"aaxis\":{\"endlinecolor\":\"#2a3f5f\",\"gridcolor\":\"white\",\"linecolor\":\"white\",\"minorgridcolor\":\"white\",\"startlinecolor\":\"#2a3f5f\"},\"baxis\":{\"endlinecolor\":\"#2a3f5f\",\"gridcolor\":\"white\",\"linecolor\":\"white\",\"minorgridcolor\":\"white\",\"startlinecolor\":\"#2a3f5f\"},\"type\":\"carpet\"}],\"table\":[{\"cells\":{\"fill\":{\"color\":\"#EBF0F8\"},\"line\":{\"color\":\"white\"}},\"header\":{\"fill\":{\"color\":\"#C8D4E3\"},\"line\":{\"color\":\"white\"}},\"type\":\"table\"}],\"barpolar\":[{\"marker\":{\"line\":{\"color\":\"#E5ECF6\",\"width\":0.5},\"pattern\":{\"fillmode\":\"overlay\",\"size\":10,\"solidity\":0.2}},\"type\":\"barpolar\"}],\"pie\":[{\"automargin\":true,\"type\":\"pie\"}]},\"layout\":{\"autotypenumbers\":\"strict\",\"colorway\":[\"#636efa\",\"#EF553B\",\"#00cc96\",\"#ab63fa\",\"#FFA15A\",\"#19d3f3\",\"#FF6692\",\"#B6E880\",\"#FF97FF\",\"#FECB52\"],\"font\":{\"color\":\"#2a3f5f\"},\"hovermode\":\"closest\",\"hoverlabel\":{\"align\":\"left\"},\"paper_bgcolor\":\"white\",\"plot_bgcolor\":\"#E5ECF6\",\"polar\":{\"bgcolor\":\"#E5ECF6\",\"angularaxis\":{\"gridcolor\":\"white\",\"linecolor\":\"white\",\"ticks\":\"\"},\"radialaxis\":{\"gridcolor\":\"white\",\"linecolor\":\"white\",\"ticks\":\"\"}},\"ternary\":{\"bgcolor\":\"#E5ECF6\",\"aaxis\":{\"gridcolor\":\"white\",\"linecolor\":\"white\",\"ticks\":\"\"},\"baxis\":{\"gridcolor\":\"white\",\"linecolor\":\"white\",\"ticks\":\"\"},\"caxis\":{\"gridcolor\":\"white\",\"linecolor\":\"white\",\"ticks\":\"\"}},\"coloraxis\":{\"colorbar\":{\"outlinewidth\":0,\"ticks\":\"\"}},\"colorscale\":{\"sequential\":[[0.0,\"#0d0887\"],[0.1111111111111111,\"#46039f\"],[0.2222222222222222,\"#7201a8\"],[0.3333333333333333,\"#9c179e\"],[0.4444444444444444,\"#bd3786\"],[0.5555555555555556,\"#d8576b\"],[0.6666666666666666,\"#ed7953\"],[0.7777777777777778,\"#fb9f3a\"],[0.8888888888888888,\"#fdca26\"],[1.0,\"#f0f921\"]],\"sequentialminus\":[[0.0,\"#0d0887\"],[0.1111111111111111,\"#46039f\"],[0.2222222222222222,\"#7201a8\"],[0.3333333333333333,\"#9c179e\"],[0.4444444444444444,\"#bd3786\"],[0.5555555555555556,\"#d8576b\"],[0.6666666666666666,\"#ed7953\"],[0.7777777777777778,\"#fb9f3a\"],[0.8888888888888888,\"#fdca26\"],[1.0,\"#f0f921\"]],\"diverging\":[[0,\"#8e0152\"],[0.1,\"#c51b7d\"],[0.2,\"#de77ae\"],[0.3,\"#f1b6da\"],[0.4,\"#fde0ef\"],[0.5,\"#f7f7f7\"],[0.6,\"#e6f5d0\"],[0.7,\"#b8e186\"],[0.8,\"#7fbc41\"],[0.9,\"#4d9221\"],[1,\"#276419\"]]},\"xaxis\":{\"gridcolor\":\"white\",\"linecolor\":\"white\",\"ticks\":\"\",\"title\":{\"standoff\":15},\"zerolinecolor\":\"white\",\"automargin\":true,\"zerolinewidth\":2},\"yaxis\":{\"gridcolor\":\"white\",\"linecolor\":\"white\",\"ticks\":\"\",\"title\":{\"standoff\":15},\"zerolinecolor\":\"white\",\"automargin\":true,\"zerolinewidth\":2},\"scene\":{\"xaxis\":{\"backgroundcolor\":\"#E5ECF6\",\"gridcolor\":\"white\",\"linecolor\":\"white\",\"showbackground\":true,\"ticks\":\"\",\"zerolinecolor\":\"white\",\"gridwidth\":2},\"yaxis\":{\"backgroundcolor\":\"#E5ECF6\",\"gridcolor\":\"white\",\"linecolor\":\"white\",\"showbackground\":true,\"ticks\":\"\",\"zerolinecolor\":\"white\",\"gridwidth\":2},\"zaxis\":{\"backgroundcolor\":\"#E5ECF6\",\"gridcolor\":\"white\",\"linecolor\":\"white\",\"showbackground\":true,\"ticks\":\"\",\"zerolinecolor\":\"white\",\"gridwidth\":2}},\"shapedefaults\":{\"line\":{\"color\":\"#2a3f5f\"}},\"annotationdefaults\":{\"arrowcolor\":\"#2a3f5f\",\"arrowhead\":0,\"arrowwidth\":1},\"geo\":{\"bgcolor\":\"white\",\"landcolor\":\"#E5ECF6\",\"subunitcolor\":\"white\",\"showland\":true,\"showlakes\":true,\"lakecolor\":\"white\"},\"title\":{\"x\":0.05},\"mapbox\":{\"style\":\"light\"}}},\"xaxis\":{\"anchor\":\"y\",\"domain\":[0.0,1.0],\"title\":{\"text\":\"tx_openvino\"}},\"yaxis\":{\"anchor\":\"x\",\"domain\":[0.0,1.0],\"title\":{\"text\":\"ty_openvino\"}},\"legend\":{\"title\":{\"text\":\"labels\"},\"tracegroupgap\":0},\"margin\":{\"t\":60}},                        {\"responsive\": true}                    ).then(function(){\n",
       "                            \n",
       "var gd = document.getElementById('fa04027a-f60c-4207-934f-7c3958105d67');\n",
       "var x = new MutationObserver(function (mutations, observer) {{\n",
       "        var display = window.getComputedStyle(gd).display;\n",
       "        if (!display || display === 'none') {{\n",
       "            console.log([gd, 'removed!']);\n",
       "            Plotly.purge(gd);\n",
       "            observer.disconnect();\n",
       "        }}\n",
       "}});\n",
       "\n",
       "// Listen for the removal of the full notebook cells\n",
       "var notebookContainer = gd.closest('#notebook-container');\n",
       "if (notebookContainer) {{\n",
       "    x.observe(notebookContainer, {childList: true});\n",
       "}}\n",
       "\n",
       "// Listen for the clearing of the current output cell\n",
       "var outputEl = gd.closest('.output');\n",
       "if (outputEl) {{\n",
       "    x.observe(outputEl, {childList: true});\n",
       "}}\n",
       "\n",
       "                        })                };                });            </script>        </div>"
      ]
     },
     "metadata": {},
     "output_type": "display_data"
    }
   ],
   "source": [
    "fig = px.scatter(df, x=\"tx_openvino\", y=\"ty_openvino\", color=\"labels\", color_discrete_sequence=px.colors.qualitative.Dark24, hover_data=[\"index\",\"labels\", \"path\",\"alignment_error\"])\n",
    "fig.show()"
   ]
  },
  {
   "cell_type": "code",
   "execution_count": 258,
   "metadata": {},
   "outputs": [
    {
     "data": {
      "application/vnd.plotly.v1+json": {
       "config": {
        "plotlyServerURL": "https://plot.ly"
       },
       "data": [
        {
         "customdata": [
          [
           14,
           "person_27",
           "in/person_27/943.jpg",
           2.9810358683268228
          ],
          [
           35,
           "person_27",
           "in/person_27/951.jpg",
           7.899172465006511
          ]
         ],
         "hovertemplate": "labels=%{customdata[1]}<br>tx_dlib=%{x}<br>ty_dlib=%{y}<br>index=%{customdata[0]}<br>path=%{customdata[2]}<br>alignment_error=%{customdata[3]}<extra></extra>",
         "legendgroup": "person_27",
         "marker": {
          "color": "#2E91E5",
          "symbol": "circle"
         },
         "mode": "markers",
         "name": "person_27",
         "orientation": "v",
         "showlegend": true,
         "type": "scatter",
         "x": [
          0.8530963659286499,
          0.8531337976455688
         ],
         "xaxis": "x",
         "y": [
          0.21269437670707703,
          0.21087045967578888
         ],
         "yaxis": "y"
        },
        {
         "customdata": [
          [
           40,
           "person_12",
           "in/person_12/476.jpg",
           0.4232762654622395
          ],
          [
           41,
           "person_12",
           "in/person_12/494.jpg",
           7.251141866048177
          ],
          [
           42,
           "person_12",
           "in/person_12/592.jpg",
           8.43994394938151
          ],
          [
           44,
           "person_12",
           "in/person_12/585.jpg",
           8.118565877278646
          ],
          [
           46,
           "person_12",
           "in/person_12/486.jpg",
           -1.8175684611002605
          ],
          [
           47,
           "person_12",
           "in/person_12/516.jpg",
           1.2816874186197915
          ],
          [
           48,
           "person_12",
           "in/person_12/480.jpg",
           0.8033727010091146
          ],
          [
           49,
           "person_12",
           "in/person_12/443.jpg",
           3.320551554361979
          ],
          [
           50,
           "person_12",
           "in/person_12/617.jpg",
           7.864626566569011
          ],
          [
           51,
           "person_12",
           "in/person_12/510.jpg",
           2.5279719034830728
          ],
          [
           52,
           "person_12",
           "in/person_12/495.jpg",
           3.239756266276041
          ],
          [
           53,
           "person_12",
           "in/person_12/572.jpg",
           5.463826497395833
          ],
          [
           54,
           "person_12",
           "in/person_12/540.jpg",
           1.528411865234375
          ],
          [
           57,
           "person_12",
           "in/person_12/454.jpg",
           1.7810872395833333
          ],
          [
           59,
           "person_12",
           "in/person_12/553.jpg",
           1.90362548828125
          ],
          [
           62,
           "person_12",
           "in/person_12/440.jpg",
           3.4744135538736978
          ],
          [
           63,
           "person_12",
           "in/person_12/463.jpg",
           0.8574879964192709
          ],
          [
           65,
           "person_12",
           "in/person_12/472.jpg",
           -0.4162063598632812
          ],
          [
           66,
           "person_12",
           "in/person_12/604.jpg",
           8.270991007486979
          ],
          [
           69,
           "person_12",
           "in/person_12/521.jpg",
           0.2968012491861979
          ],
          [
           70,
           "person_12",
           "in/person_12/567.jpg",
           3.504096984863281
          ],
          [
           71,
           "person_12",
           "in/person_12/508.jpg",
           9.775377909342447
          ],
          [
           72,
           "person_12",
           "in/person_12/449.jpg",
           4.5519053141276045
          ],
          [
           75,
           "person_12",
           "in/person_12/528.jpg",
           0.2398808797200521
          ],
          [
           77,
           "person_12",
           "in/person_12/504.jpg",
           4.114219665527344
          ],
          [
           78,
           "person_12",
           "in/person_12/623.jpg",
           7.7812143961588545
          ],
          [
           79,
           "person_12",
           "in/person_12/546.jpg",
           0.9495569864908854
          ],
          [
           83,
           "person_12",
           "in/person_12/579.jpg",
           7.714235941569011
          ],
          [
           87,
           "person_12",
           "in/person_12/459.jpg",
           0.3160374959309895
          ],
          [
           88,
           "person_12",
           "in/person_12/533.jpg",
           1.2022298177083333
          ],
          [
           89,
           "person_12",
           "in/person_12/610.jpg",
           7.586682637532552
          ],
          [
           90,
           "person_12",
           "in/person_12/491.jpg",
           -0.3314310709635417
          ],
          [
           92,
           "person_12",
           "in/person_12/461.jpg",
           -0.1225128173828125
          ],
          [
           95,
           "person_12",
           "in/person_12/500.jpg",
           4.519317626953125
          ],
          [
           97,
           "person_12",
           "in/person_12/452.jpg",
           4.635106404622396
          ],
          [
           100,
           "person_12",
           "in/person_12/599.jpg",
           8.391713460286459
          ],
          [
           101,
           "person_12",
           "in/person_12/446.jpg",
           3.6756184895833335
          ],
          [
           103,
           "person_12",
           "in/person_12/560.jpg",
           1.752337137858073
          ],
          [
           105,
           "person_12",
           "in/person_12/468.jpg",
           -0.2003224690755208
          ],
          [
           108,
           "person_12",
           "in/person_12/570.jpg",
           9.941548665364584
          ],
          [
           109,
           "person_12",
           "in/person_12/488.jpg",
           7.642931620279948
          ],
          [
           110,
           "person_12",
           "in/person_12/457.jpg",
           2.2299346923828125
          ]
         ],
         "hovertemplate": "labels=%{customdata[1]}<br>tx_dlib=%{x}<br>ty_dlib=%{y}<br>index=%{customdata[0]}<br>path=%{customdata[2]}<br>alignment_error=%{customdata[3]}<extra></extra>",
         "legendgroup": "person_12",
         "marker": {
          "color": "#E15F99",
          "symbol": "circle"
         },
         "mode": "markers",
         "name": "person_12",
         "orientation": "v",
         "showlegend": true,
         "type": "scatter",
         "x": [
          0.958722710609436,
          0.9796657562255859,
          0.9159716367721558,
          0.9056787490844727,
          0.9342303276062012,
          0.9393869042396545,
          0.9515904188156128,
          0.992894172668457,
          0.9332672357559204,
          0.9468631744384766,
          0.9597176313400269,
          0.9096989631652832,
          0.9215649366378784,
          0.9789887070655823,
          0.9064974188804626,
          0.9917871952056885,
          0.9689502716064453,
          0.9665236473083496,
          0.9288370013237,
          0.9369388222694397,
          0.9088253974914551,
          0.9773304462432861,
          0.9957954287528992,
          0.9325817227363586,
          0.9488686323165894,
          0.9205918908119202,
          0.9205320477485657,
          0.9119070172309875,
          0.9761011004447937,
          0.9301049709320068,
          0.9326213002204895,
          0.9473069310188293,
          0.9731298685073853,
          0.9588896632194519,
          0.9912384748458862,
          0.921515703201294,
          1,
          0.9037328362464905,
          0.9648672342300415,
          0.9504945278167725,
          0.9773311018943787,
          0.9803125858306885
         ],
         "xaxis": "x",
         "y": [
          0.6938483715057373,
          0.6073416471481323,
          0.6201804280281067,
          0.6263660788536072,
          0.6941060423851013,
          0.6574997901916504,
          0.6981360912322998,
          0.6777477860450745,
          0.6255100965499878,
          0.6606872081756592,
          0.6495659947395325,
          0.6561338305473328,
          0.6783364415168762,
          0.655297040939331,
          0.6712499856948853,
          0.678867757320404,
          0.6762189865112305,
          0.6900162696838379,
          0.6193809509277344,
          0.6623213291168213,
          0.6610268354415894,
          0.6074470281600952,
          0.6588916182518005,
          0.6727651953697205,
          0.6557787656784058,
          0.6316975355148315,
          0.668302059173584,
          0.6495344638824463,
          0.6650487780570984,
          0.6770930886268616,
          0.6266263127326965,
          0.6736716032028198,
          0.6709756851196289,
          0.6499242186546326,
          0.652097761631012,
          0.6151276230812073,
          0.6681066751480103,
          0.6710613369941711,
          0.6833591461181641,
          0.6194422245025635,
          0.6041111946105957,
          0.661811351776123
         ],
         "yaxis": "y"
        },
        {
         "customdata": [
          [
           111,
           "person_39",
           "in/person_39/1402.jpg",
           5.444775899251302
          ]
         ],
         "hovertemplate": "labels=%{customdata[1]}<br>tx_dlib=%{x}<br>ty_dlib=%{y}<br>index=%{customdata[0]}<br>path=%{customdata[2]}<br>alignment_error=%{customdata[3]}<extra></extra>",
         "legendgroup": "person_39",
         "marker": {
          "color": "#1CA71C",
          "symbol": "circle"
         },
         "mode": "markers",
         "name": "person_39",
         "orientation": "v",
         "showlegend": true,
         "type": "scatter",
         "x": [
          0.3762243688106537
         ],
         "xaxis": "x",
         "y": [
          0.11668337136507034
         ],
         "yaxis": "y"
        },
        {
         "customdata": [
          [
           112,
           "person_16",
           "in/person_16/590.jpg",
           4.347554524739583
          ],
          [
           113,
           "person_16",
           "in/person_16/654.jpg",
           6.33800760904948
          ],
          [
           120,
           "person_16",
           "in/person_16/646.jpg",
           1.409472147623698
          ],
          [
           125,
           "person_16",
           "in/person_16/577.jpg",
           1.578460693359375
          ],
          [
           126,
           "person_16",
           "in/person_16/539.jpg",
           3.548365275065104
          ],
          [
           128,
           "person_16",
           "in/person_16/597.jpg",
           3.7531585693359375
          ],
          [
           130,
           "person_16",
           "in/person_16/1055.jpg",
           9.695543924967447
          ],
          [
           132,
           "person_16",
           "in/person_16/1046.jpg",
           8.429845174153646
          ],
          [
           134,
           "person_16",
           "in/person_16/559.jpg",
           1.6759694417317708
          ],
          [
           135,
           "person_16",
           "in/person_16/634.jpg",
           4.474533081054688
          ],
          [
           136,
           "person_16",
           "in/person_16/564.jpg",
           2.423070271809896
          ]
         ],
         "hovertemplate": "labels=%{customdata[1]}<br>tx_dlib=%{x}<br>ty_dlib=%{y}<br>index=%{customdata[0]}<br>path=%{customdata[2]}<br>alignment_error=%{customdata[3]}<extra></extra>",
         "legendgroup": "person_16",
         "marker": {
          "color": "#FB0D0D",
          "symbol": "circle"
         },
         "mode": "markers",
         "name": "person_16",
         "orientation": "v",
         "showlegend": true,
         "type": "scatter",
         "x": [
          0.5832556486129761,
          0.6044931411743164,
          0.6017963290214539,
          0.5829954743385315,
          0.5966572165489197,
          0.5849053859710693,
          0.5987561941146851,
          0.5993287563323975,
          0.5810892581939697,
          0.5990919470787048,
          0.5829825401306152
         ],
         "xaxis": "x",
         "y": [
          0.2253103107213974,
          0.22197325527668,
          0.22165274620056152,
          0.2386961281299591,
          0.23949430882930756,
          0.22490429878234863,
          0.26243627071380615,
          0.2626050114631653,
          0.2443503886461258,
          0.22450128197669983,
          0.2407519668340683
         ],
         "yaxis": "y"
        },
        {
         "customdata": [
          [
           144,
           "person_22",
           "in/person_22/888.jpg",
           5.906545003255208
          ],
          [
           145,
           "person_22",
           "in/person_22/822.jpg",
           9.805567423502604
          ],
          [
           146,
           "person_22",
           "in/person_22/866.jpg",
           7.965443929036458
          ],
          [
           151,
           "person_22",
           "in/person_22/938.jpg",
           7.360481262207031
          ],
          [
           152,
           "person_22",
           "in/person_22/802.jpg",
           5.914471944173177
          ],
          [
           157,
           "person_22",
           "in/person_22/879.jpg",
           7.742368062337239
          ],
          [
           158,
           "person_22",
           "in/person_22/846.jpg",
           9.114608764648438
          ],
          [
           159,
           "person_22",
           "in/person_22/794.jpg",
           4.564908345540364
          ],
          [
           160,
           "person_22",
           "in/person_22/904.jpg",
           3.3595174153645835
          ],
          [
           163,
           "person_22",
           "in/person_22/814.jpg",
           6.822428385416667
          ],
          [
           164,
           "person_22",
           "in/person_22/924.jpg",
           6.612495422363281
          ],
          [
           165,
           "person_22",
           "in/person_22/783.jpg",
           4.944023132324219
          ],
          [
           166,
           "person_22",
           "in/person_22/913.jpg",
           4.5740000406901045
          ],
          [
           171,
           "person_22",
           "in/person_22/779.jpg",
           3.605677286783854
          ],
          [
           173,
           "person_22",
           "in/person_22/771.jpg",
           7.111796061197917
          ],
          [
           176,
           "person_22",
           "in/person_22/857.jpg",
           8.821642557779947
          ]
         ],
         "hovertemplate": "labels=%{customdata[1]}<br>tx_dlib=%{x}<br>ty_dlib=%{y}<br>index=%{customdata[0]}<br>path=%{customdata[2]}<br>alignment_error=%{customdata[3]}<extra></extra>",
         "legendgroup": "person_22",
         "marker": {
          "color": "#DA16FF",
          "symbol": "circle"
         },
         "mode": "markers",
         "name": "person_22",
         "orientation": "v",
         "showlegend": true,
         "type": "scatter",
         "x": [
          0.7349696755409241,
          0.7271286845207214,
          0.723618745803833,
          0.7167061567306519,
          0.743317723274231,
          0.7406156063079834,
          0.7161346673965454,
          0.741665780544281,
          0.7051257491111755,
          0.733521044254303,
          0.7136809229850769,
          0.7430335879325867,
          0.7139691114425659,
          0.7312303185462952,
          0.726540744304657,
          0.7160003781318665
         ],
         "xaxis": "x",
         "y": [
          0.10099185258150101,
          0.1260869950056076,
          0.10277174413204193,
          0.13374336063861847,
          0.1296837031841278,
          0.10448954254388809,
          0.10688497126102448,
          0.12133736163377762,
          0.12142738699913025,
          0.13129901885986328,
          0.13558711111545563,
          0.11553821712732315,
          0.12873229384422302,
          0.11429458856582642,
          0.11458898335695267,
          0.1087806448340416
         ],
         "yaxis": "y"
        },
        {
         "customdata": [
          [
           179,
           "person_20",
           "in/person_20/721.jpg",
           8.07818603515625
          ],
          [
           184,
           "person_20",
           "in/person_20/740.jpg",
           8.915496826171875
          ]
         ],
         "hovertemplate": "labels=%{customdata[1]}<br>tx_dlib=%{x}<br>ty_dlib=%{y}<br>index=%{customdata[0]}<br>path=%{customdata[2]}<br>alignment_error=%{customdata[3]}<extra></extra>",
         "legendgroup": "person_20",
         "marker": {
          "color": "#222A2A",
          "symbol": "circle"
         },
         "mode": "markers",
         "name": "person_20",
         "orientation": "v",
         "showlegend": true,
         "type": "scatter",
         "x": [
          0.29978320002555847,
          0.2997249662876129
         ],
         "xaxis": "x",
         "y": [
          0.5163343548774719,
          0.5164473652839661
         ],
         "yaxis": "y"
        },
        {
         "customdata": [
          [
           191,
           "person_11",
           "in/person_11/484.jpg",
           -2.129155476888021
          ],
          [
           192,
           "person_11",
           "in/person_11/499.jpg",
           3.853444417317709
          ],
          [
           193,
           "person_11",
           "in/person_11/490.jpg",
           0.4719899495442708
          ],
          [
           194,
           "person_11",
           "in/person_11/414.jpg",
           2.9633687337239585
          ],
          [
           195,
           "person_11",
           "in/person_11/428.jpg",
           8.256304423014322
          ],
          [
           196,
           "person_11",
           "in/person_11/426.jpg",
           7.904650370279948
          ],
          [
           197,
           "person_11",
           "in/person_11/417.jpg",
           5.120160420735677
          ],
          [
           198,
           "person_11",
           "in/person_11/422.jpg",
           6.242162068684896
          ],
          [
           199,
           "person_11",
           "in/person_11/431.jpg",
           5.873067220052083
          ],
          [
           200,
           "person_11",
           "in/person_11/413.jpg",
           3.9685465494791674
          ],
          [
           201,
           "person_11",
           "in/person_11/477.jpg",
           9.08258056640625
          ],
          [
           202,
           "person_11",
           "in/person_11/481.jpg",
           1.9197998046875
          ],
          [
           203,
           "person_11",
           "in/person_11/496.jpg",
           2.17156728108724
          ],
          [
           204,
           "person_11",
           "in/person_11/424.jpg",
           8.115514119466146
          ],
          [
           205,
           "person_11",
           "in/person_11/404.jpg",
           4.614163716634114
          ]
         ],
         "hovertemplate": "labels=%{customdata[1]}<br>tx_dlib=%{x}<br>ty_dlib=%{y}<br>index=%{customdata[0]}<br>path=%{customdata[2]}<br>alignment_error=%{customdata[3]}<extra></extra>",
         "legendgroup": "person_11",
         "marker": {
          "color": "#B68100",
          "symbol": "circle"
         },
         "mode": "markers",
         "name": "person_11",
         "orientation": "v",
         "showlegend": true,
         "type": "scatter",
         "x": [
          0.974189281463623,
          0.9719160795211792,
          0.9725053310394287,
          0.9680880904197693,
          0.9484345316886902,
          0.9508353471755981,
          0.9665412306785583,
          0.9612525105476379,
          0.957164466381073,
          0.974260687828064,
          0.9434600472450256,
          0.9527885317802429,
          0.9751672744750977,
          0.9536556005477905,
          0.9559176564216614
         ],
         "xaxis": "x",
         "y": [
          0.2041880041360855,
          0.19739630818367004,
          0.20109692215919495,
          0.1710168868303299,
          0.17462508380413055,
          0.1735173612833023,
          0.17016854882240295,
          0.1675577610731125,
          0.17780040204524994,
          0.1811128556728363,
          0.19151441752910614,
          0.19965627789497375,
          0.20027486979961395,
          0.17569251358509064,
          0.1924077570438385
         ],
         "yaxis": "y"
        },
        {
         "customdata": [
          [
           206,
           "person_26",
           "in/person_26/990.jpg",
           5.537689208984375
          ],
          [
           207,
           "person_26",
           "in/person_26/1102.jpg",
           9.487894694010416
          ],
          [
           209,
           "person_26",
           "in/person_26/1078.jpg",
           9.52886962890625
          ],
          [
           211,
           "person_26",
           "in/person_26/933.jpg",
           5.618583679199219
          ],
          [
           212,
           "person_26",
           "in/person_26/920.jpg",
           7.528856913248698
          ],
          [
           215,
           "person_26",
           "in/person_26/1006.jpg",
           6.001665751139323
          ],
          [
           218,
           "person_26",
           "in/person_26/1040.jpg",
           6.325925191243489
          ],
          [
           219,
           "person_26",
           "in/person_26/886.jpg",
           7.028615315755208
          ],
          [
           220,
           "person_26",
           "in/person_26/1052.jpg",
           7.471542358398437
          ],
          [
           221,
           "person_26",
           "in/person_26/1091.jpg",
           7.7104848225911455
          ],
          [
           223,
           "person_26",
           "in/person_26/1027.jpg",
           4.673271179199219
          ],
          [
           224,
           "person_26",
           "in/person_26/959.jpg",
           5.080586751302083
          ],
          [
           226,
           "person_26",
           "in/person_26/1064.jpg",
           7.95428466796875
          ],
          [
           227,
           "person_26",
           "in/person_26/875.jpg",
           6.722951253255208
          ],
          [
           231,
           "person_26",
           "in/person_26/996.jpg",
           6.078725179036458
          ],
          [
           232,
           "person_26",
           "in/person_26/978.jpg",
           5.597719828287761
          ],
          [
           233,
           "person_26",
           "in/person_26/970.jpg",
           7.356564839680989
          ]
         ],
         "hovertemplate": "labels=%{customdata[1]}<br>tx_dlib=%{x}<br>ty_dlib=%{y}<br>index=%{customdata[0]}<br>path=%{customdata[2]}<br>alignment_error=%{customdata[3]}<extra></extra>",
         "legendgroup": "person_26",
         "marker": {
          "color": "#750D86",
          "symbol": "circle"
         },
         "mode": "markers",
         "name": "person_26",
         "orientation": "v",
         "showlegend": true,
         "type": "scatter",
         "x": [
          0.6960603594779968,
          0.6383072733879089,
          0.6371709108352661,
          0.6831523776054382,
          0.6806715726852417,
          0.7049734592437744,
          0.6701256036758423,
          0.7034740447998047,
          0.6455892324447632,
          0.6374036073684692,
          0.6661097407341003,
          0.6857637166976929,
          0.6362993717193604,
          0.7045441269874573,
          0.6969518065452576,
          0.691510796546936,
          0.6868444085121155
         ],
         "xaxis": "x",
         "y": [
          0.39401954412460327,
          0.38277167081832886,
          0.4104860723018646,
          0.37934401631355286,
          0.3741197884082794,
          0.3961428701877594,
          0.394922137260437,
          0.3781503140926361,
          0.4069255590438843,
          0.38384220004081726,
          0.398587703704834,
          0.38900041580200195,
          0.41188979148864746,
          0.37486255168914795,
          0.39298558235168457,
          0.39518120884895325,
          0.4066069722175598
         ],
         "yaxis": "y"
        },
        {
         "customdata": [
          [
           236,
           "person_34",
           "in/person_34/1371.jpg",
           8.736663818359375
          ],
          [
           237,
           "person_34",
           "in/person_34/1281.jpg",
           4.26190185546875
          ],
          [
           238,
           "person_34",
           "in/person_34/1359.jpg",
           6.079327901204427
          ],
          [
           239,
           "person_34",
           "in/person_34/1322.jpg",
           9.195515950520834
          ],
          [
           241,
           "person_34",
           "in/person_34/1314.jpg",
           7.551816304524739
          ],
          [
           242,
           "person_34",
           "in/person_34/1405.jpg",
           9.974655151367188
          ],
          [
           243,
           "person_34",
           "in/person_34/1334.jpg",
           9.325213114420572
          ],
          [
           244,
           "person_34",
           "in/person_34/1259.jpg",
           6.396942138671875
          ],
          [
           248,
           "person_34",
           "in/person_34/1363.jpg",
           7.0193125406901045
          ],
          [
           249,
           "person_34",
           "in/person_34/1354.jpg",
           5.373875935872396
          ],
          [
           250,
           "person_34",
           "in/person_34/1266.jpg",
           5.558331807454427
          ],
          [
           251,
           "person_34",
           "in/person_34/1308.jpg",
           5.3988087972005205
          ],
          [
           253,
           "person_34",
           "in/person_34/1292.jpg",
           5.056437174479167
          ],
          [
           254,
           "person_34",
           "in/person_34/1286.jpg",
           3.795064290364584
          ],
          [
           259,
           "person_34",
           "in/person_34/1349.jpg",
           5.650825500488281
          ],
          [
           260,
           "person_34",
           "in/person_34/1300.jpg",
           5.4200083414713545
          ],
          [
           261,
           "person_34",
           "in/person_34/1367.jpg",
           7.123972574869792
          ],
          [
           263,
           "person_34",
           "in/person_34/1273.jpg",
           4.589922587076823
          ],
          [
           266,
           "person_34",
           "in/person_34/1338.jpg",
           9.134587605794271
          ],
          [
           267,
           "person_34",
           "in/person_34/1344.jpg",
           7.183570861816406
          ]
         ],
         "hovertemplate": "labels=%{customdata[1]}<br>tx_dlib=%{x}<br>ty_dlib=%{y}<br>index=%{customdata[0]}<br>path=%{customdata[2]}<br>alignment_error=%{customdata[3]}<extra></extra>",
         "legendgroup": "person_34",
         "marker": {
          "color": "#EB663B",
          "symbol": "circle"
         },
         "mode": "markers",
         "name": "person_34",
         "orientation": "v",
         "showlegend": true,
         "type": "scatter",
         "x": [
          0.5672397017478943,
          0.5020149350166321,
          0.541599452495575,
          0.5219480991363525,
          0.5114421844482422,
          0.5573189854621887,
          0.5344932079315186,
          0.5129562616348267,
          0.5671511888504028,
          0.5404428839683533,
          0.5134465098381042,
          0.5115638375282288,
          0.5064810514450073,
          0.49922364950180054,
          0.5402299761772156,
          0.5027058124542236,
          0.567491888999939,
          0.5097797513008118,
          0.5385935306549072,
          0.5392352938652039
         ],
         "xaxis": "x",
         "y": [
          0.3173961341381073,
          0.3458717167377472,
          0.3256043791770935,
          0.3236221671104431,
          0.3173847794532776,
          0.33803871273994446,
          0.3144310414791107,
          0.3493645489215851,
          0.31489098072052,
          0.333771675825119,
          0.35157519578933716,
          0.3124220371246338,
          0.33119598031044006,
          0.3423808217048645,
          0.3359907269477844,
          0.31708574295043945,
          0.3162362575531006,
          0.3569890856742859,
          0.3206578195095062,
          0.3286621868610382
         ],
         "yaxis": "y"
        },
        {
         "customdata": [
          [
           269,
           "person_5",
           "in/person_5/211.jpg",
           8.651880900065104
          ],
          [
           270,
           "person_5",
           "in/person_5/212.jpg",
           8.951606750488281
          ],
          [
           271,
           "person_5",
           "in/person_5/216.jpg",
           8.336471557617188
          ],
          [
           272,
           "person_5",
           "in/person_5/207.jpg",
           6.993479410807292
          ]
         ],
         "hovertemplate": "labels=%{customdata[1]}<br>tx_dlib=%{x}<br>ty_dlib=%{y}<br>index=%{customdata[0]}<br>path=%{customdata[2]}<br>alignment_error=%{customdata[3]}<extra></extra>",
         "legendgroup": "person_5",
         "marker": {
          "color": "#511CFB",
          "symbol": "circle"
         },
         "mode": "markers",
         "name": "person_5",
         "orientation": "v",
         "showlegend": true,
         "type": "scatter",
         "x": [
          0.2649829387664795,
          0.2642625868320465,
          0.26298627257347107,
          0.26562801003456116
         ],
         "xaxis": "x",
         "y": [
          0.8772860765457153,
          0.8773010969161987,
          0.8778456449508667,
          0.8767074346542358
         ],
         "yaxis": "y"
        },
        {
         "customdata": [
          [
           275,
           "person_2",
           "in/person_2/28.jpg",
           9.103294372558594
          ],
          [
           277,
           "person_2",
           "in/person_2/32.jpg",
           9.471773783365885
          ],
          [
           278,
           "person_2",
           "in/person_2/21.jpg",
           6.505561828613281
          ],
          [
           285,
           "person_2",
           "in/person_2/23.jpg",
           8.44817860921224
          ],
          [
           295,
           "person_2",
           "in/person_2/26.jpg",
           8.295801798502604
          ],
          [
           297,
           "person_2",
           "in/person_2/22.jpg",
           7.288424173990886
          ]
         ],
         "hovertemplate": "labels=%{customdata[1]}<br>tx_dlib=%{x}<br>ty_dlib=%{y}<br>index=%{customdata[0]}<br>path=%{customdata[2]}<br>alignment_error=%{customdata[3]}<extra></extra>",
         "legendgroup": "person_2",
         "marker": {
          "color": "#00A08B",
          "symbol": "circle"
         },
         "mode": "markers",
         "name": "person_2",
         "orientation": "v",
         "showlegend": true,
         "type": "scatter",
         "x": [
          0.28011125326156616,
          0.29596856236457825,
          0.2832576632499695,
          0.2804432511329651,
          0.2800291180610657,
          0.2819860279560089
         ],
         "xaxis": "x",
         "y": [
          0.3878357708454132,
          0.39112943410873413,
          0.3810010254383087,
          0.38463398814201355,
          0.3886203169822693,
          0.3795129358768463
         ],
         "yaxis": "y"
        },
        {
         "customdata": [
          [
           300,
           "person_7",
           "in/person_7/245.jpg",
           7.762120564778645
          ]
         ],
         "hovertemplate": "labels=%{customdata[1]}<br>tx_dlib=%{x}<br>ty_dlib=%{y}<br>index=%{customdata[0]}<br>path=%{customdata[2]}<br>alignment_error=%{customdata[3]}<extra></extra>",
         "legendgroup": "person_7",
         "marker": {
          "color": "#FB00D1",
          "symbol": "circle"
         },
         "mode": "markers",
         "name": "person_7",
         "orientation": "v",
         "showlegend": true,
         "type": "scatter",
         "x": [
          0.2477237731218338
         ],
         "xaxis": "x",
         "y": [
          0.8848203420639038
         ],
         "yaxis": "y"
        },
        {
         "customdata": [
          [
           317,
           "person_21",
           "in/person_21/728.jpg",
           8.926961263020834
          ],
          [
           318,
           "person_21",
           "in/person_21/910.jpg",
           4.175994873046875
          ],
          [
           319,
           "person_21",
           "in/person_21/769.jpg",
           3.0789082845052085
          ],
          [
           320,
           "person_21",
           "in/person_21/817.jpg",
           9.214032491048178
          ],
          [
           321,
           "person_21",
           "in/person_21/864.jpg",
           5.940696716308594
          ],
          [
           322,
           "person_21",
           "in/person_21/834.jpg",
           -1.0105260213216145
          ],
          [
           323,
           "person_21",
           "in/person_21/820.jpg",
           0.6153462727864584
          ],
          [
           324,
           "person_21",
           "in/person_21/952.jpg",
           4.455172220865886
          ],
          [
           326,
           "person_21",
           "in/person_21/878.jpg",
           7.097076416015625
          ],
          [
           327,
           "person_21",
           "in/person_21/811.jpg",
           0.9157155354817708
          ],
          [
           328,
           "person_21",
           "in/person_21/891.jpg",
           5.4647979736328125
          ],
          [
           329,
           "person_21",
           "in/person_21/858.jpg",
           6.001055399576823
          ],
          [
           330,
           "person_21",
           "in/person_21/764.jpg",
           5.295595804850261
          ],
          [
           331,
           "person_21",
           "in/person_21/901.jpg",
           4.809173583984375
          ],
          [
           332,
           "person_21",
           "in/person_21/936.jpg",
           2.899688720703125
          ],
          [
           333,
           "person_21",
           "in/person_21/791.jpg",
           1.1337636311848958
          ],
          [
           334,
           "person_21",
           "in/person_21/963.jpg",
           5.80194091796875
          ],
          [
           335,
           "person_21",
           "in/person_21/804.jpg",
           2.440511067708333
          ],
          [
           337,
           "person_21",
           "in/person_21/777.jpg",
           -0.2639541625976562
          ],
          [
           338,
           "person_21",
           "in/person_21/842.jpg",
           3.563191731770833
          ],
          [
           339,
           "person_21",
           "in/person_21/785.jpg",
           0.8552042643229166
          ],
          [
           340,
           "person_21",
           "in/person_21/739.jpg",
           7.731007893880208
          ],
          [
           341,
           "person_21",
           "in/person_21/946.jpg",
           3.4068883260091147
          ],
          [
           343,
           "person_21",
           "in/person_21/972.jpg",
           7.055747985839844
          ],
          [
           344,
           "person_21",
           "in/person_21/925.jpg",
           4.934560139973958
          ],
          [
           345,
           "person_21",
           "in/person_21/755.jpg",
           3.6113382975260415
          ]
         ],
         "hovertemplate": "labels=%{customdata[1]}<br>tx_dlib=%{x}<br>ty_dlib=%{y}<br>index=%{customdata[0]}<br>path=%{customdata[2]}<br>alignment_error=%{customdata[3]}<extra></extra>",
         "legendgroup": "person_21",
         "marker": {
          "color": "#FC0080",
          "symbol": "circle"
         },
         "mode": "markers",
         "name": "person_21",
         "orientation": "v",
         "showlegend": true,
         "type": "scatter",
         "x": [
          0.250217080116272,
          0.21013222634792328,
          0.22031216323375702,
          0.26513487100601196,
          0.219488725066185,
          0.23312965035438538,
          0.22769354283809662,
          0.19691848754882812,
          0.2222379893064499,
          0.21025274693965912,
          0.21783050894737244,
          0.21051901578903198,
          0.2300359308719635,
          0.20678886771202087,
          0.2059306651353836,
          0.20561671257019043,
          0.1907157152891159,
          0.2083434760570526,
          0.2122199386358261,
          0.20875515043735504,
          0.20827579498291016,
          0.2450038492679596,
          0.20684941112995148,
          0.18637116253376007,
          0.2147022783756256,
          0.22984959185123444
         ],
         "xaxis": "x",
         "y": [
          0.302177757024765,
          0.20718075335025787,
          0.2918749153614044,
          0.27051302790641785,
          0.23954209685325623,
          0.26027974486351013,
          0.2659277617931366,
          0.22384697198867798,
          0.22614112496376038,
          0.2686469852924347,
          0.2268109768629074,
          0.24261918663978577,
          0.29538270831108093,
          0.2041381448507309,
          0.21327652037143707,
          0.27102357149124146,
          0.22526466846466064,
          0.26948174834251404,
          0.285269558429718,
          0.2503560781478882,
          0.2805834114551544,
          0.2986927032470703,
          0.21824511885643005,
          0.2277330905199051,
          0.20601807534694672,
          0.2944270074367523
         ],
         "yaxis": "y"
        },
        {
         "customdata": [
          [
           347,
           "person_8",
           "in/person_8/265.jpg",
           8.554946899414062
          ],
          [
           349,
           "person_8",
           "in/person_8/277.jpg",
           7.011482238769531
          ],
          [
           350,
           "person_8",
           "in/person_8/252.jpg",
           8.870254516601562
          ],
          [
           351,
           "person_8",
           "in/person_8/267.jpg",
           5.24346923828125
          ],
          [
           352,
           "person_8",
           "in/person_8/270.jpg",
           3.798426310221354
          ],
          [
           355,
           "person_8",
           "in/person_8/273.jpg",
           5.165362040201823
          ],
          [
           359,
           "person_8",
           "in/person_8/262.jpg",
           8.489095052083334
          ],
          [
           360,
           "person_8",
           "in/person_8/259.jpg",
           7.566782633463542
          ],
          [
           361,
           "person_8",
           "in/person_8/255.jpg",
           8.305608113606771
          ]
         ],
         "hovertemplate": "labels=%{customdata[1]}<br>tx_dlib=%{x}<br>ty_dlib=%{y}<br>index=%{customdata[0]}<br>path=%{customdata[2]}<br>alignment_error=%{customdata[3]}<extra></extra>",
         "legendgroup": "person_8",
         "marker": {
          "color": "#B2828D",
          "symbol": "circle"
         },
         "mode": "markers",
         "name": "person_8",
         "orientation": "v",
         "showlegend": true,
         "type": "scatter",
         "x": [
          0.39912283420562744,
          0.3882424831390381,
          0.4083414077758789,
          0.39078572392463684,
          0.388277143239975,
          0.38739338517189026,
          0.40329405665397644,
          0.40140363574028015,
          0.4058331847190857
         ],
         "xaxis": "x",
         "y": [
          0.4161558151245117,
          0.438012957572937,
          0.4153502881526947,
          0.4236304461956024,
          0.42868852615356445,
          0.43255704641342163,
          0.42309054732322693,
          0.4273854196071625,
          0.41952449083328247
         ],
         "yaxis": "y"
        },
        {
         "customdata": [
          [
           362,
           "person_29",
           "in/person_29/1180.jpg",
           5.452832539876302
          ],
          [
           363,
           "person_29",
           "in/person_29/1105.jpg",
           2.9317143758138022
          ],
          [
           364,
           "person_29",
           "in/person_29/1120.jpg",
           2.1293004353841147
          ],
          [
           365,
           "person_29",
           "in/person_29/1033.jpg",
           -0.5017038981119791
          ],
          [
           366,
           "person_29",
           "in/person_29/1043.jpg",
           0.2305246988932291
          ],
          [
           367,
           "person_29",
           "in/person_29/1227.jpg",
           9.33666737874349
          ],
          [
           368,
           "person_29",
           "in/person_29/984.jpg",
           5.3167877197265625
          ],
          [
           369,
           "person_29",
           "in/person_29/939.jpg",
           1.760698954264323
          ],
          [
           370,
           "person_29",
           "in/person_29/1168.jpg",
           4.191314697265625
          ],
          [
           372,
           "person_29",
           "in/person_29/1218.jpg",
           9.654637654622396
          ],
          [
           375,
           "person_29",
           "in/person_29/1056.jpg",
           1.5731735229492188
          ],
          [
           377,
           "person_29",
           "in/person_29/1023.jpg",
           0.7125015258789062
          ],
          [
           381,
           "person_29",
           "in/person_29/1132.jpg",
           2.8986638387044272
          ],
          [
           383,
           "person_29",
           "in/person_29/1197.jpg",
           9.397610982259115
          ],
          [
           384,
           "person_29",
           "in/person_29/929.jpg",
           0.9814732869466146
          ],
          [
           385,
           "person_29",
           "in/person_29/1081.jpg",
           4.769864400227864
          ],
          [
           386,
           "person_29",
           "in/person_29/1093.jpg",
           2.685287475585937
          ],
          [
           387,
           "person_29",
           "in/person_29/1001.jpg",
           2.5648396809895835
          ],
          [
           388,
           "person_29",
           "in/person_29/1068.jpg",
           1.9779917399088545
          ],
          [
           389,
           "person_29",
           "in/person_29/975.jpg",
           4.777697245279948
          ],
          [
           390,
           "person_29",
           "in/person_29/1145.jpg",
           2.8268051147460938
          ],
          [
           391,
           "person_29",
           "in/person_29/1012.jpg",
           1.3996531168619792
          ],
          [
           392,
           "person_29",
           "in/person_29/991.jpg",
           3.698163350423177
          ],
          [
           393,
           "person_29",
           "in/person_29/1158.jpg",
           4.073455810546875
          ],
          [
           394,
           "person_29",
           "in/person_29/1189.jpg",
           8.402788798014322
          ],
          [
           395,
           "person_29",
           "in/person_29/955.jpg",
           3.7226664225260415
          ],
          [
           397,
           "person_29",
           "in/person_29/965.jpg",
           3.925346374511719
          ],
          [
           398,
           "person_29",
           "in/person_29/1209.jpg",
           9.110847473144531
          ]
         ],
         "hovertemplate": "labels=%{customdata[1]}<br>tx_dlib=%{x}<br>ty_dlib=%{y}<br>index=%{customdata[0]}<br>path=%{customdata[2]}<br>alignment_error=%{customdata[3]}<extra></extra>",
         "legendgroup": "person_29",
         "marker": {
          "color": "#6C7C32",
          "symbol": "circle"
         },
         "mode": "markers",
         "name": "person_29",
         "orientation": "v",
         "showlegend": true,
         "type": "scatter",
         "x": [
          0.6503422856330872,
          0.667015552520752,
          0.6637765169143677,
          0.6619283556938171,
          0.6512860059738159,
          0.6233189105987549,
          0.6327646970748901,
          0.612956702709198,
          0.6620532870292664,
          0.625227689743042,
          0.6430913805961609,
          0.6650770902633667,
          0.6765095591545105,
          0.6386145353317261,
          0.6173484325408936,
          0.6771664023399353,
          0.6758981943130493,
          0.6430542469024658,
          0.6494911909103394,
          0.6225172877311707,
          0.6658746004104614,
          0.6560906171798706,
          0.6372889876365662,
          0.6724390387535095,
          0.645270824432373,
          0.627156138420105,
          0.6208430528640747,
          0.6316623687744141
         ],
         "xaxis": "x",
         "y": [
          0.7612440586090088,
          0.7787597179412842,
          0.7771459817886353,
          0.7936866283416748,
          0.7891083359718323,
          0.7627394199371338,
          0.8016730546951294,
          0.7899788022041321,
          0.7585964202880859,
          0.7633587718009949,
          0.7830010652542114,
          0.8002756237983704,
          0.7747317552566528,
          0.7624209523200989,
          0.7902922034263611,
          0.7881613969802856,
          0.7847740054130554,
          0.8060879111289978,
          0.7817426919937134,
          0.8028179407119751,
          0.7657391428947449,
          0.8041865825653076,
          0.7962899208068848,
          0.7647964358329773,
          0.7670393586158752,
          0.8109279870986938,
          0.8051009774208069,
          0.7579793334007263
         ],
         "yaxis": "y"
        },
        {
         "customdata": [
          [
           401,
           "person_13",
           "in/person_13/1015.jpg",
           5.016054789225261
          ],
          [
           403,
           "person_13",
           "in/person_13/765.jpg",
           2.059595743815104
          ],
          [
           406,
           "person_13",
           "in/person_13/582.jpg",
           8.144091288248697
          ],
          [
           407,
           "person_13",
           "in/person_13/492.jpg",
           6.959526062011719
          ],
          [
           408,
           "person_13",
           "in/person_13/719.jpg",
           4.761594136555989
          ],
          [
           411,
           "person_13",
           "in/person_13/1036.jpg",
           7.8188832600911455
          ],
          [
           412,
           "person_13",
           "in/person_13/896.jpg",
           3.0449142456054688
          ],
          [
           413,
           "person_13",
           "in/person_13/524.jpg",
           9.009674072265623
          ],
          [
           414,
           "person_13",
           "in/person_13/737.jpg",
           1.931592305501302
          ],
          [
           415,
           "person_13",
           "in/person_13/816.jpg",
           2.8891016642252603
          ],
          [
           416,
           "person_13",
           "in/person_13/744.jpg",
           0.917205810546875
          ],
          [
           417,
           "person_13",
           "in/person_13/773.jpg",
           2.892176310221354
          ],
          [
           418,
           "person_13",
           "in/person_13/497.jpg",
           8.969713846842447
          ],
          [
           421,
           "person_13",
           "in/person_13/520.jpg",
           8.686965942382812
          ],
          [
           422,
           "person_13",
           "in/person_13/957.jpg",
           7.749203999837239
          ],
          [
           423,
           "person_13",
           "in/person_13/729.jpg",
           1.4166285196940105
          ],
          [
           424,
           "person_13",
           "in/person_13/502.jpg",
           9.522905985514322
          ],
          [
           425,
           "person_13",
           "in/person_13/536.jpg",
           8.584111531575521
          ],
          [
           426,
           "person_13",
           "in/person_13/746.jpg",
           9.809679667154947
          ],
          [
           427,
           "person_13",
           "in/person_13/966.jpg",
           7.0526275634765625
          ],
          [
           428,
           "person_13",
           "in/person_13/465.jpg",
           8.207402547200521
          ],
          [
           431,
           "person_13",
           "in/person_13/733.jpg",
           9.660741170247396
          ],
          [
           432,
           "person_13",
           "in/person_13/1059.jpg",
           7.801236470540364
          ],
          [
           433,
           "person_13",
           "in/person_13/727.jpg",
           8.694844563802084
          ],
          [
           435,
           "person_13",
           "in/person_13/850.jpg",
           3.7810160319010415
          ],
          [
           436,
           "person_13",
           "in/person_13/1005.jpg",
           6.465189615885417
          ],
          [
           438,
           "person_13",
           "in/person_13/741.jpg",
           9.092882792154947
          ],
          [
           439,
           "person_13",
           "in/person_13/506.jpg",
           9.35491689046224
          ],
          [
           440,
           "person_13",
           "in/person_13/464.jpg",
           5.715667724609375
          ],
          [
           441,
           "person_13",
           "in/person_13/797.jpg",
           1.6646804809570312
          ],
          [
           443,
           "person_13",
           "in/person_13/507.jpg",
           9.082626342773438
          ],
          [
           444,
           "person_13",
           "in/person_13/1050.jpg",
           8.16167958577474
          ],
          [
           450,
           "person_13",
           "in/person_13/751.jpg",
           9.379475911458334
          ],
          [
           451,
           "person_13",
           "in/person_13/781.jpg",
           3.410265604654948
          ],
          [
           452,
           "person_13",
           "in/person_13/932.jpg",
           4.501035054524739
          ],
          [
           453,
           "person_13",
           "in/person_13/501.jpg",
           8.771255493164062
          ],
          [
           454,
           "person_13",
           "in/person_13/562.jpg",
           8.142468770345053
          ],
          [
           456,
           "person_13",
           "in/person_13/489.jpg",
           9.962677001953123
          ],
          [
           458,
           "person_13",
           "in/person_13/543.jpg",
           8.074267069498697
          ],
          [
           459,
           "person_13",
           "in/person_13/723.jpg",
           1.1706186930338542
          ],
          [
           460,
           "person_13",
           "in/person_13/522.jpg",
           9.60522206624349
          ],
          [
           461,
           "person_13",
           "in/person_13/747.jpg",
           0.5605417887369791
          ],
          [
           462,
           "person_13",
           "in/person_13/986.jpg",
           8.133374532063803
          ],
          [
           464,
           "person_13",
           "in/person_13/995.jpg",
           7.500686645507812
          ],
          [
           465,
           "person_13",
           "in/person_13/532.jpg",
           8.633956909179688
          ],
          [
           466,
           "person_13",
           "in/person_13/554.jpg",
           8.924575805664062
          ],
          [
           467,
           "person_13",
           "in/person_13/571.jpg",
           9.000134785970053
          ],
          [
           469,
           "person_13",
           "in/person_13/561.jpg",
           9.598416646321615
          ],
          [
           470,
           "person_13",
           "in/person_13/885.jpg",
           2.531219482421875
          ],
          [
           471,
           "person_13",
           "in/person_13/827.jpg",
           3.1582361857096357
          ],
          [
           472,
           "person_13",
           "in/person_13/789.jpg",
           3.262242635091146
          ],
          [
           473,
           "person_13",
           "in/person_13/839.jpg",
           3.8326517740885415
          ],
          [
           475,
           "person_13",
           "in/person_13/547.jpg",
           9.827438354492188
          ],
          [
           479,
           "person_13",
           "in/person_13/859.jpg",
           4.500048319498698
          ],
          [
           480,
           "person_13",
           "in/person_13/977.jpg",
           7.077313741048177
          ],
          [
           483,
           "person_13",
           "in/person_13/1025.jpg",
           6.483896891276042
          ],
          [
           485,
           "person_13",
           "in/person_13/949.jpg",
           7.2184702555338545
          ],
          [
           486,
           "person_13",
           "in/person_13/482.jpg",
           5.4313405354817705
          ],
          [
           488,
           "person_13",
           "in/person_13/870.jpg",
           3.3750228881835938
          ],
          [
           490,
           "person_13",
           "in/person_13/576.jpg",
           8.623181660970053
          ],
          [
           491,
           "person_13",
           "in/person_13/469.jpg",
           6.2530670166015625
          ],
          [
           492,
           "person_13",
           "in/person_13/753.jpg",
           -0.1659062703450521
          ],
          [
           493,
           "person_13",
           "in/person_13/919.jpg",
           2.9658991495768228
          ],
          [
           495,
           "person_13",
           "in/person_13/909.jpg",
           2.537572224934896
          ],
          [
           496,
           "person_13",
           "in/person_13/549.jpg",
           8.379536946614584
          ],
          [
           497,
           "person_13",
           "in/person_13/762.jpg",
           0.992431640625
          ],
          [
           499,
           "person_13",
           "in/person_13/485.jpg",
           5.806541442871094
          ],
          [
           500,
           "person_13",
           "in/person_13/475.jpg",
           6.883959452311198
          ],
          [
           502,
           "person_13",
           "in/person_13/514.jpg",
           9.238911946614584
          ],
          [
           503,
           "person_13",
           "in/person_13/557.jpg",
           7.9912160237630205
          ],
          [
           504,
           "person_13",
           "in/person_13/941.jpg",
           6.149955749511719
          ]
         ],
         "hovertemplate": "labels=%{customdata[1]}<br>tx_dlib=%{x}<br>ty_dlib=%{y}<br>index=%{customdata[0]}<br>path=%{customdata[2]}<br>alignment_error=%{customdata[3]}<extra></extra>",
         "legendgroup": "person_13",
         "marker": {
          "color": "#778AAE",
          "symbol": "circle"
         },
         "mode": "markers",
         "name": "person_13",
         "orientation": "v",
         "showlegend": true,
         "type": "scatter",
         "x": [
          0.5333384871482849,
          0.49430397152900696,
          0.38500431180000305,
          0.36339882016181946,
          0.43275749683380127,
          0.5332552790641785,
          0.5163511037826538,
          0.3475359082221985,
          0.41509878635406494,
          0.4860648512840271,
          0.41977638006210327,
          0.5001367330551147,
          0.35639432072639465,
          0.3471201956272125,
          0.5111653208732605,
          0.41445064544677734,
          0.32629841566085815,
          0.353655606508255,
          0.45880162715911865,
          0.5192974805831909,
          0.39101019501686096,
          0.4563765227794647,
          0.5383103489875793,
          0.4586975574493408,
          0.47330471873283386,
          0.5304220914840698,
          0.4535512626171112,
          0.36621326208114624,
          0.34124723076820374,
          0.4902496039867401,
          0.33186766505241394,
          0.5353882312774658,
          0.46057602763175964,
          0.5052286982536316,
          0.5064842700958252,
          0.3556116819381714,
          0.365775465965271,
          0.32323089241981506,
          0.34744685888290405,
          0.43188032507896423,
          0.3744181990623474,
          0.5061708688735962,
          0.5283889770507812,
          0.5291383266448975,
          0.3539447784423828,
          0.39004945755004883,
          0.37638217210769653,
          0.3852018117904663,
          0.5108672380447388,
          0.47882142663002014,
          0.4907497465610504,
          0.4770428240299225,
          0.38982465863227844,
          0.467653751373291,
          0.5308153629302979,
          0.5284947156906128,
          0.5122954845428467,
          0.35323846340179443,
          0.5066734552383423,
          0.38088342547416687,
          0.34597933292388916,
          0.5003470778465271,
          0.49545472860336304,
          0.49555888772010803,
          0.36546072363853455,
          0.4958716630935669,
          0.3671876788139343,
          0.3543131351470947,
          0.34043094515800476,
          0.36906135082244873,
          0.5085853934288025
         ],
         "xaxis": "x",
         "y": [
          0.030575063079595566,
          0.08628100156784058,
          0.27810990810394287,
          0.34295156598091125,
          0.06107277050614357,
          0.04785402864217758,
          0.03612048178911209,
          0.2823645770549774,
          0.055978432297706604,
          0.05131023749709129,
          0.05588585138320923,
          0.07519105076789856,
          0.33042702078819275,
          0.27696493268013,
          0.00483887642621994,
          0.05603507533669472,
          0.2741738557815552,
          0.2977152168750763,
          0.005683402996510267,
          0,
          0.29448994994163513,
          0.023318927735090256,
          0.0583689846098423,
          0.023475203663110733,
          0.049069419503211975,
          0.02057242952287197,
          0.02541876584291458,
          0.33030858635902405,
          0.3326576054096222,
          0.06280671805143356,
          0.2846579849720001,
          0.05454985052347183,
          0.004455716349184513,
          0.0734676942229271,
          0.02623450942337513,
          0.32409748435020447,
          0.29055482149124146,
          0.27186164259910583,
          0.2952415645122528,
          0.05814213305711746,
          0.33481812477111816,
          0.10136581212282181,
          0.0064025139436125755,
          0.009467625990509987,
          0.29518112540245056,
          0.3224102258682251,
          0.27975305914878845,
          0.32177120447158813,
          0.042092215269804,
          0.05299517139792442,
          0.06325060874223709,
          0.04782310128211975,
          0.32433104515075684,
          0.052046652883291245,
          0.004691423382610083,
          0.05012243986129761,
          0.01629672944545746,
          0.34893426299095154,
          0.046569664031267166,
          0.27606964111328125,
          0.33326849341392517,
          0.09251787513494492,
          0.02215251885354519,
          0.022099586203694344,
          0.29958322644233704,
          0.0897124782204628,
          0.3491774797439575,
          0.3419589400291443,
          0.2825133204460144,
          0.29309341311454773,
          0.021588489413261414
         ],
         "yaxis": "y"
        },
        {
         "customdata": [
          [
           515,
           "person_10",
           "in/person_10/940.jpg",
           8.462898254394531
          ]
         ],
         "hovertemplate": "labels=%{customdata[1]}<br>tx_dlib=%{x}<br>ty_dlib=%{y}<br>index=%{customdata[0]}<br>path=%{customdata[2]}<br>alignment_error=%{customdata[3]}<extra></extra>",
         "legendgroup": "person_10",
         "marker": {
          "color": "#862A16",
          "symbol": "circle"
         },
         "mode": "markers",
         "name": "person_10",
         "orientation": "v",
         "showlegend": true,
         "type": "scatter",
         "x": [
          0.2954746186733246
         ],
         "xaxis": "x",
         "y": [
          0.400520920753479
         ],
         "yaxis": "y"
        },
        {
         "customdata": [
          [
           535,
           "person_23",
           "in/person_23/934.jpg",
           5.426490783691406
          ],
          [
           536,
           "person_23",
           "in/person_23/953.jpg",
           8.161552429199219
          ],
          [
           538,
           "person_23",
           "in/person_23/867.jpg",
           3.936503092447917
          ],
          [
           540,
           "person_23",
           "in/person_23/945.jpg",
           8.00457763671875
          ],
          [
           541,
           "person_23",
           "in/person_23/912.jpg",
           4.2016042073567705
          ],
          [
           545,
           "person_23",
           "in/person_23/890.jpg",
           5.5318756103515625
          ],
          [
           547,
           "person_23",
           "in/person_23/1035.jpg",
           8.954485575358072
          ],
          [
           548,
           "person_23",
           "in/person_23/923.jpg",
           4.550191243489583
          ],
          [
           549,
           "person_23",
           "in/person_23/1011.jpg",
           9.135826110839844
          ],
          [
           553,
           "person_23",
           "in/person_23/971.jpg",
           9.530662536621094
          ],
          [
           555,
           "person_23",
           "in/person_23/880.jpg",
           5.290659586588542
          ],
          [
           557,
           "person_23",
           "in/person_23/1057.jpg",
           9.838699340820312
          ],
          [
           560,
           "person_23",
           "in/person_23/992.jpg",
           8.999972025553385
          ],
          [
           561,
           "person_23",
           "in/person_23/835.jpg",
           6.60821533203125
          ],
          [
           563,
           "person_23",
           "in/person_23/825.jpg",
           7.500867207845052
          ],
          [
           565,
           "person_23",
           "in/person_23/855.jpg",
           4.2118174235026045
          ],
          [
           568,
           "person_23",
           "in/person_23/1002.jpg",
           9.290133158365885
          ],
          [
           571,
           "person_23",
           "in/person_23/1044.jpg",
           8.531486511230469
          ],
          [
           573,
           "person_23",
           "in/person_23/845.jpg",
           3.9352798461914062
          ],
          [
           574,
           "person_23",
           "in/person_23/981.jpg",
           8.186408996582031
          ],
          [
           576,
           "person_23",
           "in/person_23/961.jpg",
           8.66211191813151
          ],
          [
           577,
           "person_23",
           "in/person_23/905.jpg",
           3.414342244466146
          ],
          [
           580,
           "person_23",
           "in/person_23/1022.jpg",
           8.879099527994791
          ]
         ],
         "hovertemplate": "labels=%{customdata[1]}<br>tx_dlib=%{x}<br>ty_dlib=%{y}<br>index=%{customdata[0]}<br>path=%{customdata[2]}<br>alignment_error=%{customdata[3]}<extra></extra>",
         "legendgroup": "person_23",
         "marker": {
          "color": "#A777F1",
          "symbol": "circle"
         },
         "mode": "markers",
         "name": "person_23",
         "orientation": "v",
         "showlegend": true,
         "type": "scatter",
         "x": [
          0.8269852995872498,
          0.8420339822769165,
          0.805743932723999,
          0.8298132419586182,
          0.8203936219215393,
          0.8196627497673035,
          0.8415874242782593,
          0.8219197988510132,
          0.8540611267089844,
          0.8441965579986572,
          0.8135982155799866,
          0.8359451293945312,
          0.8593046069145203,
          0.8013051152229309,
          0.7952191829681396,
          0.8016070127487183,
          0.8605172634124756,
          0.8361494541168213,
          0.798298180103302,
          0.8468712568283081,
          0.8479835987091064,
          0.8135356307029724,
          0.8489336371421814
         ],
         "xaxis": "x",
         "y": [
          0.2535662055015564,
          0.24006079137325287,
          0.2278234362602234,
          0.24753621220588684,
          0.25668099522590637,
          0.23300261795520782,
          0.2742222547531128,
          0.2546766698360443,
          0.2635640799999237,
          0.24925430119037628,
          0.22870485484600067,
          0.2762746214866638,
          0.25426527857780457,
          0.24430489540100098,
          0.25304585695266724,
          0.2276933640241623,
          0.2562447488307953,
          0.2744491696357727,
          0.23645010590553284,
          0.2544381618499756,
          0.24295230209827423,
          0.2602304518222809,
          0.27466145157814026
         ],
         "yaxis": "y"
        },
        {
         "customdata": [
          [
           582,
           "person_17",
           "in/person_17/596.jpg",
           9.462023417154947
          ],
          [
           592,
           "person_17",
           "in/person_17/603.jpg",
           9.59959920247396
          ],
          [
           596,
           "person_17",
           "in/person_17/552.jpg",
           5.055521647135417
          ],
          [
           597,
           "person_17",
           "in/person_17/588.jpg",
           7.616297403971354
          ]
         ],
         "hovertemplate": "labels=%{customdata[1]}<br>tx_dlib=%{x}<br>ty_dlib=%{y}<br>index=%{customdata[0]}<br>path=%{customdata[2]}<br>alignment_error=%{customdata[3]}<extra></extra>",
         "legendgroup": "person_17",
         "marker": {
          "color": "#620042",
          "symbol": "circle"
         },
         "mode": "markers",
         "name": "person_17",
         "orientation": "v",
         "showlegend": true,
         "type": "scatter",
         "x": [
          0.3583889603614807,
          0.35686638951301575,
          0.265541672706604,
          0.3622255027294159
         ],
         "xaxis": "x",
         "y": [
          0.2524525225162506,
          0.25652626156806946,
          0.2708112299442291,
          0.24707192182540894
         ],
         "yaxis": "y"
        },
        {
         "customdata": [
          [
           600,
           "person_36",
           "in/person_36/1375.jpg",
           7.858640034993489
          ],
          [
           601,
           "person_36",
           "in/person_36/1394.jpg",
           9.547103881835938
          ],
          [
           603,
           "person_36",
           "in/person_36/1410.jpg",
           6.77520751953125
          ],
          [
           605,
           "person_36",
           "in/person_36/1406.jpg",
           8.980443318684896
          ],
          [
           607,
           "person_36",
           "in/person_36/1373.jpg",
           7.731529235839844
          ],
          [
           608,
           "person_36",
           "in/person_36/1379.jpg",
           5.3853302001953125
          ],
          [
           609,
           "person_36",
           "in/person_36/1388.jpg",
           7.505236307779948
          ],
          [
           610,
           "person_36",
           "in/person_36/1398.jpg",
           9.234222412109377
          ]
         ],
         "hovertemplate": "labels=%{customdata[1]}<br>tx_dlib=%{x}<br>ty_dlib=%{y}<br>index=%{customdata[0]}<br>path=%{customdata[2]}<br>alignment_error=%{customdata[3]}<extra></extra>",
         "legendgroup": "person_36",
         "marker": {
          "color": "#1616A7",
          "symbol": "circle"
         },
         "mode": "markers",
         "name": "person_36",
         "orientation": "v",
         "showlegend": true,
         "type": "scatter",
         "x": [
          0.45733442902565,
          0.4640744626522064,
          0.47181904315948486,
          0.4714268445968628,
          0.455166220664978,
          0.4579716920852661,
          0.46438315510749817,
          0.4646635055541992
         ],
         "xaxis": "x",
         "y": [
          0.16789601743221283,
          0.20139256119728088,
          0.18069878220558167,
          0.18187083303928375,
          0.16624926030635834,
          0.16751821339130402,
          0.20370469987392426,
          0.1966644823551178
         ],
         "yaxis": "y"
        },
        {
         "customdata": [
          [
           611,
           "person_38",
           "in/person_38/1407.jpg",
           8.35345713297526
          ],
          [
           612,
           "person_38",
           "in/person_38/1400.jpg",
           8.732823689778646
          ],
          [
           613,
           "person_38",
           "in/person_38/1411.jpg",
           8.774391174316406
          ]
         ],
         "hovertemplate": "labels=%{customdata[1]}<br>tx_dlib=%{x}<br>ty_dlib=%{y}<br>index=%{customdata[0]}<br>path=%{customdata[2]}<br>alignment_error=%{customdata[3]}<extra></extra>",
         "legendgroup": "person_38",
         "marker": {
          "color": "#DA60CA",
          "symbol": "circle"
         },
         "mode": "markers",
         "name": "person_38",
         "orientation": "v",
         "showlegend": true,
         "type": "scatter",
         "x": [
          0.7156147956848145,
          0.7149602174758911,
          0.7157790064811707
         ],
         "xaxis": "x",
         "y": [
          0.18562881648540497,
          0.18694810569286346,
          0.18311460316181183
         ],
         "yaxis": "y"
        },
        {
         "customdata": [
          [
           646,
           "person_0",
           "in/person_0/677.jpg",
           3.71514638264974
          ],
          [
           648,
           "person_0",
           "in/person_0/1038.jpg",
           9.510848999023438
          ],
          [
           649,
           "person_0",
           "in/person_0/807.jpg",
           5.15331522623698
          ],
          [
           651,
           "person_0",
           "in/person_0/563.jpg",
           9.546666463216146
          ],
          [
           652,
           "person_0",
           "in/person_0/82.jpg",
           9.88678232828776
          ],
          [
           653,
           "person_0",
           "in/person_0/1280.jpg",
           2.4331537882486978
          ],
          [
           654,
           "person_0",
           "in/person_0/735.jpg",
           6.432144165039063
          ],
          [
           663,
           "person_0",
           "in/person_0/487.jpg",
           9.075271606445312
          ],
          [
           666,
           "person_0",
           "in/person_0/766.jpg",
           5.702812194824219
          ],
          [
           668,
           "person_0",
           "in/person_0/860.jpg",
           9.855636596679688
          ],
          [
           684,
           "person_0",
           "in/person_0/668.jpg",
           3.074989318847656
          ],
          [
           691,
           "person_0",
           "in/person_0/724.jpg",
           5.668037414550781
          ],
          [
           694,
           "person_0",
           "in/person_0/692.jpg",
           4.110939025878906
          ],
          [
           695,
           "person_0",
           "in/person_0/798.jpg",
           4.659576416015625
          ],
          [
           701,
           "person_0",
           "in/person_0/689.jpg",
           2.977307637532552
          ],
          [
           711,
           "person_0",
           "in/person_0/535.jpg",
           8.971468607584635
          ],
          [
           718,
           "person_0",
           "in/person_0/503.jpg",
           7.0034739176432295
          ],
          [
           721,
           "person_0",
           "in/person_0/658.jpg",
           5.600997924804688
          ],
          [
           722,
           "person_0",
           "in/person_0/718.jpg",
           6.183443705240886
          ],
          [
           728,
           "person_0",
           "in/person_0/493.jpg",
           8.22973378499349
          ],
          [
           729,
           "person_0",
           "in/person_0/1302.jpg",
           9.85620625813802
          ],
          [
           730,
           "person_0",
           "in/person_0/748.jpg",
           7.490203857421875
          ],
          [
           731,
           "person_0",
           "in/person_0/498.jpg",
           7.570607503255208
          ],
          [
           736,
           "person_0",
           "in/person_0/525.jpg",
           9.518043518066406
          ],
          [
           737,
           "person_0",
           "in/person_0/518.jpg",
           7.1464385986328125
          ],
          [
           740,
           "person_0",
           "in/person_0/1287.jpg",
           2.319086710611979
          ],
          [
           741,
           "person_0",
           "in/person_0/752.jpg",
           6.187464396158855
          ],
          [
           743,
           "person_0",
           "in/person_0/513.jpg",
           7.315330505371094
          ],
          [
           747,
           "person_0",
           "in/person_0/780.jpg",
           6.068066914876302
          ],
          [
           749,
           "person_0",
           "in/person_0/694.jpg",
           6.431109110514323
          ],
          [
           752,
           "person_0",
           "in/person_0/790.jpg",
           5.996648152669271
          ],
          [
           759,
           "person_0",
           "in/person_0/529.jpg",
           9.075632731119793
          ],
          [
           768,
           "person_0",
           "in/person_0/1295.jpg",
           3.288398742675781
          ],
          [
           772,
           "person_0",
           "in/person_0/1275.jpg",
           4.514714558919271
          ],
          [
           779,
           "person_0",
           "in/person_0/772.jpg",
           4.840240478515625
          ],
          [
           782,
           "person_0",
           "in/person_0/684.jpg",
           3.00884755452474
          ],
          [
           783,
           "person_0",
           "in/person_0/679.jpg",
           4.3601938883463545
          ],
          [
           784,
           "person_0",
           "in/person_0/710.jpg",
           9.681048075358072
          ],
          [
           785,
           "person_0",
           "in/person_0/92.jpg",
           8.714129130045572
          ],
          [
           788,
           "person_0",
           "in/person_0/85.jpg",
           9.836563110351562
          ],
          [
           791,
           "person_0",
           "in/person_0/760.jpg",
           5.654894510904948
          ],
          [
           792,
           "person_0",
           "in/person_0/509.jpg",
           7.260714213053386
          ],
          [
           794,
           "person_0",
           "in/person_0/712.jpg",
           8.86041514078776
          ],
          [
           798,
           "person_0",
           "in/person_0/672.jpg",
           3.350532531738281
          ],
          [
           799,
           "person_0",
           "in/person_0/95.jpg",
           8.856267293294271
          ],
          [
           802,
           "person_0",
           "in/person_0/714.jpg",
           6.6727549235026045
          ],
          [
           811,
           "person_0",
           "in/person_0/89.jpg",
           9.55700174967448
          ],
          [
           814,
           "person_0",
           "in/person_0/742.jpg",
           7.175610860188802
          ],
          [
           815,
           "person_0",
           "in/person_0/663.jpg",
           3.9444656372070312
          ],
          [
           817,
           "person_0",
           "in/person_0/815.jpg",
           8.061757405598959
          ],
          [
           823,
           "person_0",
           "in/person_0/730.jpg",
           5.915008544921875
          ],
          [
           824,
           "person_0",
           "in/person_0/1399.jpg",
           4.39892069498698
          ]
         ],
         "hovertemplate": "labels=%{customdata[1]}<br>tx_dlib=%{x}<br>ty_dlib=%{y}<br>index=%{customdata[0]}<br>path=%{customdata[2]}<br>alignment_error=%{customdata[3]}<extra></extra>",
         "legendgroup": "person_0",
         "marker": {
          "color": "#6C4516",
          "symbol": "circle"
         },
         "mode": "markers",
         "name": "person_0",
         "orientation": "v",
         "showlegend": true,
         "type": "scatter",
         "x": [
          0.04107487574219704,
          0.11782366037368774,
          0.056573741137981415,
          0.10372506827116013,
          0.06625238060951233,
          0.1446782648563385,
          0.036604151129722595,
          0.13016736507415771,
          0.06683218479156494,
          0.03313522785902023,
          0.04272468760609627,
          0.030576705932617188,
          0.07726052403450012,
          0.05953265354037285,
          0.07416816800832748,
          0.10952646285295486,
          0.1112847700715065,
          0.025380628183484077,
          0.02600526437163353,
          0.1259039044380188,
          0.1443358212709427,
          0.09199318289756775,
          0.1203228086233139,
          0.10945431143045425,
          0.10919759422540665,
          0.1415996104478836,
          0.08512317389249802,
          0.11074867844581604,
          0.06168368086218834,
          0.08014461398124695,
          0.06311766803264618,
          0.11172488331794739,
          0.1360522359609604,
          0.14644724130630493,
          0.0652315616607666,
          0.07361114025115967,
          0.04559261351823807,
          0.0007371535175479949,
          0.08247490227222443,
          0.07218986004590988,
          0.07909046113491058,
          0.10550690442323685,
          0.000025667899535619654,
          0.045874472707509995,
          0.08081265538930893,
          0,
          0.07543803006410599,
          0.041951268911361694,
          0.0295555517077446,
          0.045284222811460495,
          0.03038252517580986,
          0.04627493768930435
         ],
         "xaxis": "x",
         "y": [
          0.9124327898025513,
          0.9013185501098633,
          0.9792444109916687,
          0.9213600754737854,
          0.927099347114563,
          0.9026303291320801,
          0.9533151388168335,
          0.9579039812088013,
          1,
          0.9910818338394165,
          0.9084247350692749,
          0.9446860551834106,
          0.8947979807853699,
          0.9782450795173645,
          0.8911579251289368,
          0.9302095770835876,
          0.9592688679695129,
          0.9082513451576233,
          0.9457339644432068,
          0.9584085941314697,
          0.9135068655014038,
          0.9930218458175659,
          0.9584892392158508,
          0.9356173276901245,
          0.946290910243988,
          0.9065963625907898,
          0.9952181577682495,
          0.9525903463363647,
          0.9886495471000671,
          0.8981955051422119,
          0.9818506836891174,
          0.9314969778060913,
          0.9058676958084106,
          0.8991330862045288,
          0.9990190267562866,
          0.8807422518730164,
          0.9041655659675598,
          0.9435679912567139,
          0.938727617263794,
          0.9331281781196594,
          0.9980798959732056,
          0.957167387008667,
          0.9441311955451965,
          0.9109452366828918,
          0.9383522272109985,
          0.9437006711959839,
          0.9398784637451172,
          0.9531791806221008,
          0.9067730903625488,
          0.9823604822158813,
          0.9492935538291931,
          0.8830270171165466
         ],
         "yaxis": "y"
        },
        {
         "customdata": [
          [
           827,
           "person_14",
           "in/person_14/877.jpg",
           5.515129089355469
          ],
          [
           828,
           "person_14",
           "in/person_14/474.jpg",
           7.757301330566406
          ],
          [
           829,
           "person_14",
           "in/person_14/889.jpg",
           7.977874755859375
          ]
         ],
         "hovertemplate": "labels=%{customdata[1]}<br>tx_dlib=%{x}<br>ty_dlib=%{y}<br>index=%{customdata[0]}<br>path=%{customdata[2]}<br>alignment_error=%{customdata[3]}<extra></extra>",
         "legendgroup": "person_14",
         "marker": {
          "color": "#0D2A63",
          "symbol": "circle"
         },
         "mode": "markers",
         "name": "person_14",
         "orientation": "v",
         "showlegend": true,
         "type": "scatter",
         "x": [
          0.8175286650657654,
          0.8289875984191895,
          0.8146441578865051
         ],
         "xaxis": "x",
         "y": [
          0.5956218242645264,
          0.602692186832428,
          0.5939826369285583
         ],
         "yaxis": "y"
        },
        {
         "customdata": [
          [
           834,
           "person_19",
           "in/person_19/944.jpg",
           5.242477416992188
          ],
          [
           836,
           "person_19",
           "in/person_19/922.jpg",
           7.772816975911458
          ],
          [
           837,
           "person_19",
           "in/person_19/863.jpg",
           2.135218302408854
          ],
          [
           839,
           "person_19",
           "in/person_19/756.jpg",
           6.811505635579427
          ],
          [
           841,
           "person_19",
           "in/person_19/767.jpg",
           4.117073059082031
          ],
          [
           846,
           "person_19",
           "in/person_19/810.jpg",
           5.389915466308594
          ],
          [
           847,
           "person_19",
           "in/person_19/876.jpg",
           2.872884114583333
          ],
          [
           848,
           "person_19",
           "in/person_19/750.jpg",
           7.055684407552083
          ],
          [
           854,
           "person_19",
           "in/person_19/715.jpg",
           5.561907450358073
          ],
          [
           855,
           "person_19",
           "in/person_19/937.jpg",
           4.928853352864583
          ],
          [
           856,
           "person_19",
           "in/person_19/962.jpg",
           1.4883804321289062
          ],
          [
           861,
           "person_19",
           "in/person_19/726.jpg",
           5.693776448567708
          ],
          [
           863,
           "person_19",
           "in/person_19/954.jpg",
           5.46124267578125
          ],
          [
           865,
           "person_19",
           "in/person_19/738.jpg",
           5.7140045166015625
          ],
          [
           866,
           "person_19",
           "in/person_19/745.jpg",
           4.9754486083984375
          ],
          [
           868,
           "person_19",
           "in/person_19/801.jpg",
           6.25976053873698
          ],
          [
           869,
           "person_19",
           "in/person_19/853.jpg",
           2.5560531616210938
          ],
          [
           870,
           "person_19",
           "in/person_19/821.jpg",
           3.3508504231770835
          ],
          [
           872,
           "person_19",
           "in/person_19/775.jpg",
           7.342913309733073
          ],
          [
           874,
           "person_19",
           "in/person_19/713.jpg",
           6.489163716634114
          ],
          [
           875,
           "person_19",
           "in/person_19/720.jpg",
           5.695960998535156
          ],
          [
           877,
           "person_19",
           "in/person_19/732.jpg",
           6.269012451171875
          ],
          [
           879,
           "person_19",
           "in/person_19/784.jpg",
           7.165458679199219
          ],
          [
           880,
           "person_19",
           "in/person_19/763.jpg",
           7.1607920328776045
          ],
          [
           883,
           "person_19",
           "in/person_19/893.jpg",
           6.918276468912761
          ],
          [
           885,
           "person_19",
           "in/person_19/831.jpg",
           3.0760904947916665
          ],
          [
           886,
           "person_19",
           "in/person_19/792.jpg",
           7.233141581217448
          ],
          [
           887,
           "person_19",
           "in/person_19/711.jpg",
           9.788914998372396
          ],
          [
           888,
           "person_19",
           "in/person_19/754.jpg",
           9.721997578938804
          ],
          [
           889,
           "person_19",
           "in/person_19/761.jpg",
           4.983418782552083
          ],
          [
           891,
           "person_19",
           "in/person_19/841.jpg",
           2.666572570800781
          ],
          [
           895,
           "person_19",
           "in/person_19/768.jpg",
           7.4912261962890625
          ]
         ],
         "hovertemplate": "labels=%{customdata[1]}<br>tx_dlib=%{x}<br>ty_dlib=%{y}<br>index=%{customdata[0]}<br>path=%{customdata[2]}<br>alignment_error=%{customdata[3]}<extra></extra>",
         "legendgroup": "person_19",
         "marker": {
          "color": "#AF0038",
          "symbol": "circle"
         },
         "mode": "markers",
         "name": "person_19",
         "orientation": "v",
         "showlegend": true,
         "type": "scatter",
         "x": [
          0.24857428669929504,
          0.2585672438144684,
          0.2787180244922638,
          0.28403985500335693,
          0.32519635558128357,
          0.2934757471084595,
          0.26732251048088074,
          0.28286755084991455,
          0.2456829696893692,
          0.2565748393535614,
          0.24358020722866058,
          0.25488489866256714,
          0.2468731552362442,
          0.26328712701797485,
          0.27536478638648987,
          0.28854066133499146,
          0.2808416783809662,
          0.2897816002368927,
          0.30166831612586975,
          0.2431638091802597,
          0.2499183714389801,
          0.2606414258480072,
          0.29536813497543335,
          0.2977733314037323,
          0.26581040024757385,
          0.2878309488296509,
          0.30495119094848633,
          0.23604030907154083,
          0.3252420425415039,
          0.3259544372558594,
          0.2826429605484009,
          0.29940879344940186
         ],
         "xaxis": "x",
         "y": [
          0.7146928906440735,
          0.7087390422821045,
          0.7453173398971558,
          0.775226891040802,
          0.7370347380638123,
          0.7535984516143799,
          0.7520679235458374,
          0.7880322933197021,
          0.7685251235961914,
          0.712841808795929,
          0.7487882375717163,
          0.7860701680183411,
          0.7178828716278076,
          0.7761936187744141,
          0.7872092127799988,
          0.7594769597053528,
          0.7477787733078003,
          0.749364972114563,
          0.7762024402618408,
          0.7723994255065918,
          0.7756935954093933,
          0.7816514372825623,
          0.772685170173645,
          0.7805740833282471,
          0.7412630915641785,
          0.7387500405311584,
          0.767310619354248,
          0.7847216129302979,
          0.7340914607048035,
          0.7327465415000916,
          0.7405799031257629,
          0.7738027572631836
         ],
         "yaxis": "y"
        }
       ],
       "layout": {
        "legend": {
         "title": {
          "text": "labels"
         },
         "tracegroupgap": 0
        },
        "margin": {
         "t": 60
        },
        "template": {
         "data": {
          "bar": [
           {
            "error_x": {
             "color": "#2a3f5f"
            },
            "error_y": {
             "color": "#2a3f5f"
            },
            "marker": {
             "line": {
              "color": "#E5ECF6",
              "width": 0.5
             },
             "pattern": {
              "fillmode": "overlay",
              "size": 10,
              "solidity": 0.2
             }
            },
            "type": "bar"
           }
          ],
          "barpolar": [
           {
            "marker": {
             "line": {
              "color": "#E5ECF6",
              "width": 0.5
             },
             "pattern": {
              "fillmode": "overlay",
              "size": 10,
              "solidity": 0.2
             }
            },
            "type": "barpolar"
           }
          ],
          "carpet": [
           {
            "aaxis": {
             "endlinecolor": "#2a3f5f",
             "gridcolor": "white",
             "linecolor": "white",
             "minorgridcolor": "white",
             "startlinecolor": "#2a3f5f"
            },
            "baxis": {
             "endlinecolor": "#2a3f5f",
             "gridcolor": "white",
             "linecolor": "white",
             "minorgridcolor": "white",
             "startlinecolor": "#2a3f5f"
            },
            "type": "carpet"
           }
          ],
          "choropleth": [
           {
            "colorbar": {
             "outlinewidth": 0,
             "ticks": ""
            },
            "type": "choropleth"
           }
          ],
          "contour": [
           {
            "colorbar": {
             "outlinewidth": 0,
             "ticks": ""
            },
            "colorscale": [
             [
              0,
              "#0d0887"
             ],
             [
              0.1111111111111111,
              "#46039f"
             ],
             [
              0.2222222222222222,
              "#7201a8"
             ],
             [
              0.3333333333333333,
              "#9c179e"
             ],
             [
              0.4444444444444444,
              "#bd3786"
             ],
             [
              0.5555555555555556,
              "#d8576b"
             ],
             [
              0.6666666666666666,
              "#ed7953"
             ],
             [
              0.7777777777777778,
              "#fb9f3a"
             ],
             [
              0.8888888888888888,
              "#fdca26"
             ],
             [
              1,
              "#f0f921"
             ]
            ],
            "type": "contour"
           }
          ],
          "contourcarpet": [
           {
            "colorbar": {
             "outlinewidth": 0,
             "ticks": ""
            },
            "type": "contourcarpet"
           }
          ],
          "heatmap": [
           {
            "colorbar": {
             "outlinewidth": 0,
             "ticks": ""
            },
            "colorscale": [
             [
              0,
              "#0d0887"
             ],
             [
              0.1111111111111111,
              "#46039f"
             ],
             [
              0.2222222222222222,
              "#7201a8"
             ],
             [
              0.3333333333333333,
              "#9c179e"
             ],
             [
              0.4444444444444444,
              "#bd3786"
             ],
             [
              0.5555555555555556,
              "#d8576b"
             ],
             [
              0.6666666666666666,
              "#ed7953"
             ],
             [
              0.7777777777777778,
              "#fb9f3a"
             ],
             [
              0.8888888888888888,
              "#fdca26"
             ],
             [
              1,
              "#f0f921"
             ]
            ],
            "type": "heatmap"
           }
          ],
          "heatmapgl": [
           {
            "colorbar": {
             "outlinewidth": 0,
             "ticks": ""
            },
            "colorscale": [
             [
              0,
              "#0d0887"
             ],
             [
              0.1111111111111111,
              "#46039f"
             ],
             [
              0.2222222222222222,
              "#7201a8"
             ],
             [
              0.3333333333333333,
              "#9c179e"
             ],
             [
              0.4444444444444444,
              "#bd3786"
             ],
             [
              0.5555555555555556,
              "#d8576b"
             ],
             [
              0.6666666666666666,
              "#ed7953"
             ],
             [
              0.7777777777777778,
              "#fb9f3a"
             ],
             [
              0.8888888888888888,
              "#fdca26"
             ],
             [
              1,
              "#f0f921"
             ]
            ],
            "type": "heatmapgl"
           }
          ],
          "histogram": [
           {
            "marker": {
             "pattern": {
              "fillmode": "overlay",
              "size": 10,
              "solidity": 0.2
             }
            },
            "type": "histogram"
           }
          ],
          "histogram2d": [
           {
            "colorbar": {
             "outlinewidth": 0,
             "ticks": ""
            },
            "colorscale": [
             [
              0,
              "#0d0887"
             ],
             [
              0.1111111111111111,
              "#46039f"
             ],
             [
              0.2222222222222222,
              "#7201a8"
             ],
             [
              0.3333333333333333,
              "#9c179e"
             ],
             [
              0.4444444444444444,
              "#bd3786"
             ],
             [
              0.5555555555555556,
              "#d8576b"
             ],
             [
              0.6666666666666666,
              "#ed7953"
             ],
             [
              0.7777777777777778,
              "#fb9f3a"
             ],
             [
              0.8888888888888888,
              "#fdca26"
             ],
             [
              1,
              "#f0f921"
             ]
            ],
            "type": "histogram2d"
           }
          ],
          "histogram2dcontour": [
           {
            "colorbar": {
             "outlinewidth": 0,
             "ticks": ""
            },
            "colorscale": [
             [
              0,
              "#0d0887"
             ],
             [
              0.1111111111111111,
              "#46039f"
             ],
             [
              0.2222222222222222,
              "#7201a8"
             ],
             [
              0.3333333333333333,
              "#9c179e"
             ],
             [
              0.4444444444444444,
              "#bd3786"
             ],
             [
              0.5555555555555556,
              "#d8576b"
             ],
             [
              0.6666666666666666,
              "#ed7953"
             ],
             [
              0.7777777777777778,
              "#fb9f3a"
             ],
             [
              0.8888888888888888,
              "#fdca26"
             ],
             [
              1,
              "#f0f921"
             ]
            ],
            "type": "histogram2dcontour"
           }
          ],
          "mesh3d": [
           {
            "colorbar": {
             "outlinewidth": 0,
             "ticks": ""
            },
            "type": "mesh3d"
           }
          ],
          "parcoords": [
           {
            "line": {
             "colorbar": {
              "outlinewidth": 0,
              "ticks": ""
             }
            },
            "type": "parcoords"
           }
          ],
          "pie": [
           {
            "automargin": true,
            "type": "pie"
           }
          ],
          "scatter": [
           {
            "fillpattern": {
             "fillmode": "overlay",
             "size": 10,
             "solidity": 0.2
            },
            "type": "scatter"
           }
          ],
          "scatter3d": [
           {
            "line": {
             "colorbar": {
              "outlinewidth": 0,
              "ticks": ""
             }
            },
            "marker": {
             "colorbar": {
              "outlinewidth": 0,
              "ticks": ""
             }
            },
            "type": "scatter3d"
           }
          ],
          "scattercarpet": [
           {
            "marker": {
             "colorbar": {
              "outlinewidth": 0,
              "ticks": ""
             }
            },
            "type": "scattercarpet"
           }
          ],
          "scattergeo": [
           {
            "marker": {
             "colorbar": {
              "outlinewidth": 0,
              "ticks": ""
             }
            },
            "type": "scattergeo"
           }
          ],
          "scattergl": [
           {
            "marker": {
             "colorbar": {
              "outlinewidth": 0,
              "ticks": ""
             }
            },
            "type": "scattergl"
           }
          ],
          "scattermapbox": [
           {
            "marker": {
             "colorbar": {
              "outlinewidth": 0,
              "ticks": ""
             }
            },
            "type": "scattermapbox"
           }
          ],
          "scatterpolar": [
           {
            "marker": {
             "colorbar": {
              "outlinewidth": 0,
              "ticks": ""
             }
            },
            "type": "scatterpolar"
           }
          ],
          "scatterpolargl": [
           {
            "marker": {
             "colorbar": {
              "outlinewidth": 0,
              "ticks": ""
             }
            },
            "type": "scatterpolargl"
           }
          ],
          "scatterternary": [
           {
            "marker": {
             "colorbar": {
              "outlinewidth": 0,
              "ticks": ""
             }
            },
            "type": "scatterternary"
           }
          ],
          "surface": [
           {
            "colorbar": {
             "outlinewidth": 0,
             "ticks": ""
            },
            "colorscale": [
             [
              0,
              "#0d0887"
             ],
             [
              0.1111111111111111,
              "#46039f"
             ],
             [
              0.2222222222222222,
              "#7201a8"
             ],
             [
              0.3333333333333333,
              "#9c179e"
             ],
             [
              0.4444444444444444,
              "#bd3786"
             ],
             [
              0.5555555555555556,
              "#d8576b"
             ],
             [
              0.6666666666666666,
              "#ed7953"
             ],
             [
              0.7777777777777778,
              "#fb9f3a"
             ],
             [
              0.8888888888888888,
              "#fdca26"
             ],
             [
              1,
              "#f0f921"
             ]
            ],
            "type": "surface"
           }
          ],
          "table": [
           {
            "cells": {
             "fill": {
              "color": "#EBF0F8"
             },
             "line": {
              "color": "white"
             }
            },
            "header": {
             "fill": {
              "color": "#C8D4E3"
             },
             "line": {
              "color": "white"
             }
            },
            "type": "table"
           }
          ]
         },
         "layout": {
          "annotationdefaults": {
           "arrowcolor": "#2a3f5f",
           "arrowhead": 0,
           "arrowwidth": 1
          },
          "autotypenumbers": "strict",
          "coloraxis": {
           "colorbar": {
            "outlinewidth": 0,
            "ticks": ""
           }
          },
          "colorscale": {
           "diverging": [
            [
             0,
             "#8e0152"
            ],
            [
             0.1,
             "#c51b7d"
            ],
            [
             0.2,
             "#de77ae"
            ],
            [
             0.3,
             "#f1b6da"
            ],
            [
             0.4,
             "#fde0ef"
            ],
            [
             0.5,
             "#f7f7f7"
            ],
            [
             0.6,
             "#e6f5d0"
            ],
            [
             0.7,
             "#b8e186"
            ],
            [
             0.8,
             "#7fbc41"
            ],
            [
             0.9,
             "#4d9221"
            ],
            [
             1,
             "#276419"
            ]
           ],
           "sequential": [
            [
             0,
             "#0d0887"
            ],
            [
             0.1111111111111111,
             "#46039f"
            ],
            [
             0.2222222222222222,
             "#7201a8"
            ],
            [
             0.3333333333333333,
             "#9c179e"
            ],
            [
             0.4444444444444444,
             "#bd3786"
            ],
            [
             0.5555555555555556,
             "#d8576b"
            ],
            [
             0.6666666666666666,
             "#ed7953"
            ],
            [
             0.7777777777777778,
             "#fb9f3a"
            ],
            [
             0.8888888888888888,
             "#fdca26"
            ],
            [
             1,
             "#f0f921"
            ]
           ],
           "sequentialminus": [
            [
             0,
             "#0d0887"
            ],
            [
             0.1111111111111111,
             "#46039f"
            ],
            [
             0.2222222222222222,
             "#7201a8"
            ],
            [
             0.3333333333333333,
             "#9c179e"
            ],
            [
             0.4444444444444444,
             "#bd3786"
            ],
            [
             0.5555555555555556,
             "#d8576b"
            ],
            [
             0.6666666666666666,
             "#ed7953"
            ],
            [
             0.7777777777777778,
             "#fb9f3a"
            ],
            [
             0.8888888888888888,
             "#fdca26"
            ],
            [
             1,
             "#f0f921"
            ]
           ]
          },
          "colorway": [
           "#636efa",
           "#EF553B",
           "#00cc96",
           "#ab63fa",
           "#FFA15A",
           "#19d3f3",
           "#FF6692",
           "#B6E880",
           "#FF97FF",
           "#FECB52"
          ],
          "font": {
           "color": "#2a3f5f"
          },
          "geo": {
           "bgcolor": "white",
           "lakecolor": "white",
           "landcolor": "#E5ECF6",
           "showlakes": true,
           "showland": true,
           "subunitcolor": "white"
          },
          "hoverlabel": {
           "align": "left"
          },
          "hovermode": "closest",
          "mapbox": {
           "style": "light"
          },
          "paper_bgcolor": "white",
          "plot_bgcolor": "#E5ECF6",
          "polar": {
           "angularaxis": {
            "gridcolor": "white",
            "linecolor": "white",
            "ticks": ""
           },
           "bgcolor": "#E5ECF6",
           "radialaxis": {
            "gridcolor": "white",
            "linecolor": "white",
            "ticks": ""
           }
          },
          "scene": {
           "xaxis": {
            "backgroundcolor": "#E5ECF6",
            "gridcolor": "white",
            "gridwidth": 2,
            "linecolor": "white",
            "showbackground": true,
            "ticks": "",
            "zerolinecolor": "white"
           },
           "yaxis": {
            "backgroundcolor": "#E5ECF6",
            "gridcolor": "white",
            "gridwidth": 2,
            "linecolor": "white",
            "showbackground": true,
            "ticks": "",
            "zerolinecolor": "white"
           },
           "zaxis": {
            "backgroundcolor": "#E5ECF6",
            "gridcolor": "white",
            "gridwidth": 2,
            "linecolor": "white",
            "showbackground": true,
            "ticks": "",
            "zerolinecolor": "white"
           }
          },
          "shapedefaults": {
           "line": {
            "color": "#2a3f5f"
           }
          },
          "ternary": {
           "aaxis": {
            "gridcolor": "white",
            "linecolor": "white",
            "ticks": ""
           },
           "baxis": {
            "gridcolor": "white",
            "linecolor": "white",
            "ticks": ""
           },
           "bgcolor": "#E5ECF6",
           "caxis": {
            "gridcolor": "white",
            "linecolor": "white",
            "ticks": ""
           }
          },
          "title": {
           "x": 0.05
          },
          "xaxis": {
           "automargin": true,
           "gridcolor": "white",
           "linecolor": "white",
           "ticks": "",
           "title": {
            "standoff": 15
           },
           "zerolinecolor": "white",
           "zerolinewidth": 2
          },
          "yaxis": {
           "automargin": true,
           "gridcolor": "white",
           "linecolor": "white",
           "ticks": "",
           "title": {
            "standoff": 15
           },
           "zerolinecolor": "white",
           "zerolinewidth": 2
          }
         }
        },
        "xaxis": {
         "anchor": "y",
         "domain": [
          0,
          1
         ],
         "title": {
          "text": "tx_dlib"
         }
        },
        "yaxis": {
         "anchor": "x",
         "domain": [
          0,
          1
         ],
         "title": {
          "text": "ty_dlib"
         }
        }
       }
      },
      "text/html": [
       "<div>                            <div id=\"e493e8e4-0917-47e3-8ebc-55b38efb8c55\" class=\"plotly-graph-div\" style=\"height:525px; width:100%;\"></div>            <script type=\"text/javascript\">                require([\"plotly\"], function(Plotly) {                    window.PLOTLYENV=window.PLOTLYENV || {};                                    if (document.getElementById(\"e493e8e4-0917-47e3-8ebc-55b38efb8c55\")) {                    Plotly.newPlot(                        \"e493e8e4-0917-47e3-8ebc-55b38efb8c55\",                        [{\"customdata\":[[14,\"person_27\",\"in/person_27/943.jpg\",2.9810358683268228],[35,\"person_27\",\"in/person_27/951.jpg\",7.899172465006511]],\"hovertemplate\":\"labels=%{customdata[1]}<br>tx_dlib=%{x}<br>ty_dlib=%{y}<br>index=%{customdata[0]}<br>path=%{customdata[2]}<br>alignment_error=%{customdata[3]}<extra></extra>\",\"legendgroup\":\"person_27\",\"marker\":{\"color\":\"#2E91E5\",\"symbol\":\"circle\"},\"mode\":\"markers\",\"name\":\"person_27\",\"orientation\":\"v\",\"showlegend\":true,\"x\":[0.8530963659286499,0.8531337976455688],\"xaxis\":\"x\",\"y\":[0.21269437670707703,0.21087045967578888],\"yaxis\":\"y\",\"type\":\"scatter\"},{\"customdata\":[[40,\"person_12\",\"in/person_12/476.jpg\",0.4232762654622395],[41,\"person_12\",\"in/person_12/494.jpg\",7.251141866048177],[42,\"person_12\",\"in/person_12/592.jpg\",8.43994394938151],[44,\"person_12\",\"in/person_12/585.jpg\",8.118565877278646],[46,\"person_12\",\"in/person_12/486.jpg\",-1.8175684611002605],[47,\"person_12\",\"in/person_12/516.jpg\",1.2816874186197915],[48,\"person_12\",\"in/person_12/480.jpg\",0.8033727010091146],[49,\"person_12\",\"in/person_12/443.jpg\",3.320551554361979],[50,\"person_12\",\"in/person_12/617.jpg\",7.864626566569011],[51,\"person_12\",\"in/person_12/510.jpg\",2.5279719034830728],[52,\"person_12\",\"in/person_12/495.jpg\",3.239756266276041],[53,\"person_12\",\"in/person_12/572.jpg\",5.463826497395833],[54,\"person_12\",\"in/person_12/540.jpg\",1.528411865234375],[57,\"person_12\",\"in/person_12/454.jpg\",1.7810872395833333],[59,\"person_12\",\"in/person_12/553.jpg\",1.90362548828125],[62,\"person_12\",\"in/person_12/440.jpg\",3.4744135538736978],[63,\"person_12\",\"in/person_12/463.jpg\",0.8574879964192709],[65,\"person_12\",\"in/person_12/472.jpg\",-0.4162063598632812],[66,\"person_12\",\"in/person_12/604.jpg\",8.270991007486979],[69,\"person_12\",\"in/person_12/521.jpg\",0.2968012491861979],[70,\"person_12\",\"in/person_12/567.jpg\",3.504096984863281],[71,\"person_12\",\"in/person_12/508.jpg\",9.775377909342447],[72,\"person_12\",\"in/person_12/449.jpg\",4.5519053141276045],[75,\"person_12\",\"in/person_12/528.jpg\",0.2398808797200521],[77,\"person_12\",\"in/person_12/504.jpg\",4.114219665527344],[78,\"person_12\",\"in/person_12/623.jpg\",7.7812143961588545],[79,\"person_12\",\"in/person_12/546.jpg\",0.9495569864908854],[83,\"person_12\",\"in/person_12/579.jpg\",7.714235941569011],[87,\"person_12\",\"in/person_12/459.jpg\",0.3160374959309895],[88,\"person_12\",\"in/person_12/533.jpg\",1.2022298177083333],[89,\"person_12\",\"in/person_12/610.jpg\",7.586682637532552],[90,\"person_12\",\"in/person_12/491.jpg\",-0.3314310709635417],[92,\"person_12\",\"in/person_12/461.jpg\",-0.1225128173828125],[95,\"person_12\",\"in/person_12/500.jpg\",4.519317626953125],[97,\"person_12\",\"in/person_12/452.jpg\",4.635106404622396],[100,\"person_12\",\"in/person_12/599.jpg\",8.391713460286459],[101,\"person_12\",\"in/person_12/446.jpg\",3.6756184895833335],[103,\"person_12\",\"in/person_12/560.jpg\",1.752337137858073],[105,\"person_12\",\"in/person_12/468.jpg\",-0.2003224690755208],[108,\"person_12\",\"in/person_12/570.jpg\",9.941548665364584],[109,\"person_12\",\"in/person_12/488.jpg\",7.642931620279948],[110,\"person_12\",\"in/person_12/457.jpg\",2.2299346923828125]],\"hovertemplate\":\"labels=%{customdata[1]}<br>tx_dlib=%{x}<br>ty_dlib=%{y}<br>index=%{customdata[0]}<br>path=%{customdata[2]}<br>alignment_error=%{customdata[3]}<extra></extra>\",\"legendgroup\":\"person_12\",\"marker\":{\"color\":\"#E15F99\",\"symbol\":\"circle\"},\"mode\":\"markers\",\"name\":\"person_12\",\"orientation\":\"v\",\"showlegend\":true,\"x\":[0.958722710609436,0.9796657562255859,0.9159716367721558,0.9056787490844727,0.9342303276062012,0.9393869042396545,0.9515904188156128,0.992894172668457,0.9332672357559204,0.9468631744384766,0.9597176313400269,0.9096989631652832,0.9215649366378784,0.9789887070655823,0.9064974188804626,0.9917871952056885,0.9689502716064453,0.9665236473083496,0.9288370013237,0.9369388222694397,0.9088253974914551,0.9773304462432861,0.9957954287528992,0.9325817227363586,0.9488686323165894,0.9205918908119202,0.9205320477485657,0.9119070172309875,0.9761011004447937,0.9301049709320068,0.9326213002204895,0.9473069310188293,0.9731298685073853,0.9588896632194519,0.9912384748458862,0.921515703201294,1.0,0.9037328362464905,0.9648672342300415,0.9504945278167725,0.9773311018943787,0.9803125858306885],\"xaxis\":\"x\",\"y\":[0.6938483715057373,0.6073416471481323,0.6201804280281067,0.6263660788536072,0.6941060423851013,0.6574997901916504,0.6981360912322998,0.6777477860450745,0.6255100965499878,0.6606872081756592,0.6495659947395325,0.6561338305473328,0.6783364415168762,0.655297040939331,0.6712499856948853,0.678867757320404,0.6762189865112305,0.6900162696838379,0.6193809509277344,0.6623213291168213,0.6610268354415894,0.6074470281600952,0.6588916182518005,0.6727651953697205,0.6557787656784058,0.6316975355148315,0.668302059173584,0.6495344638824463,0.6650487780570984,0.6770930886268616,0.6266263127326965,0.6736716032028198,0.6709756851196289,0.6499242186546326,0.652097761631012,0.6151276230812073,0.6681066751480103,0.6710613369941711,0.6833591461181641,0.6194422245025635,0.6041111946105957,0.661811351776123],\"yaxis\":\"y\",\"type\":\"scatter\"},{\"customdata\":[[111,\"person_39\",\"in/person_39/1402.jpg\",5.444775899251302]],\"hovertemplate\":\"labels=%{customdata[1]}<br>tx_dlib=%{x}<br>ty_dlib=%{y}<br>index=%{customdata[0]}<br>path=%{customdata[2]}<br>alignment_error=%{customdata[3]}<extra></extra>\",\"legendgroup\":\"person_39\",\"marker\":{\"color\":\"#1CA71C\",\"symbol\":\"circle\"},\"mode\":\"markers\",\"name\":\"person_39\",\"orientation\":\"v\",\"showlegend\":true,\"x\":[0.3762243688106537],\"xaxis\":\"x\",\"y\":[0.11668337136507034],\"yaxis\":\"y\",\"type\":\"scatter\"},{\"customdata\":[[112,\"person_16\",\"in/person_16/590.jpg\",4.347554524739583],[113,\"person_16\",\"in/person_16/654.jpg\",6.33800760904948],[120,\"person_16\",\"in/person_16/646.jpg\",1.409472147623698],[125,\"person_16\",\"in/person_16/577.jpg\",1.578460693359375],[126,\"person_16\",\"in/person_16/539.jpg\",3.548365275065104],[128,\"person_16\",\"in/person_16/597.jpg\",3.7531585693359375],[130,\"person_16\",\"in/person_16/1055.jpg\",9.695543924967447],[132,\"person_16\",\"in/person_16/1046.jpg\",8.429845174153646],[134,\"person_16\",\"in/person_16/559.jpg\",1.6759694417317708],[135,\"person_16\",\"in/person_16/634.jpg\",4.474533081054688],[136,\"person_16\",\"in/person_16/564.jpg\",2.423070271809896]],\"hovertemplate\":\"labels=%{customdata[1]}<br>tx_dlib=%{x}<br>ty_dlib=%{y}<br>index=%{customdata[0]}<br>path=%{customdata[2]}<br>alignment_error=%{customdata[3]}<extra></extra>\",\"legendgroup\":\"person_16\",\"marker\":{\"color\":\"#FB0D0D\",\"symbol\":\"circle\"},\"mode\":\"markers\",\"name\":\"person_16\",\"orientation\":\"v\",\"showlegend\":true,\"x\":[0.5832556486129761,0.6044931411743164,0.6017963290214539,0.5829954743385315,0.5966572165489197,0.5849053859710693,0.5987561941146851,0.5993287563323975,0.5810892581939697,0.5990919470787048,0.5829825401306152],\"xaxis\":\"x\",\"y\":[0.2253103107213974,0.22197325527668,0.22165274620056152,0.2386961281299591,0.23949430882930756,0.22490429878234863,0.26243627071380615,0.2626050114631653,0.2443503886461258,0.22450128197669983,0.2407519668340683],\"yaxis\":\"y\",\"type\":\"scatter\"},{\"customdata\":[[144,\"person_22\",\"in/person_22/888.jpg\",5.906545003255208],[145,\"person_22\",\"in/person_22/822.jpg\",9.805567423502604],[146,\"person_22\",\"in/person_22/866.jpg\",7.965443929036458],[151,\"person_22\",\"in/person_22/938.jpg\",7.360481262207031],[152,\"person_22\",\"in/person_22/802.jpg\",5.914471944173177],[157,\"person_22\",\"in/person_22/879.jpg\",7.742368062337239],[158,\"person_22\",\"in/person_22/846.jpg\",9.114608764648438],[159,\"person_22\",\"in/person_22/794.jpg\",4.564908345540364],[160,\"person_22\",\"in/person_22/904.jpg\",3.3595174153645835],[163,\"person_22\",\"in/person_22/814.jpg\",6.822428385416667],[164,\"person_22\",\"in/person_22/924.jpg\",6.612495422363281],[165,\"person_22\",\"in/person_22/783.jpg\",4.944023132324219],[166,\"person_22\",\"in/person_22/913.jpg\",4.5740000406901045],[171,\"person_22\",\"in/person_22/779.jpg\",3.605677286783854],[173,\"person_22\",\"in/person_22/771.jpg\",7.111796061197917],[176,\"person_22\",\"in/person_22/857.jpg\",8.821642557779947]],\"hovertemplate\":\"labels=%{customdata[1]}<br>tx_dlib=%{x}<br>ty_dlib=%{y}<br>index=%{customdata[0]}<br>path=%{customdata[2]}<br>alignment_error=%{customdata[3]}<extra></extra>\",\"legendgroup\":\"person_22\",\"marker\":{\"color\":\"#DA16FF\",\"symbol\":\"circle\"},\"mode\":\"markers\",\"name\":\"person_22\",\"orientation\":\"v\",\"showlegend\":true,\"x\":[0.7349696755409241,0.7271286845207214,0.723618745803833,0.7167061567306519,0.743317723274231,0.7406156063079834,0.7161346673965454,0.741665780544281,0.7051257491111755,0.733521044254303,0.7136809229850769,0.7430335879325867,0.7139691114425659,0.7312303185462952,0.726540744304657,0.7160003781318665],\"xaxis\":\"x\",\"y\":[0.10099185258150101,0.1260869950056076,0.10277174413204193,0.13374336063861847,0.1296837031841278,0.10448954254388809,0.10688497126102448,0.12133736163377762,0.12142738699913025,0.13129901885986328,0.13558711111545563,0.11553821712732315,0.12873229384422302,0.11429458856582642,0.11458898335695267,0.1087806448340416],\"yaxis\":\"y\",\"type\":\"scatter\"},{\"customdata\":[[179,\"person_20\",\"in/person_20/721.jpg\",8.07818603515625],[184,\"person_20\",\"in/person_20/740.jpg\",8.915496826171875]],\"hovertemplate\":\"labels=%{customdata[1]}<br>tx_dlib=%{x}<br>ty_dlib=%{y}<br>index=%{customdata[0]}<br>path=%{customdata[2]}<br>alignment_error=%{customdata[3]}<extra></extra>\",\"legendgroup\":\"person_20\",\"marker\":{\"color\":\"#222A2A\",\"symbol\":\"circle\"},\"mode\":\"markers\",\"name\":\"person_20\",\"orientation\":\"v\",\"showlegend\":true,\"x\":[0.29978320002555847,0.2997249662876129],\"xaxis\":\"x\",\"y\":[0.5163343548774719,0.5164473652839661],\"yaxis\":\"y\",\"type\":\"scatter\"},{\"customdata\":[[191,\"person_11\",\"in/person_11/484.jpg\",-2.129155476888021],[192,\"person_11\",\"in/person_11/499.jpg\",3.853444417317709],[193,\"person_11\",\"in/person_11/490.jpg\",0.4719899495442708],[194,\"person_11\",\"in/person_11/414.jpg\",2.9633687337239585],[195,\"person_11\",\"in/person_11/428.jpg\",8.256304423014322],[196,\"person_11\",\"in/person_11/426.jpg\",7.904650370279948],[197,\"person_11\",\"in/person_11/417.jpg\",5.120160420735677],[198,\"person_11\",\"in/person_11/422.jpg\",6.242162068684896],[199,\"person_11\",\"in/person_11/431.jpg\",5.873067220052083],[200,\"person_11\",\"in/person_11/413.jpg\",3.9685465494791674],[201,\"person_11\",\"in/person_11/477.jpg\",9.08258056640625],[202,\"person_11\",\"in/person_11/481.jpg\",1.9197998046875],[203,\"person_11\",\"in/person_11/496.jpg\",2.17156728108724],[204,\"person_11\",\"in/person_11/424.jpg\",8.115514119466146],[205,\"person_11\",\"in/person_11/404.jpg\",4.614163716634114]],\"hovertemplate\":\"labels=%{customdata[1]}<br>tx_dlib=%{x}<br>ty_dlib=%{y}<br>index=%{customdata[0]}<br>path=%{customdata[2]}<br>alignment_error=%{customdata[3]}<extra></extra>\",\"legendgroup\":\"person_11\",\"marker\":{\"color\":\"#B68100\",\"symbol\":\"circle\"},\"mode\":\"markers\",\"name\":\"person_11\",\"orientation\":\"v\",\"showlegend\":true,\"x\":[0.974189281463623,0.9719160795211792,0.9725053310394287,0.9680880904197693,0.9484345316886902,0.9508353471755981,0.9665412306785583,0.9612525105476379,0.957164466381073,0.974260687828064,0.9434600472450256,0.9527885317802429,0.9751672744750977,0.9536556005477905,0.9559176564216614],\"xaxis\":\"x\",\"y\":[0.2041880041360855,0.19739630818367004,0.20109692215919495,0.1710168868303299,0.17462508380413055,0.1735173612833023,0.17016854882240295,0.1675577610731125,0.17780040204524994,0.1811128556728363,0.19151441752910614,0.19965627789497375,0.20027486979961395,0.17569251358509064,0.1924077570438385],\"yaxis\":\"y\",\"type\":\"scatter\"},{\"customdata\":[[206,\"person_26\",\"in/person_26/990.jpg\",5.537689208984375],[207,\"person_26\",\"in/person_26/1102.jpg\",9.487894694010416],[209,\"person_26\",\"in/person_26/1078.jpg\",9.52886962890625],[211,\"person_26\",\"in/person_26/933.jpg\",5.618583679199219],[212,\"person_26\",\"in/person_26/920.jpg\",7.528856913248698],[215,\"person_26\",\"in/person_26/1006.jpg\",6.001665751139323],[218,\"person_26\",\"in/person_26/1040.jpg\",6.325925191243489],[219,\"person_26\",\"in/person_26/886.jpg\",7.028615315755208],[220,\"person_26\",\"in/person_26/1052.jpg\",7.471542358398437],[221,\"person_26\",\"in/person_26/1091.jpg\",7.7104848225911455],[223,\"person_26\",\"in/person_26/1027.jpg\",4.673271179199219],[224,\"person_26\",\"in/person_26/959.jpg\",5.080586751302083],[226,\"person_26\",\"in/person_26/1064.jpg\",7.95428466796875],[227,\"person_26\",\"in/person_26/875.jpg\",6.722951253255208],[231,\"person_26\",\"in/person_26/996.jpg\",6.078725179036458],[232,\"person_26\",\"in/person_26/978.jpg\",5.597719828287761],[233,\"person_26\",\"in/person_26/970.jpg\",7.356564839680989]],\"hovertemplate\":\"labels=%{customdata[1]}<br>tx_dlib=%{x}<br>ty_dlib=%{y}<br>index=%{customdata[0]}<br>path=%{customdata[2]}<br>alignment_error=%{customdata[3]}<extra></extra>\",\"legendgroup\":\"person_26\",\"marker\":{\"color\":\"#750D86\",\"symbol\":\"circle\"},\"mode\":\"markers\",\"name\":\"person_26\",\"orientation\":\"v\",\"showlegend\":true,\"x\":[0.6960603594779968,0.6383072733879089,0.6371709108352661,0.6831523776054382,0.6806715726852417,0.7049734592437744,0.6701256036758423,0.7034740447998047,0.6455892324447632,0.6374036073684692,0.6661097407341003,0.6857637166976929,0.6362993717193604,0.7045441269874573,0.6969518065452576,0.691510796546936,0.6868444085121155],\"xaxis\":\"x\",\"y\":[0.39401954412460327,0.38277167081832886,0.4104860723018646,0.37934401631355286,0.3741197884082794,0.3961428701877594,0.394922137260437,0.3781503140926361,0.4069255590438843,0.38384220004081726,0.398587703704834,0.38900041580200195,0.41188979148864746,0.37486255168914795,0.39298558235168457,0.39518120884895325,0.4066069722175598],\"yaxis\":\"y\",\"type\":\"scatter\"},{\"customdata\":[[236,\"person_34\",\"in/person_34/1371.jpg\",8.736663818359375],[237,\"person_34\",\"in/person_34/1281.jpg\",4.26190185546875],[238,\"person_34\",\"in/person_34/1359.jpg\",6.079327901204427],[239,\"person_34\",\"in/person_34/1322.jpg\",9.195515950520834],[241,\"person_34\",\"in/person_34/1314.jpg\",7.551816304524739],[242,\"person_34\",\"in/person_34/1405.jpg\",9.974655151367188],[243,\"person_34\",\"in/person_34/1334.jpg\",9.325213114420572],[244,\"person_34\",\"in/person_34/1259.jpg\",6.396942138671875],[248,\"person_34\",\"in/person_34/1363.jpg\",7.0193125406901045],[249,\"person_34\",\"in/person_34/1354.jpg\",5.373875935872396],[250,\"person_34\",\"in/person_34/1266.jpg\",5.558331807454427],[251,\"person_34\",\"in/person_34/1308.jpg\",5.3988087972005205],[253,\"person_34\",\"in/person_34/1292.jpg\",5.056437174479167],[254,\"person_34\",\"in/person_34/1286.jpg\",3.795064290364584],[259,\"person_34\",\"in/person_34/1349.jpg\",5.650825500488281],[260,\"person_34\",\"in/person_34/1300.jpg\",5.4200083414713545],[261,\"person_34\",\"in/person_34/1367.jpg\",7.123972574869792],[263,\"person_34\",\"in/person_34/1273.jpg\",4.589922587076823],[266,\"person_34\",\"in/person_34/1338.jpg\",9.134587605794271],[267,\"person_34\",\"in/person_34/1344.jpg\",7.183570861816406]],\"hovertemplate\":\"labels=%{customdata[1]}<br>tx_dlib=%{x}<br>ty_dlib=%{y}<br>index=%{customdata[0]}<br>path=%{customdata[2]}<br>alignment_error=%{customdata[3]}<extra></extra>\",\"legendgroup\":\"person_34\",\"marker\":{\"color\":\"#EB663B\",\"symbol\":\"circle\"},\"mode\":\"markers\",\"name\":\"person_34\",\"orientation\":\"v\",\"showlegend\":true,\"x\":[0.5672397017478943,0.5020149350166321,0.541599452495575,0.5219480991363525,0.5114421844482422,0.5573189854621887,0.5344932079315186,0.5129562616348267,0.5671511888504028,0.5404428839683533,0.5134465098381042,0.5115638375282288,0.5064810514450073,0.49922364950180054,0.5402299761772156,0.5027058124542236,0.567491888999939,0.5097797513008118,0.5385935306549072,0.5392352938652039],\"xaxis\":\"x\",\"y\":[0.3173961341381073,0.3458717167377472,0.3256043791770935,0.3236221671104431,0.3173847794532776,0.33803871273994446,0.3144310414791107,0.3493645489215851,0.31489098072052,0.333771675825119,0.35157519578933716,0.3124220371246338,0.33119598031044006,0.3423808217048645,0.3359907269477844,0.31708574295043945,0.3162362575531006,0.3569890856742859,0.3206578195095062,0.3286621868610382],\"yaxis\":\"y\",\"type\":\"scatter\"},{\"customdata\":[[269,\"person_5\",\"in/person_5/211.jpg\",8.651880900065104],[270,\"person_5\",\"in/person_5/212.jpg\",8.951606750488281],[271,\"person_5\",\"in/person_5/216.jpg\",8.336471557617188],[272,\"person_5\",\"in/person_5/207.jpg\",6.993479410807292]],\"hovertemplate\":\"labels=%{customdata[1]}<br>tx_dlib=%{x}<br>ty_dlib=%{y}<br>index=%{customdata[0]}<br>path=%{customdata[2]}<br>alignment_error=%{customdata[3]}<extra></extra>\",\"legendgroup\":\"person_5\",\"marker\":{\"color\":\"#511CFB\",\"symbol\":\"circle\"},\"mode\":\"markers\",\"name\":\"person_5\",\"orientation\":\"v\",\"showlegend\":true,\"x\":[0.2649829387664795,0.2642625868320465,0.26298627257347107,0.26562801003456116],\"xaxis\":\"x\",\"y\":[0.8772860765457153,0.8773010969161987,0.8778456449508667,0.8767074346542358],\"yaxis\":\"y\",\"type\":\"scatter\"},{\"customdata\":[[275,\"person_2\",\"in/person_2/28.jpg\",9.103294372558594],[277,\"person_2\",\"in/person_2/32.jpg\",9.471773783365885],[278,\"person_2\",\"in/person_2/21.jpg\",6.505561828613281],[285,\"person_2\",\"in/person_2/23.jpg\",8.44817860921224],[295,\"person_2\",\"in/person_2/26.jpg\",8.295801798502604],[297,\"person_2\",\"in/person_2/22.jpg\",7.288424173990886]],\"hovertemplate\":\"labels=%{customdata[1]}<br>tx_dlib=%{x}<br>ty_dlib=%{y}<br>index=%{customdata[0]}<br>path=%{customdata[2]}<br>alignment_error=%{customdata[3]}<extra></extra>\",\"legendgroup\":\"person_2\",\"marker\":{\"color\":\"#00A08B\",\"symbol\":\"circle\"},\"mode\":\"markers\",\"name\":\"person_2\",\"orientation\":\"v\",\"showlegend\":true,\"x\":[0.28011125326156616,0.29596856236457825,0.2832576632499695,0.2804432511329651,0.2800291180610657,0.2819860279560089],\"xaxis\":\"x\",\"y\":[0.3878357708454132,0.39112943410873413,0.3810010254383087,0.38463398814201355,0.3886203169822693,0.3795129358768463],\"yaxis\":\"y\",\"type\":\"scatter\"},{\"customdata\":[[300,\"person_7\",\"in/person_7/245.jpg\",7.762120564778645]],\"hovertemplate\":\"labels=%{customdata[1]}<br>tx_dlib=%{x}<br>ty_dlib=%{y}<br>index=%{customdata[0]}<br>path=%{customdata[2]}<br>alignment_error=%{customdata[3]}<extra></extra>\",\"legendgroup\":\"person_7\",\"marker\":{\"color\":\"#FB00D1\",\"symbol\":\"circle\"},\"mode\":\"markers\",\"name\":\"person_7\",\"orientation\":\"v\",\"showlegend\":true,\"x\":[0.2477237731218338],\"xaxis\":\"x\",\"y\":[0.8848203420639038],\"yaxis\":\"y\",\"type\":\"scatter\"},{\"customdata\":[[317,\"person_21\",\"in/person_21/728.jpg\",8.926961263020834],[318,\"person_21\",\"in/person_21/910.jpg\",4.175994873046875],[319,\"person_21\",\"in/person_21/769.jpg\",3.0789082845052085],[320,\"person_21\",\"in/person_21/817.jpg\",9.214032491048178],[321,\"person_21\",\"in/person_21/864.jpg\",5.940696716308594],[322,\"person_21\",\"in/person_21/834.jpg\",-1.0105260213216145],[323,\"person_21\",\"in/person_21/820.jpg\",0.6153462727864584],[324,\"person_21\",\"in/person_21/952.jpg\",4.455172220865886],[326,\"person_21\",\"in/person_21/878.jpg\",7.097076416015625],[327,\"person_21\",\"in/person_21/811.jpg\",0.9157155354817708],[328,\"person_21\",\"in/person_21/891.jpg\",5.4647979736328125],[329,\"person_21\",\"in/person_21/858.jpg\",6.001055399576823],[330,\"person_21\",\"in/person_21/764.jpg\",5.295595804850261],[331,\"person_21\",\"in/person_21/901.jpg\",4.809173583984375],[332,\"person_21\",\"in/person_21/936.jpg\",2.899688720703125],[333,\"person_21\",\"in/person_21/791.jpg\",1.1337636311848958],[334,\"person_21\",\"in/person_21/963.jpg\",5.80194091796875],[335,\"person_21\",\"in/person_21/804.jpg\",2.440511067708333],[337,\"person_21\",\"in/person_21/777.jpg\",-0.2639541625976562],[338,\"person_21\",\"in/person_21/842.jpg\",3.563191731770833],[339,\"person_21\",\"in/person_21/785.jpg\",0.8552042643229166],[340,\"person_21\",\"in/person_21/739.jpg\",7.731007893880208],[341,\"person_21\",\"in/person_21/946.jpg\",3.4068883260091147],[343,\"person_21\",\"in/person_21/972.jpg\",7.055747985839844],[344,\"person_21\",\"in/person_21/925.jpg\",4.934560139973958],[345,\"person_21\",\"in/person_21/755.jpg\",3.6113382975260415]],\"hovertemplate\":\"labels=%{customdata[1]}<br>tx_dlib=%{x}<br>ty_dlib=%{y}<br>index=%{customdata[0]}<br>path=%{customdata[2]}<br>alignment_error=%{customdata[3]}<extra></extra>\",\"legendgroup\":\"person_21\",\"marker\":{\"color\":\"#FC0080\",\"symbol\":\"circle\"},\"mode\":\"markers\",\"name\":\"person_21\",\"orientation\":\"v\",\"showlegend\":true,\"x\":[0.250217080116272,0.21013222634792328,0.22031216323375702,0.26513487100601196,0.219488725066185,0.23312965035438538,0.22769354283809662,0.19691848754882812,0.2222379893064499,0.21025274693965912,0.21783050894737244,0.21051901578903198,0.2300359308719635,0.20678886771202087,0.2059306651353836,0.20561671257019043,0.1907157152891159,0.2083434760570526,0.2122199386358261,0.20875515043735504,0.20827579498291016,0.2450038492679596,0.20684941112995148,0.18637116253376007,0.2147022783756256,0.22984959185123444],\"xaxis\":\"x\",\"y\":[0.302177757024765,0.20718075335025787,0.2918749153614044,0.27051302790641785,0.23954209685325623,0.26027974486351013,0.2659277617931366,0.22384697198867798,0.22614112496376038,0.2686469852924347,0.2268109768629074,0.24261918663978577,0.29538270831108093,0.2041381448507309,0.21327652037143707,0.27102357149124146,0.22526466846466064,0.26948174834251404,0.285269558429718,0.2503560781478882,0.2805834114551544,0.2986927032470703,0.21824511885643005,0.2277330905199051,0.20601807534694672,0.2944270074367523],\"yaxis\":\"y\",\"type\":\"scatter\"},{\"customdata\":[[347,\"person_8\",\"in/person_8/265.jpg\",8.554946899414062],[349,\"person_8\",\"in/person_8/277.jpg\",7.011482238769531],[350,\"person_8\",\"in/person_8/252.jpg\",8.870254516601562],[351,\"person_8\",\"in/person_8/267.jpg\",5.24346923828125],[352,\"person_8\",\"in/person_8/270.jpg\",3.798426310221354],[355,\"person_8\",\"in/person_8/273.jpg\",5.165362040201823],[359,\"person_8\",\"in/person_8/262.jpg\",8.489095052083334],[360,\"person_8\",\"in/person_8/259.jpg\",7.566782633463542],[361,\"person_8\",\"in/person_8/255.jpg\",8.305608113606771]],\"hovertemplate\":\"labels=%{customdata[1]}<br>tx_dlib=%{x}<br>ty_dlib=%{y}<br>index=%{customdata[0]}<br>path=%{customdata[2]}<br>alignment_error=%{customdata[3]}<extra></extra>\",\"legendgroup\":\"person_8\",\"marker\":{\"color\":\"#B2828D\",\"symbol\":\"circle\"},\"mode\":\"markers\",\"name\":\"person_8\",\"orientation\":\"v\",\"showlegend\":true,\"x\":[0.39912283420562744,0.3882424831390381,0.4083414077758789,0.39078572392463684,0.388277143239975,0.38739338517189026,0.40329405665397644,0.40140363574028015,0.4058331847190857],\"xaxis\":\"x\",\"y\":[0.4161558151245117,0.438012957572937,0.4153502881526947,0.4236304461956024,0.42868852615356445,0.43255704641342163,0.42309054732322693,0.4273854196071625,0.41952449083328247],\"yaxis\":\"y\",\"type\":\"scatter\"},{\"customdata\":[[362,\"person_29\",\"in/person_29/1180.jpg\",5.452832539876302],[363,\"person_29\",\"in/person_29/1105.jpg\",2.9317143758138022],[364,\"person_29\",\"in/person_29/1120.jpg\",2.1293004353841147],[365,\"person_29\",\"in/person_29/1033.jpg\",-0.5017038981119791],[366,\"person_29\",\"in/person_29/1043.jpg\",0.2305246988932291],[367,\"person_29\",\"in/person_29/1227.jpg\",9.33666737874349],[368,\"person_29\",\"in/person_29/984.jpg\",5.3167877197265625],[369,\"person_29\",\"in/person_29/939.jpg\",1.760698954264323],[370,\"person_29\",\"in/person_29/1168.jpg\",4.191314697265625],[372,\"person_29\",\"in/person_29/1218.jpg\",9.654637654622396],[375,\"person_29\",\"in/person_29/1056.jpg\",1.5731735229492188],[377,\"person_29\",\"in/person_29/1023.jpg\",0.7125015258789062],[381,\"person_29\",\"in/person_29/1132.jpg\",2.8986638387044272],[383,\"person_29\",\"in/person_29/1197.jpg\",9.397610982259115],[384,\"person_29\",\"in/person_29/929.jpg\",0.9814732869466146],[385,\"person_29\",\"in/person_29/1081.jpg\",4.769864400227864],[386,\"person_29\",\"in/person_29/1093.jpg\",2.685287475585937],[387,\"person_29\",\"in/person_29/1001.jpg\",2.5648396809895835],[388,\"person_29\",\"in/person_29/1068.jpg\",1.9779917399088545],[389,\"person_29\",\"in/person_29/975.jpg\",4.777697245279948],[390,\"person_29\",\"in/person_29/1145.jpg\",2.8268051147460938],[391,\"person_29\",\"in/person_29/1012.jpg\",1.3996531168619792],[392,\"person_29\",\"in/person_29/991.jpg\",3.698163350423177],[393,\"person_29\",\"in/person_29/1158.jpg\",4.073455810546875],[394,\"person_29\",\"in/person_29/1189.jpg\",8.402788798014322],[395,\"person_29\",\"in/person_29/955.jpg\",3.7226664225260415],[397,\"person_29\",\"in/person_29/965.jpg\",3.925346374511719],[398,\"person_29\",\"in/person_29/1209.jpg\",9.110847473144531]],\"hovertemplate\":\"labels=%{customdata[1]}<br>tx_dlib=%{x}<br>ty_dlib=%{y}<br>index=%{customdata[0]}<br>path=%{customdata[2]}<br>alignment_error=%{customdata[3]}<extra></extra>\",\"legendgroup\":\"person_29\",\"marker\":{\"color\":\"#6C7C32\",\"symbol\":\"circle\"},\"mode\":\"markers\",\"name\":\"person_29\",\"orientation\":\"v\",\"showlegend\":true,\"x\":[0.6503422856330872,0.667015552520752,0.6637765169143677,0.6619283556938171,0.6512860059738159,0.6233189105987549,0.6327646970748901,0.612956702709198,0.6620532870292664,0.625227689743042,0.6430913805961609,0.6650770902633667,0.6765095591545105,0.6386145353317261,0.6173484325408936,0.6771664023399353,0.6758981943130493,0.6430542469024658,0.6494911909103394,0.6225172877311707,0.6658746004104614,0.6560906171798706,0.6372889876365662,0.6724390387535095,0.645270824432373,0.627156138420105,0.6208430528640747,0.6316623687744141],\"xaxis\":\"x\",\"y\":[0.7612440586090088,0.7787597179412842,0.7771459817886353,0.7936866283416748,0.7891083359718323,0.7627394199371338,0.8016730546951294,0.7899788022041321,0.7585964202880859,0.7633587718009949,0.7830010652542114,0.8002756237983704,0.7747317552566528,0.7624209523200989,0.7902922034263611,0.7881613969802856,0.7847740054130554,0.8060879111289978,0.7817426919937134,0.8028179407119751,0.7657391428947449,0.8041865825653076,0.7962899208068848,0.7647964358329773,0.7670393586158752,0.8109279870986938,0.8051009774208069,0.7579793334007263],\"yaxis\":\"y\",\"type\":\"scatter\"},{\"customdata\":[[401,\"person_13\",\"in/person_13/1015.jpg\",5.016054789225261],[403,\"person_13\",\"in/person_13/765.jpg\",2.059595743815104],[406,\"person_13\",\"in/person_13/582.jpg\",8.144091288248697],[407,\"person_13\",\"in/person_13/492.jpg\",6.959526062011719],[408,\"person_13\",\"in/person_13/719.jpg\",4.761594136555989],[411,\"person_13\",\"in/person_13/1036.jpg\",7.8188832600911455],[412,\"person_13\",\"in/person_13/896.jpg\",3.0449142456054688],[413,\"person_13\",\"in/person_13/524.jpg\",9.009674072265623],[414,\"person_13\",\"in/person_13/737.jpg\",1.931592305501302],[415,\"person_13\",\"in/person_13/816.jpg\",2.8891016642252603],[416,\"person_13\",\"in/person_13/744.jpg\",0.917205810546875],[417,\"person_13\",\"in/person_13/773.jpg\",2.892176310221354],[418,\"person_13\",\"in/person_13/497.jpg\",8.969713846842447],[421,\"person_13\",\"in/person_13/520.jpg\",8.686965942382812],[422,\"person_13\",\"in/person_13/957.jpg\",7.749203999837239],[423,\"person_13\",\"in/person_13/729.jpg\",1.4166285196940105],[424,\"person_13\",\"in/person_13/502.jpg\",9.522905985514322],[425,\"person_13\",\"in/person_13/536.jpg\",8.584111531575521],[426,\"person_13\",\"in/person_13/746.jpg\",9.809679667154947],[427,\"person_13\",\"in/person_13/966.jpg\",7.0526275634765625],[428,\"person_13\",\"in/person_13/465.jpg\",8.207402547200521],[431,\"person_13\",\"in/person_13/733.jpg\",9.660741170247396],[432,\"person_13\",\"in/person_13/1059.jpg\",7.801236470540364],[433,\"person_13\",\"in/person_13/727.jpg\",8.694844563802084],[435,\"person_13\",\"in/person_13/850.jpg\",3.7810160319010415],[436,\"person_13\",\"in/person_13/1005.jpg\",6.465189615885417],[438,\"person_13\",\"in/person_13/741.jpg\",9.092882792154947],[439,\"person_13\",\"in/person_13/506.jpg\",9.35491689046224],[440,\"person_13\",\"in/person_13/464.jpg\",5.715667724609375],[441,\"person_13\",\"in/person_13/797.jpg\",1.6646804809570312],[443,\"person_13\",\"in/person_13/507.jpg\",9.082626342773438],[444,\"person_13\",\"in/person_13/1050.jpg\",8.16167958577474],[450,\"person_13\",\"in/person_13/751.jpg\",9.379475911458334],[451,\"person_13\",\"in/person_13/781.jpg\",3.410265604654948],[452,\"person_13\",\"in/person_13/932.jpg\",4.501035054524739],[453,\"person_13\",\"in/person_13/501.jpg\",8.771255493164062],[454,\"person_13\",\"in/person_13/562.jpg\",8.142468770345053],[456,\"person_13\",\"in/person_13/489.jpg\",9.962677001953123],[458,\"person_13\",\"in/person_13/543.jpg\",8.074267069498697],[459,\"person_13\",\"in/person_13/723.jpg\",1.1706186930338542],[460,\"person_13\",\"in/person_13/522.jpg\",9.60522206624349],[461,\"person_13\",\"in/person_13/747.jpg\",0.5605417887369791],[462,\"person_13\",\"in/person_13/986.jpg\",8.133374532063803],[464,\"person_13\",\"in/person_13/995.jpg\",7.500686645507812],[465,\"person_13\",\"in/person_13/532.jpg\",8.633956909179688],[466,\"person_13\",\"in/person_13/554.jpg\",8.924575805664062],[467,\"person_13\",\"in/person_13/571.jpg\",9.000134785970053],[469,\"person_13\",\"in/person_13/561.jpg\",9.598416646321615],[470,\"person_13\",\"in/person_13/885.jpg\",2.531219482421875],[471,\"person_13\",\"in/person_13/827.jpg\",3.1582361857096357],[472,\"person_13\",\"in/person_13/789.jpg\",3.262242635091146],[473,\"person_13\",\"in/person_13/839.jpg\",3.8326517740885415],[475,\"person_13\",\"in/person_13/547.jpg\",9.827438354492188],[479,\"person_13\",\"in/person_13/859.jpg\",4.500048319498698],[480,\"person_13\",\"in/person_13/977.jpg\",7.077313741048177],[483,\"person_13\",\"in/person_13/1025.jpg\",6.483896891276042],[485,\"person_13\",\"in/person_13/949.jpg\",7.2184702555338545],[486,\"person_13\",\"in/person_13/482.jpg\",5.4313405354817705],[488,\"person_13\",\"in/person_13/870.jpg\",3.3750228881835938],[490,\"person_13\",\"in/person_13/576.jpg\",8.623181660970053],[491,\"person_13\",\"in/person_13/469.jpg\",6.2530670166015625],[492,\"person_13\",\"in/person_13/753.jpg\",-0.1659062703450521],[493,\"person_13\",\"in/person_13/919.jpg\",2.9658991495768228],[495,\"person_13\",\"in/person_13/909.jpg\",2.537572224934896],[496,\"person_13\",\"in/person_13/549.jpg\",8.379536946614584],[497,\"person_13\",\"in/person_13/762.jpg\",0.992431640625],[499,\"person_13\",\"in/person_13/485.jpg\",5.806541442871094],[500,\"person_13\",\"in/person_13/475.jpg\",6.883959452311198],[502,\"person_13\",\"in/person_13/514.jpg\",9.238911946614584],[503,\"person_13\",\"in/person_13/557.jpg\",7.9912160237630205],[504,\"person_13\",\"in/person_13/941.jpg\",6.149955749511719]],\"hovertemplate\":\"labels=%{customdata[1]}<br>tx_dlib=%{x}<br>ty_dlib=%{y}<br>index=%{customdata[0]}<br>path=%{customdata[2]}<br>alignment_error=%{customdata[3]}<extra></extra>\",\"legendgroup\":\"person_13\",\"marker\":{\"color\":\"#778AAE\",\"symbol\":\"circle\"},\"mode\":\"markers\",\"name\":\"person_13\",\"orientation\":\"v\",\"showlegend\":true,\"x\":[0.5333384871482849,0.49430397152900696,0.38500431180000305,0.36339882016181946,0.43275749683380127,0.5332552790641785,0.5163511037826538,0.3475359082221985,0.41509878635406494,0.4860648512840271,0.41977638006210327,0.5001367330551147,0.35639432072639465,0.3471201956272125,0.5111653208732605,0.41445064544677734,0.32629841566085815,0.353655606508255,0.45880162715911865,0.5192974805831909,0.39101019501686096,0.4563765227794647,0.5383103489875793,0.4586975574493408,0.47330471873283386,0.5304220914840698,0.4535512626171112,0.36621326208114624,0.34124723076820374,0.4902496039867401,0.33186766505241394,0.5353882312774658,0.46057602763175964,0.5052286982536316,0.5064842700958252,0.3556116819381714,0.365775465965271,0.32323089241981506,0.34744685888290405,0.43188032507896423,0.3744181990623474,0.5061708688735962,0.5283889770507812,0.5291383266448975,0.3539447784423828,0.39004945755004883,0.37638217210769653,0.3852018117904663,0.5108672380447388,0.47882142663002014,0.4907497465610504,0.4770428240299225,0.38982465863227844,0.467653751373291,0.5308153629302979,0.5284947156906128,0.5122954845428467,0.35323846340179443,0.5066734552383423,0.38088342547416687,0.34597933292388916,0.5003470778465271,0.49545472860336304,0.49555888772010803,0.36546072363853455,0.4958716630935669,0.3671876788139343,0.3543131351470947,0.34043094515800476,0.36906135082244873,0.5085853934288025],\"xaxis\":\"x\",\"y\":[0.030575063079595566,0.08628100156784058,0.27810990810394287,0.34295156598091125,0.06107277050614357,0.04785402864217758,0.03612048178911209,0.2823645770549774,0.055978432297706604,0.05131023749709129,0.05588585138320923,0.07519105076789856,0.33042702078819275,0.27696493268013,0.00483887642621994,0.05603507533669472,0.2741738557815552,0.2977152168750763,0.005683402996510267,0.0,0.29448994994163513,0.023318927735090256,0.0583689846098423,0.023475203663110733,0.049069419503211975,0.02057242952287197,0.02541876584291458,0.33030858635902405,0.3326576054096222,0.06280671805143356,0.2846579849720001,0.05454985052347183,0.004455716349184513,0.0734676942229271,0.02623450942337513,0.32409748435020447,0.29055482149124146,0.27186164259910583,0.2952415645122528,0.05814213305711746,0.33481812477111816,0.10136581212282181,0.0064025139436125755,0.009467625990509987,0.29518112540245056,0.3224102258682251,0.27975305914878845,0.32177120447158813,0.042092215269804,0.05299517139792442,0.06325060874223709,0.04782310128211975,0.32433104515075684,0.052046652883291245,0.004691423382610083,0.05012243986129761,0.01629672944545746,0.34893426299095154,0.046569664031267166,0.27606964111328125,0.33326849341392517,0.09251787513494492,0.02215251885354519,0.022099586203694344,0.29958322644233704,0.0897124782204628,0.3491774797439575,0.3419589400291443,0.2825133204460144,0.29309341311454773,0.021588489413261414],\"yaxis\":\"y\",\"type\":\"scatter\"},{\"customdata\":[[515,\"person_10\",\"in/person_10/940.jpg\",8.462898254394531]],\"hovertemplate\":\"labels=%{customdata[1]}<br>tx_dlib=%{x}<br>ty_dlib=%{y}<br>index=%{customdata[0]}<br>path=%{customdata[2]}<br>alignment_error=%{customdata[3]}<extra></extra>\",\"legendgroup\":\"person_10\",\"marker\":{\"color\":\"#862A16\",\"symbol\":\"circle\"},\"mode\":\"markers\",\"name\":\"person_10\",\"orientation\":\"v\",\"showlegend\":true,\"x\":[0.2954746186733246],\"xaxis\":\"x\",\"y\":[0.400520920753479],\"yaxis\":\"y\",\"type\":\"scatter\"},{\"customdata\":[[535,\"person_23\",\"in/person_23/934.jpg\",5.426490783691406],[536,\"person_23\",\"in/person_23/953.jpg\",8.161552429199219],[538,\"person_23\",\"in/person_23/867.jpg\",3.936503092447917],[540,\"person_23\",\"in/person_23/945.jpg\",8.00457763671875],[541,\"person_23\",\"in/person_23/912.jpg\",4.2016042073567705],[545,\"person_23\",\"in/person_23/890.jpg\",5.5318756103515625],[547,\"person_23\",\"in/person_23/1035.jpg\",8.954485575358072],[548,\"person_23\",\"in/person_23/923.jpg\",4.550191243489583],[549,\"person_23\",\"in/person_23/1011.jpg\",9.135826110839844],[553,\"person_23\",\"in/person_23/971.jpg\",9.530662536621094],[555,\"person_23\",\"in/person_23/880.jpg\",5.290659586588542],[557,\"person_23\",\"in/person_23/1057.jpg\",9.838699340820312],[560,\"person_23\",\"in/person_23/992.jpg\",8.999972025553385],[561,\"person_23\",\"in/person_23/835.jpg\",6.60821533203125],[563,\"person_23\",\"in/person_23/825.jpg\",7.500867207845052],[565,\"person_23\",\"in/person_23/855.jpg\",4.2118174235026045],[568,\"person_23\",\"in/person_23/1002.jpg\",9.290133158365885],[571,\"person_23\",\"in/person_23/1044.jpg\",8.531486511230469],[573,\"person_23\",\"in/person_23/845.jpg\",3.9352798461914062],[574,\"person_23\",\"in/person_23/981.jpg\",8.186408996582031],[576,\"person_23\",\"in/person_23/961.jpg\",8.66211191813151],[577,\"person_23\",\"in/person_23/905.jpg\",3.414342244466146],[580,\"person_23\",\"in/person_23/1022.jpg\",8.879099527994791]],\"hovertemplate\":\"labels=%{customdata[1]}<br>tx_dlib=%{x}<br>ty_dlib=%{y}<br>index=%{customdata[0]}<br>path=%{customdata[2]}<br>alignment_error=%{customdata[3]}<extra></extra>\",\"legendgroup\":\"person_23\",\"marker\":{\"color\":\"#A777F1\",\"symbol\":\"circle\"},\"mode\":\"markers\",\"name\":\"person_23\",\"orientation\":\"v\",\"showlegend\":true,\"x\":[0.8269852995872498,0.8420339822769165,0.805743932723999,0.8298132419586182,0.8203936219215393,0.8196627497673035,0.8415874242782593,0.8219197988510132,0.8540611267089844,0.8441965579986572,0.8135982155799866,0.8359451293945312,0.8593046069145203,0.8013051152229309,0.7952191829681396,0.8016070127487183,0.8605172634124756,0.8361494541168213,0.798298180103302,0.8468712568283081,0.8479835987091064,0.8135356307029724,0.8489336371421814],\"xaxis\":\"x\",\"y\":[0.2535662055015564,0.24006079137325287,0.2278234362602234,0.24753621220588684,0.25668099522590637,0.23300261795520782,0.2742222547531128,0.2546766698360443,0.2635640799999237,0.24925430119037628,0.22870485484600067,0.2762746214866638,0.25426527857780457,0.24430489540100098,0.25304585695266724,0.2276933640241623,0.2562447488307953,0.2744491696357727,0.23645010590553284,0.2544381618499756,0.24295230209827423,0.2602304518222809,0.27466145157814026],\"yaxis\":\"y\",\"type\":\"scatter\"},{\"customdata\":[[582,\"person_17\",\"in/person_17/596.jpg\",9.462023417154947],[592,\"person_17\",\"in/person_17/603.jpg\",9.59959920247396],[596,\"person_17\",\"in/person_17/552.jpg\",5.055521647135417],[597,\"person_17\",\"in/person_17/588.jpg\",7.616297403971354]],\"hovertemplate\":\"labels=%{customdata[1]}<br>tx_dlib=%{x}<br>ty_dlib=%{y}<br>index=%{customdata[0]}<br>path=%{customdata[2]}<br>alignment_error=%{customdata[3]}<extra></extra>\",\"legendgroup\":\"person_17\",\"marker\":{\"color\":\"#620042\",\"symbol\":\"circle\"},\"mode\":\"markers\",\"name\":\"person_17\",\"orientation\":\"v\",\"showlegend\":true,\"x\":[0.3583889603614807,0.35686638951301575,0.265541672706604,0.3622255027294159],\"xaxis\":\"x\",\"y\":[0.2524525225162506,0.25652626156806946,0.2708112299442291,0.24707192182540894],\"yaxis\":\"y\",\"type\":\"scatter\"},{\"customdata\":[[600,\"person_36\",\"in/person_36/1375.jpg\",7.858640034993489],[601,\"person_36\",\"in/person_36/1394.jpg\",9.547103881835938],[603,\"person_36\",\"in/person_36/1410.jpg\",6.77520751953125],[605,\"person_36\",\"in/person_36/1406.jpg\",8.980443318684896],[607,\"person_36\",\"in/person_36/1373.jpg\",7.731529235839844],[608,\"person_36\",\"in/person_36/1379.jpg\",5.3853302001953125],[609,\"person_36\",\"in/person_36/1388.jpg\",7.505236307779948],[610,\"person_36\",\"in/person_36/1398.jpg\",9.234222412109377]],\"hovertemplate\":\"labels=%{customdata[1]}<br>tx_dlib=%{x}<br>ty_dlib=%{y}<br>index=%{customdata[0]}<br>path=%{customdata[2]}<br>alignment_error=%{customdata[3]}<extra></extra>\",\"legendgroup\":\"person_36\",\"marker\":{\"color\":\"#1616A7\",\"symbol\":\"circle\"},\"mode\":\"markers\",\"name\":\"person_36\",\"orientation\":\"v\",\"showlegend\":true,\"x\":[0.45733442902565,0.4640744626522064,0.47181904315948486,0.4714268445968628,0.455166220664978,0.4579716920852661,0.46438315510749817,0.4646635055541992],\"xaxis\":\"x\",\"y\":[0.16789601743221283,0.20139256119728088,0.18069878220558167,0.18187083303928375,0.16624926030635834,0.16751821339130402,0.20370469987392426,0.1966644823551178],\"yaxis\":\"y\",\"type\":\"scatter\"},{\"customdata\":[[611,\"person_38\",\"in/person_38/1407.jpg\",8.35345713297526],[612,\"person_38\",\"in/person_38/1400.jpg\",8.732823689778646],[613,\"person_38\",\"in/person_38/1411.jpg\",8.774391174316406]],\"hovertemplate\":\"labels=%{customdata[1]}<br>tx_dlib=%{x}<br>ty_dlib=%{y}<br>index=%{customdata[0]}<br>path=%{customdata[2]}<br>alignment_error=%{customdata[3]}<extra></extra>\",\"legendgroup\":\"person_38\",\"marker\":{\"color\":\"#DA60CA\",\"symbol\":\"circle\"},\"mode\":\"markers\",\"name\":\"person_38\",\"orientation\":\"v\",\"showlegend\":true,\"x\":[0.7156147956848145,0.7149602174758911,0.7157790064811707],\"xaxis\":\"x\",\"y\":[0.18562881648540497,0.18694810569286346,0.18311460316181183],\"yaxis\":\"y\",\"type\":\"scatter\"},{\"customdata\":[[646,\"person_0\",\"in/person_0/677.jpg\",3.71514638264974],[648,\"person_0\",\"in/person_0/1038.jpg\",9.510848999023438],[649,\"person_0\",\"in/person_0/807.jpg\",5.15331522623698],[651,\"person_0\",\"in/person_0/563.jpg\",9.546666463216146],[652,\"person_0\",\"in/person_0/82.jpg\",9.88678232828776],[653,\"person_0\",\"in/person_0/1280.jpg\",2.4331537882486978],[654,\"person_0\",\"in/person_0/735.jpg\",6.432144165039063],[663,\"person_0\",\"in/person_0/487.jpg\",9.075271606445312],[666,\"person_0\",\"in/person_0/766.jpg\",5.702812194824219],[668,\"person_0\",\"in/person_0/860.jpg\",9.855636596679688],[684,\"person_0\",\"in/person_0/668.jpg\",3.074989318847656],[691,\"person_0\",\"in/person_0/724.jpg\",5.668037414550781],[694,\"person_0\",\"in/person_0/692.jpg\",4.110939025878906],[695,\"person_0\",\"in/person_0/798.jpg\",4.659576416015625],[701,\"person_0\",\"in/person_0/689.jpg\",2.977307637532552],[711,\"person_0\",\"in/person_0/535.jpg\",8.971468607584635],[718,\"person_0\",\"in/person_0/503.jpg\",7.0034739176432295],[721,\"person_0\",\"in/person_0/658.jpg\",5.600997924804688],[722,\"person_0\",\"in/person_0/718.jpg\",6.183443705240886],[728,\"person_0\",\"in/person_0/493.jpg\",8.22973378499349],[729,\"person_0\",\"in/person_0/1302.jpg\",9.85620625813802],[730,\"person_0\",\"in/person_0/748.jpg\",7.490203857421875],[731,\"person_0\",\"in/person_0/498.jpg\",7.570607503255208],[736,\"person_0\",\"in/person_0/525.jpg\",9.518043518066406],[737,\"person_0\",\"in/person_0/518.jpg\",7.1464385986328125],[740,\"person_0\",\"in/person_0/1287.jpg\",2.319086710611979],[741,\"person_0\",\"in/person_0/752.jpg\",6.187464396158855],[743,\"person_0\",\"in/person_0/513.jpg\",7.315330505371094],[747,\"person_0\",\"in/person_0/780.jpg\",6.068066914876302],[749,\"person_0\",\"in/person_0/694.jpg\",6.431109110514323],[752,\"person_0\",\"in/person_0/790.jpg\",5.996648152669271],[759,\"person_0\",\"in/person_0/529.jpg\",9.075632731119793],[768,\"person_0\",\"in/person_0/1295.jpg\",3.288398742675781],[772,\"person_0\",\"in/person_0/1275.jpg\",4.514714558919271],[779,\"person_0\",\"in/person_0/772.jpg\",4.840240478515625],[782,\"person_0\",\"in/person_0/684.jpg\",3.00884755452474],[783,\"person_0\",\"in/person_0/679.jpg\",4.3601938883463545],[784,\"person_0\",\"in/person_0/710.jpg\",9.681048075358072],[785,\"person_0\",\"in/person_0/92.jpg\",8.714129130045572],[788,\"person_0\",\"in/person_0/85.jpg\",9.836563110351562],[791,\"person_0\",\"in/person_0/760.jpg\",5.654894510904948],[792,\"person_0\",\"in/person_0/509.jpg\",7.260714213053386],[794,\"person_0\",\"in/person_0/712.jpg\",8.86041514078776],[798,\"person_0\",\"in/person_0/672.jpg\",3.350532531738281],[799,\"person_0\",\"in/person_0/95.jpg\",8.856267293294271],[802,\"person_0\",\"in/person_0/714.jpg\",6.6727549235026045],[811,\"person_0\",\"in/person_0/89.jpg\",9.55700174967448],[814,\"person_0\",\"in/person_0/742.jpg\",7.175610860188802],[815,\"person_0\",\"in/person_0/663.jpg\",3.9444656372070312],[817,\"person_0\",\"in/person_0/815.jpg\",8.061757405598959],[823,\"person_0\",\"in/person_0/730.jpg\",5.915008544921875],[824,\"person_0\",\"in/person_0/1399.jpg\",4.39892069498698]],\"hovertemplate\":\"labels=%{customdata[1]}<br>tx_dlib=%{x}<br>ty_dlib=%{y}<br>index=%{customdata[0]}<br>path=%{customdata[2]}<br>alignment_error=%{customdata[3]}<extra></extra>\",\"legendgroup\":\"person_0\",\"marker\":{\"color\":\"#6C4516\",\"symbol\":\"circle\"},\"mode\":\"markers\",\"name\":\"person_0\",\"orientation\":\"v\",\"showlegend\":true,\"x\":[0.04107487574219704,0.11782366037368774,0.056573741137981415,0.10372506827116013,0.06625238060951233,0.1446782648563385,0.036604151129722595,0.13016736507415771,0.06683218479156494,0.03313522785902023,0.04272468760609627,0.030576705932617188,0.07726052403450012,0.05953265354037285,0.07416816800832748,0.10952646285295486,0.1112847700715065,0.025380628183484077,0.02600526437163353,0.1259039044380188,0.1443358212709427,0.09199318289756775,0.1203228086233139,0.10945431143045425,0.10919759422540665,0.1415996104478836,0.08512317389249802,0.11074867844581604,0.06168368086218834,0.08014461398124695,0.06311766803264618,0.11172488331794739,0.1360522359609604,0.14644724130630493,0.0652315616607666,0.07361114025115967,0.04559261351823807,0.0007371535175479949,0.08247490227222443,0.07218986004590988,0.07909046113491058,0.10550690442323685,2.5667899535619654e-05,0.045874472707509995,0.08081265538930893,0.0,0.07543803006410599,0.041951268911361694,0.0295555517077446,0.045284222811460495,0.03038252517580986,0.04627493768930435],\"xaxis\":\"x\",\"y\":[0.9124327898025513,0.9013185501098633,0.9792444109916687,0.9213600754737854,0.927099347114563,0.9026303291320801,0.9533151388168335,0.9579039812088013,1.0,0.9910818338394165,0.9084247350692749,0.9446860551834106,0.8947979807853699,0.9782450795173645,0.8911579251289368,0.9302095770835876,0.9592688679695129,0.9082513451576233,0.9457339644432068,0.9584085941314697,0.9135068655014038,0.9930218458175659,0.9584892392158508,0.9356173276901245,0.946290910243988,0.9065963625907898,0.9952181577682495,0.9525903463363647,0.9886495471000671,0.8981955051422119,0.9818506836891174,0.9314969778060913,0.9058676958084106,0.8991330862045288,0.9990190267562866,0.8807422518730164,0.9041655659675598,0.9435679912567139,0.938727617263794,0.9331281781196594,0.9980798959732056,0.957167387008667,0.9441311955451965,0.9109452366828918,0.9383522272109985,0.9437006711959839,0.9398784637451172,0.9531791806221008,0.9067730903625488,0.9823604822158813,0.9492935538291931,0.8830270171165466],\"yaxis\":\"y\",\"type\":\"scatter\"},{\"customdata\":[[827,\"person_14\",\"in/person_14/877.jpg\",5.515129089355469],[828,\"person_14\",\"in/person_14/474.jpg\",7.757301330566406],[829,\"person_14\",\"in/person_14/889.jpg\",7.977874755859375]],\"hovertemplate\":\"labels=%{customdata[1]}<br>tx_dlib=%{x}<br>ty_dlib=%{y}<br>index=%{customdata[0]}<br>path=%{customdata[2]}<br>alignment_error=%{customdata[3]}<extra></extra>\",\"legendgroup\":\"person_14\",\"marker\":{\"color\":\"#0D2A63\",\"symbol\":\"circle\"},\"mode\":\"markers\",\"name\":\"person_14\",\"orientation\":\"v\",\"showlegend\":true,\"x\":[0.8175286650657654,0.8289875984191895,0.8146441578865051],\"xaxis\":\"x\",\"y\":[0.5956218242645264,0.602692186832428,0.5939826369285583],\"yaxis\":\"y\",\"type\":\"scatter\"},{\"customdata\":[[834,\"person_19\",\"in/person_19/944.jpg\",5.242477416992188],[836,\"person_19\",\"in/person_19/922.jpg\",7.772816975911458],[837,\"person_19\",\"in/person_19/863.jpg\",2.135218302408854],[839,\"person_19\",\"in/person_19/756.jpg\",6.811505635579427],[841,\"person_19\",\"in/person_19/767.jpg\",4.117073059082031],[846,\"person_19\",\"in/person_19/810.jpg\",5.389915466308594],[847,\"person_19\",\"in/person_19/876.jpg\",2.872884114583333],[848,\"person_19\",\"in/person_19/750.jpg\",7.055684407552083],[854,\"person_19\",\"in/person_19/715.jpg\",5.561907450358073],[855,\"person_19\",\"in/person_19/937.jpg\",4.928853352864583],[856,\"person_19\",\"in/person_19/962.jpg\",1.4883804321289062],[861,\"person_19\",\"in/person_19/726.jpg\",5.693776448567708],[863,\"person_19\",\"in/person_19/954.jpg\",5.46124267578125],[865,\"person_19\",\"in/person_19/738.jpg\",5.7140045166015625],[866,\"person_19\",\"in/person_19/745.jpg\",4.9754486083984375],[868,\"person_19\",\"in/person_19/801.jpg\",6.25976053873698],[869,\"person_19\",\"in/person_19/853.jpg\",2.5560531616210938],[870,\"person_19\",\"in/person_19/821.jpg\",3.3508504231770835],[872,\"person_19\",\"in/person_19/775.jpg\",7.342913309733073],[874,\"person_19\",\"in/person_19/713.jpg\",6.489163716634114],[875,\"person_19\",\"in/person_19/720.jpg\",5.695960998535156],[877,\"person_19\",\"in/person_19/732.jpg\",6.269012451171875],[879,\"person_19\",\"in/person_19/784.jpg\",7.165458679199219],[880,\"person_19\",\"in/person_19/763.jpg\",7.1607920328776045],[883,\"person_19\",\"in/person_19/893.jpg\",6.918276468912761],[885,\"person_19\",\"in/person_19/831.jpg\",3.0760904947916665],[886,\"person_19\",\"in/person_19/792.jpg\",7.233141581217448],[887,\"person_19\",\"in/person_19/711.jpg\",9.788914998372396],[888,\"person_19\",\"in/person_19/754.jpg\",9.721997578938804],[889,\"person_19\",\"in/person_19/761.jpg\",4.983418782552083],[891,\"person_19\",\"in/person_19/841.jpg\",2.666572570800781],[895,\"person_19\",\"in/person_19/768.jpg\",7.4912261962890625]],\"hovertemplate\":\"labels=%{customdata[1]}<br>tx_dlib=%{x}<br>ty_dlib=%{y}<br>index=%{customdata[0]}<br>path=%{customdata[2]}<br>alignment_error=%{customdata[3]}<extra></extra>\",\"legendgroup\":\"person_19\",\"marker\":{\"color\":\"#AF0038\",\"symbol\":\"circle\"},\"mode\":\"markers\",\"name\":\"person_19\",\"orientation\":\"v\",\"showlegend\":true,\"x\":[0.24857428669929504,0.2585672438144684,0.2787180244922638,0.28403985500335693,0.32519635558128357,0.2934757471084595,0.26732251048088074,0.28286755084991455,0.2456829696893692,0.2565748393535614,0.24358020722866058,0.25488489866256714,0.2468731552362442,0.26328712701797485,0.27536478638648987,0.28854066133499146,0.2808416783809662,0.2897816002368927,0.30166831612586975,0.2431638091802597,0.2499183714389801,0.2606414258480072,0.29536813497543335,0.2977733314037323,0.26581040024757385,0.2878309488296509,0.30495119094848633,0.23604030907154083,0.3252420425415039,0.3259544372558594,0.2826429605484009,0.29940879344940186],\"xaxis\":\"x\",\"y\":[0.7146928906440735,0.7087390422821045,0.7453173398971558,0.775226891040802,0.7370347380638123,0.7535984516143799,0.7520679235458374,0.7880322933197021,0.7685251235961914,0.712841808795929,0.7487882375717163,0.7860701680183411,0.7178828716278076,0.7761936187744141,0.7872092127799988,0.7594769597053528,0.7477787733078003,0.749364972114563,0.7762024402618408,0.7723994255065918,0.7756935954093933,0.7816514372825623,0.772685170173645,0.7805740833282471,0.7412630915641785,0.7387500405311584,0.767310619354248,0.7847216129302979,0.7340914607048035,0.7327465415000916,0.7405799031257629,0.7738027572631836],\"yaxis\":\"y\",\"type\":\"scatter\"}],                        {\"template\":{\"data\":{\"histogram2dcontour\":[{\"type\":\"histogram2dcontour\",\"colorbar\":{\"outlinewidth\":0,\"ticks\":\"\"},\"colorscale\":[[0.0,\"#0d0887\"],[0.1111111111111111,\"#46039f\"],[0.2222222222222222,\"#7201a8\"],[0.3333333333333333,\"#9c179e\"],[0.4444444444444444,\"#bd3786\"],[0.5555555555555556,\"#d8576b\"],[0.6666666666666666,\"#ed7953\"],[0.7777777777777778,\"#fb9f3a\"],[0.8888888888888888,\"#fdca26\"],[1.0,\"#f0f921\"]]}],\"choropleth\":[{\"type\":\"choropleth\",\"colorbar\":{\"outlinewidth\":0,\"ticks\":\"\"}}],\"histogram2d\":[{\"type\":\"histogram2d\",\"colorbar\":{\"outlinewidth\":0,\"ticks\":\"\"},\"colorscale\":[[0.0,\"#0d0887\"],[0.1111111111111111,\"#46039f\"],[0.2222222222222222,\"#7201a8\"],[0.3333333333333333,\"#9c179e\"],[0.4444444444444444,\"#bd3786\"],[0.5555555555555556,\"#d8576b\"],[0.6666666666666666,\"#ed7953\"],[0.7777777777777778,\"#fb9f3a\"],[0.8888888888888888,\"#fdca26\"],[1.0,\"#f0f921\"]]}],\"heatmap\":[{\"type\":\"heatmap\",\"colorbar\":{\"outlinewidth\":0,\"ticks\":\"\"},\"colorscale\":[[0.0,\"#0d0887\"],[0.1111111111111111,\"#46039f\"],[0.2222222222222222,\"#7201a8\"],[0.3333333333333333,\"#9c179e\"],[0.4444444444444444,\"#bd3786\"],[0.5555555555555556,\"#d8576b\"],[0.6666666666666666,\"#ed7953\"],[0.7777777777777778,\"#fb9f3a\"],[0.8888888888888888,\"#fdca26\"],[1.0,\"#f0f921\"]]}],\"heatmapgl\":[{\"type\":\"heatmapgl\",\"colorbar\":{\"outlinewidth\":0,\"ticks\":\"\"},\"colorscale\":[[0.0,\"#0d0887\"],[0.1111111111111111,\"#46039f\"],[0.2222222222222222,\"#7201a8\"],[0.3333333333333333,\"#9c179e\"],[0.4444444444444444,\"#bd3786\"],[0.5555555555555556,\"#d8576b\"],[0.6666666666666666,\"#ed7953\"],[0.7777777777777778,\"#fb9f3a\"],[0.8888888888888888,\"#fdca26\"],[1.0,\"#f0f921\"]]}],\"contourcarpet\":[{\"type\":\"contourcarpet\",\"colorbar\":{\"outlinewidth\":0,\"ticks\":\"\"}}],\"contour\":[{\"type\":\"contour\",\"colorbar\":{\"outlinewidth\":0,\"ticks\":\"\"},\"colorscale\":[[0.0,\"#0d0887\"],[0.1111111111111111,\"#46039f\"],[0.2222222222222222,\"#7201a8\"],[0.3333333333333333,\"#9c179e\"],[0.4444444444444444,\"#bd3786\"],[0.5555555555555556,\"#d8576b\"],[0.6666666666666666,\"#ed7953\"],[0.7777777777777778,\"#fb9f3a\"],[0.8888888888888888,\"#fdca26\"],[1.0,\"#f0f921\"]]}],\"surface\":[{\"type\":\"surface\",\"colorbar\":{\"outlinewidth\":0,\"ticks\":\"\"},\"colorscale\":[[0.0,\"#0d0887\"],[0.1111111111111111,\"#46039f\"],[0.2222222222222222,\"#7201a8\"],[0.3333333333333333,\"#9c179e\"],[0.4444444444444444,\"#bd3786\"],[0.5555555555555556,\"#d8576b\"],[0.6666666666666666,\"#ed7953\"],[0.7777777777777778,\"#fb9f3a\"],[0.8888888888888888,\"#fdca26\"],[1.0,\"#f0f921\"]]}],\"mesh3d\":[{\"type\":\"mesh3d\",\"colorbar\":{\"outlinewidth\":0,\"ticks\":\"\"}}],\"scatter\":[{\"fillpattern\":{\"fillmode\":\"overlay\",\"size\":10,\"solidity\":0.2},\"type\":\"scatter\"}],\"parcoords\":[{\"type\":\"parcoords\",\"line\":{\"colorbar\":{\"outlinewidth\":0,\"ticks\":\"\"}}}],\"scatterpolargl\":[{\"type\":\"scatterpolargl\",\"marker\":{\"colorbar\":{\"outlinewidth\":0,\"ticks\":\"\"}}}],\"bar\":[{\"error_x\":{\"color\":\"#2a3f5f\"},\"error_y\":{\"color\":\"#2a3f5f\"},\"marker\":{\"line\":{\"color\":\"#E5ECF6\",\"width\":0.5},\"pattern\":{\"fillmode\":\"overlay\",\"size\":10,\"solidity\":0.2}},\"type\":\"bar\"}],\"scattergeo\":[{\"type\":\"scattergeo\",\"marker\":{\"colorbar\":{\"outlinewidth\":0,\"ticks\":\"\"}}}],\"scatterpolar\":[{\"type\":\"scatterpolar\",\"marker\":{\"colorbar\":{\"outlinewidth\":0,\"ticks\":\"\"}}}],\"histogram\":[{\"marker\":{\"pattern\":{\"fillmode\":\"overlay\",\"size\":10,\"solidity\":0.2}},\"type\":\"histogram\"}],\"scattergl\":[{\"type\":\"scattergl\",\"marker\":{\"colorbar\":{\"outlinewidth\":0,\"ticks\":\"\"}}}],\"scatter3d\":[{\"type\":\"scatter3d\",\"line\":{\"colorbar\":{\"outlinewidth\":0,\"ticks\":\"\"}},\"marker\":{\"colorbar\":{\"outlinewidth\":0,\"ticks\":\"\"}}}],\"scattermapbox\":[{\"type\":\"scattermapbox\",\"marker\":{\"colorbar\":{\"outlinewidth\":0,\"ticks\":\"\"}}}],\"scatterternary\":[{\"type\":\"scatterternary\",\"marker\":{\"colorbar\":{\"outlinewidth\":0,\"ticks\":\"\"}}}],\"scattercarpet\":[{\"type\":\"scattercarpet\",\"marker\":{\"colorbar\":{\"outlinewidth\":0,\"ticks\":\"\"}}}],\"carpet\":[{\"aaxis\":{\"endlinecolor\":\"#2a3f5f\",\"gridcolor\":\"white\",\"linecolor\":\"white\",\"minorgridcolor\":\"white\",\"startlinecolor\":\"#2a3f5f\"},\"baxis\":{\"endlinecolor\":\"#2a3f5f\",\"gridcolor\":\"white\",\"linecolor\":\"white\",\"minorgridcolor\":\"white\",\"startlinecolor\":\"#2a3f5f\"},\"type\":\"carpet\"}],\"table\":[{\"cells\":{\"fill\":{\"color\":\"#EBF0F8\"},\"line\":{\"color\":\"white\"}},\"header\":{\"fill\":{\"color\":\"#C8D4E3\"},\"line\":{\"color\":\"white\"}},\"type\":\"table\"}],\"barpolar\":[{\"marker\":{\"line\":{\"color\":\"#E5ECF6\",\"width\":0.5},\"pattern\":{\"fillmode\":\"overlay\",\"size\":10,\"solidity\":0.2}},\"type\":\"barpolar\"}],\"pie\":[{\"automargin\":true,\"type\":\"pie\"}]},\"layout\":{\"autotypenumbers\":\"strict\",\"colorway\":[\"#636efa\",\"#EF553B\",\"#00cc96\",\"#ab63fa\",\"#FFA15A\",\"#19d3f3\",\"#FF6692\",\"#B6E880\",\"#FF97FF\",\"#FECB52\"],\"font\":{\"color\":\"#2a3f5f\"},\"hovermode\":\"closest\",\"hoverlabel\":{\"align\":\"left\"},\"paper_bgcolor\":\"white\",\"plot_bgcolor\":\"#E5ECF6\",\"polar\":{\"bgcolor\":\"#E5ECF6\",\"angularaxis\":{\"gridcolor\":\"white\",\"linecolor\":\"white\",\"ticks\":\"\"},\"radialaxis\":{\"gridcolor\":\"white\",\"linecolor\":\"white\",\"ticks\":\"\"}},\"ternary\":{\"bgcolor\":\"#E5ECF6\",\"aaxis\":{\"gridcolor\":\"white\",\"linecolor\":\"white\",\"ticks\":\"\"},\"baxis\":{\"gridcolor\":\"white\",\"linecolor\":\"white\",\"ticks\":\"\"},\"caxis\":{\"gridcolor\":\"white\",\"linecolor\":\"white\",\"ticks\":\"\"}},\"coloraxis\":{\"colorbar\":{\"outlinewidth\":0,\"ticks\":\"\"}},\"colorscale\":{\"sequential\":[[0.0,\"#0d0887\"],[0.1111111111111111,\"#46039f\"],[0.2222222222222222,\"#7201a8\"],[0.3333333333333333,\"#9c179e\"],[0.4444444444444444,\"#bd3786\"],[0.5555555555555556,\"#d8576b\"],[0.6666666666666666,\"#ed7953\"],[0.7777777777777778,\"#fb9f3a\"],[0.8888888888888888,\"#fdca26\"],[1.0,\"#f0f921\"]],\"sequentialminus\":[[0.0,\"#0d0887\"],[0.1111111111111111,\"#46039f\"],[0.2222222222222222,\"#7201a8\"],[0.3333333333333333,\"#9c179e\"],[0.4444444444444444,\"#bd3786\"],[0.5555555555555556,\"#d8576b\"],[0.6666666666666666,\"#ed7953\"],[0.7777777777777778,\"#fb9f3a\"],[0.8888888888888888,\"#fdca26\"],[1.0,\"#f0f921\"]],\"diverging\":[[0,\"#8e0152\"],[0.1,\"#c51b7d\"],[0.2,\"#de77ae\"],[0.3,\"#f1b6da\"],[0.4,\"#fde0ef\"],[0.5,\"#f7f7f7\"],[0.6,\"#e6f5d0\"],[0.7,\"#b8e186\"],[0.8,\"#7fbc41\"],[0.9,\"#4d9221\"],[1,\"#276419\"]]},\"xaxis\":{\"gridcolor\":\"white\",\"linecolor\":\"white\",\"ticks\":\"\",\"title\":{\"standoff\":15},\"zerolinecolor\":\"white\",\"automargin\":true,\"zerolinewidth\":2},\"yaxis\":{\"gridcolor\":\"white\",\"linecolor\":\"white\",\"ticks\":\"\",\"title\":{\"standoff\":15},\"zerolinecolor\":\"white\",\"automargin\":true,\"zerolinewidth\":2},\"scene\":{\"xaxis\":{\"backgroundcolor\":\"#E5ECF6\",\"gridcolor\":\"white\",\"linecolor\":\"white\",\"showbackground\":true,\"ticks\":\"\",\"zerolinecolor\":\"white\",\"gridwidth\":2},\"yaxis\":{\"backgroundcolor\":\"#E5ECF6\",\"gridcolor\":\"white\",\"linecolor\":\"white\",\"showbackground\":true,\"ticks\":\"\",\"zerolinecolor\":\"white\",\"gridwidth\":2},\"zaxis\":{\"backgroundcolor\":\"#E5ECF6\",\"gridcolor\":\"white\",\"linecolor\":\"white\",\"showbackground\":true,\"ticks\":\"\",\"zerolinecolor\":\"white\",\"gridwidth\":2}},\"shapedefaults\":{\"line\":{\"color\":\"#2a3f5f\"}},\"annotationdefaults\":{\"arrowcolor\":\"#2a3f5f\",\"arrowhead\":0,\"arrowwidth\":1},\"geo\":{\"bgcolor\":\"white\",\"landcolor\":\"#E5ECF6\",\"subunitcolor\":\"white\",\"showland\":true,\"showlakes\":true,\"lakecolor\":\"white\"},\"title\":{\"x\":0.05},\"mapbox\":{\"style\":\"light\"}}},\"xaxis\":{\"anchor\":\"y\",\"domain\":[0.0,1.0],\"title\":{\"text\":\"tx_dlib\"}},\"yaxis\":{\"anchor\":\"x\",\"domain\":[0.0,1.0],\"title\":{\"text\":\"ty_dlib\"}},\"legend\":{\"title\":{\"text\":\"labels\"},\"tracegroupgap\":0},\"margin\":{\"t\":60}},                        {\"responsive\": true}                    ).then(function(){\n",
       "                            \n",
       "var gd = document.getElementById('e493e8e4-0917-47e3-8ebc-55b38efb8c55');\n",
       "var x = new MutationObserver(function (mutations, observer) {{\n",
       "        var display = window.getComputedStyle(gd).display;\n",
       "        if (!display || display === 'none') {{\n",
       "            console.log([gd, 'removed!']);\n",
       "            Plotly.purge(gd);\n",
       "            observer.disconnect();\n",
       "        }}\n",
       "}});\n",
       "\n",
       "// Listen for the removal of the full notebook cells\n",
       "var notebookContainer = gd.closest('#notebook-container');\n",
       "if (notebookContainer) {{\n",
       "    x.observe(notebookContainer, {childList: true});\n",
       "}}\n",
       "\n",
       "// Listen for the clearing of the current output cell\n",
       "var outputEl = gd.closest('.output');\n",
       "if (outputEl) {{\n",
       "    x.observe(outputEl, {childList: true});\n",
       "}}\n",
       "\n",
       "                        })                };                });            </script>        </div>"
      ]
     },
     "metadata": {},
     "output_type": "display_data"
    }
   ],
   "source": [
    "fig = px.scatter(df, x=\"tx_dlib\", y=\"ty_dlib\", color=\"labels\", color_discrete_sequence=px.colors.qualitative.Dark24, hover_data=[\"index\",\"labels\", \"path\",\"alignment_error\"])\n",
    "fig.show()"
   ]
  },
  {
   "cell_type": "code",
   "execution_count": 259,
   "metadata": {},
   "outputs": [
    {
     "data": {
      "application/vnd.plotly.v1+json": {
       "config": {
        "plotlyServerURL": "https://plot.ly"
       },
       "data": [
        {
         "customdata": [
          [
           14,
           "person_27",
           "in/person_27/943.jpg",
           2.9810358683268228
          ],
          [
           35,
           "person_27",
           "in/person_27/951.jpg",
           7.899172465006511
          ]
         ],
         "hovertemplate": "labels=%{customdata[1]}<br>tx_magface=%{x}<br>ty_magface=%{y}<br>index=%{customdata[0]}<br>path=%{customdata[2]}<br>alignment_error=%{customdata[3]}<extra></extra>",
         "legendgroup": "person_27",
         "marker": {
          "color": "#2E91E5",
          "symbol": "circle"
         },
         "mode": "markers",
         "name": "person_27",
         "orientation": "v",
         "showlegend": true,
         "type": "scatter",
         "x": [
          0.5473688244819641,
          0.547563374042511
         ],
         "xaxis": "x",
         "y": [
          0.4250628650188446,
          0.42573097348213196
         ],
         "yaxis": "y"
        },
        {
         "customdata": [
          [
           40,
           "person_12",
           "in/person_12/476.jpg",
           0.4232762654622395
          ],
          [
           41,
           "person_12",
           "in/person_12/494.jpg",
           7.251141866048177
          ],
          [
           42,
           "person_12",
           "in/person_12/592.jpg",
           8.43994394938151
          ],
          [
           44,
           "person_12",
           "in/person_12/585.jpg",
           8.118565877278646
          ],
          [
           46,
           "person_12",
           "in/person_12/486.jpg",
           -1.8175684611002605
          ],
          [
           47,
           "person_12",
           "in/person_12/516.jpg",
           1.2816874186197915
          ],
          [
           48,
           "person_12",
           "in/person_12/480.jpg",
           0.8033727010091146
          ],
          [
           49,
           "person_12",
           "in/person_12/443.jpg",
           3.320551554361979
          ],
          [
           50,
           "person_12",
           "in/person_12/617.jpg",
           7.864626566569011
          ],
          [
           51,
           "person_12",
           "in/person_12/510.jpg",
           2.5279719034830728
          ],
          [
           52,
           "person_12",
           "in/person_12/495.jpg",
           3.239756266276041
          ],
          [
           53,
           "person_12",
           "in/person_12/572.jpg",
           5.463826497395833
          ],
          [
           54,
           "person_12",
           "in/person_12/540.jpg",
           1.528411865234375
          ],
          [
           57,
           "person_12",
           "in/person_12/454.jpg",
           1.7810872395833333
          ],
          [
           59,
           "person_12",
           "in/person_12/553.jpg",
           1.90362548828125
          ],
          [
           62,
           "person_12",
           "in/person_12/440.jpg",
           3.4744135538736978
          ],
          [
           63,
           "person_12",
           "in/person_12/463.jpg",
           0.8574879964192709
          ],
          [
           65,
           "person_12",
           "in/person_12/472.jpg",
           -0.4162063598632812
          ],
          [
           66,
           "person_12",
           "in/person_12/604.jpg",
           8.270991007486979
          ],
          [
           69,
           "person_12",
           "in/person_12/521.jpg",
           0.2968012491861979
          ],
          [
           70,
           "person_12",
           "in/person_12/567.jpg",
           3.504096984863281
          ],
          [
           71,
           "person_12",
           "in/person_12/508.jpg",
           9.775377909342447
          ],
          [
           72,
           "person_12",
           "in/person_12/449.jpg",
           4.5519053141276045
          ],
          [
           75,
           "person_12",
           "in/person_12/528.jpg",
           0.2398808797200521
          ],
          [
           77,
           "person_12",
           "in/person_12/504.jpg",
           4.114219665527344
          ],
          [
           78,
           "person_12",
           "in/person_12/623.jpg",
           7.7812143961588545
          ],
          [
           79,
           "person_12",
           "in/person_12/546.jpg",
           0.9495569864908854
          ],
          [
           83,
           "person_12",
           "in/person_12/579.jpg",
           7.714235941569011
          ],
          [
           87,
           "person_12",
           "in/person_12/459.jpg",
           0.3160374959309895
          ],
          [
           88,
           "person_12",
           "in/person_12/533.jpg",
           1.2022298177083333
          ],
          [
           89,
           "person_12",
           "in/person_12/610.jpg",
           7.586682637532552
          ],
          [
           90,
           "person_12",
           "in/person_12/491.jpg",
           -0.3314310709635417
          ],
          [
           92,
           "person_12",
           "in/person_12/461.jpg",
           -0.1225128173828125
          ],
          [
           95,
           "person_12",
           "in/person_12/500.jpg",
           4.519317626953125
          ],
          [
           97,
           "person_12",
           "in/person_12/452.jpg",
           4.635106404622396
          ],
          [
           100,
           "person_12",
           "in/person_12/599.jpg",
           8.391713460286459
          ],
          [
           101,
           "person_12",
           "in/person_12/446.jpg",
           3.6756184895833335
          ],
          [
           103,
           "person_12",
           "in/person_12/560.jpg",
           1.752337137858073
          ],
          [
           105,
           "person_12",
           "in/person_12/468.jpg",
           -0.2003224690755208
          ],
          [
           108,
           "person_12",
           "in/person_12/570.jpg",
           9.941548665364584
          ],
          [
           109,
           "person_12",
           "in/person_12/488.jpg",
           7.642931620279948
          ],
          [
           110,
           "person_12",
           "in/person_12/457.jpg",
           2.2299346923828125
          ]
         ],
         "hovertemplate": "labels=%{customdata[1]}<br>tx_magface=%{x}<br>ty_magface=%{y}<br>index=%{customdata[0]}<br>path=%{customdata[2]}<br>alignment_error=%{customdata[3]}<extra></extra>",
         "legendgroup": "person_12",
         "marker": {
          "color": "#E15F99",
          "symbol": "circle"
         },
         "mode": "markers",
         "name": "person_12",
         "orientation": "v",
         "showlegend": true,
         "type": "scatter",
         "x": [
          0.015253364108502865,
          0.07539371401071548,
          0.03234584257006645,
          0.03205292671918869,
          0.046421874314546585,
          0.043523117899894714,
          0.018783459439873695,
          0.0048820581287145615,
          0.016932105645537376,
          0.03879307210445404,
          0.036532845348119736,
          0.04744195193052292,
          0.05717316269874573,
          0.026683684438467026,
          0.05914292857050896,
          0,
          0.021236727014183998,
          0.01374719850718975,
          0.02872539311647415,
          0.04864303022623062,
          0.06347020715475082,
          0.06595269590616226,
          0.003213929943740368,
          0.06030387431383133,
          0.036948516964912415,
          0.01742028445005417,
          0.05138728767633438,
          0.051872383803129196,
          0.024686520919203758,
          0.05748674273490906,
          0.018974976614117622,
          0.036416489630937576,
          0.024096248671412468,
          0.032902348786592484,
          0.00972835998982191,
          0.03221382945775986,
          0.0022930295672267675,
          0.06577984988689423,
          0.01248873956501484,
          0.06553865224123001,
          0.07553903013467789,
          0.026026874780654907
         ],
         "xaxis": "x",
         "y": [
          0.95656418800354,
          0.8781676292419434,
          0.9131542444229126,
          0.9133704900741577,
          0.9890176653862,
          0.9832795858383179,
          0.9507817625999451,
          0.9761976003646851,
          0.9000362157821655,
          0.9607015252113342,
          0.9770206809043884,
          0.9360021948814392,
          0.9612135887145996,
          1,
          0.9523392915725708,
          0.969966471195221,
          0.9670652747154236,
          0.9500994086265564,
          0.8996953964233398,
          0.9707616567611694,
          0.9432858824729919,
          0.8908541202545166,
          0.9968050122261047,
          0.9706472158432007,
          0.9473309516906738,
          0.907651960849762,
          0.9516274333000183,
          0.9319223761558533,
          0.9911365509033203,
          0.9681708216667175,
          0.9014310240745544,
          0.965073823928833,
          0.9823569059371948,
          0.9518899917602539,
          0.9916757345199585,
          0.903577446937561,
          0.9846352338790894,
          0.9494628310203552,
          0.9511988759040833,
          0.8892426490783691,
          0.8778027296066284,
          0.9729228019714355
         ],
         "yaxis": "y"
        },
        {
         "customdata": [
          [
           111,
           "person_39",
           "in/person_39/1402.jpg",
           5.444775899251302
          ]
         ],
         "hovertemplate": "labels=%{customdata[1]}<br>tx_magface=%{x}<br>ty_magface=%{y}<br>index=%{customdata[0]}<br>path=%{customdata[2]}<br>alignment_error=%{customdata[3]}<extra></extra>",
         "legendgroup": "person_39",
         "marker": {
          "color": "#1CA71C",
          "symbol": "circle"
         },
         "mode": "markers",
         "name": "person_39",
         "orientation": "v",
         "showlegend": true,
         "type": "scatter",
         "x": [
          0.061798062175512314
         ],
         "xaxis": "x",
         "y": [
          0.3469974398612976
         ],
         "yaxis": "y"
        },
        {
         "customdata": [
          [
           112,
           "person_16",
           "in/person_16/590.jpg",
           4.347554524739583
          ],
          [
           113,
           "person_16",
           "in/person_16/654.jpg",
           6.33800760904948
          ],
          [
           120,
           "person_16",
           "in/person_16/646.jpg",
           1.409472147623698
          ],
          [
           125,
           "person_16",
           "in/person_16/577.jpg",
           1.578460693359375
          ],
          [
           126,
           "person_16",
           "in/person_16/539.jpg",
           3.548365275065104
          ],
          [
           128,
           "person_16",
           "in/person_16/597.jpg",
           3.7531585693359375
          ],
          [
           130,
           "person_16",
           "in/person_16/1055.jpg",
           9.695543924967447
          ],
          [
           132,
           "person_16",
           "in/person_16/1046.jpg",
           8.429845174153646
          ],
          [
           134,
           "person_16",
           "in/person_16/559.jpg",
           1.6759694417317708
          ],
          [
           135,
           "person_16",
           "in/person_16/634.jpg",
           4.474533081054688
          ],
          [
           136,
           "person_16",
           "in/person_16/564.jpg",
           2.423070271809896
          ]
         ],
         "hovertemplate": "labels=%{customdata[1]}<br>tx_magface=%{x}<br>ty_magface=%{y}<br>index=%{customdata[0]}<br>path=%{customdata[2]}<br>alignment_error=%{customdata[3]}<extra></extra>",
         "legendgroup": "person_16",
         "marker": {
          "color": "#FB0D0D",
          "symbol": "circle"
         },
         "mode": "markers",
         "name": "person_16",
         "orientation": "v",
         "showlegend": true,
         "type": "scatter",
         "x": [
          0.34222617745399475,
          0.33467966318130493,
          0.33923742175102234,
          0.3524526357650757,
          0.3367837965488434,
          0.34260204434394836,
          0.32636722922325134,
          0.3266342580318451,
          0.3518482744693756,
          0.33931127190589905,
          0.35035884380340576
         ],
         "xaxis": "x",
         "y": [
          0.34533318877220154,
          0.3308749794960022,
          0.33636796474456787,
          0.359778493642807,
          0.363580584526062,
          0.3457495868206024,
          0.3517923057079315,
          0.3523232638835907,
          0.35806208848953247,
          0.3337023854255676,
          0.35814225673675537
         ],
         "yaxis": "y"
        },
        {
         "customdata": [
          [
           144,
           "person_22",
           "in/person_22/888.jpg",
           5.906545003255208
          ],
          [
           145,
           "person_22",
           "in/person_22/822.jpg",
           9.805567423502604
          ],
          [
           146,
           "person_22",
           "in/person_22/866.jpg",
           7.965443929036458
          ],
          [
           151,
           "person_22",
           "in/person_22/938.jpg",
           7.360481262207031
          ],
          [
           152,
           "person_22",
           "in/person_22/802.jpg",
           5.914471944173177
          ],
          [
           157,
           "person_22",
           "in/person_22/879.jpg",
           7.742368062337239
          ],
          [
           158,
           "person_22",
           "in/person_22/846.jpg",
           9.114608764648438
          ],
          [
           159,
           "person_22",
           "in/person_22/794.jpg",
           4.564908345540364
          ],
          [
           160,
           "person_22",
           "in/person_22/904.jpg",
           3.3595174153645835
          ],
          [
           163,
           "person_22",
           "in/person_22/814.jpg",
           6.822428385416667
          ],
          [
           164,
           "person_22",
           "in/person_22/924.jpg",
           6.612495422363281
          ],
          [
           165,
           "person_22",
           "in/person_22/783.jpg",
           4.944023132324219
          ],
          [
           166,
           "person_22",
           "in/person_22/913.jpg",
           4.5740000406901045
          ],
          [
           171,
           "person_22",
           "in/person_22/779.jpg",
           3.605677286783854
          ],
          [
           173,
           "person_22",
           "in/person_22/771.jpg",
           7.111796061197917
          ],
          [
           176,
           "person_22",
           "in/person_22/857.jpg",
           8.821642557779947
          ]
         ],
         "hovertemplate": "labels=%{customdata[1]}<br>tx_magface=%{x}<br>ty_magface=%{y}<br>index=%{customdata[0]}<br>path=%{customdata[2]}<br>alignment_error=%{customdata[3]}<extra></extra>",
         "legendgroup": "person_22",
         "marker": {
          "color": "#DA16FF",
          "symbol": "circle"
         },
         "mode": "markers",
         "name": "person_22",
         "orientation": "v",
         "showlegend": true,
         "type": "scatter",
         "x": [
          0.49854448437690735,
          0.5070827603340149,
          0.5006786584854126,
          0.4844261705875397,
          0.5047076940536499,
          0.5075571537017822,
          0.49728044867515564,
          0.5060411095619202,
          0.48028695583343506,
          0.4923252761363983,
          0.4831859767436981,
          0.5027203559875488,
          0.4864625334739685,
          0.49558666348457336,
          0.49503427743911743,
          0.49913182854652405
         ],
         "xaxis": "x",
         "y": [
          0.2658092975616455,
          0.2695601284503937,
          0.2726576626300812,
          0.27421045303344727,
          0.25802135467529297,
          0.27804797887802124,
          0.282164067029953,
          0.2503642439842224,
          0.2596017122268677,
          0.2608746886253357,
          0.2769309878349304,
          0.24840930104255676,
          0.2669636905193329,
          0.24446116387844086,
          0.24042676389217377,
          0.2832449972629547
         ],
         "yaxis": "y"
        },
        {
         "customdata": [
          [
           179,
           "person_20",
           "in/person_20/721.jpg",
           8.07818603515625
          ],
          [
           184,
           "person_20",
           "in/person_20/740.jpg",
           8.915496826171875
          ]
         ],
         "hovertemplate": "labels=%{customdata[1]}<br>tx_magface=%{x}<br>ty_magface=%{y}<br>index=%{customdata[0]}<br>path=%{customdata[2]}<br>alignment_error=%{customdata[3]}<extra></extra>",
         "legendgroup": "person_20",
         "marker": {
          "color": "#222A2A",
          "symbol": "circle"
         },
         "mode": "markers",
         "name": "person_20",
         "orientation": "v",
         "showlegend": true,
         "type": "scatter",
         "x": [
          0.2220482975244522,
          0.22191691398620605
         ],
         "xaxis": "x",
         "y": [
          0.3255715072154999,
          0.3254972994327545
         ],
         "yaxis": "y"
        },
        {
         "customdata": [
          [
           191,
           "person_11",
           "in/person_11/484.jpg",
           -2.129155476888021
          ],
          [
           192,
           "person_11",
           "in/person_11/499.jpg",
           3.853444417317709
          ],
          [
           193,
           "person_11",
           "in/person_11/490.jpg",
           0.4719899495442708
          ],
          [
           194,
           "person_11",
           "in/person_11/414.jpg",
           2.9633687337239585
          ],
          [
           195,
           "person_11",
           "in/person_11/428.jpg",
           8.256304423014322
          ],
          [
           196,
           "person_11",
           "in/person_11/426.jpg",
           7.904650370279948
          ],
          [
           197,
           "person_11",
           "in/person_11/417.jpg",
           5.120160420735677
          ],
          [
           198,
           "person_11",
           "in/person_11/422.jpg",
           6.242162068684896
          ],
          [
           199,
           "person_11",
           "in/person_11/431.jpg",
           5.873067220052083
          ],
          [
           200,
           "person_11",
           "in/person_11/413.jpg",
           3.9685465494791674
          ],
          [
           201,
           "person_11",
           "in/person_11/477.jpg",
           9.08258056640625
          ],
          [
           202,
           "person_11",
           "in/person_11/481.jpg",
           1.9197998046875
          ],
          [
           203,
           "person_11",
           "in/person_11/496.jpg",
           2.17156728108724
          ],
          [
           204,
           "person_11",
           "in/person_11/424.jpg",
           8.115514119466146
          ],
          [
           205,
           "person_11",
           "in/person_11/404.jpg",
           4.614163716634114
          ]
         ],
         "hovertemplate": "labels=%{customdata[1]}<br>tx_magface=%{x}<br>ty_magface=%{y}<br>index=%{customdata[0]}<br>path=%{customdata[2]}<br>alignment_error=%{customdata[3]}<extra></extra>",
         "legendgroup": "person_11",
         "marker": {
          "color": "#B68100",
          "symbol": "circle"
         },
         "mode": "markers",
         "name": "person_11",
         "orientation": "v",
         "showlegend": true,
         "type": "scatter",
         "x": [
          0.5089331865310669,
          0.4982794225215912,
          0.5035220384597778,
          0.4859999418258667,
          0.5039182305335999,
          0.5040498971939087,
          0.4922354221343994,
          0.4957183599472046,
          0.4987484812736511,
          0.48622220754623413,
          0.5186361074447632,
          0.5078503489494324,
          0.5023710131645203,
          0.5020347237586975,
          0.5171836614608765
         ],
         "xaxis": "x",
         "y": [
          0.4912590980529785,
          0.49054884910583496,
          0.4940323531627655,
          0.5222481489181519,
          0.5344198346138,
          0.5391228795051575,
          0.5264402627944946,
          0.529052734375,
          0.518210232257843,
          0.5148621201515198,
          0.5106348395347595,
          0.5034419894218445,
          0.49349063634872437,
          0.5389248728752136,
          0.5364173054695129
         ],
         "yaxis": "y"
        },
        {
         "customdata": [
          [
           206,
           "person_26",
           "in/person_26/990.jpg",
           5.537689208984375
          ],
          [
           207,
           "person_26",
           "in/person_26/1102.jpg",
           9.487894694010416
          ],
          [
           209,
           "person_26",
           "in/person_26/1078.jpg",
           9.52886962890625
          ],
          [
           211,
           "person_26",
           "in/person_26/933.jpg",
           5.618583679199219
          ],
          [
           212,
           "person_26",
           "in/person_26/920.jpg",
           7.528856913248698
          ],
          [
           215,
           "person_26",
           "in/person_26/1006.jpg",
           6.001665751139323
          ],
          [
           218,
           "person_26",
           "in/person_26/1040.jpg",
           6.325925191243489
          ],
          [
           219,
           "person_26",
           "in/person_26/886.jpg",
           7.028615315755208
          ],
          [
           220,
           "person_26",
           "in/person_26/1052.jpg",
           7.471542358398437
          ],
          [
           221,
           "person_26",
           "in/person_26/1091.jpg",
           7.7104848225911455
          ],
          [
           223,
           "person_26",
           "in/person_26/1027.jpg",
           4.673271179199219
          ],
          [
           224,
           "person_26",
           "in/person_26/959.jpg",
           5.080586751302083
          ],
          [
           226,
           "person_26",
           "in/person_26/1064.jpg",
           7.95428466796875
          ],
          [
           227,
           "person_26",
           "in/person_26/875.jpg",
           6.722951253255208
          ],
          [
           231,
           "person_26",
           "in/person_26/996.jpg",
           6.078725179036458
          ],
          [
           232,
           "person_26",
           "in/person_26/978.jpg",
           5.597719828287761
          ],
          [
           233,
           "person_26",
           "in/person_26/970.jpg",
           7.356564839680989
          ]
         ],
         "hovertemplate": "labels=%{customdata[1]}<br>tx_magface=%{x}<br>ty_magface=%{y}<br>index=%{customdata[0]}<br>path=%{customdata[2]}<br>alignment_error=%{customdata[3]}<extra></extra>",
         "legendgroup": "person_26",
         "marker": {
          "color": "#750D86",
          "symbol": "circle"
         },
         "mode": "markers",
         "name": "person_26",
         "orientation": "v",
         "showlegend": true,
         "type": "scatter",
         "x": [
          0.5495019555091858,
          0.5275779366493225,
          0.5408855676651001,
          0.55487060546875,
          0.5589645504951477,
          0.5413162112236023,
          0.5513919591903687,
          0.5342699289321899,
          0.5587676763534546,
          0.5287570953369141,
          0.5538535118103027,
          0.5605937838554382,
          0.5541775226593018,
          0.5344645977020264,
          0.5512208342552185,
          0.5491721034049988,
          0.5584042072296143
         ],
         "xaxis": "x",
         "y": [
          0.7001901268959045,
          0.7190395593643188,
          0.7289494872093201,
          0.6889985799789429,
          0.6832955479621887,
          0.6976547837257385,
          0.7207294702529907,
          0.67889803647995,
          0.7357282042503357,
          0.7197830677032471,
          0.7217066884040833,
          0.7011582255363464,
          0.7346299290657043,
          0.6794732809066772,
          0.7006749510765076,
          0.6983023881912231,
          0.698986291885376
         ],
         "yaxis": "y"
        },
        {
         "customdata": [
          [
           236,
           "person_34",
           "in/person_34/1371.jpg",
           8.736663818359375
          ],
          [
           237,
           "person_34",
           "in/person_34/1281.jpg",
           4.26190185546875
          ],
          [
           238,
           "person_34",
           "in/person_34/1359.jpg",
           6.079327901204427
          ],
          [
           239,
           "person_34",
           "in/person_34/1322.jpg",
           9.195515950520834
          ],
          [
           241,
           "person_34",
           "in/person_34/1314.jpg",
           7.551816304524739
          ],
          [
           242,
           "person_34",
           "in/person_34/1405.jpg",
           9.974655151367188
          ],
          [
           243,
           "person_34",
           "in/person_34/1334.jpg",
           9.325213114420572
          ],
          [
           244,
           "person_34",
           "in/person_34/1259.jpg",
           6.396942138671875
          ],
          [
           248,
           "person_34",
           "in/person_34/1363.jpg",
           7.0193125406901045
          ],
          [
           249,
           "person_34",
           "in/person_34/1354.jpg",
           5.373875935872396
          ],
          [
           250,
           "person_34",
           "in/person_34/1266.jpg",
           5.558331807454427
          ],
          [
           251,
           "person_34",
           "in/person_34/1308.jpg",
           5.3988087972005205
          ],
          [
           253,
           "person_34",
           "in/person_34/1292.jpg",
           5.056437174479167
          ],
          [
           254,
           "person_34",
           "in/person_34/1286.jpg",
           3.795064290364584
          ],
          [
           259,
           "person_34",
           "in/person_34/1349.jpg",
           5.650825500488281
          ],
          [
           260,
           "person_34",
           "in/person_34/1300.jpg",
           5.4200083414713545
          ],
          [
           261,
           "person_34",
           "in/person_34/1367.jpg",
           7.123972574869792
          ],
          [
           263,
           "person_34",
           "in/person_34/1273.jpg",
           4.589922587076823
          ],
          [
           266,
           "person_34",
           "in/person_34/1338.jpg",
           9.134587605794271
          ],
          [
           267,
           "person_34",
           "in/person_34/1344.jpg",
           7.183570861816406
          ]
         ],
         "hovertemplate": "labels=%{customdata[1]}<br>tx_magface=%{x}<br>ty_magface=%{y}<br>index=%{customdata[0]}<br>path=%{customdata[2]}<br>alignment_error=%{customdata[3]}<extra></extra>",
         "legendgroup": "person_34",
         "marker": {
          "color": "#EB663B",
          "symbol": "circle"
         },
         "mode": "markers",
         "name": "person_34",
         "orientation": "v",
         "showlegend": true,
         "type": "scatter",
         "x": [
          0.32101762294769287,
          0.3442752957344055,
          0.30551454424858093,
          0.3140377104282379,
          0.30825740098953247,
          0.3153657913208008,
          0.31759828329086304,
          0.35174110531806946,
          0.32802215218544006,
          0.30532076954841614,
          0.34874165058135986,
          0.31750914454460144,
          0.33736830949783325,
          0.34094661474227905,
          0.30316776037216187,
          0.33121129870414734,
          0.31871455907821655,
          0.3503901958465576,
          0.30975908041000366,
          0.2984682023525238
         ],
         "xaxis": "x",
         "y": [
          0.4245219826698303,
          0.44976499676704407,
          0.42641618847846985,
          0.4550776183605194,
          0.45476052165031433,
          0.4125203788280487,
          0.43776166439056396,
          0.4414727985858917,
          0.4273783564567566,
          0.44173941016197205,
          0.4435098469257355,
          0.4598798155784607,
          0.45627233386039734,
          0.45467954874038696,
          0.44127705693244934,
          0.4608410596847534,
          0.426254004240036,
          0.44752562046051025,
          0.43320733308792114,
          0.4379217028617859
         ],
         "yaxis": "y"
        },
        {
         "customdata": [
          [
           269,
           "person_5",
           "in/person_5/211.jpg",
           8.651880900065104
          ],
          [
           270,
           "person_5",
           "in/person_5/212.jpg",
           8.951606750488281
          ],
          [
           271,
           "person_5",
           "in/person_5/216.jpg",
           8.336471557617188
          ],
          [
           272,
           "person_5",
           "in/person_5/207.jpg",
           6.993479410807292
          ]
         ],
         "hovertemplate": "labels=%{customdata[1]}<br>tx_magface=%{x}<br>ty_magface=%{y}<br>index=%{customdata[0]}<br>path=%{customdata[2]}<br>alignment_error=%{customdata[3]}<extra></extra>",
         "legendgroup": "person_5",
         "marker": {
          "color": "#511CFB",
          "symbol": "circle"
         },
         "mode": "markers",
         "name": "person_5",
         "orientation": "v",
         "showlegend": true,
         "type": "scatter",
         "x": [
          0.39748427271842957,
          0.3963957130908966,
          0.39752572774887085,
          0.39432641863822937
         ],
         "xaxis": "x",
         "y": [
          0.22977623343467712,
          0.22960323095321655,
          0.22957919538021088,
          0.22972680628299713
         ],
         "yaxis": "y"
        },
        {
         "customdata": [
          [
           275,
           "person_2",
           "in/person_2/28.jpg",
           9.103294372558594
          ],
          [
           277,
           "person_2",
           "in/person_2/32.jpg",
           9.471773783365885
          ],
          [
           278,
           "person_2",
           "in/person_2/21.jpg",
           6.505561828613281
          ],
          [
           285,
           "person_2",
           "in/person_2/23.jpg",
           8.44817860921224
          ],
          [
           295,
           "person_2",
           "in/person_2/26.jpg",
           8.295801798502604
          ],
          [
           297,
           "person_2",
           "in/person_2/22.jpg",
           7.288424173990886
          ]
         ],
         "hovertemplate": "labels=%{customdata[1]}<br>tx_magface=%{x}<br>ty_magface=%{y}<br>index=%{customdata[0]}<br>path=%{customdata[2]}<br>alignment_error=%{customdata[3]}<extra></extra>",
         "legendgroup": "person_2",
         "marker": {
          "color": "#00A08B",
          "symbol": "circle"
         },
         "mode": "markers",
         "name": "person_2",
         "orientation": "v",
         "showlegend": true,
         "type": "scatter",
         "x": [
          0.6931056976318359,
          0.6800835132598877,
          0.6866814494132996,
          0.6890668869018555,
          0.6936324834823608,
          0.6874488592147827
         ],
         "xaxis": "x",
         "y": [
          0.5306640267372131,
          0.5461288690567017,
          0.546897828578949,
          0.5425955057144165,
          0.5294104814529419,
          0.5461124181747437
         ],
         "yaxis": "y"
        },
        {
         "customdata": [
          [
           300,
           "person_7",
           "in/person_7/245.jpg",
           7.762120564778645
          ]
         ],
         "hovertemplate": "labels=%{customdata[1]}<br>tx_magface=%{x}<br>ty_magface=%{y}<br>index=%{customdata[0]}<br>path=%{customdata[2]}<br>alignment_error=%{customdata[3]}<extra></extra>",
         "legendgroup": "person_7",
         "marker": {
          "color": "#FB00D1",
          "symbol": "circle"
         },
         "mode": "markers",
         "name": "person_7",
         "orientation": "v",
         "showlegend": true,
         "type": "scatter",
         "x": [
          0.3826899826526642
         ],
         "xaxis": "x",
         "y": [
          0.22629882395267487
         ],
         "yaxis": "y"
        },
        {
         "customdata": [
          [
           317,
           "person_21",
           "in/person_21/728.jpg",
           8.926961263020834
          ],
          [
           318,
           "person_21",
           "in/person_21/910.jpg",
           4.175994873046875
          ],
          [
           319,
           "person_21",
           "in/person_21/769.jpg",
           3.0789082845052085
          ],
          [
           320,
           "person_21",
           "in/person_21/817.jpg",
           9.214032491048178
          ],
          [
           321,
           "person_21",
           "in/person_21/864.jpg",
           5.940696716308594
          ],
          [
           322,
           "person_21",
           "in/person_21/834.jpg",
           -1.0105260213216145
          ],
          [
           323,
           "person_21",
           "in/person_21/820.jpg",
           0.6153462727864584
          ],
          [
           324,
           "person_21",
           "in/person_21/952.jpg",
           4.455172220865886
          ],
          [
           326,
           "person_21",
           "in/person_21/878.jpg",
           7.097076416015625
          ],
          [
           327,
           "person_21",
           "in/person_21/811.jpg",
           0.9157155354817708
          ],
          [
           328,
           "person_21",
           "in/person_21/891.jpg",
           5.4647979736328125
          ],
          [
           329,
           "person_21",
           "in/person_21/858.jpg",
           6.001055399576823
          ],
          [
           330,
           "person_21",
           "in/person_21/764.jpg",
           5.295595804850261
          ],
          [
           331,
           "person_21",
           "in/person_21/901.jpg",
           4.809173583984375
          ],
          [
           332,
           "person_21",
           "in/person_21/936.jpg",
           2.899688720703125
          ],
          [
           333,
           "person_21",
           "in/person_21/791.jpg",
           1.1337636311848958
          ],
          [
           334,
           "person_21",
           "in/person_21/963.jpg",
           5.80194091796875
          ],
          [
           335,
           "person_21",
           "in/person_21/804.jpg",
           2.440511067708333
          ],
          [
           337,
           "person_21",
           "in/person_21/777.jpg",
           -0.2639541625976562
          ],
          [
           338,
           "person_21",
           "in/person_21/842.jpg",
           3.563191731770833
          ],
          [
           339,
           "person_21",
           "in/person_21/785.jpg",
           0.8552042643229166
          ],
          [
           340,
           "person_21",
           "in/person_21/739.jpg",
           7.731007893880208
          ],
          [
           341,
           "person_21",
           "in/person_21/946.jpg",
           3.4068883260091147
          ],
          [
           343,
           "person_21",
           "in/person_21/972.jpg",
           7.055747985839844
          ],
          [
           344,
           "person_21",
           "in/person_21/925.jpg",
           4.934560139973958
          ],
          [
           345,
           "person_21",
           "in/person_21/755.jpg",
           3.6113382975260415
          ]
         ],
         "hovertemplate": "labels=%{customdata[1]}<br>tx_magface=%{x}<br>ty_magface=%{y}<br>index=%{customdata[0]}<br>path=%{customdata[2]}<br>alignment_error=%{customdata[3]}<extra></extra>",
         "legendgroup": "person_21",
         "marker": {
          "color": "#FC0080",
          "symbol": "circle"
         },
         "mode": "markers",
         "name": "person_21",
         "orientation": "v",
         "showlegend": true,
         "type": "scatter",
         "x": [
          0.38550612330436707,
          0.4084536135196686,
          0.40818336606025696,
          0.37967562675476074,
          0.39105236530303955,
          0.40372925996780396,
          0.41385477781295776,
          0.4145737886428833,
          0.3895795941352844,
          0.4217391014099121,
          0.3985776901245117,
          0.3937014639377594,
          0.40399643778800964,
          0.41161781549453735,
          0.4066786468029022,
          0.42154181003570557,
          0.41564273834228516,
          0.4172464609146118,
          0.41324642300605774,
          0.39871683716773987,
          0.41915667057037354,
          0.3877177834510803,
          0.4067835509777069,
          0.4232887327671051,
          0.4107828736305237,
          0.40261217951774597
         ],
         "xaxis": "x",
         "y": [
          0.7612848281860352,
          0.831561267375946,
          0.7704309821128845,
          0.7941704392433167,
          0.824517011642456,
          0.7971819043159485,
          0.7941937446594238,
          0.8474205136299133,
          0.8399229049682617,
          0.7893005609512329,
          0.8393798470497131,
          0.8188857436180115,
          0.7669380903244019,
          0.8291183710098267,
          0.8429915308952332,
          0.7855538129806519,
          0.8456608057022095,
          0.7867708206176758,
          0.775726854801178,
          0.8065577149391174,
          0.7797996997833252,
          0.7724839448928833,
          0.8450978398323059,
          0.8322981595993042,
          0.832309901714325,
          0.7659387588500977
         ],
         "yaxis": "y"
        },
        {
         "customdata": [
          [
           347,
           "person_8",
           "in/person_8/265.jpg",
           8.554946899414062
          ],
          [
           349,
           "person_8",
           "in/person_8/277.jpg",
           7.011482238769531
          ],
          [
           350,
           "person_8",
           "in/person_8/252.jpg",
           8.870254516601562
          ],
          [
           351,
           "person_8",
           "in/person_8/267.jpg",
           5.24346923828125
          ],
          [
           352,
           "person_8",
           "in/person_8/270.jpg",
           3.798426310221354
          ],
          [
           355,
           "person_8",
           "in/person_8/273.jpg",
           5.165362040201823
          ],
          [
           359,
           "person_8",
           "in/person_8/262.jpg",
           8.489095052083334
          ],
          [
           360,
           "person_8",
           "in/person_8/259.jpg",
           7.566782633463542
          ],
          [
           361,
           "person_8",
           "in/person_8/255.jpg",
           8.305608113606771
          ]
         ],
         "hovertemplate": "labels=%{customdata[1]}<br>tx_magface=%{x}<br>ty_magface=%{y}<br>index=%{customdata[0]}<br>path=%{customdata[2]}<br>alignment_error=%{customdata[3]}<extra></extra>",
         "legendgroup": "person_8",
         "marker": {
          "color": "#B2828D",
          "symbol": "circle"
         },
         "mode": "markers",
         "name": "person_8",
         "orientation": "v",
         "showlegend": true,
         "type": "scatter",
         "x": [
          0.16158922016620636,
          0.15296734869480133,
          0.1682232767343521,
          0.15319989621639252,
          0.15179066359996796,
          0.15096288919448853,
          0.15712301433086395,
          0.15937858819961548,
          0.16644906997680664
         ],
         "xaxis": "x",
         "y": [
          0.5640124082565308,
          0.5459418296813965,
          0.565985918045044,
          0.5544567108154297,
          0.5496412515640259,
          0.5487280488014221,
          0.561282217502594,
          0.5607487559318542,
          0.5660567283630371
         ],
         "yaxis": "y"
        },
        {
         "customdata": [
          [
           362,
           "person_29",
           "in/person_29/1180.jpg",
           5.452832539876302
          ],
          [
           363,
           "person_29",
           "in/person_29/1105.jpg",
           2.9317143758138022
          ],
          [
           364,
           "person_29",
           "in/person_29/1120.jpg",
           2.1293004353841147
          ],
          [
           365,
           "person_29",
           "in/person_29/1033.jpg",
           -0.5017038981119791
          ],
          [
           366,
           "person_29",
           "in/person_29/1043.jpg",
           0.2305246988932291
          ],
          [
           367,
           "person_29",
           "in/person_29/1227.jpg",
           9.33666737874349
          ],
          [
           368,
           "person_29",
           "in/person_29/984.jpg",
           5.3167877197265625
          ],
          [
           369,
           "person_29",
           "in/person_29/939.jpg",
           1.760698954264323
          ],
          [
           370,
           "person_29",
           "in/person_29/1168.jpg",
           4.191314697265625
          ],
          [
           372,
           "person_29",
           "in/person_29/1218.jpg",
           9.654637654622396
          ],
          [
           375,
           "person_29",
           "in/person_29/1056.jpg",
           1.5731735229492188
          ],
          [
           377,
           "person_29",
           "in/person_29/1023.jpg",
           0.7125015258789062
          ],
          [
           381,
           "person_29",
           "in/person_29/1132.jpg",
           2.8986638387044272
          ],
          [
           383,
           "person_29",
           "in/person_29/1197.jpg",
           9.397610982259115
          ],
          [
           384,
           "person_29",
           "in/person_29/929.jpg",
           0.9814732869466146
          ],
          [
           385,
           "person_29",
           "in/person_29/1081.jpg",
           4.769864400227864
          ],
          [
           386,
           "person_29",
           "in/person_29/1093.jpg",
           2.685287475585937
          ],
          [
           387,
           "person_29",
           "in/person_29/1001.jpg",
           2.5648396809895835
          ],
          [
           388,
           "person_29",
           "in/person_29/1068.jpg",
           1.9779917399088545
          ],
          [
           389,
           "person_29",
           "in/person_29/975.jpg",
           4.777697245279948
          ],
          [
           390,
           "person_29",
           "in/person_29/1145.jpg",
           2.8268051147460938
          ],
          [
           391,
           "person_29",
           "in/person_29/1012.jpg",
           1.3996531168619792
          ],
          [
           392,
           "person_29",
           "in/person_29/991.jpg",
           3.698163350423177
          ],
          [
           393,
           "person_29",
           "in/person_29/1158.jpg",
           4.073455810546875
          ],
          [
           394,
           "person_29",
           "in/person_29/1189.jpg",
           8.402788798014322
          ],
          [
           395,
           "person_29",
           "in/person_29/955.jpg",
           3.7226664225260415
          ],
          [
           397,
           "person_29",
           "in/person_29/965.jpg",
           3.925346374511719
          ],
          [
           398,
           "person_29",
           "in/person_29/1209.jpg",
           9.110847473144531
          ]
         ],
         "hovertemplate": "labels=%{customdata[1]}<br>tx_magface=%{x}<br>ty_magface=%{y}<br>index=%{customdata[0]}<br>path=%{customdata[2]}<br>alignment_error=%{customdata[3]}<extra></extra>",
         "legendgroup": "person_29",
         "marker": {
          "color": "#6C7C32",
          "symbol": "circle"
         },
         "mode": "markers",
         "name": "person_29",
         "orientation": "v",
         "showlegend": true,
         "type": "scatter",
         "x": [
          0.565872848033905,
          0.5734056830406189,
          0.5795562863349915,
          0.5596835613250732,
          0.5701145529747009,
          0.5472785234451294,
          0.5411009192466736,
          0.5257341265678406,
          0.5762932896614075,
          0.5486404299736023,
          0.5645805597305298,
          0.5571848154067993,
          0.5828490257263184,
          0.5474554896354675,
          0.527219295501709,
          0.5655505061149597,
          0.5688335299491882,
          0.5534409284591675,
          0.5614104270935059,
          0.5391048192977905,
          0.5857324600219727,
          0.5584907531738281,
          0.5418018698692322,
          0.5850290656089783,
          0.5530920028686523,
          0.5408225655555725,
          0.5401983857154846,
          0.5532901287078857
         ],
         "xaxis": "x",
         "y": [
          0.050446026027202606,
          0.033988311886787415,
          0.02721405401825905,
          0.009919345378875732,
          0.004851187113672495,
          0.06321204453706741,
          0.03378460556268692,
          0.020284568890929222,
          0.04726339876651764,
          0.06510951370000839,
          0,
          0.010965884663164616,
          0.01986994966864586,
          0.05114567652344704,
          0.015255428850650787,
          0.03488752990961075,
          0.03124014288187027,
          0.021965209394693375,
          0.0007072261068969965,
          0.015207283198833466,
          0.031301479786634445,
          0.01436045952141285,
          0.02128296159207821,
          0.019238175824284554,
          0.050552960485219955,
          0.0035805446095764637,
          0.008914485573768616,
          0.061377547681331635
         ],
         "yaxis": "y"
        },
        {
         "customdata": [
          [
           401,
           "person_13",
           "in/person_13/1015.jpg",
           5.016054789225261
          ],
          [
           403,
           "person_13",
           "in/person_13/765.jpg",
           2.059595743815104
          ],
          [
           406,
           "person_13",
           "in/person_13/582.jpg",
           8.144091288248697
          ],
          [
           407,
           "person_13",
           "in/person_13/492.jpg",
           6.959526062011719
          ],
          [
           408,
           "person_13",
           "in/person_13/719.jpg",
           4.761594136555989
          ],
          [
           411,
           "person_13",
           "in/person_13/1036.jpg",
           7.8188832600911455
          ],
          [
           412,
           "person_13",
           "in/person_13/896.jpg",
           3.0449142456054688
          ],
          [
           413,
           "person_13",
           "in/person_13/524.jpg",
           9.009674072265623
          ],
          [
           414,
           "person_13",
           "in/person_13/737.jpg",
           1.931592305501302
          ],
          [
           415,
           "person_13",
           "in/person_13/816.jpg",
           2.8891016642252603
          ],
          [
           416,
           "person_13",
           "in/person_13/744.jpg",
           0.917205810546875
          ],
          [
           417,
           "person_13",
           "in/person_13/773.jpg",
           2.892176310221354
          ],
          [
           418,
           "person_13",
           "in/person_13/497.jpg",
           8.969713846842447
          ],
          [
           421,
           "person_13",
           "in/person_13/520.jpg",
           8.686965942382812
          ],
          [
           422,
           "person_13",
           "in/person_13/957.jpg",
           7.749203999837239
          ],
          [
           423,
           "person_13",
           "in/person_13/729.jpg",
           1.4166285196940105
          ],
          [
           424,
           "person_13",
           "in/person_13/502.jpg",
           9.522905985514322
          ],
          [
           425,
           "person_13",
           "in/person_13/536.jpg",
           8.584111531575521
          ],
          [
           426,
           "person_13",
           "in/person_13/746.jpg",
           9.809679667154947
          ],
          [
           427,
           "person_13",
           "in/person_13/966.jpg",
           7.0526275634765625
          ],
          [
           428,
           "person_13",
           "in/person_13/465.jpg",
           8.207402547200521
          ],
          [
           431,
           "person_13",
           "in/person_13/733.jpg",
           9.660741170247396
          ],
          [
           432,
           "person_13",
           "in/person_13/1059.jpg",
           7.801236470540364
          ],
          [
           433,
           "person_13",
           "in/person_13/727.jpg",
           8.694844563802084
          ],
          [
           435,
           "person_13",
           "in/person_13/850.jpg",
           3.7810160319010415
          ],
          [
           436,
           "person_13",
           "in/person_13/1005.jpg",
           6.465189615885417
          ],
          [
           438,
           "person_13",
           "in/person_13/741.jpg",
           9.092882792154947
          ],
          [
           439,
           "person_13",
           "in/person_13/506.jpg",
           9.35491689046224
          ],
          [
           440,
           "person_13",
           "in/person_13/464.jpg",
           5.715667724609375
          ],
          [
           441,
           "person_13",
           "in/person_13/797.jpg",
           1.6646804809570312
          ],
          [
           443,
           "person_13",
           "in/person_13/507.jpg",
           9.082626342773438
          ],
          [
           444,
           "person_13",
           "in/person_13/1050.jpg",
           8.16167958577474
          ],
          [
           450,
           "person_13",
           "in/person_13/751.jpg",
           9.379475911458334
          ],
          [
           451,
           "person_13",
           "in/person_13/781.jpg",
           3.410265604654948
          ],
          [
           452,
           "person_13",
           "in/person_13/932.jpg",
           4.501035054524739
          ],
          [
           453,
           "person_13",
           "in/person_13/501.jpg",
           8.771255493164062
          ],
          [
           454,
           "person_13",
           "in/person_13/562.jpg",
           8.142468770345053
          ],
          [
           456,
           "person_13",
           "in/person_13/489.jpg",
           9.962677001953123
          ],
          [
           458,
           "person_13",
           "in/person_13/543.jpg",
           8.074267069498697
          ],
          [
           459,
           "person_13",
           "in/person_13/723.jpg",
           1.1706186930338542
          ],
          [
           460,
           "person_13",
           "in/person_13/522.jpg",
           9.60522206624349
          ],
          [
           461,
           "person_13",
           "in/person_13/747.jpg",
           0.5605417887369791
          ],
          [
           462,
           "person_13",
           "in/person_13/986.jpg",
           8.133374532063803
          ],
          [
           464,
           "person_13",
           "in/person_13/995.jpg",
           7.500686645507812
          ],
          [
           465,
           "person_13",
           "in/person_13/532.jpg",
           8.633956909179688
          ],
          [
           466,
           "person_13",
           "in/person_13/554.jpg",
           8.924575805664062
          ],
          [
           467,
           "person_13",
           "in/person_13/571.jpg",
           9.000134785970053
          ],
          [
           469,
           "person_13",
           "in/person_13/561.jpg",
           9.598416646321615
          ],
          [
           470,
           "person_13",
           "in/person_13/885.jpg",
           2.531219482421875
          ],
          [
           471,
           "person_13",
           "in/person_13/827.jpg",
           3.1582361857096357
          ],
          [
           472,
           "person_13",
           "in/person_13/789.jpg",
           3.262242635091146
          ],
          [
           473,
           "person_13",
           "in/person_13/839.jpg",
           3.8326517740885415
          ],
          [
           475,
           "person_13",
           "in/person_13/547.jpg",
           9.827438354492188
          ],
          [
           479,
           "person_13",
           "in/person_13/859.jpg",
           4.500048319498698
          ],
          [
           480,
           "person_13",
           "in/person_13/977.jpg",
           7.077313741048177
          ],
          [
           483,
           "person_13",
           "in/person_13/1025.jpg",
           6.483896891276042
          ],
          [
           485,
           "person_13",
           "in/person_13/949.jpg",
           7.2184702555338545
          ],
          [
           486,
           "person_13",
           "in/person_13/482.jpg",
           5.4313405354817705
          ],
          [
           488,
           "person_13",
           "in/person_13/870.jpg",
           3.3750228881835938
          ],
          [
           490,
           "person_13",
           "in/person_13/576.jpg",
           8.623181660970053
          ],
          [
           491,
           "person_13",
           "in/person_13/469.jpg",
           6.2530670166015625
          ],
          [
           492,
           "person_13",
           "in/person_13/753.jpg",
           -0.1659062703450521
          ],
          [
           493,
           "person_13",
           "in/person_13/919.jpg",
           2.9658991495768228
          ],
          [
           495,
           "person_13",
           "in/person_13/909.jpg",
           2.537572224934896
          ],
          [
           496,
           "person_13",
           "in/person_13/549.jpg",
           8.379536946614584
          ],
          [
           497,
           "person_13",
           "in/person_13/762.jpg",
           0.992431640625
          ],
          [
           499,
           "person_13",
           "in/person_13/485.jpg",
           5.806541442871094
          ],
          [
           500,
           "person_13",
           "in/person_13/475.jpg",
           6.883959452311198
          ],
          [
           502,
           "person_13",
           "in/person_13/514.jpg",
           9.238911946614584
          ],
          [
           503,
           "person_13",
           "in/person_13/557.jpg",
           7.9912160237630205
          ],
          [
           504,
           "person_13",
           "in/person_13/941.jpg",
           6.149955749511719
          ]
         ],
         "hovertemplate": "labels=%{customdata[1]}<br>tx_magface=%{x}<br>ty_magface=%{y}<br>index=%{customdata[0]}<br>path=%{customdata[2]}<br>alignment_error=%{customdata[3]}<extra></extra>",
         "legendgroup": "person_13",
         "marker": {
          "color": "#778AAE",
          "symbol": "circle"
         },
         "mode": "markers",
         "name": "person_13",
         "orientation": "v",
         "showlegend": true,
         "type": "scatter",
         "x": [
          0.08584409207105637,
          0.13276542723178864,
          0.3522358536720276,
          0.2888276278972626,
          0.1536959856748581,
          0.06687624752521515,
          0.07875116914510727,
          0.3469526171684265,
          0.14751753211021423,
          0.10000167787075043,
          0.1495925337076187,
          0.12705956399440765,
          0.29800495505332947,
          0.35340622067451477,
          0.106135293841362,
          0.14885327219963074,
          0.37142977118492126,
          0.35567471385002136,
          0.13876113295555115,
          0.10161348432302475,
          0.3225533962249756,
          0.1328037977218628,
          0.06388786435127258,
          0.13063189387321472,
          0.08668120950460434,
          0.08871983736753464,
          0.13062123954296112,
          0.3136173486709595,
          0.2937237620353699,
          0.1114569902420044,
          0.36936143040657043,
          0.06593441963195801,
          0.13989578187465668,
          0.11706924438476562,
          0.11016181111335754,
          0.3123202323913574,
          0.33596837520599365,
          0.3760831952095032,
          0.3572158217430115,
          0.14632579684257507,
          0.3109947443008423,
          0.13491354882717133,
          0.09487302601337433,
          0.09199197590351105,
          0.34157007932662964,
          0.30792316794395447,
          0.3389522433280945,
          0.31296607851982117,
          0.07886815071105957,
          0.09808482974767685,
          0.11649530380964279,
          0.09583986550569534,
          0.31506118178367615,
          0.09036646783351898,
          0.09778992831707001,
          0.07027071714401245,
          0.1123928651213646,
          0.2937033176422119,
          0.08173888176679611,
          0.3418813645839691,
          0.2958584129810333,
          0.13758592307567596,
          0.11186745017766953,
          0.1141919419169426,
          0.3522435426712036,
          0.1314803957939148,
          0.2885302007198334,
          0.30040624737739563,
          0.36070510745048523,
          0.34372031688690186,
          0.117701955139637
         ],
         "xaxis": "x",
         "y": [
          0.3079824447631836,
          0.27215659618377686,
          0.6624942421913147,
          0.6647551655769348,
          0.32514339685440063,
          0.3077395558357239,
          0.27917391061782837,
          0.6452608704566956,
          0.30943363904953003,
          0.28254345059394836,
          0.30859071016311646,
          0.2676284909248352,
          0.6643271446228027,
          0.6498697400093079,
          0.3342035710811615,
          0.3116205632686615,
          0.648497998714447,
          0.6334196329116821,
          0.3789390027523041,
          0.32998380064964294,
          0.634958028793335,
          0.3749412000179291,
          0.30162811279296875,
          0.37107688188552856,
          0.26446425914764404,
          0.31811201572418213,
          0.36844462156295776,
          0.6665937900543213,
          0.6399973630905151,
          0.27949225902557373,
          0.6470659375190735,
          0.3080149292945862,
          0.37796491384506226,
          0.2732510268688202,
          0.302568256855011,
          0.6629844903945923,
          0.64760422706604,
          0.6536375284194946,
          0.6280548572540283,
          0.3291694223880768,
          0.6661326885223389,
          0.2885974049568176,
          0.3169613778591156,
          0.3236854672431946,
          0.6206274032592773,
          0.6808258891105652,
          0.6588118672370911,
          0.6821125149726868,
          0.2815448045730591,
          0.2827868163585663,
          0.2655271887779236,
          0.2760162651538849,
          0.6806483268737793,
          0.26544520258903503,
          0.321835994720459,
          0.3200666010379791,
          0.31950169801712036,
          0.6533787846565247,
          0.2818368077278137,
          0.6615161299705505,
          0.6443758010864258,
          0.2740168571472168,
          0.3017207980155945,
          0.30288779735565186,
          0.6361982822418213,
          0.2754201292991638,
          0.6653788089752197,
          0.650877833366394,
          0.6480957269668579,
          0.6364472508430481,
          0.3065040707588196
         ],
         "yaxis": "y"
        },
        {
         "customdata": [
          [
           515,
           "person_10",
           "in/person_10/940.jpg",
           8.462898254394531
          ]
         ],
         "hovertemplate": "labels=%{customdata[1]}<br>tx_magface=%{x}<br>ty_magface=%{y}<br>index=%{customdata[0]}<br>path=%{customdata[2]}<br>alignment_error=%{customdata[3]}<extra></extra>",
         "legendgroup": "person_10",
         "marker": {
          "color": "#862A16",
          "symbol": "circle"
         },
         "mode": "markers",
         "name": "person_10",
         "orientation": "v",
         "showlegend": true,
         "type": "scatter",
         "x": [
          0.6837077140808105
         ],
         "xaxis": "x",
         "y": [
          0.5582085251808167
         ],
         "yaxis": "y"
        },
        {
         "customdata": [
          [
           535,
           "person_23",
           "in/person_23/934.jpg",
           5.426490783691406
          ],
          [
           536,
           "person_23",
           "in/person_23/953.jpg",
           8.161552429199219
          ],
          [
           538,
           "person_23",
           "in/person_23/867.jpg",
           3.936503092447917
          ],
          [
           540,
           "person_23",
           "in/person_23/945.jpg",
           8.00457763671875
          ],
          [
           541,
           "person_23",
           "in/person_23/912.jpg",
           4.2016042073567705
          ],
          [
           545,
           "person_23",
           "in/person_23/890.jpg",
           5.5318756103515625
          ],
          [
           547,
           "person_23",
           "in/person_23/1035.jpg",
           8.954485575358072
          ],
          [
           548,
           "person_23",
           "in/person_23/923.jpg",
           4.550191243489583
          ],
          [
           549,
           "person_23",
           "in/person_23/1011.jpg",
           9.135826110839844
          ],
          [
           553,
           "person_23",
           "in/person_23/971.jpg",
           9.530662536621094
          ],
          [
           555,
           "person_23",
           "in/person_23/880.jpg",
           5.290659586588542
          ],
          [
           557,
           "person_23",
           "in/person_23/1057.jpg",
           9.838699340820312
          ],
          [
           560,
           "person_23",
           "in/person_23/992.jpg",
           8.999972025553385
          ],
          [
           561,
           "person_23",
           "in/person_23/835.jpg",
           6.60821533203125
          ],
          [
           563,
           "person_23",
           "in/person_23/825.jpg",
           7.500867207845052
          ],
          [
           565,
           "person_23",
           "in/person_23/855.jpg",
           4.2118174235026045
          ],
          [
           568,
           "person_23",
           "in/person_23/1002.jpg",
           9.290133158365885
          ],
          [
           571,
           "person_23",
           "in/person_23/1044.jpg",
           8.531486511230469
          ],
          [
           573,
           "person_23",
           "in/person_23/845.jpg",
           3.9352798461914062
          ],
          [
           574,
           "person_23",
           "in/person_23/981.jpg",
           8.186408996582031
          ],
          [
           576,
           "person_23",
           "in/person_23/961.jpg",
           8.66211191813151
          ],
          [
           577,
           "person_23",
           "in/person_23/905.jpg",
           3.414342244466146
          ],
          [
           580,
           "person_23",
           "in/person_23/1022.jpg",
           8.879099527994791
          ]
         ],
         "hovertemplate": "labels=%{customdata[1]}<br>tx_magface=%{x}<br>ty_magface=%{y}<br>index=%{customdata[0]}<br>path=%{customdata[2]}<br>alignment_error=%{customdata[3]}<extra></extra>",
         "legendgroup": "person_23",
         "marker": {
          "color": "#A777F1",
          "symbol": "circle"
         },
         "mode": "markers",
         "name": "person_23",
         "orientation": "v",
         "showlegend": true,
         "type": "scatter",
         "x": [
          0.5808330178260803,
          0.5694642663002014,
          0.599921464920044,
          0.5651904940605164,
          0.583197295665741,
          0.5886701345443726,
          0.5651240944862366,
          0.5783281922340393,
          0.5536381006240845,
          0.5591508150100708,
          0.5975283980369568,
          0.5681743025779724,
          0.5449644327163696,
          0.6008453965187073,
          0.605225145816803,
          0.5977504849433899,
          0.5491133332252502,
          0.5681752562522888,
          0.6025150418281555,
          0.5525900721549988,
          0.5600764155387878,
          0.5832017660140991,
          0.5556420087814331
         ],
         "xaxis": "x",
         "y": [
          0.36339008808135986,
          0.3720630407333374,
          0.3996303975582123,
          0.36709386110305786,
          0.3758208453655243,
          0.3950093388557434,
          0.3923477232456207,
          0.3612046539783478,
          0.4002304971218109,
          0.38024038076400757,
          0.3975991904735565,
          0.3955953121185303,
          0.39446914196014404,
          0.37921616435050964,
          0.3741774559020996,
          0.3934836685657501,
          0.3932991921901703,
          0.39027586579322815,
          0.3830343186855316,
          0.38511818647384644,
          0.37102895975112915,
          0.37162157893180847,
          0.40091362595558167
         ],
         "yaxis": "y"
        },
        {
         "customdata": [
          [
           582,
           "person_17",
           "in/person_17/596.jpg",
           9.462023417154947
          ],
          [
           592,
           "person_17",
           "in/person_17/603.jpg",
           9.59959920247396
          ],
          [
           596,
           "person_17",
           "in/person_17/552.jpg",
           5.055521647135417
          ],
          [
           597,
           "person_17",
           "in/person_17/588.jpg",
           7.616297403971354
          ]
         ],
         "hovertemplate": "labels=%{customdata[1]}<br>tx_magface=%{x}<br>ty_magface=%{y}<br>index=%{customdata[0]}<br>path=%{customdata[2]}<br>alignment_error=%{customdata[3]}<extra></extra>",
         "legendgroup": "person_17",
         "marker": {
          "color": "#620042",
          "symbol": "circle"
         },
         "mode": "markers",
         "name": "person_17",
         "orientation": "v",
         "showlegend": true,
         "type": "scatter",
         "x": [
          0.3482212722301483,
          0.3515647053718567,
          0.37655770778656006,
          0.3569187819957733
         ],
         "xaxis": "x",
         "y": [
          0.6729428768157959,
          0.6657676696777344,
          0.7813928723335266,
          0.6779158711433411
         ],
         "yaxis": "y"
        },
        {
         "customdata": [
          [
           600,
           "person_36",
           "in/person_36/1375.jpg",
           7.858640034993489
          ],
          [
           601,
           "person_36",
           "in/person_36/1394.jpg",
           9.547103881835938
          ],
          [
           603,
           "person_36",
           "in/person_36/1410.jpg",
           6.77520751953125
          ],
          [
           605,
           "person_36",
           "in/person_36/1406.jpg",
           8.980443318684896
          ],
          [
           607,
           "person_36",
           "in/person_36/1373.jpg",
           7.731529235839844
          ],
          [
           608,
           "person_36",
           "in/person_36/1379.jpg",
           5.3853302001953125
          ],
          [
           609,
           "person_36",
           "in/person_36/1388.jpg",
           7.505236307779948
          ],
          [
           610,
           "person_36",
           "in/person_36/1398.jpg",
           9.234222412109377
          ]
         ],
         "hovertemplate": "labels=%{customdata[1]}<br>tx_magface=%{x}<br>ty_magface=%{y}<br>index=%{customdata[0]}<br>path=%{customdata[2]}<br>alignment_error=%{customdata[3]}<extra></extra>",
         "legendgroup": "person_36",
         "marker": {
          "color": "#1616A7",
          "symbol": "circle"
         },
         "mode": "markers",
         "name": "person_36",
         "orientation": "v",
         "showlegend": true,
         "type": "scatter",
         "x": [
          0.4422299265861511,
          0.41485849022865295,
          0.4199453592300415,
          0.42038020491600037,
          0.4416462182998657,
          0.44089531898498535,
          0.41455456614494324,
          0.4148581326007843
         ],
         "xaxis": "x",
         "y": [
          0.5748305320739746,
          0.5662880539894104,
          0.5559427738189697,
          0.5565576553344727,
          0.5765475034713745,
          0.5743371248245239,
          0.564737856388092,
          0.5634063482284546
         ],
         "yaxis": "y"
        },
        {
         "customdata": [
          [
           611,
           "person_38",
           "in/person_38/1407.jpg",
           8.35345713297526
          ],
          [
           612,
           "person_38",
           "in/person_38/1400.jpg",
           8.732823689778646
          ],
          [
           613,
           "person_38",
           "in/person_38/1411.jpg",
           8.774391174316406
          ]
         ],
         "hovertemplate": "labels=%{customdata[1]}<br>tx_magface=%{x}<br>ty_magface=%{y}<br>index=%{customdata[0]}<br>path=%{customdata[2]}<br>alignment_error=%{customdata[3]}<extra></extra>",
         "legendgroup": "person_38",
         "marker": {
          "color": "#DA60CA",
          "symbol": "circle"
         },
         "mode": "markers",
         "name": "person_38",
         "orientation": "v",
         "showlegend": true,
         "type": "scatter",
         "x": [
          0.4533476233482361,
          0.45332762598991394,
          0.45356127619743347
         ],
         "xaxis": "x",
         "y": [
          0.46791020035743713,
          0.46713244915008545,
          0.46670544147491455
         ],
         "yaxis": "y"
        },
        {
         "customdata": [
          [
           646,
           "person_0",
           "in/person_0/677.jpg",
           3.71514638264974
          ],
          [
           648,
           "person_0",
           "in/person_0/1038.jpg",
           9.510848999023438
          ],
          [
           649,
           "person_0",
           "in/person_0/807.jpg",
           5.15331522623698
          ],
          [
           651,
           "person_0",
           "in/person_0/563.jpg",
           9.546666463216146
          ],
          [
           652,
           "person_0",
           "in/person_0/82.jpg",
           9.88678232828776
          ],
          [
           653,
           "person_0",
           "in/person_0/1280.jpg",
           2.4331537882486978
          ],
          [
           654,
           "person_0",
           "in/person_0/735.jpg",
           6.432144165039063
          ],
          [
           663,
           "person_0",
           "in/person_0/487.jpg",
           9.075271606445312
          ],
          [
           666,
           "person_0",
           "in/person_0/766.jpg",
           5.702812194824219
          ],
          [
           668,
           "person_0",
           "in/person_0/860.jpg",
           9.855636596679688
          ],
          [
           684,
           "person_0",
           "in/person_0/668.jpg",
           3.074989318847656
          ],
          [
           691,
           "person_0",
           "in/person_0/724.jpg",
           5.668037414550781
          ],
          [
           694,
           "person_0",
           "in/person_0/692.jpg",
           4.110939025878906
          ],
          [
           695,
           "person_0",
           "in/person_0/798.jpg",
           4.659576416015625
          ],
          [
           701,
           "person_0",
           "in/person_0/689.jpg",
           2.977307637532552
          ],
          [
           711,
           "person_0",
           "in/person_0/535.jpg",
           8.971468607584635
          ],
          [
           718,
           "person_0",
           "in/person_0/503.jpg",
           7.0034739176432295
          ],
          [
           721,
           "person_0",
           "in/person_0/658.jpg",
           5.600997924804688
          ],
          [
           722,
           "person_0",
           "in/person_0/718.jpg",
           6.183443705240886
          ],
          [
           728,
           "person_0",
           "in/person_0/493.jpg",
           8.22973378499349
          ],
          [
           729,
           "person_0",
           "in/person_0/1302.jpg",
           9.85620625813802
          ],
          [
           730,
           "person_0",
           "in/person_0/748.jpg",
           7.490203857421875
          ],
          [
           731,
           "person_0",
           "in/person_0/498.jpg",
           7.570607503255208
          ],
          [
           736,
           "person_0",
           "in/person_0/525.jpg",
           9.518043518066406
          ],
          [
           737,
           "person_0",
           "in/person_0/518.jpg",
           7.1464385986328125
          ],
          [
           740,
           "person_0",
           "in/person_0/1287.jpg",
           2.319086710611979
          ],
          [
           741,
           "person_0",
           "in/person_0/752.jpg",
           6.187464396158855
          ],
          [
           743,
           "person_0",
           "in/person_0/513.jpg",
           7.315330505371094
          ],
          [
           747,
           "person_0",
           "in/person_0/780.jpg",
           6.068066914876302
          ],
          [
           749,
           "person_0",
           "in/person_0/694.jpg",
           6.431109110514323
          ],
          [
           752,
           "person_0",
           "in/person_0/790.jpg",
           5.996648152669271
          ],
          [
           759,
           "person_0",
           "in/person_0/529.jpg",
           9.075632731119793
          ],
          [
           768,
           "person_0",
           "in/person_0/1295.jpg",
           3.288398742675781
          ],
          [
           772,
           "person_0",
           "in/person_0/1275.jpg",
           4.514714558919271
          ],
          [
           779,
           "person_0",
           "in/person_0/772.jpg",
           4.840240478515625
          ],
          [
           782,
           "person_0",
           "in/person_0/684.jpg",
           3.00884755452474
          ],
          [
           783,
           "person_0",
           "in/person_0/679.jpg",
           4.3601938883463545
          ],
          [
           784,
           "person_0",
           "in/person_0/710.jpg",
           9.681048075358072
          ],
          [
           785,
           "person_0",
           "in/person_0/92.jpg",
           8.714129130045572
          ],
          [
           788,
           "person_0",
           "in/person_0/85.jpg",
           9.836563110351562
          ],
          [
           791,
           "person_0",
           "in/person_0/760.jpg",
           5.654894510904948
          ],
          [
           792,
           "person_0",
           "in/person_0/509.jpg",
           7.260714213053386
          ],
          [
           794,
           "person_0",
           "in/person_0/712.jpg",
           8.86041514078776
          ],
          [
           798,
           "person_0",
           "in/person_0/672.jpg",
           3.350532531738281
          ],
          [
           799,
           "person_0",
           "in/person_0/95.jpg",
           8.856267293294271
          ],
          [
           802,
           "person_0",
           "in/person_0/714.jpg",
           6.6727549235026045
          ],
          [
           811,
           "person_0",
           "in/person_0/89.jpg",
           9.55700174967448
          ],
          [
           814,
           "person_0",
           "in/person_0/742.jpg",
           7.175610860188802
          ],
          [
           815,
           "person_0",
           "in/person_0/663.jpg",
           3.9444656372070312
          ],
          [
           817,
           "person_0",
           "in/person_0/815.jpg",
           8.061757405598959
          ],
          [
           823,
           "person_0",
           "in/person_0/730.jpg",
           5.915008544921875
          ],
          [
           824,
           "person_0",
           "in/person_0/1399.jpg",
           4.39892069498698
          ]
         ],
         "hovertemplate": "labels=%{customdata[1]}<br>tx_magface=%{x}<br>ty_magface=%{y}<br>index=%{customdata[0]}<br>path=%{customdata[2]}<br>alignment_error=%{customdata[3]}<extra></extra>",
         "legendgroup": "person_0",
         "marker": {
          "color": "#6C4516",
          "symbol": "circle"
         },
         "mode": "markers",
         "name": "person_0",
         "orientation": "v",
         "showlegend": true,
         "type": "scatter",
         "x": [
          0.9487813115119934,
          0.9387497305870056,
          0.9683156609535217,
          0.8658327460289001,
          0.8743637800216675,
          0.9264875054359436,
          0.9799574017524719,
          0.8934684991836548,
          0.9799238443374634,
          0.9366987943649292,
          0.9425424933433533,
          0.9863226413726807,
          0.9450719952583313,
          0.9680721759796143,
          0.941356897354126,
          0.8672019839286804,
          0.8971267938613892,
          0.9319071173667908,
          0.981935441493988,
          0.9014942646026611,
          0.8967292904853821,
          0.9738940000534058,
          0.8956834673881531,
          0.8771907091140747,
          0.8996102213859558,
          0.9265511631965637,
          0.9763352274894714,
          0.8969002962112427,
          0.9843341112136841,
          0.9414130449295044,
          0.9715394973754883,
          0.8715238571166992,
          0.9243293404579163,
          0.9294347167015076,
          0.9857180118560791,
          0.9355014562606812,
          0.9481780529022217,
          0.9685214161872864,
          0.877937912940979,
          0.8743495941162109,
          0.9798558950424194,
          0.8928221464157104,
          0.9679243564605713,
          0.9501959085464478,
          0.8773004412651062,
          0.9712269306182861,
          0.8773872256278992,
          0.9724024534225464,
          0.9357760548591614,
          0.9658244252204895,
          0.9850099086761475,
          1
         ],
         "xaxis": "x",
         "y": [
          0.6060656905174255,
          0.6391003131866455,
          0.6477369666099548,
          0.5913358330726624,
          0.5603801608085632,
          0.678594172000885,
          0.5949293375015259,
          0.6185107231140137,
          0.6324924826622009,
          0.638500988483429,
          0.6090952754020691,
          0.5851486921310425,
          0.5821904540061951,
          0.6460426449775696,
          0.5823618769645691,
          0.5967782139778137,
          0.6218793988227844,
          0.6104257702827454,
          0.5779556632041931,
          0.6189984679222107,
          0.6534293293952942,
          0.6179355978965759,
          0.6241902112960815,
          0.6122131943702698,
          0.6105998158454895,
          0.678919792175293,
          0.6201276183128357,
          0.6091193556785583,
          0.6448976397514343,
          0.5840843319892883,
          0.6485127806663513,
          0.6104270815849304,
          0.6776915788650513,
          0.6788603663444519,
          0.6406553983688354,
          0.5778724551200867,
          0.6096585392951965,
          0.5686151385307312,
          0.5757468938827515,
          0.5789832472801208,
          0.6232956647872925,
          0.6246245503425598,
          0.5720120668411255,
          0.6062758564949036,
          0.5785637497901917,
          0.5732648372650146,
          0.5739721655845642,
          0.5965843200683594,
          0.6107642650604248,
          0.6572616696357727,
          0.5885330438613892,
          0.6074095368385315
         ],
         "yaxis": "y"
        },
        {
         "customdata": [
          [
           827,
           "person_14",
           "in/person_14/877.jpg",
           5.515129089355469
          ],
          [
           828,
           "person_14",
           "in/person_14/474.jpg",
           7.757301330566406
          ],
          [
           829,
           "person_14",
           "in/person_14/889.jpg",
           7.977874755859375
          ]
         ],
         "hovertemplate": "labels=%{customdata[1]}<br>tx_magface=%{x}<br>ty_magface=%{y}<br>index=%{customdata[0]}<br>path=%{customdata[2]}<br>alignment_error=%{customdata[3]}<extra></extra>",
         "legendgroup": "person_14",
         "marker": {
          "color": "#0D2A63",
          "symbol": "circle"
         },
         "mode": "markers",
         "name": "person_14",
         "orientation": "v",
         "showlegend": true,
         "type": "scatter",
         "x": [
          0.23885078728199005,
          0.24054434895515442,
          0.2387198507785797
         ],
         "xaxis": "x",
         "y": [
          0.5321966409683228,
          0.5311398506164551,
          0.5324703454971313
         ],
         "yaxis": "y"
        },
        {
         "customdata": [
          [
           834,
           "person_19",
           "in/person_19/944.jpg",
           5.242477416992188
          ],
          [
           836,
           "person_19",
           "in/person_19/922.jpg",
           7.772816975911458
          ],
          [
           837,
           "person_19",
           "in/person_19/863.jpg",
           2.135218302408854
          ],
          [
           839,
           "person_19",
           "in/person_19/756.jpg",
           6.811505635579427
          ],
          [
           841,
           "person_19",
           "in/person_19/767.jpg",
           4.117073059082031
          ],
          [
           846,
           "person_19",
           "in/person_19/810.jpg",
           5.389915466308594
          ],
          [
           847,
           "person_19",
           "in/person_19/876.jpg",
           2.872884114583333
          ],
          [
           848,
           "person_19",
           "in/person_19/750.jpg",
           7.055684407552083
          ],
          [
           854,
           "person_19",
           "in/person_19/715.jpg",
           5.561907450358073
          ],
          [
           855,
           "person_19",
           "in/person_19/937.jpg",
           4.928853352864583
          ],
          [
           856,
           "person_19",
           "in/person_19/962.jpg",
           1.4883804321289062
          ],
          [
           861,
           "person_19",
           "in/person_19/726.jpg",
           5.693776448567708
          ],
          [
           863,
           "person_19",
           "in/person_19/954.jpg",
           5.46124267578125
          ],
          [
           865,
           "person_19",
           "in/person_19/738.jpg",
           5.7140045166015625
          ],
          [
           866,
           "person_19",
           "in/person_19/745.jpg",
           4.9754486083984375
          ],
          [
           868,
           "person_19",
           "in/person_19/801.jpg",
           6.25976053873698
          ],
          [
           869,
           "person_19",
           "in/person_19/853.jpg",
           2.5560531616210938
          ],
          [
           870,
           "person_19",
           "in/person_19/821.jpg",
           3.3508504231770835
          ],
          [
           872,
           "person_19",
           "in/person_19/775.jpg",
           7.342913309733073
          ],
          [
           874,
           "person_19",
           "in/person_19/713.jpg",
           6.489163716634114
          ],
          [
           875,
           "person_19",
           "in/person_19/720.jpg",
           5.695960998535156
          ],
          [
           877,
           "person_19",
           "in/person_19/732.jpg",
           6.269012451171875
          ],
          [
           879,
           "person_19",
           "in/person_19/784.jpg",
           7.165458679199219
          ],
          [
           880,
           "person_19",
           "in/person_19/763.jpg",
           7.1607920328776045
          ],
          [
           883,
           "person_19",
           "in/person_19/893.jpg",
           6.918276468912761
          ],
          [
           885,
           "person_19",
           "in/person_19/831.jpg",
           3.0760904947916665
          ],
          [
           886,
           "person_19",
           "in/person_19/792.jpg",
           7.233141581217448
          ],
          [
           887,
           "person_19",
           "in/person_19/711.jpg",
           9.788914998372396
          ],
          [
           888,
           "person_19",
           "in/person_19/754.jpg",
           9.721997578938804
          ],
          [
           889,
           "person_19",
           "in/person_19/761.jpg",
           4.983418782552083
          ],
          [
           891,
           "person_19",
           "in/person_19/841.jpg",
           2.666572570800781
          ],
          [
           895,
           "person_19",
           "in/person_19/768.jpg",
           7.4912261962890625
          ]
         ],
         "hovertemplate": "labels=%{customdata[1]}<br>tx_magface=%{x}<br>ty_magface=%{y}<br>index=%{customdata[0]}<br>path=%{customdata[2]}<br>alignment_error=%{customdata[3]}<extra></extra>",
         "legendgroup": "person_19",
         "marker": {
          "color": "#AF0038",
          "symbol": "circle"
         },
         "mode": "markers",
         "name": "person_19",
         "orientation": "v",
         "showlegend": true,
         "type": "scatter",
         "x": [
          0.21453018486499786,
          0.20456823706626892,
          0.2214636504650116,
          0.2622288167476654,
          0.2944753170013428,
          0.23092304170131683,
          0.23746809363365173,
          0.26087671518325806,
          0.26471513509750366,
          0.20473435521125793,
          0.20855160057544708,
          0.2604907751083374,
          0.2112654447555542,
          0.2466380000114441,
          0.2686944901943207,
          0.23731060326099396,
          0.22474561631679535,
          0.22747446596622467,
          0.24967914819717407,
          0.2617943286895752,
          0.26645326614379883,
          0.25337961316108704,
          0.24848920106887817,
          0.25817298889160156,
          0.23355180025100708,
          0.22513259947299957,
          0.23984335362911224,
          0.24853159487247467,
          0.2840675115585327,
          0.2932891845703125,
          0.2205316424369812,
          0.25061923265457153
         ],
         "xaxis": "x",
         "y": [
          0.0363285131752491,
          0.05131860449910164,
          0.06826812028884888,
          0.04664522036910057,
          0.10275918245315552,
          0.06610088795423508,
          0.03493586182594299,
          0.05894264206290245,
          0.08823506534099579,
          0.05827103555202484,
          0.08430419862270355,
          0.08705738931894302,
          0.03605825826525688,
          0.07942961901426315,
          0.060031600296497345,
          0.05595891550183296,
          0.06578551977872849,
          0.056857988238334656,
          0.0548991858959198,
          0.09383819252252579,
          0.08075384050607681,
          0.08073211461305618,
          0.06005299463868141,
          0.0437723807990551,
          0.02748681977391243,
          0.053850576281547546,
          0.06733302772045135,
          0.09512598067522049,
          0.09740373492240906,
          0.10215811431407928,
          0.06124899536371231,
          0.05965419113636017
         ],
         "yaxis": "y"
        }
       ],
       "layout": {
        "legend": {
         "title": {
          "text": "labels"
         },
         "tracegroupgap": 0
        },
        "margin": {
         "t": 60
        },
        "template": {
         "data": {
          "bar": [
           {
            "error_x": {
             "color": "#2a3f5f"
            },
            "error_y": {
             "color": "#2a3f5f"
            },
            "marker": {
             "line": {
              "color": "#E5ECF6",
              "width": 0.5
             },
             "pattern": {
              "fillmode": "overlay",
              "size": 10,
              "solidity": 0.2
             }
            },
            "type": "bar"
           }
          ],
          "barpolar": [
           {
            "marker": {
             "line": {
              "color": "#E5ECF6",
              "width": 0.5
             },
             "pattern": {
              "fillmode": "overlay",
              "size": 10,
              "solidity": 0.2
             }
            },
            "type": "barpolar"
           }
          ],
          "carpet": [
           {
            "aaxis": {
             "endlinecolor": "#2a3f5f",
             "gridcolor": "white",
             "linecolor": "white",
             "minorgridcolor": "white",
             "startlinecolor": "#2a3f5f"
            },
            "baxis": {
             "endlinecolor": "#2a3f5f",
             "gridcolor": "white",
             "linecolor": "white",
             "minorgridcolor": "white",
             "startlinecolor": "#2a3f5f"
            },
            "type": "carpet"
           }
          ],
          "choropleth": [
           {
            "colorbar": {
             "outlinewidth": 0,
             "ticks": ""
            },
            "type": "choropleth"
           }
          ],
          "contour": [
           {
            "colorbar": {
             "outlinewidth": 0,
             "ticks": ""
            },
            "colorscale": [
             [
              0,
              "#0d0887"
             ],
             [
              0.1111111111111111,
              "#46039f"
             ],
             [
              0.2222222222222222,
              "#7201a8"
             ],
             [
              0.3333333333333333,
              "#9c179e"
             ],
             [
              0.4444444444444444,
              "#bd3786"
             ],
             [
              0.5555555555555556,
              "#d8576b"
             ],
             [
              0.6666666666666666,
              "#ed7953"
             ],
             [
              0.7777777777777778,
              "#fb9f3a"
             ],
             [
              0.8888888888888888,
              "#fdca26"
             ],
             [
              1,
              "#f0f921"
             ]
            ],
            "type": "contour"
           }
          ],
          "contourcarpet": [
           {
            "colorbar": {
             "outlinewidth": 0,
             "ticks": ""
            },
            "type": "contourcarpet"
           }
          ],
          "heatmap": [
           {
            "colorbar": {
             "outlinewidth": 0,
             "ticks": ""
            },
            "colorscale": [
             [
              0,
              "#0d0887"
             ],
             [
              0.1111111111111111,
              "#46039f"
             ],
             [
              0.2222222222222222,
              "#7201a8"
             ],
             [
              0.3333333333333333,
              "#9c179e"
             ],
             [
              0.4444444444444444,
              "#bd3786"
             ],
             [
              0.5555555555555556,
              "#d8576b"
             ],
             [
              0.6666666666666666,
              "#ed7953"
             ],
             [
              0.7777777777777778,
              "#fb9f3a"
             ],
             [
              0.8888888888888888,
              "#fdca26"
             ],
             [
              1,
              "#f0f921"
             ]
            ],
            "type": "heatmap"
           }
          ],
          "heatmapgl": [
           {
            "colorbar": {
             "outlinewidth": 0,
             "ticks": ""
            },
            "colorscale": [
             [
              0,
              "#0d0887"
             ],
             [
              0.1111111111111111,
              "#46039f"
             ],
             [
              0.2222222222222222,
              "#7201a8"
             ],
             [
              0.3333333333333333,
              "#9c179e"
             ],
             [
              0.4444444444444444,
              "#bd3786"
             ],
             [
              0.5555555555555556,
              "#d8576b"
             ],
             [
              0.6666666666666666,
              "#ed7953"
             ],
             [
              0.7777777777777778,
              "#fb9f3a"
             ],
             [
              0.8888888888888888,
              "#fdca26"
             ],
             [
              1,
              "#f0f921"
             ]
            ],
            "type": "heatmapgl"
           }
          ],
          "histogram": [
           {
            "marker": {
             "pattern": {
              "fillmode": "overlay",
              "size": 10,
              "solidity": 0.2
             }
            },
            "type": "histogram"
           }
          ],
          "histogram2d": [
           {
            "colorbar": {
             "outlinewidth": 0,
             "ticks": ""
            },
            "colorscale": [
             [
              0,
              "#0d0887"
             ],
             [
              0.1111111111111111,
              "#46039f"
             ],
             [
              0.2222222222222222,
              "#7201a8"
             ],
             [
              0.3333333333333333,
              "#9c179e"
             ],
             [
              0.4444444444444444,
              "#bd3786"
             ],
             [
              0.5555555555555556,
              "#d8576b"
             ],
             [
              0.6666666666666666,
              "#ed7953"
             ],
             [
              0.7777777777777778,
              "#fb9f3a"
             ],
             [
              0.8888888888888888,
              "#fdca26"
             ],
             [
              1,
              "#f0f921"
             ]
            ],
            "type": "histogram2d"
           }
          ],
          "histogram2dcontour": [
           {
            "colorbar": {
             "outlinewidth": 0,
             "ticks": ""
            },
            "colorscale": [
             [
              0,
              "#0d0887"
             ],
             [
              0.1111111111111111,
              "#46039f"
             ],
             [
              0.2222222222222222,
              "#7201a8"
             ],
             [
              0.3333333333333333,
              "#9c179e"
             ],
             [
              0.4444444444444444,
              "#bd3786"
             ],
             [
              0.5555555555555556,
              "#d8576b"
             ],
             [
              0.6666666666666666,
              "#ed7953"
             ],
             [
              0.7777777777777778,
              "#fb9f3a"
             ],
             [
              0.8888888888888888,
              "#fdca26"
             ],
             [
              1,
              "#f0f921"
             ]
            ],
            "type": "histogram2dcontour"
           }
          ],
          "mesh3d": [
           {
            "colorbar": {
             "outlinewidth": 0,
             "ticks": ""
            },
            "type": "mesh3d"
           }
          ],
          "parcoords": [
           {
            "line": {
             "colorbar": {
              "outlinewidth": 0,
              "ticks": ""
             }
            },
            "type": "parcoords"
           }
          ],
          "pie": [
           {
            "automargin": true,
            "type": "pie"
           }
          ],
          "scatter": [
           {
            "fillpattern": {
             "fillmode": "overlay",
             "size": 10,
             "solidity": 0.2
            },
            "type": "scatter"
           }
          ],
          "scatter3d": [
           {
            "line": {
             "colorbar": {
              "outlinewidth": 0,
              "ticks": ""
             }
            },
            "marker": {
             "colorbar": {
              "outlinewidth": 0,
              "ticks": ""
             }
            },
            "type": "scatter3d"
           }
          ],
          "scattercarpet": [
           {
            "marker": {
             "colorbar": {
              "outlinewidth": 0,
              "ticks": ""
             }
            },
            "type": "scattercarpet"
           }
          ],
          "scattergeo": [
           {
            "marker": {
             "colorbar": {
              "outlinewidth": 0,
              "ticks": ""
             }
            },
            "type": "scattergeo"
           }
          ],
          "scattergl": [
           {
            "marker": {
             "colorbar": {
              "outlinewidth": 0,
              "ticks": ""
             }
            },
            "type": "scattergl"
           }
          ],
          "scattermapbox": [
           {
            "marker": {
             "colorbar": {
              "outlinewidth": 0,
              "ticks": ""
             }
            },
            "type": "scattermapbox"
           }
          ],
          "scatterpolar": [
           {
            "marker": {
             "colorbar": {
              "outlinewidth": 0,
              "ticks": ""
             }
            },
            "type": "scatterpolar"
           }
          ],
          "scatterpolargl": [
           {
            "marker": {
             "colorbar": {
              "outlinewidth": 0,
              "ticks": ""
             }
            },
            "type": "scatterpolargl"
           }
          ],
          "scatterternary": [
           {
            "marker": {
             "colorbar": {
              "outlinewidth": 0,
              "ticks": ""
             }
            },
            "type": "scatterternary"
           }
          ],
          "surface": [
           {
            "colorbar": {
             "outlinewidth": 0,
             "ticks": ""
            },
            "colorscale": [
             [
              0,
              "#0d0887"
             ],
             [
              0.1111111111111111,
              "#46039f"
             ],
             [
              0.2222222222222222,
              "#7201a8"
             ],
             [
              0.3333333333333333,
              "#9c179e"
             ],
             [
              0.4444444444444444,
              "#bd3786"
             ],
             [
              0.5555555555555556,
              "#d8576b"
             ],
             [
              0.6666666666666666,
              "#ed7953"
             ],
             [
              0.7777777777777778,
              "#fb9f3a"
             ],
             [
              0.8888888888888888,
              "#fdca26"
             ],
             [
              1,
              "#f0f921"
             ]
            ],
            "type": "surface"
           }
          ],
          "table": [
           {
            "cells": {
             "fill": {
              "color": "#EBF0F8"
             },
             "line": {
              "color": "white"
             }
            },
            "header": {
             "fill": {
              "color": "#C8D4E3"
             },
             "line": {
              "color": "white"
             }
            },
            "type": "table"
           }
          ]
         },
         "layout": {
          "annotationdefaults": {
           "arrowcolor": "#2a3f5f",
           "arrowhead": 0,
           "arrowwidth": 1
          },
          "autotypenumbers": "strict",
          "coloraxis": {
           "colorbar": {
            "outlinewidth": 0,
            "ticks": ""
           }
          },
          "colorscale": {
           "diverging": [
            [
             0,
             "#8e0152"
            ],
            [
             0.1,
             "#c51b7d"
            ],
            [
             0.2,
             "#de77ae"
            ],
            [
             0.3,
             "#f1b6da"
            ],
            [
             0.4,
             "#fde0ef"
            ],
            [
             0.5,
             "#f7f7f7"
            ],
            [
             0.6,
             "#e6f5d0"
            ],
            [
             0.7,
             "#b8e186"
            ],
            [
             0.8,
             "#7fbc41"
            ],
            [
             0.9,
             "#4d9221"
            ],
            [
             1,
             "#276419"
            ]
           ],
           "sequential": [
            [
             0,
             "#0d0887"
            ],
            [
             0.1111111111111111,
             "#46039f"
            ],
            [
             0.2222222222222222,
             "#7201a8"
            ],
            [
             0.3333333333333333,
             "#9c179e"
            ],
            [
             0.4444444444444444,
             "#bd3786"
            ],
            [
             0.5555555555555556,
             "#d8576b"
            ],
            [
             0.6666666666666666,
             "#ed7953"
            ],
            [
             0.7777777777777778,
             "#fb9f3a"
            ],
            [
             0.8888888888888888,
             "#fdca26"
            ],
            [
             1,
             "#f0f921"
            ]
           ],
           "sequentialminus": [
            [
             0,
             "#0d0887"
            ],
            [
             0.1111111111111111,
             "#46039f"
            ],
            [
             0.2222222222222222,
             "#7201a8"
            ],
            [
             0.3333333333333333,
             "#9c179e"
            ],
            [
             0.4444444444444444,
             "#bd3786"
            ],
            [
             0.5555555555555556,
             "#d8576b"
            ],
            [
             0.6666666666666666,
             "#ed7953"
            ],
            [
             0.7777777777777778,
             "#fb9f3a"
            ],
            [
             0.8888888888888888,
             "#fdca26"
            ],
            [
             1,
             "#f0f921"
            ]
           ]
          },
          "colorway": [
           "#636efa",
           "#EF553B",
           "#00cc96",
           "#ab63fa",
           "#FFA15A",
           "#19d3f3",
           "#FF6692",
           "#B6E880",
           "#FF97FF",
           "#FECB52"
          ],
          "font": {
           "color": "#2a3f5f"
          },
          "geo": {
           "bgcolor": "white",
           "lakecolor": "white",
           "landcolor": "#E5ECF6",
           "showlakes": true,
           "showland": true,
           "subunitcolor": "white"
          },
          "hoverlabel": {
           "align": "left"
          },
          "hovermode": "closest",
          "mapbox": {
           "style": "light"
          },
          "paper_bgcolor": "white",
          "plot_bgcolor": "#E5ECF6",
          "polar": {
           "angularaxis": {
            "gridcolor": "white",
            "linecolor": "white",
            "ticks": ""
           },
           "bgcolor": "#E5ECF6",
           "radialaxis": {
            "gridcolor": "white",
            "linecolor": "white",
            "ticks": ""
           }
          },
          "scene": {
           "xaxis": {
            "backgroundcolor": "#E5ECF6",
            "gridcolor": "white",
            "gridwidth": 2,
            "linecolor": "white",
            "showbackground": true,
            "ticks": "",
            "zerolinecolor": "white"
           },
           "yaxis": {
            "backgroundcolor": "#E5ECF6",
            "gridcolor": "white",
            "gridwidth": 2,
            "linecolor": "white",
            "showbackground": true,
            "ticks": "",
            "zerolinecolor": "white"
           },
           "zaxis": {
            "backgroundcolor": "#E5ECF6",
            "gridcolor": "white",
            "gridwidth": 2,
            "linecolor": "white",
            "showbackground": true,
            "ticks": "",
            "zerolinecolor": "white"
           }
          },
          "shapedefaults": {
           "line": {
            "color": "#2a3f5f"
           }
          },
          "ternary": {
           "aaxis": {
            "gridcolor": "white",
            "linecolor": "white",
            "ticks": ""
           },
           "baxis": {
            "gridcolor": "white",
            "linecolor": "white",
            "ticks": ""
           },
           "bgcolor": "#E5ECF6",
           "caxis": {
            "gridcolor": "white",
            "linecolor": "white",
            "ticks": ""
           }
          },
          "title": {
           "x": 0.05
          },
          "xaxis": {
           "automargin": true,
           "gridcolor": "white",
           "linecolor": "white",
           "ticks": "",
           "title": {
            "standoff": 15
           },
           "zerolinecolor": "white",
           "zerolinewidth": 2
          },
          "yaxis": {
           "automargin": true,
           "gridcolor": "white",
           "linecolor": "white",
           "ticks": "",
           "title": {
            "standoff": 15
           },
           "zerolinecolor": "white",
           "zerolinewidth": 2
          }
         }
        },
        "xaxis": {
         "anchor": "y",
         "domain": [
          0,
          1
         ],
         "title": {
          "text": "tx_magface"
         }
        },
        "yaxis": {
         "anchor": "x",
         "domain": [
          0,
          1
         ],
         "title": {
          "text": "ty_magface"
         }
        }
       }
      },
      "text/html": [
       "<div>                            <div id=\"7a43f04e-236b-4d32-bb70-f07339d644cb\" class=\"plotly-graph-div\" style=\"height:525px; width:100%;\"></div>            <script type=\"text/javascript\">                require([\"plotly\"], function(Plotly) {                    window.PLOTLYENV=window.PLOTLYENV || {};                                    if (document.getElementById(\"7a43f04e-236b-4d32-bb70-f07339d644cb\")) {                    Plotly.newPlot(                        \"7a43f04e-236b-4d32-bb70-f07339d644cb\",                        [{\"customdata\":[[14,\"person_27\",\"in/person_27/943.jpg\",2.9810358683268228],[35,\"person_27\",\"in/person_27/951.jpg\",7.899172465006511]],\"hovertemplate\":\"labels=%{customdata[1]}<br>tx_magface=%{x}<br>ty_magface=%{y}<br>index=%{customdata[0]}<br>path=%{customdata[2]}<br>alignment_error=%{customdata[3]}<extra></extra>\",\"legendgroup\":\"person_27\",\"marker\":{\"color\":\"#2E91E5\",\"symbol\":\"circle\"},\"mode\":\"markers\",\"name\":\"person_27\",\"orientation\":\"v\",\"showlegend\":true,\"x\":[0.5473688244819641,0.547563374042511],\"xaxis\":\"x\",\"y\":[0.4250628650188446,0.42573097348213196],\"yaxis\":\"y\",\"type\":\"scatter\"},{\"customdata\":[[40,\"person_12\",\"in/person_12/476.jpg\",0.4232762654622395],[41,\"person_12\",\"in/person_12/494.jpg\",7.251141866048177],[42,\"person_12\",\"in/person_12/592.jpg\",8.43994394938151],[44,\"person_12\",\"in/person_12/585.jpg\",8.118565877278646],[46,\"person_12\",\"in/person_12/486.jpg\",-1.8175684611002605],[47,\"person_12\",\"in/person_12/516.jpg\",1.2816874186197915],[48,\"person_12\",\"in/person_12/480.jpg\",0.8033727010091146],[49,\"person_12\",\"in/person_12/443.jpg\",3.320551554361979],[50,\"person_12\",\"in/person_12/617.jpg\",7.864626566569011],[51,\"person_12\",\"in/person_12/510.jpg\",2.5279719034830728],[52,\"person_12\",\"in/person_12/495.jpg\",3.239756266276041],[53,\"person_12\",\"in/person_12/572.jpg\",5.463826497395833],[54,\"person_12\",\"in/person_12/540.jpg\",1.528411865234375],[57,\"person_12\",\"in/person_12/454.jpg\",1.7810872395833333],[59,\"person_12\",\"in/person_12/553.jpg\",1.90362548828125],[62,\"person_12\",\"in/person_12/440.jpg\",3.4744135538736978],[63,\"person_12\",\"in/person_12/463.jpg\",0.8574879964192709],[65,\"person_12\",\"in/person_12/472.jpg\",-0.4162063598632812],[66,\"person_12\",\"in/person_12/604.jpg\",8.270991007486979],[69,\"person_12\",\"in/person_12/521.jpg\",0.2968012491861979],[70,\"person_12\",\"in/person_12/567.jpg\",3.504096984863281],[71,\"person_12\",\"in/person_12/508.jpg\",9.775377909342447],[72,\"person_12\",\"in/person_12/449.jpg\",4.5519053141276045],[75,\"person_12\",\"in/person_12/528.jpg\",0.2398808797200521],[77,\"person_12\",\"in/person_12/504.jpg\",4.114219665527344],[78,\"person_12\",\"in/person_12/623.jpg\",7.7812143961588545],[79,\"person_12\",\"in/person_12/546.jpg\",0.9495569864908854],[83,\"person_12\",\"in/person_12/579.jpg\",7.714235941569011],[87,\"person_12\",\"in/person_12/459.jpg\",0.3160374959309895],[88,\"person_12\",\"in/person_12/533.jpg\",1.2022298177083333],[89,\"person_12\",\"in/person_12/610.jpg\",7.586682637532552],[90,\"person_12\",\"in/person_12/491.jpg\",-0.3314310709635417],[92,\"person_12\",\"in/person_12/461.jpg\",-0.1225128173828125],[95,\"person_12\",\"in/person_12/500.jpg\",4.519317626953125],[97,\"person_12\",\"in/person_12/452.jpg\",4.635106404622396],[100,\"person_12\",\"in/person_12/599.jpg\",8.391713460286459],[101,\"person_12\",\"in/person_12/446.jpg\",3.6756184895833335],[103,\"person_12\",\"in/person_12/560.jpg\",1.752337137858073],[105,\"person_12\",\"in/person_12/468.jpg\",-0.2003224690755208],[108,\"person_12\",\"in/person_12/570.jpg\",9.941548665364584],[109,\"person_12\",\"in/person_12/488.jpg\",7.642931620279948],[110,\"person_12\",\"in/person_12/457.jpg\",2.2299346923828125]],\"hovertemplate\":\"labels=%{customdata[1]}<br>tx_magface=%{x}<br>ty_magface=%{y}<br>index=%{customdata[0]}<br>path=%{customdata[2]}<br>alignment_error=%{customdata[3]}<extra></extra>\",\"legendgroup\":\"person_12\",\"marker\":{\"color\":\"#E15F99\",\"symbol\":\"circle\"},\"mode\":\"markers\",\"name\":\"person_12\",\"orientation\":\"v\",\"showlegend\":true,\"x\":[0.015253364108502865,0.07539371401071548,0.03234584257006645,0.03205292671918869,0.046421874314546585,0.043523117899894714,0.018783459439873695,0.0048820581287145615,0.016932105645537376,0.03879307210445404,0.036532845348119736,0.04744195193052292,0.05717316269874573,0.026683684438467026,0.05914292857050896,0.0,0.021236727014183998,0.01374719850718975,0.02872539311647415,0.04864303022623062,0.06347020715475082,0.06595269590616226,0.003213929943740368,0.06030387431383133,0.036948516964912415,0.01742028445005417,0.05138728767633438,0.051872383803129196,0.024686520919203758,0.05748674273490906,0.018974976614117622,0.036416489630937576,0.024096248671412468,0.032902348786592484,0.00972835998982191,0.03221382945775986,0.0022930295672267675,0.06577984988689423,0.01248873956501484,0.06553865224123001,0.07553903013467789,0.026026874780654907],\"xaxis\":\"x\",\"y\":[0.95656418800354,0.8781676292419434,0.9131542444229126,0.9133704900741577,0.9890176653862,0.9832795858383179,0.9507817625999451,0.9761976003646851,0.9000362157821655,0.9607015252113342,0.9770206809043884,0.9360021948814392,0.9612135887145996,1.0,0.9523392915725708,0.969966471195221,0.9670652747154236,0.9500994086265564,0.8996953964233398,0.9707616567611694,0.9432858824729919,0.8908541202545166,0.9968050122261047,0.9706472158432007,0.9473309516906738,0.907651960849762,0.9516274333000183,0.9319223761558533,0.9911365509033203,0.9681708216667175,0.9014310240745544,0.965073823928833,0.9823569059371948,0.9518899917602539,0.9916757345199585,0.903577446937561,0.9846352338790894,0.9494628310203552,0.9511988759040833,0.8892426490783691,0.8778027296066284,0.9729228019714355],\"yaxis\":\"y\",\"type\":\"scatter\"},{\"customdata\":[[111,\"person_39\",\"in/person_39/1402.jpg\",5.444775899251302]],\"hovertemplate\":\"labels=%{customdata[1]}<br>tx_magface=%{x}<br>ty_magface=%{y}<br>index=%{customdata[0]}<br>path=%{customdata[2]}<br>alignment_error=%{customdata[3]}<extra></extra>\",\"legendgroup\":\"person_39\",\"marker\":{\"color\":\"#1CA71C\",\"symbol\":\"circle\"},\"mode\":\"markers\",\"name\":\"person_39\",\"orientation\":\"v\",\"showlegend\":true,\"x\":[0.061798062175512314],\"xaxis\":\"x\",\"y\":[0.3469974398612976],\"yaxis\":\"y\",\"type\":\"scatter\"},{\"customdata\":[[112,\"person_16\",\"in/person_16/590.jpg\",4.347554524739583],[113,\"person_16\",\"in/person_16/654.jpg\",6.33800760904948],[120,\"person_16\",\"in/person_16/646.jpg\",1.409472147623698],[125,\"person_16\",\"in/person_16/577.jpg\",1.578460693359375],[126,\"person_16\",\"in/person_16/539.jpg\",3.548365275065104],[128,\"person_16\",\"in/person_16/597.jpg\",3.7531585693359375],[130,\"person_16\",\"in/person_16/1055.jpg\",9.695543924967447],[132,\"person_16\",\"in/person_16/1046.jpg\",8.429845174153646],[134,\"person_16\",\"in/person_16/559.jpg\",1.6759694417317708],[135,\"person_16\",\"in/person_16/634.jpg\",4.474533081054688],[136,\"person_16\",\"in/person_16/564.jpg\",2.423070271809896]],\"hovertemplate\":\"labels=%{customdata[1]}<br>tx_magface=%{x}<br>ty_magface=%{y}<br>index=%{customdata[0]}<br>path=%{customdata[2]}<br>alignment_error=%{customdata[3]}<extra></extra>\",\"legendgroup\":\"person_16\",\"marker\":{\"color\":\"#FB0D0D\",\"symbol\":\"circle\"},\"mode\":\"markers\",\"name\":\"person_16\",\"orientation\":\"v\",\"showlegend\":true,\"x\":[0.34222617745399475,0.33467966318130493,0.33923742175102234,0.3524526357650757,0.3367837965488434,0.34260204434394836,0.32636722922325134,0.3266342580318451,0.3518482744693756,0.33931127190589905,0.35035884380340576],\"xaxis\":\"x\",\"y\":[0.34533318877220154,0.3308749794960022,0.33636796474456787,0.359778493642807,0.363580584526062,0.3457495868206024,0.3517923057079315,0.3523232638835907,0.35806208848953247,0.3337023854255676,0.35814225673675537],\"yaxis\":\"y\",\"type\":\"scatter\"},{\"customdata\":[[144,\"person_22\",\"in/person_22/888.jpg\",5.906545003255208],[145,\"person_22\",\"in/person_22/822.jpg\",9.805567423502604],[146,\"person_22\",\"in/person_22/866.jpg\",7.965443929036458],[151,\"person_22\",\"in/person_22/938.jpg\",7.360481262207031],[152,\"person_22\",\"in/person_22/802.jpg\",5.914471944173177],[157,\"person_22\",\"in/person_22/879.jpg\",7.742368062337239],[158,\"person_22\",\"in/person_22/846.jpg\",9.114608764648438],[159,\"person_22\",\"in/person_22/794.jpg\",4.564908345540364],[160,\"person_22\",\"in/person_22/904.jpg\",3.3595174153645835],[163,\"person_22\",\"in/person_22/814.jpg\",6.822428385416667],[164,\"person_22\",\"in/person_22/924.jpg\",6.612495422363281],[165,\"person_22\",\"in/person_22/783.jpg\",4.944023132324219],[166,\"person_22\",\"in/person_22/913.jpg\",4.5740000406901045],[171,\"person_22\",\"in/person_22/779.jpg\",3.605677286783854],[173,\"person_22\",\"in/person_22/771.jpg\",7.111796061197917],[176,\"person_22\",\"in/person_22/857.jpg\",8.821642557779947]],\"hovertemplate\":\"labels=%{customdata[1]}<br>tx_magface=%{x}<br>ty_magface=%{y}<br>index=%{customdata[0]}<br>path=%{customdata[2]}<br>alignment_error=%{customdata[3]}<extra></extra>\",\"legendgroup\":\"person_22\",\"marker\":{\"color\":\"#DA16FF\",\"symbol\":\"circle\"},\"mode\":\"markers\",\"name\":\"person_22\",\"orientation\":\"v\",\"showlegend\":true,\"x\":[0.49854448437690735,0.5070827603340149,0.5006786584854126,0.4844261705875397,0.5047076940536499,0.5075571537017822,0.49728044867515564,0.5060411095619202,0.48028695583343506,0.4923252761363983,0.4831859767436981,0.5027203559875488,0.4864625334739685,0.49558666348457336,0.49503427743911743,0.49913182854652405],\"xaxis\":\"x\",\"y\":[0.2658092975616455,0.2695601284503937,0.2726576626300812,0.27421045303344727,0.25802135467529297,0.27804797887802124,0.282164067029953,0.2503642439842224,0.2596017122268677,0.2608746886253357,0.2769309878349304,0.24840930104255676,0.2669636905193329,0.24446116387844086,0.24042676389217377,0.2832449972629547],\"yaxis\":\"y\",\"type\":\"scatter\"},{\"customdata\":[[179,\"person_20\",\"in/person_20/721.jpg\",8.07818603515625],[184,\"person_20\",\"in/person_20/740.jpg\",8.915496826171875]],\"hovertemplate\":\"labels=%{customdata[1]}<br>tx_magface=%{x}<br>ty_magface=%{y}<br>index=%{customdata[0]}<br>path=%{customdata[2]}<br>alignment_error=%{customdata[3]}<extra></extra>\",\"legendgroup\":\"person_20\",\"marker\":{\"color\":\"#222A2A\",\"symbol\":\"circle\"},\"mode\":\"markers\",\"name\":\"person_20\",\"orientation\":\"v\",\"showlegend\":true,\"x\":[0.2220482975244522,0.22191691398620605],\"xaxis\":\"x\",\"y\":[0.3255715072154999,0.3254972994327545],\"yaxis\":\"y\",\"type\":\"scatter\"},{\"customdata\":[[191,\"person_11\",\"in/person_11/484.jpg\",-2.129155476888021],[192,\"person_11\",\"in/person_11/499.jpg\",3.853444417317709],[193,\"person_11\",\"in/person_11/490.jpg\",0.4719899495442708],[194,\"person_11\",\"in/person_11/414.jpg\",2.9633687337239585],[195,\"person_11\",\"in/person_11/428.jpg\",8.256304423014322],[196,\"person_11\",\"in/person_11/426.jpg\",7.904650370279948],[197,\"person_11\",\"in/person_11/417.jpg\",5.120160420735677],[198,\"person_11\",\"in/person_11/422.jpg\",6.242162068684896],[199,\"person_11\",\"in/person_11/431.jpg\",5.873067220052083],[200,\"person_11\",\"in/person_11/413.jpg\",3.9685465494791674],[201,\"person_11\",\"in/person_11/477.jpg\",9.08258056640625],[202,\"person_11\",\"in/person_11/481.jpg\",1.9197998046875],[203,\"person_11\",\"in/person_11/496.jpg\",2.17156728108724],[204,\"person_11\",\"in/person_11/424.jpg\",8.115514119466146],[205,\"person_11\",\"in/person_11/404.jpg\",4.614163716634114]],\"hovertemplate\":\"labels=%{customdata[1]}<br>tx_magface=%{x}<br>ty_magface=%{y}<br>index=%{customdata[0]}<br>path=%{customdata[2]}<br>alignment_error=%{customdata[3]}<extra></extra>\",\"legendgroup\":\"person_11\",\"marker\":{\"color\":\"#B68100\",\"symbol\":\"circle\"},\"mode\":\"markers\",\"name\":\"person_11\",\"orientation\":\"v\",\"showlegend\":true,\"x\":[0.5089331865310669,0.4982794225215912,0.5035220384597778,0.4859999418258667,0.5039182305335999,0.5040498971939087,0.4922354221343994,0.4957183599472046,0.4987484812736511,0.48622220754623413,0.5186361074447632,0.5078503489494324,0.5023710131645203,0.5020347237586975,0.5171836614608765],\"xaxis\":\"x\",\"y\":[0.4912590980529785,0.49054884910583496,0.4940323531627655,0.5222481489181519,0.5344198346138,0.5391228795051575,0.5264402627944946,0.529052734375,0.518210232257843,0.5148621201515198,0.5106348395347595,0.5034419894218445,0.49349063634872437,0.5389248728752136,0.5364173054695129],\"yaxis\":\"y\",\"type\":\"scatter\"},{\"customdata\":[[206,\"person_26\",\"in/person_26/990.jpg\",5.537689208984375],[207,\"person_26\",\"in/person_26/1102.jpg\",9.487894694010416],[209,\"person_26\",\"in/person_26/1078.jpg\",9.52886962890625],[211,\"person_26\",\"in/person_26/933.jpg\",5.618583679199219],[212,\"person_26\",\"in/person_26/920.jpg\",7.528856913248698],[215,\"person_26\",\"in/person_26/1006.jpg\",6.001665751139323],[218,\"person_26\",\"in/person_26/1040.jpg\",6.325925191243489],[219,\"person_26\",\"in/person_26/886.jpg\",7.028615315755208],[220,\"person_26\",\"in/person_26/1052.jpg\",7.471542358398437],[221,\"person_26\",\"in/person_26/1091.jpg\",7.7104848225911455],[223,\"person_26\",\"in/person_26/1027.jpg\",4.673271179199219],[224,\"person_26\",\"in/person_26/959.jpg\",5.080586751302083],[226,\"person_26\",\"in/person_26/1064.jpg\",7.95428466796875],[227,\"person_26\",\"in/person_26/875.jpg\",6.722951253255208],[231,\"person_26\",\"in/person_26/996.jpg\",6.078725179036458],[232,\"person_26\",\"in/person_26/978.jpg\",5.597719828287761],[233,\"person_26\",\"in/person_26/970.jpg\",7.356564839680989]],\"hovertemplate\":\"labels=%{customdata[1]}<br>tx_magface=%{x}<br>ty_magface=%{y}<br>index=%{customdata[0]}<br>path=%{customdata[2]}<br>alignment_error=%{customdata[3]}<extra></extra>\",\"legendgroup\":\"person_26\",\"marker\":{\"color\":\"#750D86\",\"symbol\":\"circle\"},\"mode\":\"markers\",\"name\":\"person_26\",\"orientation\":\"v\",\"showlegend\":true,\"x\":[0.5495019555091858,0.5275779366493225,0.5408855676651001,0.55487060546875,0.5589645504951477,0.5413162112236023,0.5513919591903687,0.5342699289321899,0.5587676763534546,0.5287570953369141,0.5538535118103027,0.5605937838554382,0.5541775226593018,0.5344645977020264,0.5512208342552185,0.5491721034049988,0.5584042072296143],\"xaxis\":\"x\",\"y\":[0.7001901268959045,0.7190395593643188,0.7289494872093201,0.6889985799789429,0.6832955479621887,0.6976547837257385,0.7207294702529907,0.67889803647995,0.7357282042503357,0.7197830677032471,0.7217066884040833,0.7011582255363464,0.7346299290657043,0.6794732809066772,0.7006749510765076,0.6983023881912231,0.698986291885376],\"yaxis\":\"y\",\"type\":\"scatter\"},{\"customdata\":[[236,\"person_34\",\"in/person_34/1371.jpg\",8.736663818359375],[237,\"person_34\",\"in/person_34/1281.jpg\",4.26190185546875],[238,\"person_34\",\"in/person_34/1359.jpg\",6.079327901204427],[239,\"person_34\",\"in/person_34/1322.jpg\",9.195515950520834],[241,\"person_34\",\"in/person_34/1314.jpg\",7.551816304524739],[242,\"person_34\",\"in/person_34/1405.jpg\",9.974655151367188],[243,\"person_34\",\"in/person_34/1334.jpg\",9.325213114420572],[244,\"person_34\",\"in/person_34/1259.jpg\",6.396942138671875],[248,\"person_34\",\"in/person_34/1363.jpg\",7.0193125406901045],[249,\"person_34\",\"in/person_34/1354.jpg\",5.373875935872396],[250,\"person_34\",\"in/person_34/1266.jpg\",5.558331807454427],[251,\"person_34\",\"in/person_34/1308.jpg\",5.3988087972005205],[253,\"person_34\",\"in/person_34/1292.jpg\",5.056437174479167],[254,\"person_34\",\"in/person_34/1286.jpg\",3.795064290364584],[259,\"person_34\",\"in/person_34/1349.jpg\",5.650825500488281],[260,\"person_34\",\"in/person_34/1300.jpg\",5.4200083414713545],[261,\"person_34\",\"in/person_34/1367.jpg\",7.123972574869792],[263,\"person_34\",\"in/person_34/1273.jpg\",4.589922587076823],[266,\"person_34\",\"in/person_34/1338.jpg\",9.134587605794271],[267,\"person_34\",\"in/person_34/1344.jpg\",7.183570861816406]],\"hovertemplate\":\"labels=%{customdata[1]}<br>tx_magface=%{x}<br>ty_magface=%{y}<br>index=%{customdata[0]}<br>path=%{customdata[2]}<br>alignment_error=%{customdata[3]}<extra></extra>\",\"legendgroup\":\"person_34\",\"marker\":{\"color\":\"#EB663B\",\"symbol\":\"circle\"},\"mode\":\"markers\",\"name\":\"person_34\",\"orientation\":\"v\",\"showlegend\":true,\"x\":[0.32101762294769287,0.3442752957344055,0.30551454424858093,0.3140377104282379,0.30825740098953247,0.3153657913208008,0.31759828329086304,0.35174110531806946,0.32802215218544006,0.30532076954841614,0.34874165058135986,0.31750914454460144,0.33736830949783325,0.34094661474227905,0.30316776037216187,0.33121129870414734,0.31871455907821655,0.3503901958465576,0.30975908041000366,0.2984682023525238],\"xaxis\":\"x\",\"y\":[0.4245219826698303,0.44976499676704407,0.42641618847846985,0.4550776183605194,0.45476052165031433,0.4125203788280487,0.43776166439056396,0.4414727985858917,0.4273783564567566,0.44173941016197205,0.4435098469257355,0.4598798155784607,0.45627233386039734,0.45467954874038696,0.44127705693244934,0.4608410596847534,0.426254004240036,0.44752562046051025,0.43320733308792114,0.4379217028617859],\"yaxis\":\"y\",\"type\":\"scatter\"},{\"customdata\":[[269,\"person_5\",\"in/person_5/211.jpg\",8.651880900065104],[270,\"person_5\",\"in/person_5/212.jpg\",8.951606750488281],[271,\"person_5\",\"in/person_5/216.jpg\",8.336471557617188],[272,\"person_5\",\"in/person_5/207.jpg\",6.993479410807292]],\"hovertemplate\":\"labels=%{customdata[1]}<br>tx_magface=%{x}<br>ty_magface=%{y}<br>index=%{customdata[0]}<br>path=%{customdata[2]}<br>alignment_error=%{customdata[3]}<extra></extra>\",\"legendgroup\":\"person_5\",\"marker\":{\"color\":\"#511CFB\",\"symbol\":\"circle\"},\"mode\":\"markers\",\"name\":\"person_5\",\"orientation\":\"v\",\"showlegend\":true,\"x\":[0.39748427271842957,0.3963957130908966,0.39752572774887085,0.39432641863822937],\"xaxis\":\"x\",\"y\":[0.22977623343467712,0.22960323095321655,0.22957919538021088,0.22972680628299713],\"yaxis\":\"y\",\"type\":\"scatter\"},{\"customdata\":[[275,\"person_2\",\"in/person_2/28.jpg\",9.103294372558594],[277,\"person_2\",\"in/person_2/32.jpg\",9.471773783365885],[278,\"person_2\",\"in/person_2/21.jpg\",6.505561828613281],[285,\"person_2\",\"in/person_2/23.jpg\",8.44817860921224],[295,\"person_2\",\"in/person_2/26.jpg\",8.295801798502604],[297,\"person_2\",\"in/person_2/22.jpg\",7.288424173990886]],\"hovertemplate\":\"labels=%{customdata[1]}<br>tx_magface=%{x}<br>ty_magface=%{y}<br>index=%{customdata[0]}<br>path=%{customdata[2]}<br>alignment_error=%{customdata[3]}<extra></extra>\",\"legendgroup\":\"person_2\",\"marker\":{\"color\":\"#00A08B\",\"symbol\":\"circle\"},\"mode\":\"markers\",\"name\":\"person_2\",\"orientation\":\"v\",\"showlegend\":true,\"x\":[0.6931056976318359,0.6800835132598877,0.6866814494132996,0.6890668869018555,0.6936324834823608,0.6874488592147827],\"xaxis\":\"x\",\"y\":[0.5306640267372131,0.5461288690567017,0.546897828578949,0.5425955057144165,0.5294104814529419,0.5461124181747437],\"yaxis\":\"y\",\"type\":\"scatter\"},{\"customdata\":[[300,\"person_7\",\"in/person_7/245.jpg\",7.762120564778645]],\"hovertemplate\":\"labels=%{customdata[1]}<br>tx_magface=%{x}<br>ty_magface=%{y}<br>index=%{customdata[0]}<br>path=%{customdata[2]}<br>alignment_error=%{customdata[3]}<extra></extra>\",\"legendgroup\":\"person_7\",\"marker\":{\"color\":\"#FB00D1\",\"symbol\":\"circle\"},\"mode\":\"markers\",\"name\":\"person_7\",\"orientation\":\"v\",\"showlegend\":true,\"x\":[0.3826899826526642],\"xaxis\":\"x\",\"y\":[0.22629882395267487],\"yaxis\":\"y\",\"type\":\"scatter\"},{\"customdata\":[[317,\"person_21\",\"in/person_21/728.jpg\",8.926961263020834],[318,\"person_21\",\"in/person_21/910.jpg\",4.175994873046875],[319,\"person_21\",\"in/person_21/769.jpg\",3.0789082845052085],[320,\"person_21\",\"in/person_21/817.jpg\",9.214032491048178],[321,\"person_21\",\"in/person_21/864.jpg\",5.940696716308594],[322,\"person_21\",\"in/person_21/834.jpg\",-1.0105260213216145],[323,\"person_21\",\"in/person_21/820.jpg\",0.6153462727864584],[324,\"person_21\",\"in/person_21/952.jpg\",4.455172220865886],[326,\"person_21\",\"in/person_21/878.jpg\",7.097076416015625],[327,\"person_21\",\"in/person_21/811.jpg\",0.9157155354817708],[328,\"person_21\",\"in/person_21/891.jpg\",5.4647979736328125],[329,\"person_21\",\"in/person_21/858.jpg\",6.001055399576823],[330,\"person_21\",\"in/person_21/764.jpg\",5.295595804850261],[331,\"person_21\",\"in/person_21/901.jpg\",4.809173583984375],[332,\"person_21\",\"in/person_21/936.jpg\",2.899688720703125],[333,\"person_21\",\"in/person_21/791.jpg\",1.1337636311848958],[334,\"person_21\",\"in/person_21/963.jpg\",5.80194091796875],[335,\"person_21\",\"in/person_21/804.jpg\",2.440511067708333],[337,\"person_21\",\"in/person_21/777.jpg\",-0.2639541625976562],[338,\"person_21\",\"in/person_21/842.jpg\",3.563191731770833],[339,\"person_21\",\"in/person_21/785.jpg\",0.8552042643229166],[340,\"person_21\",\"in/person_21/739.jpg\",7.731007893880208],[341,\"person_21\",\"in/person_21/946.jpg\",3.4068883260091147],[343,\"person_21\",\"in/person_21/972.jpg\",7.055747985839844],[344,\"person_21\",\"in/person_21/925.jpg\",4.934560139973958],[345,\"person_21\",\"in/person_21/755.jpg\",3.6113382975260415]],\"hovertemplate\":\"labels=%{customdata[1]}<br>tx_magface=%{x}<br>ty_magface=%{y}<br>index=%{customdata[0]}<br>path=%{customdata[2]}<br>alignment_error=%{customdata[3]}<extra></extra>\",\"legendgroup\":\"person_21\",\"marker\":{\"color\":\"#FC0080\",\"symbol\":\"circle\"},\"mode\":\"markers\",\"name\":\"person_21\",\"orientation\":\"v\",\"showlegend\":true,\"x\":[0.38550612330436707,0.4084536135196686,0.40818336606025696,0.37967562675476074,0.39105236530303955,0.40372925996780396,0.41385477781295776,0.4145737886428833,0.3895795941352844,0.4217391014099121,0.3985776901245117,0.3937014639377594,0.40399643778800964,0.41161781549453735,0.4066786468029022,0.42154181003570557,0.41564273834228516,0.4172464609146118,0.41324642300605774,0.39871683716773987,0.41915667057037354,0.3877177834510803,0.4067835509777069,0.4232887327671051,0.4107828736305237,0.40261217951774597],\"xaxis\":\"x\",\"y\":[0.7612848281860352,0.831561267375946,0.7704309821128845,0.7941704392433167,0.824517011642456,0.7971819043159485,0.7941937446594238,0.8474205136299133,0.8399229049682617,0.7893005609512329,0.8393798470497131,0.8188857436180115,0.7669380903244019,0.8291183710098267,0.8429915308952332,0.7855538129806519,0.8456608057022095,0.7867708206176758,0.775726854801178,0.8065577149391174,0.7797996997833252,0.7724839448928833,0.8450978398323059,0.8322981595993042,0.832309901714325,0.7659387588500977],\"yaxis\":\"y\",\"type\":\"scatter\"},{\"customdata\":[[347,\"person_8\",\"in/person_8/265.jpg\",8.554946899414062],[349,\"person_8\",\"in/person_8/277.jpg\",7.011482238769531],[350,\"person_8\",\"in/person_8/252.jpg\",8.870254516601562],[351,\"person_8\",\"in/person_8/267.jpg\",5.24346923828125],[352,\"person_8\",\"in/person_8/270.jpg\",3.798426310221354],[355,\"person_8\",\"in/person_8/273.jpg\",5.165362040201823],[359,\"person_8\",\"in/person_8/262.jpg\",8.489095052083334],[360,\"person_8\",\"in/person_8/259.jpg\",7.566782633463542],[361,\"person_8\",\"in/person_8/255.jpg\",8.305608113606771]],\"hovertemplate\":\"labels=%{customdata[1]}<br>tx_magface=%{x}<br>ty_magface=%{y}<br>index=%{customdata[0]}<br>path=%{customdata[2]}<br>alignment_error=%{customdata[3]}<extra></extra>\",\"legendgroup\":\"person_8\",\"marker\":{\"color\":\"#B2828D\",\"symbol\":\"circle\"},\"mode\":\"markers\",\"name\":\"person_8\",\"orientation\":\"v\",\"showlegend\":true,\"x\":[0.16158922016620636,0.15296734869480133,0.1682232767343521,0.15319989621639252,0.15179066359996796,0.15096288919448853,0.15712301433086395,0.15937858819961548,0.16644906997680664],\"xaxis\":\"x\",\"y\":[0.5640124082565308,0.5459418296813965,0.565985918045044,0.5544567108154297,0.5496412515640259,0.5487280488014221,0.561282217502594,0.5607487559318542,0.5660567283630371],\"yaxis\":\"y\",\"type\":\"scatter\"},{\"customdata\":[[362,\"person_29\",\"in/person_29/1180.jpg\",5.452832539876302],[363,\"person_29\",\"in/person_29/1105.jpg\",2.9317143758138022],[364,\"person_29\",\"in/person_29/1120.jpg\",2.1293004353841147],[365,\"person_29\",\"in/person_29/1033.jpg\",-0.5017038981119791],[366,\"person_29\",\"in/person_29/1043.jpg\",0.2305246988932291],[367,\"person_29\",\"in/person_29/1227.jpg\",9.33666737874349],[368,\"person_29\",\"in/person_29/984.jpg\",5.3167877197265625],[369,\"person_29\",\"in/person_29/939.jpg\",1.760698954264323],[370,\"person_29\",\"in/person_29/1168.jpg\",4.191314697265625],[372,\"person_29\",\"in/person_29/1218.jpg\",9.654637654622396],[375,\"person_29\",\"in/person_29/1056.jpg\",1.5731735229492188],[377,\"person_29\",\"in/person_29/1023.jpg\",0.7125015258789062],[381,\"person_29\",\"in/person_29/1132.jpg\",2.8986638387044272],[383,\"person_29\",\"in/person_29/1197.jpg\",9.397610982259115],[384,\"person_29\",\"in/person_29/929.jpg\",0.9814732869466146],[385,\"person_29\",\"in/person_29/1081.jpg\",4.769864400227864],[386,\"person_29\",\"in/person_29/1093.jpg\",2.685287475585937],[387,\"person_29\",\"in/person_29/1001.jpg\",2.5648396809895835],[388,\"person_29\",\"in/person_29/1068.jpg\",1.9779917399088545],[389,\"person_29\",\"in/person_29/975.jpg\",4.777697245279948],[390,\"person_29\",\"in/person_29/1145.jpg\",2.8268051147460938],[391,\"person_29\",\"in/person_29/1012.jpg\",1.3996531168619792],[392,\"person_29\",\"in/person_29/991.jpg\",3.698163350423177],[393,\"person_29\",\"in/person_29/1158.jpg\",4.073455810546875],[394,\"person_29\",\"in/person_29/1189.jpg\",8.402788798014322],[395,\"person_29\",\"in/person_29/955.jpg\",3.7226664225260415],[397,\"person_29\",\"in/person_29/965.jpg\",3.925346374511719],[398,\"person_29\",\"in/person_29/1209.jpg\",9.110847473144531]],\"hovertemplate\":\"labels=%{customdata[1]}<br>tx_magface=%{x}<br>ty_magface=%{y}<br>index=%{customdata[0]}<br>path=%{customdata[2]}<br>alignment_error=%{customdata[3]}<extra></extra>\",\"legendgroup\":\"person_29\",\"marker\":{\"color\":\"#6C7C32\",\"symbol\":\"circle\"},\"mode\":\"markers\",\"name\":\"person_29\",\"orientation\":\"v\",\"showlegend\":true,\"x\":[0.565872848033905,0.5734056830406189,0.5795562863349915,0.5596835613250732,0.5701145529747009,0.5472785234451294,0.5411009192466736,0.5257341265678406,0.5762932896614075,0.5486404299736023,0.5645805597305298,0.5571848154067993,0.5828490257263184,0.5474554896354675,0.527219295501709,0.5655505061149597,0.5688335299491882,0.5534409284591675,0.5614104270935059,0.5391048192977905,0.5857324600219727,0.5584907531738281,0.5418018698692322,0.5850290656089783,0.5530920028686523,0.5408225655555725,0.5401983857154846,0.5532901287078857],\"xaxis\":\"x\",\"y\":[0.050446026027202606,0.033988311886787415,0.02721405401825905,0.009919345378875732,0.004851187113672495,0.06321204453706741,0.03378460556268692,0.020284568890929222,0.04726339876651764,0.06510951370000839,0.0,0.010965884663164616,0.01986994966864586,0.05114567652344704,0.015255428850650787,0.03488752990961075,0.03124014288187027,0.021965209394693375,0.0007072261068969965,0.015207283198833466,0.031301479786634445,0.01436045952141285,0.02128296159207821,0.019238175824284554,0.050552960485219955,0.0035805446095764637,0.008914485573768616,0.061377547681331635],\"yaxis\":\"y\",\"type\":\"scatter\"},{\"customdata\":[[401,\"person_13\",\"in/person_13/1015.jpg\",5.016054789225261],[403,\"person_13\",\"in/person_13/765.jpg\",2.059595743815104],[406,\"person_13\",\"in/person_13/582.jpg\",8.144091288248697],[407,\"person_13\",\"in/person_13/492.jpg\",6.959526062011719],[408,\"person_13\",\"in/person_13/719.jpg\",4.761594136555989],[411,\"person_13\",\"in/person_13/1036.jpg\",7.8188832600911455],[412,\"person_13\",\"in/person_13/896.jpg\",3.0449142456054688],[413,\"person_13\",\"in/person_13/524.jpg\",9.009674072265623],[414,\"person_13\",\"in/person_13/737.jpg\",1.931592305501302],[415,\"person_13\",\"in/person_13/816.jpg\",2.8891016642252603],[416,\"person_13\",\"in/person_13/744.jpg\",0.917205810546875],[417,\"person_13\",\"in/person_13/773.jpg\",2.892176310221354],[418,\"person_13\",\"in/person_13/497.jpg\",8.969713846842447],[421,\"person_13\",\"in/person_13/520.jpg\",8.686965942382812],[422,\"person_13\",\"in/person_13/957.jpg\",7.749203999837239],[423,\"person_13\",\"in/person_13/729.jpg\",1.4166285196940105],[424,\"person_13\",\"in/person_13/502.jpg\",9.522905985514322],[425,\"person_13\",\"in/person_13/536.jpg\",8.584111531575521],[426,\"person_13\",\"in/person_13/746.jpg\",9.809679667154947],[427,\"person_13\",\"in/person_13/966.jpg\",7.0526275634765625],[428,\"person_13\",\"in/person_13/465.jpg\",8.207402547200521],[431,\"person_13\",\"in/person_13/733.jpg\",9.660741170247396],[432,\"person_13\",\"in/person_13/1059.jpg\",7.801236470540364],[433,\"person_13\",\"in/person_13/727.jpg\",8.694844563802084],[435,\"person_13\",\"in/person_13/850.jpg\",3.7810160319010415],[436,\"person_13\",\"in/person_13/1005.jpg\",6.465189615885417],[438,\"person_13\",\"in/person_13/741.jpg\",9.092882792154947],[439,\"person_13\",\"in/person_13/506.jpg\",9.35491689046224],[440,\"person_13\",\"in/person_13/464.jpg\",5.715667724609375],[441,\"person_13\",\"in/person_13/797.jpg\",1.6646804809570312],[443,\"person_13\",\"in/person_13/507.jpg\",9.082626342773438],[444,\"person_13\",\"in/person_13/1050.jpg\",8.16167958577474],[450,\"person_13\",\"in/person_13/751.jpg\",9.379475911458334],[451,\"person_13\",\"in/person_13/781.jpg\",3.410265604654948],[452,\"person_13\",\"in/person_13/932.jpg\",4.501035054524739],[453,\"person_13\",\"in/person_13/501.jpg\",8.771255493164062],[454,\"person_13\",\"in/person_13/562.jpg\",8.142468770345053],[456,\"person_13\",\"in/person_13/489.jpg\",9.962677001953123],[458,\"person_13\",\"in/person_13/543.jpg\",8.074267069498697],[459,\"person_13\",\"in/person_13/723.jpg\",1.1706186930338542],[460,\"person_13\",\"in/person_13/522.jpg\",9.60522206624349],[461,\"person_13\",\"in/person_13/747.jpg\",0.5605417887369791],[462,\"person_13\",\"in/person_13/986.jpg\",8.133374532063803],[464,\"person_13\",\"in/person_13/995.jpg\",7.500686645507812],[465,\"person_13\",\"in/person_13/532.jpg\",8.633956909179688],[466,\"person_13\",\"in/person_13/554.jpg\",8.924575805664062],[467,\"person_13\",\"in/person_13/571.jpg\",9.000134785970053],[469,\"person_13\",\"in/person_13/561.jpg\",9.598416646321615],[470,\"person_13\",\"in/person_13/885.jpg\",2.531219482421875],[471,\"person_13\",\"in/person_13/827.jpg\",3.1582361857096357],[472,\"person_13\",\"in/person_13/789.jpg\",3.262242635091146],[473,\"person_13\",\"in/person_13/839.jpg\",3.8326517740885415],[475,\"person_13\",\"in/person_13/547.jpg\",9.827438354492188],[479,\"person_13\",\"in/person_13/859.jpg\",4.500048319498698],[480,\"person_13\",\"in/person_13/977.jpg\",7.077313741048177],[483,\"person_13\",\"in/person_13/1025.jpg\",6.483896891276042],[485,\"person_13\",\"in/person_13/949.jpg\",7.2184702555338545],[486,\"person_13\",\"in/person_13/482.jpg\",5.4313405354817705],[488,\"person_13\",\"in/person_13/870.jpg\",3.3750228881835938],[490,\"person_13\",\"in/person_13/576.jpg\",8.623181660970053],[491,\"person_13\",\"in/person_13/469.jpg\",6.2530670166015625],[492,\"person_13\",\"in/person_13/753.jpg\",-0.1659062703450521],[493,\"person_13\",\"in/person_13/919.jpg\",2.9658991495768228],[495,\"person_13\",\"in/person_13/909.jpg\",2.537572224934896],[496,\"person_13\",\"in/person_13/549.jpg\",8.379536946614584],[497,\"person_13\",\"in/person_13/762.jpg\",0.992431640625],[499,\"person_13\",\"in/person_13/485.jpg\",5.806541442871094],[500,\"person_13\",\"in/person_13/475.jpg\",6.883959452311198],[502,\"person_13\",\"in/person_13/514.jpg\",9.238911946614584],[503,\"person_13\",\"in/person_13/557.jpg\",7.9912160237630205],[504,\"person_13\",\"in/person_13/941.jpg\",6.149955749511719]],\"hovertemplate\":\"labels=%{customdata[1]}<br>tx_magface=%{x}<br>ty_magface=%{y}<br>index=%{customdata[0]}<br>path=%{customdata[2]}<br>alignment_error=%{customdata[3]}<extra></extra>\",\"legendgroup\":\"person_13\",\"marker\":{\"color\":\"#778AAE\",\"symbol\":\"circle\"},\"mode\":\"markers\",\"name\":\"person_13\",\"orientation\":\"v\",\"showlegend\":true,\"x\":[0.08584409207105637,0.13276542723178864,0.3522358536720276,0.2888276278972626,0.1536959856748581,0.06687624752521515,0.07875116914510727,0.3469526171684265,0.14751753211021423,0.10000167787075043,0.1495925337076187,0.12705956399440765,0.29800495505332947,0.35340622067451477,0.106135293841362,0.14885327219963074,0.37142977118492126,0.35567471385002136,0.13876113295555115,0.10161348432302475,0.3225533962249756,0.1328037977218628,0.06388786435127258,0.13063189387321472,0.08668120950460434,0.08871983736753464,0.13062123954296112,0.3136173486709595,0.2937237620353699,0.1114569902420044,0.36936143040657043,0.06593441963195801,0.13989578187465668,0.11706924438476562,0.11016181111335754,0.3123202323913574,0.33596837520599365,0.3760831952095032,0.3572158217430115,0.14632579684257507,0.3109947443008423,0.13491354882717133,0.09487302601337433,0.09199197590351105,0.34157007932662964,0.30792316794395447,0.3389522433280945,0.31296607851982117,0.07886815071105957,0.09808482974767685,0.11649530380964279,0.09583986550569534,0.31506118178367615,0.09036646783351898,0.09778992831707001,0.07027071714401245,0.1123928651213646,0.2937033176422119,0.08173888176679611,0.3418813645839691,0.2958584129810333,0.13758592307567596,0.11186745017766953,0.1141919419169426,0.3522435426712036,0.1314803957939148,0.2885302007198334,0.30040624737739563,0.36070510745048523,0.34372031688690186,0.117701955139637],\"xaxis\":\"x\",\"y\":[0.3079824447631836,0.27215659618377686,0.6624942421913147,0.6647551655769348,0.32514339685440063,0.3077395558357239,0.27917391061782837,0.6452608704566956,0.30943363904953003,0.28254345059394836,0.30859071016311646,0.2676284909248352,0.6643271446228027,0.6498697400093079,0.3342035710811615,0.3116205632686615,0.648497998714447,0.6334196329116821,0.3789390027523041,0.32998380064964294,0.634958028793335,0.3749412000179291,0.30162811279296875,0.37107688188552856,0.26446425914764404,0.31811201572418213,0.36844462156295776,0.6665937900543213,0.6399973630905151,0.27949225902557373,0.6470659375190735,0.3080149292945862,0.37796491384506226,0.2732510268688202,0.302568256855011,0.6629844903945923,0.64760422706604,0.6536375284194946,0.6280548572540283,0.3291694223880768,0.6661326885223389,0.2885974049568176,0.3169613778591156,0.3236854672431946,0.6206274032592773,0.6808258891105652,0.6588118672370911,0.6821125149726868,0.2815448045730591,0.2827868163585663,0.2655271887779236,0.2760162651538849,0.6806483268737793,0.26544520258903503,0.321835994720459,0.3200666010379791,0.31950169801712036,0.6533787846565247,0.2818368077278137,0.6615161299705505,0.6443758010864258,0.2740168571472168,0.3017207980155945,0.30288779735565186,0.6361982822418213,0.2754201292991638,0.6653788089752197,0.650877833366394,0.6480957269668579,0.6364472508430481,0.3065040707588196],\"yaxis\":\"y\",\"type\":\"scatter\"},{\"customdata\":[[515,\"person_10\",\"in/person_10/940.jpg\",8.462898254394531]],\"hovertemplate\":\"labels=%{customdata[1]}<br>tx_magface=%{x}<br>ty_magface=%{y}<br>index=%{customdata[0]}<br>path=%{customdata[2]}<br>alignment_error=%{customdata[3]}<extra></extra>\",\"legendgroup\":\"person_10\",\"marker\":{\"color\":\"#862A16\",\"symbol\":\"circle\"},\"mode\":\"markers\",\"name\":\"person_10\",\"orientation\":\"v\",\"showlegend\":true,\"x\":[0.6837077140808105],\"xaxis\":\"x\",\"y\":[0.5582085251808167],\"yaxis\":\"y\",\"type\":\"scatter\"},{\"customdata\":[[535,\"person_23\",\"in/person_23/934.jpg\",5.426490783691406],[536,\"person_23\",\"in/person_23/953.jpg\",8.161552429199219],[538,\"person_23\",\"in/person_23/867.jpg\",3.936503092447917],[540,\"person_23\",\"in/person_23/945.jpg\",8.00457763671875],[541,\"person_23\",\"in/person_23/912.jpg\",4.2016042073567705],[545,\"person_23\",\"in/person_23/890.jpg\",5.5318756103515625],[547,\"person_23\",\"in/person_23/1035.jpg\",8.954485575358072],[548,\"person_23\",\"in/person_23/923.jpg\",4.550191243489583],[549,\"person_23\",\"in/person_23/1011.jpg\",9.135826110839844],[553,\"person_23\",\"in/person_23/971.jpg\",9.530662536621094],[555,\"person_23\",\"in/person_23/880.jpg\",5.290659586588542],[557,\"person_23\",\"in/person_23/1057.jpg\",9.838699340820312],[560,\"person_23\",\"in/person_23/992.jpg\",8.999972025553385],[561,\"person_23\",\"in/person_23/835.jpg\",6.60821533203125],[563,\"person_23\",\"in/person_23/825.jpg\",7.500867207845052],[565,\"person_23\",\"in/person_23/855.jpg\",4.2118174235026045],[568,\"person_23\",\"in/person_23/1002.jpg\",9.290133158365885],[571,\"person_23\",\"in/person_23/1044.jpg\",8.531486511230469],[573,\"person_23\",\"in/person_23/845.jpg\",3.9352798461914062],[574,\"person_23\",\"in/person_23/981.jpg\",8.186408996582031],[576,\"person_23\",\"in/person_23/961.jpg\",8.66211191813151],[577,\"person_23\",\"in/person_23/905.jpg\",3.414342244466146],[580,\"person_23\",\"in/person_23/1022.jpg\",8.879099527994791]],\"hovertemplate\":\"labels=%{customdata[1]}<br>tx_magface=%{x}<br>ty_magface=%{y}<br>index=%{customdata[0]}<br>path=%{customdata[2]}<br>alignment_error=%{customdata[3]}<extra></extra>\",\"legendgroup\":\"person_23\",\"marker\":{\"color\":\"#A777F1\",\"symbol\":\"circle\"},\"mode\":\"markers\",\"name\":\"person_23\",\"orientation\":\"v\",\"showlegend\":true,\"x\":[0.5808330178260803,0.5694642663002014,0.599921464920044,0.5651904940605164,0.583197295665741,0.5886701345443726,0.5651240944862366,0.5783281922340393,0.5536381006240845,0.5591508150100708,0.5975283980369568,0.5681743025779724,0.5449644327163696,0.6008453965187073,0.605225145816803,0.5977504849433899,0.5491133332252502,0.5681752562522888,0.6025150418281555,0.5525900721549988,0.5600764155387878,0.5832017660140991,0.5556420087814331],\"xaxis\":\"x\",\"y\":[0.36339008808135986,0.3720630407333374,0.3996303975582123,0.36709386110305786,0.3758208453655243,0.3950093388557434,0.3923477232456207,0.3612046539783478,0.4002304971218109,0.38024038076400757,0.3975991904735565,0.3955953121185303,0.39446914196014404,0.37921616435050964,0.3741774559020996,0.3934836685657501,0.3932991921901703,0.39027586579322815,0.3830343186855316,0.38511818647384644,0.37102895975112915,0.37162157893180847,0.40091362595558167],\"yaxis\":\"y\",\"type\":\"scatter\"},{\"customdata\":[[582,\"person_17\",\"in/person_17/596.jpg\",9.462023417154947],[592,\"person_17\",\"in/person_17/603.jpg\",9.59959920247396],[596,\"person_17\",\"in/person_17/552.jpg\",5.055521647135417],[597,\"person_17\",\"in/person_17/588.jpg\",7.616297403971354]],\"hovertemplate\":\"labels=%{customdata[1]}<br>tx_magface=%{x}<br>ty_magface=%{y}<br>index=%{customdata[0]}<br>path=%{customdata[2]}<br>alignment_error=%{customdata[3]}<extra></extra>\",\"legendgroup\":\"person_17\",\"marker\":{\"color\":\"#620042\",\"symbol\":\"circle\"},\"mode\":\"markers\",\"name\":\"person_17\",\"orientation\":\"v\",\"showlegend\":true,\"x\":[0.3482212722301483,0.3515647053718567,0.37655770778656006,0.3569187819957733],\"xaxis\":\"x\",\"y\":[0.6729428768157959,0.6657676696777344,0.7813928723335266,0.6779158711433411],\"yaxis\":\"y\",\"type\":\"scatter\"},{\"customdata\":[[600,\"person_36\",\"in/person_36/1375.jpg\",7.858640034993489],[601,\"person_36\",\"in/person_36/1394.jpg\",9.547103881835938],[603,\"person_36\",\"in/person_36/1410.jpg\",6.77520751953125],[605,\"person_36\",\"in/person_36/1406.jpg\",8.980443318684896],[607,\"person_36\",\"in/person_36/1373.jpg\",7.731529235839844],[608,\"person_36\",\"in/person_36/1379.jpg\",5.3853302001953125],[609,\"person_36\",\"in/person_36/1388.jpg\",7.505236307779948],[610,\"person_36\",\"in/person_36/1398.jpg\",9.234222412109377]],\"hovertemplate\":\"labels=%{customdata[1]}<br>tx_magface=%{x}<br>ty_magface=%{y}<br>index=%{customdata[0]}<br>path=%{customdata[2]}<br>alignment_error=%{customdata[3]}<extra></extra>\",\"legendgroup\":\"person_36\",\"marker\":{\"color\":\"#1616A7\",\"symbol\":\"circle\"},\"mode\":\"markers\",\"name\":\"person_36\",\"orientation\":\"v\",\"showlegend\":true,\"x\":[0.4422299265861511,0.41485849022865295,0.4199453592300415,0.42038020491600037,0.4416462182998657,0.44089531898498535,0.41455456614494324,0.4148581326007843],\"xaxis\":\"x\",\"y\":[0.5748305320739746,0.5662880539894104,0.5559427738189697,0.5565576553344727,0.5765475034713745,0.5743371248245239,0.564737856388092,0.5634063482284546],\"yaxis\":\"y\",\"type\":\"scatter\"},{\"customdata\":[[611,\"person_38\",\"in/person_38/1407.jpg\",8.35345713297526],[612,\"person_38\",\"in/person_38/1400.jpg\",8.732823689778646],[613,\"person_38\",\"in/person_38/1411.jpg\",8.774391174316406]],\"hovertemplate\":\"labels=%{customdata[1]}<br>tx_magface=%{x}<br>ty_magface=%{y}<br>index=%{customdata[0]}<br>path=%{customdata[2]}<br>alignment_error=%{customdata[3]}<extra></extra>\",\"legendgroup\":\"person_38\",\"marker\":{\"color\":\"#DA60CA\",\"symbol\":\"circle\"},\"mode\":\"markers\",\"name\":\"person_38\",\"orientation\":\"v\",\"showlegend\":true,\"x\":[0.4533476233482361,0.45332762598991394,0.45356127619743347],\"xaxis\":\"x\",\"y\":[0.46791020035743713,0.46713244915008545,0.46670544147491455],\"yaxis\":\"y\",\"type\":\"scatter\"},{\"customdata\":[[646,\"person_0\",\"in/person_0/677.jpg\",3.71514638264974],[648,\"person_0\",\"in/person_0/1038.jpg\",9.510848999023438],[649,\"person_0\",\"in/person_0/807.jpg\",5.15331522623698],[651,\"person_0\",\"in/person_0/563.jpg\",9.546666463216146],[652,\"person_0\",\"in/person_0/82.jpg\",9.88678232828776],[653,\"person_0\",\"in/person_0/1280.jpg\",2.4331537882486978],[654,\"person_0\",\"in/person_0/735.jpg\",6.432144165039063],[663,\"person_0\",\"in/person_0/487.jpg\",9.075271606445312],[666,\"person_0\",\"in/person_0/766.jpg\",5.702812194824219],[668,\"person_0\",\"in/person_0/860.jpg\",9.855636596679688],[684,\"person_0\",\"in/person_0/668.jpg\",3.074989318847656],[691,\"person_0\",\"in/person_0/724.jpg\",5.668037414550781],[694,\"person_0\",\"in/person_0/692.jpg\",4.110939025878906],[695,\"person_0\",\"in/person_0/798.jpg\",4.659576416015625],[701,\"person_0\",\"in/person_0/689.jpg\",2.977307637532552],[711,\"person_0\",\"in/person_0/535.jpg\",8.971468607584635],[718,\"person_0\",\"in/person_0/503.jpg\",7.0034739176432295],[721,\"person_0\",\"in/person_0/658.jpg\",5.600997924804688],[722,\"person_0\",\"in/person_0/718.jpg\",6.183443705240886],[728,\"person_0\",\"in/person_0/493.jpg\",8.22973378499349],[729,\"person_0\",\"in/person_0/1302.jpg\",9.85620625813802],[730,\"person_0\",\"in/person_0/748.jpg\",7.490203857421875],[731,\"person_0\",\"in/person_0/498.jpg\",7.570607503255208],[736,\"person_0\",\"in/person_0/525.jpg\",9.518043518066406],[737,\"person_0\",\"in/person_0/518.jpg\",7.1464385986328125],[740,\"person_0\",\"in/person_0/1287.jpg\",2.319086710611979],[741,\"person_0\",\"in/person_0/752.jpg\",6.187464396158855],[743,\"person_0\",\"in/person_0/513.jpg\",7.315330505371094],[747,\"person_0\",\"in/person_0/780.jpg\",6.068066914876302],[749,\"person_0\",\"in/person_0/694.jpg\",6.431109110514323],[752,\"person_0\",\"in/person_0/790.jpg\",5.996648152669271],[759,\"person_0\",\"in/person_0/529.jpg\",9.075632731119793],[768,\"person_0\",\"in/person_0/1295.jpg\",3.288398742675781],[772,\"person_0\",\"in/person_0/1275.jpg\",4.514714558919271],[779,\"person_0\",\"in/person_0/772.jpg\",4.840240478515625],[782,\"person_0\",\"in/person_0/684.jpg\",3.00884755452474],[783,\"person_0\",\"in/person_0/679.jpg\",4.3601938883463545],[784,\"person_0\",\"in/person_0/710.jpg\",9.681048075358072],[785,\"person_0\",\"in/person_0/92.jpg\",8.714129130045572],[788,\"person_0\",\"in/person_0/85.jpg\",9.836563110351562],[791,\"person_0\",\"in/person_0/760.jpg\",5.654894510904948],[792,\"person_0\",\"in/person_0/509.jpg\",7.260714213053386],[794,\"person_0\",\"in/person_0/712.jpg\",8.86041514078776],[798,\"person_0\",\"in/person_0/672.jpg\",3.350532531738281],[799,\"person_0\",\"in/person_0/95.jpg\",8.856267293294271],[802,\"person_0\",\"in/person_0/714.jpg\",6.6727549235026045],[811,\"person_0\",\"in/person_0/89.jpg\",9.55700174967448],[814,\"person_0\",\"in/person_0/742.jpg\",7.175610860188802],[815,\"person_0\",\"in/person_0/663.jpg\",3.9444656372070312],[817,\"person_0\",\"in/person_0/815.jpg\",8.061757405598959],[823,\"person_0\",\"in/person_0/730.jpg\",5.915008544921875],[824,\"person_0\",\"in/person_0/1399.jpg\",4.39892069498698]],\"hovertemplate\":\"labels=%{customdata[1]}<br>tx_magface=%{x}<br>ty_magface=%{y}<br>index=%{customdata[0]}<br>path=%{customdata[2]}<br>alignment_error=%{customdata[3]}<extra></extra>\",\"legendgroup\":\"person_0\",\"marker\":{\"color\":\"#6C4516\",\"symbol\":\"circle\"},\"mode\":\"markers\",\"name\":\"person_0\",\"orientation\":\"v\",\"showlegend\":true,\"x\":[0.9487813115119934,0.9387497305870056,0.9683156609535217,0.8658327460289001,0.8743637800216675,0.9264875054359436,0.9799574017524719,0.8934684991836548,0.9799238443374634,0.9366987943649292,0.9425424933433533,0.9863226413726807,0.9450719952583313,0.9680721759796143,0.941356897354126,0.8672019839286804,0.8971267938613892,0.9319071173667908,0.981935441493988,0.9014942646026611,0.8967292904853821,0.9738940000534058,0.8956834673881531,0.8771907091140747,0.8996102213859558,0.9265511631965637,0.9763352274894714,0.8969002962112427,0.9843341112136841,0.9414130449295044,0.9715394973754883,0.8715238571166992,0.9243293404579163,0.9294347167015076,0.9857180118560791,0.9355014562606812,0.9481780529022217,0.9685214161872864,0.877937912940979,0.8743495941162109,0.9798558950424194,0.8928221464157104,0.9679243564605713,0.9501959085464478,0.8773004412651062,0.9712269306182861,0.8773872256278992,0.9724024534225464,0.9357760548591614,0.9658244252204895,0.9850099086761475,1.0],\"xaxis\":\"x\",\"y\":[0.6060656905174255,0.6391003131866455,0.6477369666099548,0.5913358330726624,0.5603801608085632,0.678594172000885,0.5949293375015259,0.6185107231140137,0.6324924826622009,0.638500988483429,0.6090952754020691,0.5851486921310425,0.5821904540061951,0.6460426449775696,0.5823618769645691,0.5967782139778137,0.6218793988227844,0.6104257702827454,0.5779556632041931,0.6189984679222107,0.6534293293952942,0.6179355978965759,0.6241902112960815,0.6122131943702698,0.6105998158454895,0.678919792175293,0.6201276183128357,0.6091193556785583,0.6448976397514343,0.5840843319892883,0.6485127806663513,0.6104270815849304,0.6776915788650513,0.6788603663444519,0.6406553983688354,0.5778724551200867,0.6096585392951965,0.5686151385307312,0.5757468938827515,0.5789832472801208,0.6232956647872925,0.6246245503425598,0.5720120668411255,0.6062758564949036,0.5785637497901917,0.5732648372650146,0.5739721655845642,0.5965843200683594,0.6107642650604248,0.6572616696357727,0.5885330438613892,0.6074095368385315],\"yaxis\":\"y\",\"type\":\"scatter\"},{\"customdata\":[[827,\"person_14\",\"in/person_14/877.jpg\",5.515129089355469],[828,\"person_14\",\"in/person_14/474.jpg\",7.757301330566406],[829,\"person_14\",\"in/person_14/889.jpg\",7.977874755859375]],\"hovertemplate\":\"labels=%{customdata[1]}<br>tx_magface=%{x}<br>ty_magface=%{y}<br>index=%{customdata[0]}<br>path=%{customdata[2]}<br>alignment_error=%{customdata[3]}<extra></extra>\",\"legendgroup\":\"person_14\",\"marker\":{\"color\":\"#0D2A63\",\"symbol\":\"circle\"},\"mode\":\"markers\",\"name\":\"person_14\",\"orientation\":\"v\",\"showlegend\":true,\"x\":[0.23885078728199005,0.24054434895515442,0.2387198507785797],\"xaxis\":\"x\",\"y\":[0.5321966409683228,0.5311398506164551,0.5324703454971313],\"yaxis\":\"y\",\"type\":\"scatter\"},{\"customdata\":[[834,\"person_19\",\"in/person_19/944.jpg\",5.242477416992188],[836,\"person_19\",\"in/person_19/922.jpg\",7.772816975911458],[837,\"person_19\",\"in/person_19/863.jpg\",2.135218302408854],[839,\"person_19\",\"in/person_19/756.jpg\",6.811505635579427],[841,\"person_19\",\"in/person_19/767.jpg\",4.117073059082031],[846,\"person_19\",\"in/person_19/810.jpg\",5.389915466308594],[847,\"person_19\",\"in/person_19/876.jpg\",2.872884114583333],[848,\"person_19\",\"in/person_19/750.jpg\",7.055684407552083],[854,\"person_19\",\"in/person_19/715.jpg\",5.561907450358073],[855,\"person_19\",\"in/person_19/937.jpg\",4.928853352864583],[856,\"person_19\",\"in/person_19/962.jpg\",1.4883804321289062],[861,\"person_19\",\"in/person_19/726.jpg\",5.693776448567708],[863,\"person_19\",\"in/person_19/954.jpg\",5.46124267578125],[865,\"person_19\",\"in/person_19/738.jpg\",5.7140045166015625],[866,\"person_19\",\"in/person_19/745.jpg\",4.9754486083984375],[868,\"person_19\",\"in/person_19/801.jpg\",6.25976053873698],[869,\"person_19\",\"in/person_19/853.jpg\",2.5560531616210938],[870,\"person_19\",\"in/person_19/821.jpg\",3.3508504231770835],[872,\"person_19\",\"in/person_19/775.jpg\",7.342913309733073],[874,\"person_19\",\"in/person_19/713.jpg\",6.489163716634114],[875,\"person_19\",\"in/person_19/720.jpg\",5.695960998535156],[877,\"person_19\",\"in/person_19/732.jpg\",6.269012451171875],[879,\"person_19\",\"in/person_19/784.jpg\",7.165458679199219],[880,\"person_19\",\"in/person_19/763.jpg\",7.1607920328776045],[883,\"person_19\",\"in/person_19/893.jpg\",6.918276468912761],[885,\"person_19\",\"in/person_19/831.jpg\",3.0760904947916665],[886,\"person_19\",\"in/person_19/792.jpg\",7.233141581217448],[887,\"person_19\",\"in/person_19/711.jpg\",9.788914998372396],[888,\"person_19\",\"in/person_19/754.jpg\",9.721997578938804],[889,\"person_19\",\"in/person_19/761.jpg\",4.983418782552083],[891,\"person_19\",\"in/person_19/841.jpg\",2.666572570800781],[895,\"person_19\",\"in/person_19/768.jpg\",7.4912261962890625]],\"hovertemplate\":\"labels=%{customdata[1]}<br>tx_magface=%{x}<br>ty_magface=%{y}<br>index=%{customdata[0]}<br>path=%{customdata[2]}<br>alignment_error=%{customdata[3]}<extra></extra>\",\"legendgroup\":\"person_19\",\"marker\":{\"color\":\"#AF0038\",\"symbol\":\"circle\"},\"mode\":\"markers\",\"name\":\"person_19\",\"orientation\":\"v\",\"showlegend\":true,\"x\":[0.21453018486499786,0.20456823706626892,0.2214636504650116,0.2622288167476654,0.2944753170013428,0.23092304170131683,0.23746809363365173,0.26087671518325806,0.26471513509750366,0.20473435521125793,0.20855160057544708,0.2604907751083374,0.2112654447555542,0.2466380000114441,0.2686944901943207,0.23731060326099396,0.22474561631679535,0.22747446596622467,0.24967914819717407,0.2617943286895752,0.26645326614379883,0.25337961316108704,0.24848920106887817,0.25817298889160156,0.23355180025100708,0.22513259947299957,0.23984335362911224,0.24853159487247467,0.2840675115585327,0.2932891845703125,0.2205316424369812,0.25061923265457153],\"xaxis\":\"x\",\"y\":[0.0363285131752491,0.05131860449910164,0.06826812028884888,0.04664522036910057,0.10275918245315552,0.06610088795423508,0.03493586182594299,0.05894264206290245,0.08823506534099579,0.05827103555202484,0.08430419862270355,0.08705738931894302,0.03605825826525688,0.07942961901426315,0.060031600296497345,0.05595891550183296,0.06578551977872849,0.056857988238334656,0.0548991858959198,0.09383819252252579,0.08075384050607681,0.08073211461305618,0.06005299463868141,0.0437723807990551,0.02748681977391243,0.053850576281547546,0.06733302772045135,0.09512598067522049,0.09740373492240906,0.10215811431407928,0.06124899536371231,0.05965419113636017],\"yaxis\":\"y\",\"type\":\"scatter\"}],                        {\"template\":{\"data\":{\"histogram2dcontour\":[{\"type\":\"histogram2dcontour\",\"colorbar\":{\"outlinewidth\":0,\"ticks\":\"\"},\"colorscale\":[[0.0,\"#0d0887\"],[0.1111111111111111,\"#46039f\"],[0.2222222222222222,\"#7201a8\"],[0.3333333333333333,\"#9c179e\"],[0.4444444444444444,\"#bd3786\"],[0.5555555555555556,\"#d8576b\"],[0.6666666666666666,\"#ed7953\"],[0.7777777777777778,\"#fb9f3a\"],[0.8888888888888888,\"#fdca26\"],[1.0,\"#f0f921\"]]}],\"choropleth\":[{\"type\":\"choropleth\",\"colorbar\":{\"outlinewidth\":0,\"ticks\":\"\"}}],\"histogram2d\":[{\"type\":\"histogram2d\",\"colorbar\":{\"outlinewidth\":0,\"ticks\":\"\"},\"colorscale\":[[0.0,\"#0d0887\"],[0.1111111111111111,\"#46039f\"],[0.2222222222222222,\"#7201a8\"],[0.3333333333333333,\"#9c179e\"],[0.4444444444444444,\"#bd3786\"],[0.5555555555555556,\"#d8576b\"],[0.6666666666666666,\"#ed7953\"],[0.7777777777777778,\"#fb9f3a\"],[0.8888888888888888,\"#fdca26\"],[1.0,\"#f0f921\"]]}],\"heatmap\":[{\"type\":\"heatmap\",\"colorbar\":{\"outlinewidth\":0,\"ticks\":\"\"},\"colorscale\":[[0.0,\"#0d0887\"],[0.1111111111111111,\"#46039f\"],[0.2222222222222222,\"#7201a8\"],[0.3333333333333333,\"#9c179e\"],[0.4444444444444444,\"#bd3786\"],[0.5555555555555556,\"#d8576b\"],[0.6666666666666666,\"#ed7953\"],[0.7777777777777778,\"#fb9f3a\"],[0.8888888888888888,\"#fdca26\"],[1.0,\"#f0f921\"]]}],\"heatmapgl\":[{\"type\":\"heatmapgl\",\"colorbar\":{\"outlinewidth\":0,\"ticks\":\"\"},\"colorscale\":[[0.0,\"#0d0887\"],[0.1111111111111111,\"#46039f\"],[0.2222222222222222,\"#7201a8\"],[0.3333333333333333,\"#9c179e\"],[0.4444444444444444,\"#bd3786\"],[0.5555555555555556,\"#d8576b\"],[0.6666666666666666,\"#ed7953\"],[0.7777777777777778,\"#fb9f3a\"],[0.8888888888888888,\"#fdca26\"],[1.0,\"#f0f921\"]]}],\"contourcarpet\":[{\"type\":\"contourcarpet\",\"colorbar\":{\"outlinewidth\":0,\"ticks\":\"\"}}],\"contour\":[{\"type\":\"contour\",\"colorbar\":{\"outlinewidth\":0,\"ticks\":\"\"},\"colorscale\":[[0.0,\"#0d0887\"],[0.1111111111111111,\"#46039f\"],[0.2222222222222222,\"#7201a8\"],[0.3333333333333333,\"#9c179e\"],[0.4444444444444444,\"#bd3786\"],[0.5555555555555556,\"#d8576b\"],[0.6666666666666666,\"#ed7953\"],[0.7777777777777778,\"#fb9f3a\"],[0.8888888888888888,\"#fdca26\"],[1.0,\"#f0f921\"]]}],\"surface\":[{\"type\":\"surface\",\"colorbar\":{\"outlinewidth\":0,\"ticks\":\"\"},\"colorscale\":[[0.0,\"#0d0887\"],[0.1111111111111111,\"#46039f\"],[0.2222222222222222,\"#7201a8\"],[0.3333333333333333,\"#9c179e\"],[0.4444444444444444,\"#bd3786\"],[0.5555555555555556,\"#d8576b\"],[0.6666666666666666,\"#ed7953\"],[0.7777777777777778,\"#fb9f3a\"],[0.8888888888888888,\"#fdca26\"],[1.0,\"#f0f921\"]]}],\"mesh3d\":[{\"type\":\"mesh3d\",\"colorbar\":{\"outlinewidth\":0,\"ticks\":\"\"}}],\"scatter\":[{\"fillpattern\":{\"fillmode\":\"overlay\",\"size\":10,\"solidity\":0.2},\"type\":\"scatter\"}],\"parcoords\":[{\"type\":\"parcoords\",\"line\":{\"colorbar\":{\"outlinewidth\":0,\"ticks\":\"\"}}}],\"scatterpolargl\":[{\"type\":\"scatterpolargl\",\"marker\":{\"colorbar\":{\"outlinewidth\":0,\"ticks\":\"\"}}}],\"bar\":[{\"error_x\":{\"color\":\"#2a3f5f\"},\"error_y\":{\"color\":\"#2a3f5f\"},\"marker\":{\"line\":{\"color\":\"#E5ECF6\",\"width\":0.5},\"pattern\":{\"fillmode\":\"overlay\",\"size\":10,\"solidity\":0.2}},\"type\":\"bar\"}],\"scattergeo\":[{\"type\":\"scattergeo\",\"marker\":{\"colorbar\":{\"outlinewidth\":0,\"ticks\":\"\"}}}],\"scatterpolar\":[{\"type\":\"scatterpolar\",\"marker\":{\"colorbar\":{\"outlinewidth\":0,\"ticks\":\"\"}}}],\"histogram\":[{\"marker\":{\"pattern\":{\"fillmode\":\"overlay\",\"size\":10,\"solidity\":0.2}},\"type\":\"histogram\"}],\"scattergl\":[{\"type\":\"scattergl\",\"marker\":{\"colorbar\":{\"outlinewidth\":0,\"ticks\":\"\"}}}],\"scatter3d\":[{\"type\":\"scatter3d\",\"line\":{\"colorbar\":{\"outlinewidth\":0,\"ticks\":\"\"}},\"marker\":{\"colorbar\":{\"outlinewidth\":0,\"ticks\":\"\"}}}],\"scattermapbox\":[{\"type\":\"scattermapbox\",\"marker\":{\"colorbar\":{\"outlinewidth\":0,\"ticks\":\"\"}}}],\"scatterternary\":[{\"type\":\"scatterternary\",\"marker\":{\"colorbar\":{\"outlinewidth\":0,\"ticks\":\"\"}}}],\"scattercarpet\":[{\"type\":\"scattercarpet\",\"marker\":{\"colorbar\":{\"outlinewidth\":0,\"ticks\":\"\"}}}],\"carpet\":[{\"aaxis\":{\"endlinecolor\":\"#2a3f5f\",\"gridcolor\":\"white\",\"linecolor\":\"white\",\"minorgridcolor\":\"white\",\"startlinecolor\":\"#2a3f5f\"},\"baxis\":{\"endlinecolor\":\"#2a3f5f\",\"gridcolor\":\"white\",\"linecolor\":\"white\",\"minorgridcolor\":\"white\",\"startlinecolor\":\"#2a3f5f\"},\"type\":\"carpet\"}],\"table\":[{\"cells\":{\"fill\":{\"color\":\"#EBF0F8\"},\"line\":{\"color\":\"white\"}},\"header\":{\"fill\":{\"color\":\"#C8D4E3\"},\"line\":{\"color\":\"white\"}},\"type\":\"table\"}],\"barpolar\":[{\"marker\":{\"line\":{\"color\":\"#E5ECF6\",\"width\":0.5},\"pattern\":{\"fillmode\":\"overlay\",\"size\":10,\"solidity\":0.2}},\"type\":\"barpolar\"}],\"pie\":[{\"automargin\":true,\"type\":\"pie\"}]},\"layout\":{\"autotypenumbers\":\"strict\",\"colorway\":[\"#636efa\",\"#EF553B\",\"#00cc96\",\"#ab63fa\",\"#FFA15A\",\"#19d3f3\",\"#FF6692\",\"#B6E880\",\"#FF97FF\",\"#FECB52\"],\"font\":{\"color\":\"#2a3f5f\"},\"hovermode\":\"closest\",\"hoverlabel\":{\"align\":\"left\"},\"paper_bgcolor\":\"white\",\"plot_bgcolor\":\"#E5ECF6\",\"polar\":{\"bgcolor\":\"#E5ECF6\",\"angularaxis\":{\"gridcolor\":\"white\",\"linecolor\":\"white\",\"ticks\":\"\"},\"radialaxis\":{\"gridcolor\":\"white\",\"linecolor\":\"white\",\"ticks\":\"\"}},\"ternary\":{\"bgcolor\":\"#E5ECF6\",\"aaxis\":{\"gridcolor\":\"white\",\"linecolor\":\"white\",\"ticks\":\"\"},\"baxis\":{\"gridcolor\":\"white\",\"linecolor\":\"white\",\"ticks\":\"\"},\"caxis\":{\"gridcolor\":\"white\",\"linecolor\":\"white\",\"ticks\":\"\"}},\"coloraxis\":{\"colorbar\":{\"outlinewidth\":0,\"ticks\":\"\"}},\"colorscale\":{\"sequential\":[[0.0,\"#0d0887\"],[0.1111111111111111,\"#46039f\"],[0.2222222222222222,\"#7201a8\"],[0.3333333333333333,\"#9c179e\"],[0.4444444444444444,\"#bd3786\"],[0.5555555555555556,\"#d8576b\"],[0.6666666666666666,\"#ed7953\"],[0.7777777777777778,\"#fb9f3a\"],[0.8888888888888888,\"#fdca26\"],[1.0,\"#f0f921\"]],\"sequentialminus\":[[0.0,\"#0d0887\"],[0.1111111111111111,\"#46039f\"],[0.2222222222222222,\"#7201a8\"],[0.3333333333333333,\"#9c179e\"],[0.4444444444444444,\"#bd3786\"],[0.5555555555555556,\"#d8576b\"],[0.6666666666666666,\"#ed7953\"],[0.7777777777777778,\"#fb9f3a\"],[0.8888888888888888,\"#fdca26\"],[1.0,\"#f0f921\"]],\"diverging\":[[0,\"#8e0152\"],[0.1,\"#c51b7d\"],[0.2,\"#de77ae\"],[0.3,\"#f1b6da\"],[0.4,\"#fde0ef\"],[0.5,\"#f7f7f7\"],[0.6,\"#e6f5d0\"],[0.7,\"#b8e186\"],[0.8,\"#7fbc41\"],[0.9,\"#4d9221\"],[1,\"#276419\"]]},\"xaxis\":{\"gridcolor\":\"white\",\"linecolor\":\"white\",\"ticks\":\"\",\"title\":{\"standoff\":15},\"zerolinecolor\":\"white\",\"automargin\":true,\"zerolinewidth\":2},\"yaxis\":{\"gridcolor\":\"white\",\"linecolor\":\"white\",\"ticks\":\"\",\"title\":{\"standoff\":15},\"zerolinecolor\":\"white\",\"automargin\":true,\"zerolinewidth\":2},\"scene\":{\"xaxis\":{\"backgroundcolor\":\"#E5ECF6\",\"gridcolor\":\"white\",\"linecolor\":\"white\",\"showbackground\":true,\"ticks\":\"\",\"zerolinecolor\":\"white\",\"gridwidth\":2},\"yaxis\":{\"backgroundcolor\":\"#E5ECF6\",\"gridcolor\":\"white\",\"linecolor\":\"white\",\"showbackground\":true,\"ticks\":\"\",\"zerolinecolor\":\"white\",\"gridwidth\":2},\"zaxis\":{\"backgroundcolor\":\"#E5ECF6\",\"gridcolor\":\"white\",\"linecolor\":\"white\",\"showbackground\":true,\"ticks\":\"\",\"zerolinecolor\":\"white\",\"gridwidth\":2}},\"shapedefaults\":{\"line\":{\"color\":\"#2a3f5f\"}},\"annotationdefaults\":{\"arrowcolor\":\"#2a3f5f\",\"arrowhead\":0,\"arrowwidth\":1},\"geo\":{\"bgcolor\":\"white\",\"landcolor\":\"#E5ECF6\",\"subunitcolor\":\"white\",\"showland\":true,\"showlakes\":true,\"lakecolor\":\"white\"},\"title\":{\"x\":0.05},\"mapbox\":{\"style\":\"light\"}}},\"xaxis\":{\"anchor\":\"y\",\"domain\":[0.0,1.0],\"title\":{\"text\":\"tx_magface\"}},\"yaxis\":{\"anchor\":\"x\",\"domain\":[0.0,1.0],\"title\":{\"text\":\"ty_magface\"}},\"legend\":{\"title\":{\"text\":\"labels\"},\"tracegroupgap\":0},\"margin\":{\"t\":60}},                        {\"responsive\": true}                    ).then(function(){\n",
       "                            \n",
       "var gd = document.getElementById('7a43f04e-236b-4d32-bb70-f07339d644cb');\n",
       "var x = new MutationObserver(function (mutations, observer) {{\n",
       "        var display = window.getComputedStyle(gd).display;\n",
       "        if (!display || display === 'none') {{\n",
       "            console.log([gd, 'removed!']);\n",
       "            Plotly.purge(gd);\n",
       "            observer.disconnect();\n",
       "        }}\n",
       "}});\n",
       "\n",
       "// Listen for the removal of the full notebook cells\n",
       "var notebookContainer = gd.closest('#notebook-container');\n",
       "if (notebookContainer) {{\n",
       "    x.observe(notebookContainer, {childList: true});\n",
       "}}\n",
       "\n",
       "// Listen for the clearing of the current output cell\n",
       "var outputEl = gd.closest('.output');\n",
       "if (outputEl) {{\n",
       "    x.observe(outputEl, {childList: true});\n",
       "}}\n",
       "\n",
       "                        })                };                });            </script>        </div>"
      ]
     },
     "metadata": {},
     "output_type": "display_data"
    }
   ],
   "source": [
    "fig = px.scatter(df, x=\"tx_magface\", y=\"ty_magface\", color=\"labels\", color_discrete_sequence=px.colors.qualitative.Dark24, hover_data=[\"index\",\"labels\", \"path\",\"alignment_error\"])\n",
    "fig.show()"
   ]
  },
  {
   "cell_type": "code",
   "execution_count": 260,
   "metadata": {},
   "outputs": [
    {
     "ename": "IndexError",
     "evalue": "index 0 is out of bounds for axis 0 with size 0",
     "output_type": "error",
     "traceback": [
      "\u001b[0;31m---------------------------------------------------------------------------\u001b[0m",
      "\u001b[0;31mIndexError\u001b[0m                                Traceback (most recent call last)",
      "Input \u001b[0;32mIn [260]\u001b[0m, in \u001b[0;36m<cell line: 1>\u001b[0;34m()\u001b[0m\n\u001b[0;32m----> 1\u001b[0m \u001b[43mimshow\u001b[49m\u001b[43m(\u001b[49m\u001b[43mdf\u001b[49m\u001b[43m,\u001b[49m\u001b[43m \u001b[49m\u001b[38;5;241;43m454\u001b[39;49m\u001b[43m)\u001b[49m\n",
      "Input \u001b[0;32mIn [85]\u001b[0m, in \u001b[0;36mimshow\u001b[0;34m(df, id)\u001b[0m\n\u001b[1;32m      5\u001b[0m \u001b[38;5;28;01mdef\u001b[39;00m \u001b[38;5;21mimshow\u001b[39m(df, \u001b[38;5;28mid\u001b[39m):\n\u001b[0;32m----> 6\u001b[0m     img_path \u001b[38;5;241m=\u001b[39m \u001b[43mdf\u001b[49m\u001b[43m[\u001b[49m\u001b[43mdf\u001b[49m\u001b[43m[\u001b[49m\u001b[38;5;124;43m\"\u001b[39;49m\u001b[38;5;124;43mindex\u001b[39;49m\u001b[38;5;124;43m\"\u001b[39;49m\u001b[43m]\u001b[49m\u001b[43m \u001b[49m\u001b[38;5;241;43m==\u001b[39;49m\u001b[43m \u001b[49m\u001b[38;5;241;43m2\u001b[39;49m\u001b[43m]\u001b[49m\u001b[43m[\u001b[49m\u001b[38;5;124;43m\"\u001b[39;49m\u001b[38;5;124;43mpath\u001b[39;49m\u001b[38;5;124;43m\"\u001b[39;49m\u001b[43m]\u001b[49m\u001b[38;5;241;43m.\u001b[39;49m\u001b[43mvalues\u001b[49m\u001b[43m[\u001b[49m\u001b[38;5;241;43m0\u001b[39;49m\u001b[43m]\u001b[49m\n\u001b[1;32m      7\u001b[0m     img \u001b[38;5;241m=\u001b[39m cv2\u001b[38;5;241m.\u001b[39mimread(img_path)\n\u001b[1;32m      8\u001b[0m     plt\u001b[38;5;241m.\u001b[39mimshow(cv2\u001b[38;5;241m.\u001b[39mcvtColor(img, cv2\u001b[38;5;241m.\u001b[39mCOLOR_BGR2RGB))\n",
      "\u001b[0;31mIndexError\u001b[0m: index 0 is out of bounds for axis 0 with size 0"
     ]
    }
   ],
   "source": [
    "imshow(df, 454)"
   ]
  },
  {
   "cell_type": "code",
   "execution_count": 94,
   "metadata": {},
   "outputs": [],
   "source": []
  },
  {
   "cell_type": "code",
   "execution_count": 106,
   "metadata": {},
   "outputs": [
    {
     "data": {
      "text/plain": [
       "0                                                      []\n",
       "1       [-0.07003957778215408, 0.07996471226215363, 0....\n",
       "2       [-0.07282204926013947, 0.036366019397974014, 0...\n",
       "3       [-0.06365539878606796, 0.054096899926662445, 0...\n",
       "4       [-0.039636239409446716, 0.06792464107275009, 0...\n",
       "                              ...                        \n",
       "1406                                                   []\n",
       "1407                                                   []\n",
       "1408                                                   []\n",
       "1409                                                   []\n",
       "1410                                                   []\n",
       "Name: features_openvino, Length: 1411, dtype: object"
      ]
     },
     "execution_count": 106,
     "metadata": {},
     "output_type": "execute_result"
    }
   ],
   "source": [
    "dlib_data = pd.read_csv(\"face_recognition_data.csv\")\n",
    "data_features_dlib = list(dlib_data.features_openvino.values)\n",
    "data_features_dlib = np.array([np.array(eval(feature)) for feature in data_features_dlib])\n",
    "indexes = [len(value) != 0 for value in data_features_dlib]\n",
    "dlib_data = dlib_data[indexes]\n",
    "data_features_dlib = list(dlib_data.features_openvino.values)\n",
    "data_features_dlib = np.array([np.array(eval(feature)) for feature in data_features_dlib])\n"
   ]
  },
  {
   "cell_type": "code",
   "execution_count": 111,
   "metadata": {},
   "outputs": [],
   "source": [
    "database = database.merge(dlib_data, how=\"inner\",on=\"path\")"
   ]
  },
  {
   "cell_type": "code",
   "execution_count": null,
   "metadata": {},
   "outputs": [],
   "source": []
  },
  {
   "cell_type": "code",
   "execution_count": 112,
   "metadata": {},
   "outputs": [
    {
     "name": "stderr",
     "output_type": "stream",
     "text": [
      "/tmp/ipykernel_84718/213011151.py:1: VisibleDeprecationWarning:\n",
      "\n",
      "Creating an ndarray from ragged nested sequences (which is a list-or-tuple of lists-or-tuples-or ndarrays with different lengths or shapes) is deprecated. If you meant to do this, you must specify 'dtype=object' when creating the ndarray.\n",
      "\n"
     ]
    }
   ],
   "source": []
  },
  {
   "cell_type": "code",
   "execution_count": 119,
   "metadata": {},
   "outputs": [],
   "source": [
    "indexes = [len(value) != 0 for value in data_features_dlib]"
   ]
  },
  {
   "cell_type": "code",
   "execution_count": 124,
   "metadata": {},
   "outputs": [],
   "source": [
    "dlib_data = dlib_data[indexes]"
   ]
  },
  {
   "cell_type": "code",
   "execution_count": 125,
   "metadata": {},
   "outputs": [],
   "source": [
    "data_features_dlib = list(dlib_data.features_openvino.values)\n",
    "data_features_dlib = np.array([np.array(eval(feature)) for feature in data_features_dlib])\n"
   ]
  },
  {
   "cell_type": "code",
   "execution_count": 130,
   "metadata": {},
   "outputs": [],
   "source": [
    "database = database.merge(dlib_data, how=\"inner\",on=\"path\")"
   ]
  },
  {
   "cell_type": "code",
   "execution_count": 131,
   "metadata": {},
   "outputs": [
    {
     "data": {
      "text/html": [
       "<div>\n",
       "<style scoped>\n",
       "    .dataframe tbody tr th:only-of-type {\n",
       "        vertical-align: middle;\n",
       "    }\n",
       "\n",
       "    .dataframe tbody tr th {\n",
       "        vertical-align: top;\n",
       "    }\n",
       "\n",
       "    .dataframe thead th {\n",
       "        text-align: right;\n",
       "    }\n",
       "</style>\n",
       "<table border=\"1\" class=\"dataframe\">\n",
       "  <thead>\n",
       "    <tr style=\"text-align: right;\">\n",
       "      <th></th>\n",
       "      <th>id_x</th>\n",
       "      <th>path</th>\n",
       "      <th>features_openvino_x</th>\n",
       "      <th>alignment_error</th>\n",
       "      <th>id_y</th>\n",
       "      <th>feature_512</th>\n",
       "      <th>Unnamed: 0</th>\n",
       "      <th>id</th>\n",
       "      <th>features_openvino_y</th>\n",
       "    </tr>\n",
       "  </thead>\n",
       "  <tbody>\n",
       "  </tbody>\n",
       "</table>\n",
       "</div>"
      ],
      "text/plain": [
       "Empty DataFrame\n",
       "Columns: [id_x, path, features_openvino_x, alignment_error, id_y, feature_512, Unnamed: 0, id, features_openvino_y]\n",
       "Index: []"
      ]
     },
     "execution_count": 131,
     "metadata": {},
     "output_type": "execute_result"
    }
   ],
   "source": [
    "database"
   ]
  },
  {
   "cell_type": "code",
   "execution_count": null,
   "metadata": {},
   "outputs": [],
   "source": []
  }
 ],
 "metadata": {
  "interpreter": {
   "hash": "7a5a80fb65ac0c9cf06398a3329364eb513463df3c14c276153c7820f22d897b"
  },
  "kernelspec": {
   "display_name": "Python 3.8.0 ('gdsy')",
   "language": "python",
   "name": "python3"
  },
  "language_info": {
   "codemirror_mode": {
    "name": "ipython",
    "version": 3
   },
   "file_extension": ".py",
   "mimetype": "text/x-python",
   "name": "python",
   "nbconvert_exporter": "python",
   "pygments_lexer": "ipython3",
   "version": "3.8.0"
  }
 },
 "nbformat": 4,
 "nbformat_minor": 2
}
